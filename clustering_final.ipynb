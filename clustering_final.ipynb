{
  "cells": [
    {
      "cell_type": "markdown",
      "metadata": {
        "id": "7nQSRI4Dim1Y"
      },
      "source": [
        "---\n",
        "# **PyCaret for Clustering**\n",
        "---\n"
      ]
    },
    {
      "cell_type": "code",
      "execution_count": 2,
      "metadata": {
        "colab": {
          "base_uri": "https://localhost:8080/",
          "height": 1000
        },
        "id": "cF_mSA9Xim1j",
        "outputId": "45590768-5eb8-453e-82ad-51e7c7a4d34a"
      },
      "outputs": [
        {
          "output_type": "stream",
          "name": "stdout",
          "text": [
            "Collecting pycaret\n",
            "  Downloading pycaret-3.3.2-py3-none-any.whl.metadata (17 kB)\n",
            "Requirement already satisfied: ipython>=5.5.0 in /usr/local/lib/python3.11/dist-packages (from pycaret) (7.34.0)\n",
            "Requirement already satisfied: ipywidgets>=7.6.5 in /usr/local/lib/python3.11/dist-packages (from pycaret) (7.7.1)\n",
            "Requirement already satisfied: tqdm>=4.62.0 in /usr/local/lib/python3.11/dist-packages (from pycaret) (4.67.1)\n",
            "Collecting numpy<1.27,>=1.21 (from pycaret)\n",
            "  Downloading numpy-1.26.4-cp311-cp311-manylinux_2_17_x86_64.manylinux2014_x86_64.whl.metadata (61 kB)\n",
            "\u001b[2K     \u001b[90m━━━━━━━━━━━━━━━━━━━━━━━━━━━━━━━━━━━━━━━━\u001b[0m \u001b[32m61.0/61.0 kB\u001b[0m \u001b[31m4.9 MB/s\u001b[0m eta \u001b[36m0:00:00\u001b[0m\n",
            "\u001b[?25hCollecting pandas<2.2.0 (from pycaret)\n",
            "  Downloading pandas-2.1.4-cp311-cp311-manylinux_2_17_x86_64.manylinux2014_x86_64.whl.metadata (18 kB)\n",
            "Requirement already satisfied: jinja2>=3 in /usr/local/lib/python3.11/dist-packages (from pycaret) (3.1.6)\n",
            "Collecting scipy<=1.11.4,>=1.6.1 (from pycaret)\n",
            "  Downloading scipy-1.11.4-cp311-cp311-manylinux_2_17_x86_64.manylinux2014_x86_64.whl.metadata (60 kB)\n",
            "\u001b[2K     \u001b[90m━━━━━━━━━━━━━━━━━━━━━━━━━━━━━━━━━━━━━━━━\u001b[0m \u001b[32m60.4/60.4 kB\u001b[0m \u001b[31m5.5 MB/s\u001b[0m eta \u001b[36m0:00:00\u001b[0m\n",
            "\u001b[?25hCollecting joblib<1.4,>=1.2.0 (from pycaret)\n",
            "  Downloading joblib-1.3.2-py3-none-any.whl.metadata (5.4 kB)\n",
            "Requirement already satisfied: scikit-learn>1.4.0 in /usr/local/lib/python3.11/dist-packages (from pycaret) (1.6.1)\n",
            "Collecting pyod>=1.1.3 (from pycaret)\n",
            "  Downloading pyod-2.0.4.tar.gz (169 kB)\n",
            "\u001b[2K     \u001b[90m━━━━━━━━━━━━━━━━━━━━━━━━━━━━━━━━━━━━━━\u001b[0m \u001b[32m169.7/169.7 kB\u001b[0m \u001b[31m12.4 MB/s\u001b[0m eta \u001b[36m0:00:00\u001b[0m\n",
            "\u001b[?25h  Preparing metadata (setup.py) ... \u001b[?25l\u001b[?25hdone\n",
            "Requirement already satisfied: imbalanced-learn>=0.12.0 in /usr/local/lib/python3.11/dist-packages (from pycaret) (0.13.0)\n",
            "Collecting category-encoders>=2.4.0 (from pycaret)\n",
            "  Downloading category_encoders-2.8.1-py3-none-any.whl.metadata (7.9 kB)\n",
            "Requirement already satisfied: lightgbm>=3.0.0 in /usr/local/lib/python3.11/dist-packages (from pycaret) (4.5.0)\n",
            "Requirement already satisfied: numba>=0.55.0 in /usr/local/lib/python3.11/dist-packages (from pycaret) (0.60.0)\n",
            "Requirement already satisfied: requests>=2.27.1 in /usr/local/lib/python3.11/dist-packages (from pycaret) (2.32.3)\n",
            "Requirement already satisfied: psutil>=5.9.0 in /usr/local/lib/python3.11/dist-packages (from pycaret) (5.9.5)\n",
            "Requirement already satisfied: markupsafe>=2.0.1 in /usr/local/lib/python3.11/dist-packages (from pycaret) (3.0.2)\n",
            "Requirement already satisfied: importlib-metadata>=4.12.0 in /usr/local/lib/python3.11/dist-packages (from pycaret) (8.6.1)\n",
            "Requirement already satisfied: nbformat>=4.2.0 in /usr/local/lib/python3.11/dist-packages (from pycaret) (5.10.4)\n",
            "Requirement already satisfied: cloudpickle in /usr/local/lib/python3.11/dist-packages (from pycaret) (3.1.1)\n",
            "Collecting deprecation>=2.1.0 (from pycaret)\n",
            "  Downloading deprecation-2.1.0-py2.py3-none-any.whl.metadata (4.6 kB)\n",
            "Collecting xxhash (from pycaret)\n",
            "  Downloading xxhash-3.5.0-cp311-cp311-manylinux_2_17_x86_64.manylinux2014_x86_64.whl.metadata (12 kB)\n",
            "Collecting matplotlib<3.8.0 (from pycaret)\n",
            "  Downloading matplotlib-3.7.5-cp311-cp311-manylinux_2_17_x86_64.manylinux2014_x86_64.whl.metadata (5.7 kB)\n",
            "Collecting scikit-plot>=0.3.7 (from pycaret)\n",
            "  Downloading scikit_plot-0.3.7-py3-none-any.whl.metadata (7.1 kB)\n",
            "Requirement already satisfied: yellowbrick>=1.4 in /usr/local/lib/python3.11/dist-packages (from pycaret) (1.5)\n",
            "Requirement already satisfied: plotly>=5.14.0 in /usr/local/lib/python3.11/dist-packages (from pycaret) (5.24.1)\n",
            "Collecting kaleido>=0.2.1 (from pycaret)\n",
            "  Downloading kaleido-0.2.1-py2.py3-none-manylinux1_x86_64.whl.metadata (15 kB)\n",
            "Collecting schemdraw==0.15 (from pycaret)\n",
            "  Downloading schemdraw-0.15-py3-none-any.whl.metadata (2.2 kB)\n",
            "Collecting plotly-resampler>=0.8.3.1 (from pycaret)\n",
            "  Downloading plotly_resampler-0.10.0-py3-none-any.whl.metadata (13 kB)\n",
            "Requirement already satisfied: statsmodels>=0.12.1 in /usr/local/lib/python3.11/dist-packages (from pycaret) (0.14.4)\n",
            "Collecting sktime==0.26.0 (from pycaret)\n",
            "  Downloading sktime-0.26.0-py3-none-any.whl.metadata (29 kB)\n",
            "Collecting tbats>=1.1.3 (from pycaret)\n",
            "  Downloading tbats-1.1.3-py3-none-any.whl.metadata (3.8 kB)\n",
            "Collecting pmdarima>=2.0.4 (from pycaret)\n",
            "  Downloading pmdarima-2.0.4-cp311-cp311-manylinux_2_17_x86_64.manylinux2014_x86_64.manylinux_2_28_x86_64.whl.metadata (7.8 kB)\n",
            "Requirement already satisfied: wurlitzer in /usr/local/lib/python3.11/dist-packages (from pycaret) (3.1.1)\n",
            "Requirement already satisfied: packaging in /usr/local/lib/python3.11/dist-packages (from sktime==0.26.0->pycaret) (24.2)\n",
            "Collecting scikit-base<0.8.0 (from sktime==0.26.0->pycaret)\n",
            "  Downloading scikit_base-0.7.8-py3-none-any.whl.metadata (8.8 kB)\n",
            "Collecting scikit-learn>1.4.0 (from pycaret)\n",
            "  Downloading scikit_learn-1.4.2-cp311-cp311-manylinux_2_17_x86_64.manylinux2014_x86_64.whl.metadata (11 kB)\n",
            "Requirement already satisfied: patsy>=0.5.1 in /usr/local/lib/python3.11/dist-packages (from category-encoders>=2.4.0->pycaret) (1.0.1)\n",
            "INFO: pip is looking at multiple versions of category-encoders to determine which version is compatible with other requirements. This could take a while.\n",
            "Collecting category-encoders>=2.4.0 (from pycaret)\n",
            "  Downloading category_encoders-2.8.0-py3-none-any.whl.metadata (7.9 kB)\n",
            "  Downloading category_encoders-2.7.0-py3-none-any.whl.metadata (7.9 kB)\n",
            "Requirement already satisfied: sklearn-compat<1,>=0.1 in /usr/local/lib/python3.11/dist-packages (from imbalanced-learn>=0.12.0->pycaret) (0.1.3)\n",
            "Requirement already satisfied: threadpoolctl<4,>=2.0.0 in /usr/local/lib/python3.11/dist-packages (from imbalanced-learn>=0.12.0->pycaret) (3.6.0)\n",
            "Requirement already satisfied: zipp>=3.20 in /usr/local/lib/python3.11/dist-packages (from importlib-metadata>=4.12.0->pycaret) (3.21.0)\n",
            "Requirement already satisfied: setuptools>=18.5 in /usr/local/lib/python3.11/dist-packages (from ipython>=5.5.0->pycaret) (75.2.0)\n",
            "Collecting jedi>=0.16 (from ipython>=5.5.0->pycaret)\n",
            "  Downloading jedi-0.19.2-py2.py3-none-any.whl.metadata (22 kB)\n",
            "Requirement already satisfied: decorator in /usr/local/lib/python3.11/dist-packages (from ipython>=5.5.0->pycaret) (4.4.2)\n",
            "Requirement already satisfied: pickleshare in /usr/local/lib/python3.11/dist-packages (from ipython>=5.5.0->pycaret) (0.7.5)\n",
            "Requirement already satisfied: traitlets>=4.2 in /usr/local/lib/python3.11/dist-packages (from ipython>=5.5.0->pycaret) (5.7.1)\n",
            "Requirement already satisfied: prompt-toolkit!=3.0.0,!=3.0.1,<3.1.0,>=2.0.0 in /usr/local/lib/python3.11/dist-packages (from ipython>=5.5.0->pycaret) (3.0.51)\n",
            "Requirement already satisfied: pygments in /usr/local/lib/python3.11/dist-packages (from ipython>=5.5.0->pycaret) (2.18.0)\n",
            "Requirement already satisfied: backcall in /usr/local/lib/python3.11/dist-packages (from ipython>=5.5.0->pycaret) (0.2.0)\n",
            "Requirement already satisfied: matplotlib-inline in /usr/local/lib/python3.11/dist-packages (from ipython>=5.5.0->pycaret) (0.1.7)\n",
            "Requirement already satisfied: pexpect>4.3 in /usr/local/lib/python3.11/dist-packages (from ipython>=5.5.0->pycaret) (4.9.0)\n",
            "Requirement already satisfied: ipykernel>=4.5.1 in /usr/local/lib/python3.11/dist-packages (from ipywidgets>=7.6.5->pycaret) (6.17.1)\n",
            "Requirement already satisfied: ipython-genutils~=0.2.0 in /usr/local/lib/python3.11/dist-packages (from ipywidgets>=7.6.5->pycaret) (0.2.0)\n",
            "Requirement already satisfied: widgetsnbextension~=3.6.0 in /usr/local/lib/python3.11/dist-packages (from ipywidgets>=7.6.5->pycaret) (3.6.10)\n",
            "Requirement already satisfied: jupyterlab-widgets>=1.0.0 in /usr/local/lib/python3.11/dist-packages (from ipywidgets>=7.6.5->pycaret) (3.0.14)\n",
            "Requirement already satisfied: contourpy>=1.0.1 in /usr/local/lib/python3.11/dist-packages (from matplotlib<3.8.0->pycaret) (1.3.2)\n",
            "Requirement already satisfied: cycler>=0.10 in /usr/local/lib/python3.11/dist-packages (from matplotlib<3.8.0->pycaret) (0.12.1)\n",
            "Requirement already satisfied: fonttools>=4.22.0 in /usr/local/lib/python3.11/dist-packages (from matplotlib<3.8.0->pycaret) (4.57.0)\n",
            "Requirement already satisfied: kiwisolver>=1.0.1 in /usr/local/lib/python3.11/dist-packages (from matplotlib<3.8.0->pycaret) (1.4.8)\n",
            "Requirement already satisfied: pillow>=6.2.0 in /usr/local/lib/python3.11/dist-packages (from matplotlib<3.8.0->pycaret) (11.1.0)\n",
            "Requirement already satisfied: pyparsing>=2.3.1 in /usr/local/lib/python3.11/dist-packages (from matplotlib<3.8.0->pycaret) (3.2.3)\n",
            "Requirement already satisfied: python-dateutil>=2.7 in /usr/local/lib/python3.11/dist-packages (from matplotlib<3.8.0->pycaret) (2.8.2)\n",
            "Requirement already satisfied: fastjsonschema>=2.15 in /usr/local/lib/python3.11/dist-packages (from nbformat>=4.2.0->pycaret) (2.21.1)\n",
            "Requirement already satisfied: jsonschema>=2.6 in /usr/local/lib/python3.11/dist-packages (from nbformat>=4.2.0->pycaret) (4.23.0)\n",
            "Requirement already satisfied: jupyter-core!=5.0.*,>=4.12 in /usr/local/lib/python3.11/dist-packages (from nbformat>=4.2.0->pycaret) (5.7.2)\n",
            "Requirement already satisfied: llvmlite<0.44,>=0.43.0dev0 in /usr/local/lib/python3.11/dist-packages (from numba>=0.55.0->pycaret) (0.43.0)\n",
            "Requirement already satisfied: pytz>=2020.1 in /usr/local/lib/python3.11/dist-packages (from pandas<2.2.0->pycaret) (2025.2)\n",
            "Requirement already satisfied: tzdata>=2022.1 in /usr/local/lib/python3.11/dist-packages (from pandas<2.2.0->pycaret) (2025.2)\n",
            "Requirement already satisfied: tenacity>=6.2.0 in /usr/local/lib/python3.11/dist-packages (from plotly>=5.14.0->pycaret) (9.1.2)\n",
            "Collecting dash>=2.9.0 (from plotly-resampler>=0.8.3.1->pycaret)\n",
            "  Downloading dash-3.0.3-py3-none-any.whl.metadata (10 kB)\n",
            "Requirement already satisfied: orjson<4.0.0,>=3.8.0 in /usr/local/lib/python3.11/dist-packages (from plotly-resampler>=0.8.3.1->pycaret) (3.10.16)\n",
            "Collecting tsdownsample>=0.1.3 (from plotly-resampler>=0.8.3.1->pycaret)\n",
            "  Downloading tsdownsample-0.1.4.1-cp311-cp311-manylinux_2_17_x86_64.manylinux2014_x86_64.whl.metadata (8.0 kB)\n",
            "Requirement already satisfied: Cython!=0.29.18,!=0.29.31,>=0.29 in /usr/local/lib/python3.11/dist-packages (from pmdarima>=2.0.4->pycaret) (3.0.12)\n",
            "Requirement already satisfied: urllib3 in /usr/local/lib/python3.11/dist-packages (from pmdarima>=2.0.4->pycaret) (2.3.0)\n",
            "Requirement already satisfied: charset-normalizer<4,>=2 in /usr/local/lib/python3.11/dist-packages (from requests>=2.27.1->pycaret) (3.4.1)\n",
            "Requirement already satisfied: idna<4,>=2.5 in /usr/local/lib/python3.11/dist-packages (from requests>=2.27.1->pycaret) (3.10)\n",
            "Requirement already satisfied: certifi>=2017.4.17 in /usr/local/lib/python3.11/dist-packages (from requests>=2.27.1->pycaret) (2025.1.31)\n",
            "Collecting Flask<3.1,>=1.0.4 (from dash>=2.9.0->plotly-resampler>=0.8.3.1->pycaret)\n",
            "  Downloading flask-3.0.3-py3-none-any.whl.metadata (3.2 kB)\n",
            "Collecting Werkzeug<3.1 (from dash>=2.9.0->plotly-resampler>=0.8.3.1->pycaret)\n",
            "  Downloading werkzeug-3.0.6-py3-none-any.whl.metadata (3.7 kB)\n",
            "Requirement already satisfied: typing-extensions>=4.1.1 in /usr/local/lib/python3.11/dist-packages (from dash>=2.9.0->plotly-resampler>=0.8.3.1->pycaret) (4.13.2)\n",
            "Collecting retrying (from dash>=2.9.0->plotly-resampler>=0.8.3.1->pycaret)\n",
            "  Downloading retrying-1.3.4-py3-none-any.whl.metadata (6.9 kB)\n",
            "Requirement already satisfied: nest-asyncio in /usr/local/lib/python3.11/dist-packages (from dash>=2.9.0->plotly-resampler>=0.8.3.1->pycaret) (1.6.0)\n",
            "Requirement already satisfied: debugpy>=1.0 in /usr/local/lib/python3.11/dist-packages (from ipykernel>=4.5.1->ipywidgets>=7.6.5->pycaret) (1.8.0)\n",
            "Requirement already satisfied: jupyter-client>=6.1.12 in /usr/local/lib/python3.11/dist-packages (from ipykernel>=4.5.1->ipywidgets>=7.6.5->pycaret) (6.1.12)\n",
            "Requirement already satisfied: pyzmq>=17 in /usr/local/lib/python3.11/dist-packages (from ipykernel>=4.5.1->ipywidgets>=7.6.5->pycaret) (24.0.1)\n",
            "Requirement already satisfied: tornado>=6.1 in /usr/local/lib/python3.11/dist-packages (from ipykernel>=4.5.1->ipywidgets>=7.6.5->pycaret) (6.4.2)\n",
            "Requirement already satisfied: parso<0.9.0,>=0.8.4 in /usr/local/lib/python3.11/dist-packages (from jedi>=0.16->ipython>=5.5.0->pycaret) (0.8.4)\n",
            "Requirement already satisfied: attrs>=22.2.0 in /usr/local/lib/python3.11/dist-packages (from jsonschema>=2.6->nbformat>=4.2.0->pycaret) (25.3.0)\n",
            "Requirement already satisfied: jsonschema-specifications>=2023.03.6 in /usr/local/lib/python3.11/dist-packages (from jsonschema>=2.6->nbformat>=4.2.0->pycaret) (2024.10.1)\n",
            "Requirement already satisfied: referencing>=0.28.4 in /usr/local/lib/python3.11/dist-packages (from jsonschema>=2.6->nbformat>=4.2.0->pycaret) (0.36.2)\n",
            "Requirement already satisfied: rpds-py>=0.7.1 in /usr/local/lib/python3.11/dist-packages (from jsonschema>=2.6->nbformat>=4.2.0->pycaret) (0.24.0)\n",
            "Requirement already satisfied: platformdirs>=2.5 in /usr/local/lib/python3.11/dist-packages (from jupyter-core!=5.0.*,>=4.12->nbformat>=4.2.0->pycaret) (4.3.7)\n",
            "Requirement already satisfied: ptyprocess>=0.5 in /usr/local/lib/python3.11/dist-packages (from pexpect>4.3->ipython>=5.5.0->pycaret) (0.7.0)\n",
            "Requirement already satisfied: wcwidth in /usr/local/lib/python3.11/dist-packages (from prompt-toolkit!=3.0.0,!=3.0.1,<3.1.0,>=2.0.0->ipython>=5.5.0->pycaret) (0.2.13)\n",
            "Requirement already satisfied: six>=1.5 in /usr/local/lib/python3.11/dist-packages (from python-dateutil>=2.7->matplotlib<3.8.0->pycaret) (1.17.0)\n",
            "Requirement already satisfied: notebook>=4.4.1 in /usr/local/lib/python3.11/dist-packages (from widgetsnbextension~=3.6.0->ipywidgets>=7.6.5->pycaret) (6.5.7)\n",
            "Requirement already satisfied: itsdangerous>=2.1.2 in /usr/local/lib/python3.11/dist-packages (from Flask<3.1,>=1.0.4->dash>=2.9.0->plotly-resampler>=0.8.3.1->pycaret) (2.2.0)\n",
            "Requirement already satisfied: click>=8.1.3 in /usr/local/lib/python3.11/dist-packages (from Flask<3.1,>=1.0.4->dash>=2.9.0->plotly-resampler>=0.8.3.1->pycaret) (8.1.8)\n",
            "Requirement already satisfied: blinker>=1.6.2 in /usr/local/lib/python3.11/dist-packages (from Flask<3.1,>=1.0.4->dash>=2.9.0->plotly-resampler>=0.8.3.1->pycaret) (1.9.0)\n",
            "Requirement already satisfied: argon2-cffi in /usr/local/lib/python3.11/dist-packages (from notebook>=4.4.1->widgetsnbextension~=3.6.0->ipywidgets>=7.6.5->pycaret) (23.1.0)\n",
            "Requirement already satisfied: nbconvert>=5 in /usr/local/lib/python3.11/dist-packages (from notebook>=4.4.1->widgetsnbextension~=3.6.0->ipywidgets>=7.6.5->pycaret) (7.16.6)\n",
            "Requirement already satisfied: Send2Trash>=1.8.0 in /usr/local/lib/python3.11/dist-packages (from notebook>=4.4.1->widgetsnbextension~=3.6.0->ipywidgets>=7.6.5->pycaret) (1.8.3)\n",
            "Requirement already satisfied: terminado>=0.8.3 in /usr/local/lib/python3.11/dist-packages (from notebook>=4.4.1->widgetsnbextension~=3.6.0->ipywidgets>=7.6.5->pycaret) (0.18.1)\n",
            "Requirement already satisfied: prometheus-client in /usr/local/lib/python3.11/dist-packages (from notebook>=4.4.1->widgetsnbextension~=3.6.0->ipywidgets>=7.6.5->pycaret) (0.21.1)\n",
            "Requirement already satisfied: nbclassic>=0.4.7 in /usr/local/lib/python3.11/dist-packages (from notebook>=4.4.1->widgetsnbextension~=3.6.0->ipywidgets>=7.6.5->pycaret) (1.2.0)\n",
            "Requirement already satisfied: notebook-shim>=0.2.3 in /usr/local/lib/python3.11/dist-packages (from nbclassic>=0.4.7->notebook>=4.4.1->widgetsnbextension~=3.6.0->ipywidgets>=7.6.5->pycaret) (0.2.4)\n",
            "Requirement already satisfied: beautifulsoup4 in /usr/local/lib/python3.11/dist-packages (from nbconvert>=5->notebook>=4.4.1->widgetsnbextension~=3.6.0->ipywidgets>=7.6.5->pycaret) (4.13.4)\n",
            "Requirement already satisfied: bleach!=5.0.0 in /usr/local/lib/python3.11/dist-packages (from bleach[css]!=5.0.0->nbconvert>=5->notebook>=4.4.1->widgetsnbextension~=3.6.0->ipywidgets>=7.6.5->pycaret) (6.2.0)\n",
            "Requirement already satisfied: defusedxml in /usr/local/lib/python3.11/dist-packages (from nbconvert>=5->notebook>=4.4.1->widgetsnbextension~=3.6.0->ipywidgets>=7.6.5->pycaret) (0.7.1)\n",
            "Requirement already satisfied: jupyterlab-pygments in /usr/local/lib/python3.11/dist-packages (from nbconvert>=5->notebook>=4.4.1->widgetsnbextension~=3.6.0->ipywidgets>=7.6.5->pycaret) (0.3.0)\n",
            "Requirement already satisfied: mistune<4,>=2.0.3 in /usr/local/lib/python3.11/dist-packages (from nbconvert>=5->notebook>=4.4.1->widgetsnbextension~=3.6.0->ipywidgets>=7.6.5->pycaret) (3.1.3)\n",
            "Requirement already satisfied: nbclient>=0.5.0 in /usr/local/lib/python3.11/dist-packages (from nbconvert>=5->notebook>=4.4.1->widgetsnbextension~=3.6.0->ipywidgets>=7.6.5->pycaret) (0.10.2)\n",
            "Requirement already satisfied: pandocfilters>=1.4.1 in /usr/local/lib/python3.11/dist-packages (from nbconvert>=5->notebook>=4.4.1->widgetsnbextension~=3.6.0->ipywidgets>=7.6.5->pycaret) (1.5.1)\n",
            "Requirement already satisfied: argon2-cffi-bindings in /usr/local/lib/python3.11/dist-packages (from argon2-cffi->notebook>=4.4.1->widgetsnbextension~=3.6.0->ipywidgets>=7.6.5->pycaret) (21.2.0)\n",
            "Requirement already satisfied: webencodings in /usr/local/lib/python3.11/dist-packages (from bleach!=5.0.0->bleach[css]!=5.0.0->nbconvert>=5->notebook>=4.4.1->widgetsnbextension~=3.6.0->ipywidgets>=7.6.5->pycaret) (0.5.1)\n",
            "Requirement already satisfied: tinycss2<1.5,>=1.1.0 in /usr/local/lib/python3.11/dist-packages (from bleach[css]!=5.0.0->nbconvert>=5->notebook>=4.4.1->widgetsnbextension~=3.6.0->ipywidgets>=7.6.5->pycaret) (1.4.0)\n",
            "Requirement already satisfied: jupyter-server<3,>=1.8 in /usr/local/lib/python3.11/dist-packages (from notebook-shim>=0.2.3->nbclassic>=0.4.7->notebook>=4.4.1->widgetsnbextension~=3.6.0->ipywidgets>=7.6.5->pycaret) (1.16.0)\n",
            "Requirement already satisfied: cffi>=1.0.1 in /usr/local/lib/python3.11/dist-packages (from argon2-cffi-bindings->argon2-cffi->notebook>=4.4.1->widgetsnbextension~=3.6.0->ipywidgets>=7.6.5->pycaret) (1.17.1)\n",
            "Requirement already satisfied: soupsieve>1.2 in /usr/local/lib/python3.11/dist-packages (from beautifulsoup4->nbconvert>=5->notebook>=4.4.1->widgetsnbextension~=3.6.0->ipywidgets>=7.6.5->pycaret) (2.6)\n",
            "Requirement already satisfied: pycparser in /usr/local/lib/python3.11/dist-packages (from cffi>=1.0.1->argon2-cffi-bindings->argon2-cffi->notebook>=4.4.1->widgetsnbextension~=3.6.0->ipywidgets>=7.6.5->pycaret) (2.22)\n",
            "Requirement already satisfied: anyio>=3.1.0 in /usr/local/lib/python3.11/dist-packages (from jupyter-server<3,>=1.8->notebook-shim>=0.2.3->nbclassic>=0.4.7->notebook>=4.4.1->widgetsnbextension~=3.6.0->ipywidgets>=7.6.5->pycaret) (4.9.0)\n",
            "Requirement already satisfied: websocket-client in /usr/local/lib/python3.11/dist-packages (from jupyter-server<3,>=1.8->notebook-shim>=0.2.3->nbclassic>=0.4.7->notebook>=4.4.1->widgetsnbextension~=3.6.0->ipywidgets>=7.6.5->pycaret) (1.8.0)\n",
            "Requirement already satisfied: sniffio>=1.1 in /usr/local/lib/python3.11/dist-packages (from anyio>=3.1.0->jupyter-server<3,>=1.8->notebook-shim>=0.2.3->nbclassic>=0.4.7->notebook>=4.4.1->widgetsnbextension~=3.6.0->ipywidgets>=7.6.5->pycaret) (1.3.1)\n",
            "Downloading pycaret-3.3.2-py3-none-any.whl (486 kB)\n",
            "\u001b[2K   \u001b[90m━━━━━━━━━━━━━━━━━━━━━━━━━━━━━━━━━━━━━━━━\u001b[0m \u001b[32m486.1/486.1 kB\u001b[0m \u001b[31m30.7 MB/s\u001b[0m eta \u001b[36m0:00:00\u001b[0m\n",
            "\u001b[?25hDownloading schemdraw-0.15-py3-none-any.whl (106 kB)\n",
            "\u001b[2K   \u001b[90m━━━━━━━━━━━━━━━━━━━━━━━━━━━━━━━━━━━━━━━━\u001b[0m \u001b[32m106.8/106.8 kB\u001b[0m \u001b[31m10.5 MB/s\u001b[0m eta \u001b[36m0:00:00\u001b[0m\n",
            "\u001b[?25hDownloading sktime-0.26.0-py3-none-any.whl (21.8 MB)\n",
            "\u001b[2K   \u001b[90m━━━━━━━━━━━━━━━━━━━━━━━━━━━━━━━━━━━━━━━━\u001b[0m \u001b[32m21.8/21.8 MB\u001b[0m \u001b[31m103.5 MB/s\u001b[0m eta \u001b[36m0:00:00\u001b[0m\n",
            "\u001b[?25hDownloading category_encoders-2.7.0-py3-none-any.whl (85 kB)\n",
            "\u001b[2K   \u001b[90m━━━━━━━━━━━━━━━━━━━━━━━━━━━━━━━━━━━━━━━━\u001b[0m \u001b[32m85.4/85.4 kB\u001b[0m \u001b[31m9.4 MB/s\u001b[0m eta \u001b[36m0:00:00\u001b[0m\n",
            "\u001b[?25hDownloading deprecation-2.1.0-py2.py3-none-any.whl (11 kB)\n",
            "Downloading joblib-1.3.2-py3-none-any.whl (302 kB)\n",
            "\u001b[2K   \u001b[90m━━━━━━━━━━━━━━━━━━━━━━━━━━━━━━━━━━━━━━━━\u001b[0m \u001b[32m302.2/302.2 kB\u001b[0m \u001b[31m29.4 MB/s\u001b[0m eta \u001b[36m0:00:00\u001b[0m\n",
            "\u001b[?25hDownloading kaleido-0.2.1-py2.py3-none-manylinux1_x86_64.whl (79.9 MB)\n",
            "\u001b[2K   \u001b[90m━━━━━━━━━━━━━━━━━━━━━━━━━━━━━━━━━━━━━━━━\u001b[0m \u001b[32m79.9/79.9 MB\u001b[0m \u001b[31m11.3 MB/s\u001b[0m eta \u001b[36m0:00:00\u001b[0m\n",
            "\u001b[?25hDownloading matplotlib-3.7.5-cp311-cp311-manylinux_2_17_x86_64.manylinux2014_x86_64.whl (11.6 MB)\n",
            "\u001b[2K   \u001b[90m━━━━━━━━━━━━━━━━━━━━━━━━━━━━━━━━━━━━━━━━\u001b[0m \u001b[32m11.6/11.6 MB\u001b[0m \u001b[31m121.0 MB/s\u001b[0m eta \u001b[36m0:00:00\u001b[0m\n",
            "\u001b[?25hDownloading numpy-1.26.4-cp311-cp311-manylinux_2_17_x86_64.manylinux2014_x86_64.whl (18.3 MB)\n",
            "\u001b[2K   \u001b[90m━━━━━━━━━━━━━━━━━━━━━━━━━━━━━━━━━━━━━━━━\u001b[0m \u001b[32m18.3/18.3 MB\u001b[0m \u001b[31m112.9 MB/s\u001b[0m eta \u001b[36m0:00:00\u001b[0m\n",
            "\u001b[?25hDownloading pandas-2.1.4-cp311-cp311-manylinux_2_17_x86_64.manylinux2014_x86_64.whl (12.2 MB)\n",
            "\u001b[2K   \u001b[90m━━━━━━━━━━━━━━━━━━━━━━━━━━━━━━━━━━━━━━━━\u001b[0m \u001b[32m12.2/12.2 MB\u001b[0m \u001b[31m103.3 MB/s\u001b[0m eta \u001b[36m0:00:00\u001b[0m\n",
            "\u001b[?25hDownloading plotly_resampler-0.10.0-py3-none-any.whl (80 kB)\n",
            "\u001b[2K   \u001b[90m━━━━━━━━━━━━━━━━━━━━━━━━━━━━━━━━━━━━━━━━\u001b[0m \u001b[32m80.7/80.7 kB\u001b[0m \u001b[31m9.0 MB/s\u001b[0m eta \u001b[36m0:00:00\u001b[0m\n",
            "\u001b[?25hDownloading pmdarima-2.0.4-cp311-cp311-manylinux_2_17_x86_64.manylinux2014_x86_64.manylinux_2_28_x86_64.whl (2.2 MB)\n",
            "\u001b[2K   \u001b[90m━━━━━━━━━━━━━━━━━━━━━━━━━━━━━━━━━━━━━━━━\u001b[0m \u001b[32m2.2/2.2 MB\u001b[0m \u001b[31m98.0 MB/s\u001b[0m eta \u001b[36m0:00:00\u001b[0m\n",
            "\u001b[?25hDownloading scikit_learn-1.4.2-cp311-cp311-manylinux_2_17_x86_64.manylinux2014_x86_64.whl (12.1 MB)\n",
            "\u001b[2K   \u001b[90m━━━━━━━━━━━━━━━━━━━━━━━━━━━━━━━━━━━━━━━━\u001b[0m \u001b[32m12.1/12.1 MB\u001b[0m \u001b[31m129.0 MB/s\u001b[0m eta \u001b[36m0:00:00\u001b[0m\n",
            "\u001b[?25hDownloading scikit_plot-0.3.7-py3-none-any.whl (33 kB)\n",
            "Downloading scipy-1.11.4-cp311-cp311-manylinux_2_17_x86_64.manylinux2014_x86_64.whl (36.4 MB)\n",
            "\u001b[2K   \u001b[90m━━━━━━━━━━━━━━━━━━━━━━━━━━━━━━━━━━━━━━━━\u001b[0m \u001b[32m36.4/36.4 MB\u001b[0m \u001b[31m14.8 MB/s\u001b[0m eta \u001b[36m0:00:00\u001b[0m\n",
            "\u001b[?25hDownloading tbats-1.1.3-py3-none-any.whl (44 kB)\n",
            "\u001b[2K   \u001b[90m━━━━━━━━━━━━━━━━━━━━━━━━━━━━━━━━━━━━━━━━\u001b[0m \u001b[32m44.0/44.0 kB\u001b[0m \u001b[31m4.2 MB/s\u001b[0m eta \u001b[36m0:00:00\u001b[0m\n",
            "\u001b[?25hDownloading xxhash-3.5.0-cp311-cp311-manylinux_2_17_x86_64.manylinux2014_x86_64.whl (194 kB)\n",
            "\u001b[2K   \u001b[90m━━━━━━━━━━━━━━━━━━━━━━━━━━━━━━━━━━━━━━━━\u001b[0m \u001b[32m194.8/194.8 kB\u001b[0m \u001b[31m19.9 MB/s\u001b[0m eta \u001b[36m0:00:00\u001b[0m\n",
            "\u001b[?25hDownloading dash-3.0.3-py3-none-any.whl (8.0 MB)\n",
            "\u001b[2K   \u001b[90m━━━━━━━━━━━━━━━━━━━━━━━━━━━━━━━━━━━━━━━━\u001b[0m \u001b[32m8.0/8.0 MB\u001b[0m \u001b[31m121.5 MB/s\u001b[0m eta \u001b[36m0:00:00\u001b[0m\n",
            "\u001b[?25hDownloading jedi-0.19.2-py2.py3-none-any.whl (1.6 MB)\n",
            "\u001b[2K   \u001b[90m━━━━━━━━━━━━━━━━━━━━━━━━━━━━━━━━━━━━━━━━\u001b[0m \u001b[32m1.6/1.6 MB\u001b[0m \u001b[31m82.9 MB/s\u001b[0m eta \u001b[36m0:00:00\u001b[0m\n",
            "\u001b[?25hDownloading scikit_base-0.7.8-py3-none-any.whl (130 kB)\n",
            "\u001b[2K   \u001b[90m━━━━━━━━━━━━━━━━━━━━━━━━━━━━━━━━━━━━━━━━\u001b[0m \u001b[32m130.1/130.1 kB\u001b[0m \u001b[31m14.0 MB/s\u001b[0m eta \u001b[36m0:00:00\u001b[0m\n",
            "\u001b[?25hDownloading tsdownsample-0.1.4.1-cp311-cp311-manylinux_2_17_x86_64.manylinux2014_x86_64.whl (1.3 MB)\n",
            "\u001b[2K   \u001b[90m━━━━━━━━━━━━━━━━━━━━━━━━━━━━━━━━━━━━━━━━\u001b[0m \u001b[32m1.3/1.3 MB\u001b[0m \u001b[31m74.7 MB/s\u001b[0m eta \u001b[36m0:00:00\u001b[0m\n",
            "\u001b[?25hDownloading flask-3.0.3-py3-none-any.whl (101 kB)\n",
            "\u001b[2K   \u001b[90m━━━━━━━━━━━━━━━━━━━━━━━━━━━━━━━━━━━━━━━━\u001b[0m \u001b[32m101.7/101.7 kB\u001b[0m \u001b[31m11.4 MB/s\u001b[0m eta \u001b[36m0:00:00\u001b[0m\n",
            "\u001b[?25hDownloading werkzeug-3.0.6-py3-none-any.whl (227 kB)\n",
            "\u001b[2K   \u001b[90m━━━━━━━━━━━━━━━━━━━━━━━━━━━━━━━━━━━━━━━━\u001b[0m \u001b[32m228.0/228.0 kB\u001b[0m \u001b[31m22.9 MB/s\u001b[0m eta \u001b[36m0:00:00\u001b[0m\n",
            "\u001b[?25hDownloading retrying-1.3.4-py3-none-any.whl (11 kB)\n",
            "Building wheels for collected packages: pyod\n",
            "  Building wheel for pyod (setup.py) ... \u001b[?25l\u001b[?25hdone\n",
            "  Created wheel for pyod: filename=pyod-2.0.4-py3-none-any.whl size=200479 sha256=a48b48fd800dc8faea8b6180e2b64cc93b6a9c63377750b2a31cdc08754a26f4\n",
            "  Stored in directory: /root/.cache/pip/wheels/cb/54/28/d02f62720600bc815c41219efedd0cb86889737fb5ea3c8f9a\n",
            "Successfully built pyod\n",
            "Installing collected packages: kaleido, xxhash, Werkzeug, scikit-base, schemdraw, retrying, numpy, joblib, jedi, deprecation, tsdownsample, scipy, pandas, Flask, scikit-learn, matplotlib, dash, sktime, scikit-plot, pyod, pmdarima, plotly-resampler, category-encoders, tbats, pycaret\n",
            "  Attempting uninstall: Werkzeug\n",
            "    Found existing installation: Werkzeug 3.1.3\n",
            "    Uninstalling Werkzeug-3.1.3:\n",
            "      Successfully uninstalled Werkzeug-3.1.3\n",
            "  Attempting uninstall: numpy\n",
            "    Found existing installation: numpy 2.0.2\n",
            "    Uninstalling numpy-2.0.2:\n",
            "      Successfully uninstalled numpy-2.0.2\n",
            "  Attempting uninstall: joblib\n",
            "    Found existing installation: joblib 1.4.2\n",
            "    Uninstalling joblib-1.4.2:\n",
            "      Successfully uninstalled joblib-1.4.2\n",
            "  Attempting uninstall: scipy\n",
            "    Found existing installation: scipy 1.14.1\n",
            "    Uninstalling scipy-1.14.1:\n",
            "      Successfully uninstalled scipy-1.14.1\n",
            "  Attempting uninstall: pandas\n",
            "    Found existing installation: pandas 2.2.2\n",
            "    Uninstalling pandas-2.2.2:\n",
            "      Successfully uninstalled pandas-2.2.2\n",
            "  Attempting uninstall: Flask\n",
            "    Found existing installation: Flask 3.1.0\n",
            "    Uninstalling Flask-3.1.0:\n",
            "      Successfully uninstalled Flask-3.1.0\n",
            "  Attempting uninstall: scikit-learn\n",
            "    Found existing installation: scikit-learn 1.6.1\n",
            "    Uninstalling scikit-learn-1.6.1:\n",
            "      Successfully uninstalled scikit-learn-1.6.1\n",
            "  Attempting uninstall: matplotlib\n",
            "    Found existing installation: matplotlib 3.10.0\n",
            "    Uninstalling matplotlib-3.10.0:\n",
            "      Successfully uninstalled matplotlib-3.10.0\n",
            "\u001b[31mERROR: pip's dependency resolver does not currently take into account all the packages that are installed. This behaviour is the source of the following dependency conflicts.\n",
            "google-colab 1.0.0 requires pandas==2.2.2, but you have pandas 2.1.4 which is incompatible.\n",
            "plotnine 0.14.5 requires matplotlib>=3.8.0, but you have matplotlib 3.7.5 which is incompatible.\n",
            "plotnine 0.14.5 requires pandas>=2.2.0, but you have pandas 2.1.4 which is incompatible.\n",
            "mizani 0.13.3 requires pandas>=2.2.0, but you have pandas 2.1.4 which is incompatible.\n",
            "thinc 8.3.6 requires numpy<3.0.0,>=2.0.0, but you have numpy 1.26.4 which is incompatible.\u001b[0m\u001b[31m\n",
            "\u001b[0mSuccessfully installed Flask-3.0.3 Werkzeug-3.0.6 category-encoders-2.7.0 dash-3.0.3 deprecation-2.1.0 jedi-0.19.2 joblib-1.3.2 kaleido-0.2.1 matplotlib-3.7.5 numpy-1.26.4 pandas-2.1.4 plotly-resampler-0.10.0 pmdarima-2.0.4 pycaret-3.3.2 pyod-2.0.4 retrying-1.3.4 schemdraw-0.15 scikit-base-0.7.8 scikit-learn-1.4.2 scikit-plot-0.3.7 scipy-1.11.4 sktime-0.26.0 tbats-1.1.3 tsdownsample-0.1.4.1 xxhash-3.5.0\n"
          ]
        },
        {
          "output_type": "display_data",
          "data": {
            "application/vnd.colab-display-data+json": {
              "pip_warning": {
                "packages": [
                  "matplotlib",
                  "mpl_toolkits"
                ]
              },
              "id": "52207625f96444a69e9b86fc18e28d13"
            }
          },
          "metadata": {}
        }
      ],
      "source": [
        "!pip install pycaret\n",
        "# print (\"Pycaret installed sucessfully!!\")"
      ]
    },
    {
      "cell_type": "code",
      "execution_count": 1,
      "metadata": {
        "colab": {
          "base_uri": "https://localhost:8080/",
          "height": 35
        },
        "id": "NHB2KMhZim1o",
        "outputId": "c408dc1b-ab20-4d12-cc4d-22e46c8b65ec"
      },
      "outputs": [
        {
          "output_type": "execute_result",
          "data": {
            "text/plain": [
              "'3.3.2'"
            ],
            "application/vnd.google.colaboratory.intrinsic+json": {
              "type": "string"
            }
          },
          "metadata": {},
          "execution_count": 1
        }
      ],
      "source": [
        "from pycaret.utils import version\n",
        "version()"
      ]
    },
    {
      "cell_type": "markdown",
      "metadata": {
        "id": "BTLd3s--im1c"
      },
      "source": [
        "---\n",
        "# **1. Clustering - Part 1 (Kmean Clustering)**\n",
        "---\n",
        "### **1.1 Get the list of datasets available in pycaret (56)**"
      ]
    },
    {
      "cell_type": "code",
      "execution_count": 2,
      "metadata": {
        "colab": {
          "base_uri": "https://localhost:8080/",
          "height": 1000
        },
        "id": "veBU-f21im1x",
        "outputId": "cf437382-4749-4be7-e511-bbf5bfef2de1"
      },
      "outputs": [
        {
          "output_type": "display_data",
          "data": {
            "text/plain": [
              "                             Dataset    Data Types  \\\n",
              "0                            anomaly  Multivariate   \n",
              "1                             france  Multivariate   \n",
              "2                            germany  Multivariate   \n",
              "3                               bank  Multivariate   \n",
              "4                              blood  Multivariate   \n",
              "5                             cancer  Multivariate   \n",
              "6                             credit  Multivariate   \n",
              "7                           diabetes  Multivariate   \n",
              "8                    electrical_grid  Multivariate   \n",
              "9                           employee  Multivariate   \n",
              "10                             heart  Multivariate   \n",
              "11                     heart_disease  Multivariate   \n",
              "12                         hepatitis  Multivariate   \n",
              "13                            income  Multivariate   \n",
              "14                             juice  Multivariate   \n",
              "15                               nba  Multivariate   \n",
              "16                              wine  Multivariate   \n",
              "17                         telescope  Multivariate   \n",
              "18                           titanic  Multivariate   \n",
              "19  us_presidential_election_results  Multivariate   \n",
              "20                             glass  Multivariate   \n",
              "21                              iris  Multivariate   \n",
              "22                             poker  Multivariate   \n",
              "23                         questions  Multivariate   \n",
              "24                         satellite  Multivariate   \n",
              "25                               CTG  Multivariate   \n",
              "26                          asia_gdp  Multivariate   \n",
              "27                         elections  Multivariate   \n",
              "28                          facebook  Multivariate   \n",
              "29                               ipl  Multivariate   \n",
              "30                         jewellery  Multivariate   \n",
              "31                              mice  Multivariate   \n",
              "32                         migration  Multivariate   \n",
              "33                           perfume  Multivariate   \n",
              "34                           pokemon  Multivariate   \n",
              "35                        population  Multivariate   \n",
              "36                     public_health  Multivariate   \n",
              "37                             seeds  Multivariate   \n",
              "38                         wholesale  Multivariate   \n",
              "39                            tweets          Text   \n",
              "40                            amazon          Text   \n",
              "41                              kiva          Text   \n",
              "42                               spx          Text   \n",
              "43                         wikipedia          Text   \n",
              "44                        automobile  Multivariate   \n",
              "45                              bike  Multivariate   \n",
              "46                            boston  Multivariate   \n",
              "47                          concrete  Multivariate   \n",
              "48                           diamond  Multivariate   \n",
              "49                            energy  Multivariate   \n",
              "50                            forest  Multivariate   \n",
              "51                              gold  Multivariate   \n",
              "52                             house  Multivariate   \n",
              "53                         insurance  Multivariate   \n",
              "54                        parkinsons  Multivariate   \n",
              "55                           traffic  Multivariate   \n",
              "\n",
              "                   Default Task Target Variable 1 Target Variable 2  \\\n",
              "0             Anomaly Detection               NaN               NaN   \n",
              "1       Association Rule Mining         InvoiceNo       Description   \n",
              "2       Association Rule Mining         InvoiceNo       Description   \n",
              "3       Classification (Binary)           deposit               NaN   \n",
              "4       Classification (Binary)             Class               NaN   \n",
              "5       Classification (Binary)             Class               NaN   \n",
              "6       Classification (Binary)           default               NaN   \n",
              "7       Classification (Binary)    Class variable               NaN   \n",
              "8       Classification (Binary)             stabf               NaN   \n",
              "9       Classification (Binary)              left               NaN   \n",
              "10      Classification (Binary)             DEATH               NaN   \n",
              "11      Classification (Binary)           Disease               NaN   \n",
              "12      Classification (Binary)             Class               NaN   \n",
              "13      Classification (Binary)       income >50K               NaN   \n",
              "14      Classification (Binary)          Purchase               NaN   \n",
              "15      Classification (Binary)       TARGET_5Yrs               NaN   \n",
              "16      Classification (Binary)              type               NaN   \n",
              "17      Classification (Binary)             Class               NaN   \n",
              "18      Classification (Binary)          Survived               NaN   \n",
              "19      Classification (Binary)      party_winner               NaN   \n",
              "20  Classification (Multiclass)              Type               NaN   \n",
              "21  Classification (Multiclass)           species               NaN   \n",
              "22  Classification (Multiclass)             CLASS               NaN   \n",
              "23  Classification (Multiclass)     Next_Question               NaN   \n",
              "24  Classification (Multiclass)             Class               NaN   \n",
              "25  Classification (Multiclass)               NSP               NaN   \n",
              "26                   Clustering               NaN               NaN   \n",
              "27                   Clustering               NaN               NaN   \n",
              "28                   Clustering               NaN               NaN   \n",
              "29                   Clustering               NaN               NaN   \n",
              "30                   Clustering               NaN               NaN   \n",
              "31                   Clustering               NaN               NaN   \n",
              "32                   Clustering               NaN               NaN   \n",
              "33                   Clustering               NaN               NaN   \n",
              "34                   Clustering               NaN               NaN   \n",
              "35                   Clustering               NaN               NaN   \n",
              "36                   Clustering               NaN               NaN   \n",
              "37                   Clustering               NaN               NaN   \n",
              "38                   Clustering               NaN               NaN   \n",
              "39                          NLP             tweet               NaN   \n",
              "40         NLP / Classification        reviewText               NaN   \n",
              "41         NLP / Classification                en               NaN   \n",
              "42             NLP / Regression              text               NaN   \n",
              "43         NLP / Classification              Text               NaN   \n",
              "44                   Regression             price               NaN   \n",
              "45                   Regression               cnt               NaN   \n",
              "46                   Regression              medv               NaN   \n",
              "47                   Regression          strength               NaN   \n",
              "48                   Regression             Price               NaN   \n",
              "49                   Regression      Heating Load      Cooling Load   \n",
              "50                   Regression              area               NaN   \n",
              "51                   Regression         Gold_T+22               NaN   \n",
              "52                   Regression         SalePrice               NaN   \n",
              "53                   Regression           charges               NaN   \n",
              "54                   Regression               PPE               NaN   \n",
              "55                   Regression    traffic_volume               NaN   \n",
              "\n",
              "    # Instances  # Attributes Missing Values  \n",
              "0          1000            10              N  \n",
              "1          8557             8              N  \n",
              "2          9495             8              N  \n",
              "3         45211            17              N  \n",
              "4           748             5              N  \n",
              "5           683            10              N  \n",
              "6         24000            24              N  \n",
              "7           768             9              N  \n",
              "8         10000            14              N  \n",
              "9         14999            10              N  \n",
              "10          200            16              N  \n",
              "11          270            14              N  \n",
              "12          154            32              Y  \n",
              "13        32561            14              Y  \n",
              "14         1070            15              N  \n",
              "15         1340            21              N  \n",
              "16         6498            13              N  \n",
              "17        19020            11              N  \n",
              "18          891            11              Y  \n",
              "19          497             7              N  \n",
              "20          214            10              N  \n",
              "21          150             5              N  \n",
              "22       100000            11              N  \n",
              "23          499             4              N  \n",
              "24         6435            37              N  \n",
              "25         2129            40              Y  \n",
              "26           40            11              N  \n",
              "27         3195            54              Y  \n",
              "28         7050            12              N  \n",
              "29          153            25              N  \n",
              "30          505             4              N  \n",
              "31         1080            82              Y  \n",
              "32          233            12              N  \n",
              "33           20            29              N  \n",
              "34          800            13              Y  \n",
              "35          255            56              Y  \n",
              "36          224            21              N  \n",
              "37          210             7              N  \n",
              "38          440             8              N  \n",
              "39         8594             2              N  \n",
              "40        20000             2              N  \n",
              "41         6818             7              N  \n",
              "42          874             4              N  \n",
              "43          500             3              N  \n",
              "44          202            26              Y  \n",
              "45        17379            15              N  \n",
              "46          506            14              N  \n",
              "47         1030             9              N  \n",
              "48         6000             8              N  \n",
              "49          768            10              N  \n",
              "50          517            13              N  \n",
              "51         2558           121              N  \n",
              "52         1461            81              Y  \n",
              "53         1338             7              N  \n",
              "54         5875            22              N  \n",
              "55        48204             8              N  "
            ],
            "text/html": [
              "\n",
              "  <div id=\"df-7b880dd0-bdd2-48da-9ca9-4752f4308416\" class=\"colab-df-container\">\n",
              "    <div>\n",
              "<style scoped>\n",
              "    .dataframe tbody tr th:only-of-type {\n",
              "        vertical-align: middle;\n",
              "    }\n",
              "\n",
              "    .dataframe tbody tr th {\n",
              "        vertical-align: top;\n",
              "    }\n",
              "\n",
              "    .dataframe thead th {\n",
              "        text-align: right;\n",
              "    }\n",
              "</style>\n",
              "<table border=\"1\" class=\"dataframe\">\n",
              "  <thead>\n",
              "    <tr style=\"text-align: right;\">\n",
              "      <th></th>\n",
              "      <th>Dataset</th>\n",
              "      <th>Data Types</th>\n",
              "      <th>Default Task</th>\n",
              "      <th>Target Variable 1</th>\n",
              "      <th>Target Variable 2</th>\n",
              "      <th># Instances</th>\n",
              "      <th># Attributes</th>\n",
              "      <th>Missing Values</th>\n",
              "    </tr>\n",
              "  </thead>\n",
              "  <tbody>\n",
              "    <tr>\n",
              "      <th>0</th>\n",
              "      <td>anomaly</td>\n",
              "      <td>Multivariate</td>\n",
              "      <td>Anomaly Detection</td>\n",
              "      <td>NaN</td>\n",
              "      <td>NaN</td>\n",
              "      <td>1000</td>\n",
              "      <td>10</td>\n",
              "      <td>N</td>\n",
              "    </tr>\n",
              "    <tr>\n",
              "      <th>1</th>\n",
              "      <td>france</td>\n",
              "      <td>Multivariate</td>\n",
              "      <td>Association Rule Mining</td>\n",
              "      <td>InvoiceNo</td>\n",
              "      <td>Description</td>\n",
              "      <td>8557</td>\n",
              "      <td>8</td>\n",
              "      <td>N</td>\n",
              "    </tr>\n",
              "    <tr>\n",
              "      <th>2</th>\n",
              "      <td>germany</td>\n",
              "      <td>Multivariate</td>\n",
              "      <td>Association Rule Mining</td>\n",
              "      <td>InvoiceNo</td>\n",
              "      <td>Description</td>\n",
              "      <td>9495</td>\n",
              "      <td>8</td>\n",
              "      <td>N</td>\n",
              "    </tr>\n",
              "    <tr>\n",
              "      <th>3</th>\n",
              "      <td>bank</td>\n",
              "      <td>Multivariate</td>\n",
              "      <td>Classification (Binary)</td>\n",
              "      <td>deposit</td>\n",
              "      <td>NaN</td>\n",
              "      <td>45211</td>\n",
              "      <td>17</td>\n",
              "      <td>N</td>\n",
              "    </tr>\n",
              "    <tr>\n",
              "      <th>4</th>\n",
              "      <td>blood</td>\n",
              "      <td>Multivariate</td>\n",
              "      <td>Classification (Binary)</td>\n",
              "      <td>Class</td>\n",
              "      <td>NaN</td>\n",
              "      <td>748</td>\n",
              "      <td>5</td>\n",
              "      <td>N</td>\n",
              "    </tr>\n",
              "    <tr>\n",
              "      <th>5</th>\n",
              "      <td>cancer</td>\n",
              "      <td>Multivariate</td>\n",
              "      <td>Classification (Binary)</td>\n",
              "      <td>Class</td>\n",
              "      <td>NaN</td>\n",
              "      <td>683</td>\n",
              "      <td>10</td>\n",
              "      <td>N</td>\n",
              "    </tr>\n",
              "    <tr>\n",
              "      <th>6</th>\n",
              "      <td>credit</td>\n",
              "      <td>Multivariate</td>\n",
              "      <td>Classification (Binary)</td>\n",
              "      <td>default</td>\n",
              "      <td>NaN</td>\n",
              "      <td>24000</td>\n",
              "      <td>24</td>\n",
              "      <td>N</td>\n",
              "    </tr>\n",
              "    <tr>\n",
              "      <th>7</th>\n",
              "      <td>diabetes</td>\n",
              "      <td>Multivariate</td>\n",
              "      <td>Classification (Binary)</td>\n",
              "      <td>Class variable</td>\n",
              "      <td>NaN</td>\n",
              "      <td>768</td>\n",
              "      <td>9</td>\n",
              "      <td>N</td>\n",
              "    </tr>\n",
              "    <tr>\n",
              "      <th>8</th>\n",
              "      <td>electrical_grid</td>\n",
              "      <td>Multivariate</td>\n",
              "      <td>Classification (Binary)</td>\n",
              "      <td>stabf</td>\n",
              "      <td>NaN</td>\n",
              "      <td>10000</td>\n",
              "      <td>14</td>\n",
              "      <td>N</td>\n",
              "    </tr>\n",
              "    <tr>\n",
              "      <th>9</th>\n",
              "      <td>employee</td>\n",
              "      <td>Multivariate</td>\n",
              "      <td>Classification (Binary)</td>\n",
              "      <td>left</td>\n",
              "      <td>NaN</td>\n",
              "      <td>14999</td>\n",
              "      <td>10</td>\n",
              "      <td>N</td>\n",
              "    </tr>\n",
              "    <tr>\n",
              "      <th>10</th>\n",
              "      <td>heart</td>\n",
              "      <td>Multivariate</td>\n",
              "      <td>Classification (Binary)</td>\n",
              "      <td>DEATH</td>\n",
              "      <td>NaN</td>\n",
              "      <td>200</td>\n",
              "      <td>16</td>\n",
              "      <td>N</td>\n",
              "    </tr>\n",
              "    <tr>\n",
              "      <th>11</th>\n",
              "      <td>heart_disease</td>\n",
              "      <td>Multivariate</td>\n",
              "      <td>Classification (Binary)</td>\n",
              "      <td>Disease</td>\n",
              "      <td>NaN</td>\n",
              "      <td>270</td>\n",
              "      <td>14</td>\n",
              "      <td>N</td>\n",
              "    </tr>\n",
              "    <tr>\n",
              "      <th>12</th>\n",
              "      <td>hepatitis</td>\n",
              "      <td>Multivariate</td>\n",
              "      <td>Classification (Binary)</td>\n",
              "      <td>Class</td>\n",
              "      <td>NaN</td>\n",
              "      <td>154</td>\n",
              "      <td>32</td>\n",
              "      <td>Y</td>\n",
              "    </tr>\n",
              "    <tr>\n",
              "      <th>13</th>\n",
              "      <td>income</td>\n",
              "      <td>Multivariate</td>\n",
              "      <td>Classification (Binary)</td>\n",
              "      <td>income &gt;50K</td>\n",
              "      <td>NaN</td>\n",
              "      <td>32561</td>\n",
              "      <td>14</td>\n",
              "      <td>Y</td>\n",
              "    </tr>\n",
              "    <tr>\n",
              "      <th>14</th>\n",
              "      <td>juice</td>\n",
              "      <td>Multivariate</td>\n",
              "      <td>Classification (Binary)</td>\n",
              "      <td>Purchase</td>\n",
              "      <td>NaN</td>\n",
              "      <td>1070</td>\n",
              "      <td>15</td>\n",
              "      <td>N</td>\n",
              "    </tr>\n",
              "    <tr>\n",
              "      <th>15</th>\n",
              "      <td>nba</td>\n",
              "      <td>Multivariate</td>\n",
              "      <td>Classification (Binary)</td>\n",
              "      <td>TARGET_5Yrs</td>\n",
              "      <td>NaN</td>\n",
              "      <td>1340</td>\n",
              "      <td>21</td>\n",
              "      <td>N</td>\n",
              "    </tr>\n",
              "    <tr>\n",
              "      <th>16</th>\n",
              "      <td>wine</td>\n",
              "      <td>Multivariate</td>\n",
              "      <td>Classification (Binary)</td>\n",
              "      <td>type</td>\n",
              "      <td>NaN</td>\n",
              "      <td>6498</td>\n",
              "      <td>13</td>\n",
              "      <td>N</td>\n",
              "    </tr>\n",
              "    <tr>\n",
              "      <th>17</th>\n",
              "      <td>telescope</td>\n",
              "      <td>Multivariate</td>\n",
              "      <td>Classification (Binary)</td>\n",
              "      <td>Class</td>\n",
              "      <td>NaN</td>\n",
              "      <td>19020</td>\n",
              "      <td>11</td>\n",
              "      <td>N</td>\n",
              "    </tr>\n",
              "    <tr>\n",
              "      <th>18</th>\n",
              "      <td>titanic</td>\n",
              "      <td>Multivariate</td>\n",
              "      <td>Classification (Binary)</td>\n",
              "      <td>Survived</td>\n",
              "      <td>NaN</td>\n",
              "      <td>891</td>\n",
              "      <td>11</td>\n",
              "      <td>Y</td>\n",
              "    </tr>\n",
              "    <tr>\n",
              "      <th>19</th>\n",
              "      <td>us_presidential_election_results</td>\n",
              "      <td>Multivariate</td>\n",
              "      <td>Classification (Binary)</td>\n",
              "      <td>party_winner</td>\n",
              "      <td>NaN</td>\n",
              "      <td>497</td>\n",
              "      <td>7</td>\n",
              "      <td>N</td>\n",
              "    </tr>\n",
              "    <tr>\n",
              "      <th>20</th>\n",
              "      <td>glass</td>\n",
              "      <td>Multivariate</td>\n",
              "      <td>Classification (Multiclass)</td>\n",
              "      <td>Type</td>\n",
              "      <td>NaN</td>\n",
              "      <td>214</td>\n",
              "      <td>10</td>\n",
              "      <td>N</td>\n",
              "    </tr>\n",
              "    <tr>\n",
              "      <th>21</th>\n",
              "      <td>iris</td>\n",
              "      <td>Multivariate</td>\n",
              "      <td>Classification (Multiclass)</td>\n",
              "      <td>species</td>\n",
              "      <td>NaN</td>\n",
              "      <td>150</td>\n",
              "      <td>5</td>\n",
              "      <td>N</td>\n",
              "    </tr>\n",
              "    <tr>\n",
              "      <th>22</th>\n",
              "      <td>poker</td>\n",
              "      <td>Multivariate</td>\n",
              "      <td>Classification (Multiclass)</td>\n",
              "      <td>CLASS</td>\n",
              "      <td>NaN</td>\n",
              "      <td>100000</td>\n",
              "      <td>11</td>\n",
              "      <td>N</td>\n",
              "    </tr>\n",
              "    <tr>\n",
              "      <th>23</th>\n",
              "      <td>questions</td>\n",
              "      <td>Multivariate</td>\n",
              "      <td>Classification (Multiclass)</td>\n",
              "      <td>Next_Question</td>\n",
              "      <td>NaN</td>\n",
              "      <td>499</td>\n",
              "      <td>4</td>\n",
              "      <td>N</td>\n",
              "    </tr>\n",
              "    <tr>\n",
              "      <th>24</th>\n",
              "      <td>satellite</td>\n",
              "      <td>Multivariate</td>\n",
              "      <td>Classification (Multiclass)</td>\n",
              "      <td>Class</td>\n",
              "      <td>NaN</td>\n",
              "      <td>6435</td>\n",
              "      <td>37</td>\n",
              "      <td>N</td>\n",
              "    </tr>\n",
              "    <tr>\n",
              "      <th>25</th>\n",
              "      <td>CTG</td>\n",
              "      <td>Multivariate</td>\n",
              "      <td>Classification (Multiclass)</td>\n",
              "      <td>NSP</td>\n",
              "      <td>NaN</td>\n",
              "      <td>2129</td>\n",
              "      <td>40</td>\n",
              "      <td>Y</td>\n",
              "    </tr>\n",
              "    <tr>\n",
              "      <th>26</th>\n",
              "      <td>asia_gdp</td>\n",
              "      <td>Multivariate</td>\n",
              "      <td>Clustering</td>\n",
              "      <td>NaN</td>\n",
              "      <td>NaN</td>\n",
              "      <td>40</td>\n",
              "      <td>11</td>\n",
              "      <td>N</td>\n",
              "    </tr>\n",
              "    <tr>\n",
              "      <th>27</th>\n",
              "      <td>elections</td>\n",
              "      <td>Multivariate</td>\n",
              "      <td>Clustering</td>\n",
              "      <td>NaN</td>\n",
              "      <td>NaN</td>\n",
              "      <td>3195</td>\n",
              "      <td>54</td>\n",
              "      <td>Y</td>\n",
              "    </tr>\n",
              "    <tr>\n",
              "      <th>28</th>\n",
              "      <td>facebook</td>\n",
              "      <td>Multivariate</td>\n",
              "      <td>Clustering</td>\n",
              "      <td>NaN</td>\n",
              "      <td>NaN</td>\n",
              "      <td>7050</td>\n",
              "      <td>12</td>\n",
              "      <td>N</td>\n",
              "    </tr>\n",
              "    <tr>\n",
              "      <th>29</th>\n",
              "      <td>ipl</td>\n",
              "      <td>Multivariate</td>\n",
              "      <td>Clustering</td>\n",
              "      <td>NaN</td>\n",
              "      <td>NaN</td>\n",
              "      <td>153</td>\n",
              "      <td>25</td>\n",
              "      <td>N</td>\n",
              "    </tr>\n",
              "    <tr>\n",
              "      <th>30</th>\n",
              "      <td>jewellery</td>\n",
              "      <td>Multivariate</td>\n",
              "      <td>Clustering</td>\n",
              "      <td>NaN</td>\n",
              "      <td>NaN</td>\n",
              "      <td>505</td>\n",
              "      <td>4</td>\n",
              "      <td>N</td>\n",
              "    </tr>\n",
              "    <tr>\n",
              "      <th>31</th>\n",
              "      <td>mice</td>\n",
              "      <td>Multivariate</td>\n",
              "      <td>Clustering</td>\n",
              "      <td>NaN</td>\n",
              "      <td>NaN</td>\n",
              "      <td>1080</td>\n",
              "      <td>82</td>\n",
              "      <td>Y</td>\n",
              "    </tr>\n",
              "    <tr>\n",
              "      <th>32</th>\n",
              "      <td>migration</td>\n",
              "      <td>Multivariate</td>\n",
              "      <td>Clustering</td>\n",
              "      <td>NaN</td>\n",
              "      <td>NaN</td>\n",
              "      <td>233</td>\n",
              "      <td>12</td>\n",
              "      <td>N</td>\n",
              "    </tr>\n",
              "    <tr>\n",
              "      <th>33</th>\n",
              "      <td>perfume</td>\n",
              "      <td>Multivariate</td>\n",
              "      <td>Clustering</td>\n",
              "      <td>NaN</td>\n",
              "      <td>NaN</td>\n",
              "      <td>20</td>\n",
              "      <td>29</td>\n",
              "      <td>N</td>\n",
              "    </tr>\n",
              "    <tr>\n",
              "      <th>34</th>\n",
              "      <td>pokemon</td>\n",
              "      <td>Multivariate</td>\n",
              "      <td>Clustering</td>\n",
              "      <td>NaN</td>\n",
              "      <td>NaN</td>\n",
              "      <td>800</td>\n",
              "      <td>13</td>\n",
              "      <td>Y</td>\n",
              "    </tr>\n",
              "    <tr>\n",
              "      <th>35</th>\n",
              "      <td>population</td>\n",
              "      <td>Multivariate</td>\n",
              "      <td>Clustering</td>\n",
              "      <td>NaN</td>\n",
              "      <td>NaN</td>\n",
              "      <td>255</td>\n",
              "      <td>56</td>\n",
              "      <td>Y</td>\n",
              "    </tr>\n",
              "    <tr>\n",
              "      <th>36</th>\n",
              "      <td>public_health</td>\n",
              "      <td>Multivariate</td>\n",
              "      <td>Clustering</td>\n",
              "      <td>NaN</td>\n",
              "      <td>NaN</td>\n",
              "      <td>224</td>\n",
              "      <td>21</td>\n",
              "      <td>N</td>\n",
              "    </tr>\n",
              "    <tr>\n",
              "      <th>37</th>\n",
              "      <td>seeds</td>\n",
              "      <td>Multivariate</td>\n",
              "      <td>Clustering</td>\n",
              "      <td>NaN</td>\n",
              "      <td>NaN</td>\n",
              "      <td>210</td>\n",
              "      <td>7</td>\n",
              "      <td>N</td>\n",
              "    </tr>\n",
              "    <tr>\n",
              "      <th>38</th>\n",
              "      <td>wholesale</td>\n",
              "      <td>Multivariate</td>\n",
              "      <td>Clustering</td>\n",
              "      <td>NaN</td>\n",
              "      <td>NaN</td>\n",
              "      <td>440</td>\n",
              "      <td>8</td>\n",
              "      <td>N</td>\n",
              "    </tr>\n",
              "    <tr>\n",
              "      <th>39</th>\n",
              "      <td>tweets</td>\n",
              "      <td>Text</td>\n",
              "      <td>NLP</td>\n",
              "      <td>tweet</td>\n",
              "      <td>NaN</td>\n",
              "      <td>8594</td>\n",
              "      <td>2</td>\n",
              "      <td>N</td>\n",
              "    </tr>\n",
              "    <tr>\n",
              "      <th>40</th>\n",
              "      <td>amazon</td>\n",
              "      <td>Text</td>\n",
              "      <td>NLP / Classification</td>\n",
              "      <td>reviewText</td>\n",
              "      <td>NaN</td>\n",
              "      <td>20000</td>\n",
              "      <td>2</td>\n",
              "      <td>N</td>\n",
              "    </tr>\n",
              "    <tr>\n",
              "      <th>41</th>\n",
              "      <td>kiva</td>\n",
              "      <td>Text</td>\n",
              "      <td>NLP / Classification</td>\n",
              "      <td>en</td>\n",
              "      <td>NaN</td>\n",
              "      <td>6818</td>\n",
              "      <td>7</td>\n",
              "      <td>N</td>\n",
              "    </tr>\n",
              "    <tr>\n",
              "      <th>42</th>\n",
              "      <td>spx</td>\n",
              "      <td>Text</td>\n",
              "      <td>NLP / Regression</td>\n",
              "      <td>text</td>\n",
              "      <td>NaN</td>\n",
              "      <td>874</td>\n",
              "      <td>4</td>\n",
              "      <td>N</td>\n",
              "    </tr>\n",
              "    <tr>\n",
              "      <th>43</th>\n",
              "      <td>wikipedia</td>\n",
              "      <td>Text</td>\n",
              "      <td>NLP / Classification</td>\n",
              "      <td>Text</td>\n",
              "      <td>NaN</td>\n",
              "      <td>500</td>\n",
              "      <td>3</td>\n",
              "      <td>N</td>\n",
              "    </tr>\n",
              "    <tr>\n",
              "      <th>44</th>\n",
              "      <td>automobile</td>\n",
              "      <td>Multivariate</td>\n",
              "      <td>Regression</td>\n",
              "      <td>price</td>\n",
              "      <td>NaN</td>\n",
              "      <td>202</td>\n",
              "      <td>26</td>\n",
              "      <td>Y</td>\n",
              "    </tr>\n",
              "    <tr>\n",
              "      <th>45</th>\n",
              "      <td>bike</td>\n",
              "      <td>Multivariate</td>\n",
              "      <td>Regression</td>\n",
              "      <td>cnt</td>\n",
              "      <td>NaN</td>\n",
              "      <td>17379</td>\n",
              "      <td>15</td>\n",
              "      <td>N</td>\n",
              "    </tr>\n",
              "    <tr>\n",
              "      <th>46</th>\n",
              "      <td>boston</td>\n",
              "      <td>Multivariate</td>\n",
              "      <td>Regression</td>\n",
              "      <td>medv</td>\n",
              "      <td>NaN</td>\n",
              "      <td>506</td>\n",
              "      <td>14</td>\n",
              "      <td>N</td>\n",
              "    </tr>\n",
              "    <tr>\n",
              "      <th>47</th>\n",
              "      <td>concrete</td>\n",
              "      <td>Multivariate</td>\n",
              "      <td>Regression</td>\n",
              "      <td>strength</td>\n",
              "      <td>NaN</td>\n",
              "      <td>1030</td>\n",
              "      <td>9</td>\n",
              "      <td>N</td>\n",
              "    </tr>\n",
              "    <tr>\n",
              "      <th>48</th>\n",
              "      <td>diamond</td>\n",
              "      <td>Multivariate</td>\n",
              "      <td>Regression</td>\n",
              "      <td>Price</td>\n",
              "      <td>NaN</td>\n",
              "      <td>6000</td>\n",
              "      <td>8</td>\n",
              "      <td>N</td>\n",
              "    </tr>\n",
              "    <tr>\n",
              "      <th>49</th>\n",
              "      <td>energy</td>\n",
              "      <td>Multivariate</td>\n",
              "      <td>Regression</td>\n",
              "      <td>Heating Load</td>\n",
              "      <td>Cooling Load</td>\n",
              "      <td>768</td>\n",
              "      <td>10</td>\n",
              "      <td>N</td>\n",
              "    </tr>\n",
              "    <tr>\n",
              "      <th>50</th>\n",
              "      <td>forest</td>\n",
              "      <td>Multivariate</td>\n",
              "      <td>Regression</td>\n",
              "      <td>area</td>\n",
              "      <td>NaN</td>\n",
              "      <td>517</td>\n",
              "      <td>13</td>\n",
              "      <td>N</td>\n",
              "    </tr>\n",
              "    <tr>\n",
              "      <th>51</th>\n",
              "      <td>gold</td>\n",
              "      <td>Multivariate</td>\n",
              "      <td>Regression</td>\n",
              "      <td>Gold_T+22</td>\n",
              "      <td>NaN</td>\n",
              "      <td>2558</td>\n",
              "      <td>121</td>\n",
              "      <td>N</td>\n",
              "    </tr>\n",
              "    <tr>\n",
              "      <th>52</th>\n",
              "      <td>house</td>\n",
              "      <td>Multivariate</td>\n",
              "      <td>Regression</td>\n",
              "      <td>SalePrice</td>\n",
              "      <td>NaN</td>\n",
              "      <td>1461</td>\n",
              "      <td>81</td>\n",
              "      <td>Y</td>\n",
              "    </tr>\n",
              "    <tr>\n",
              "      <th>53</th>\n",
              "      <td>insurance</td>\n",
              "      <td>Multivariate</td>\n",
              "      <td>Regression</td>\n",
              "      <td>charges</td>\n",
              "      <td>NaN</td>\n",
              "      <td>1338</td>\n",
              "      <td>7</td>\n",
              "      <td>N</td>\n",
              "    </tr>\n",
              "    <tr>\n",
              "      <th>54</th>\n",
              "      <td>parkinsons</td>\n",
              "      <td>Multivariate</td>\n",
              "      <td>Regression</td>\n",
              "      <td>PPE</td>\n",
              "      <td>NaN</td>\n",
              "      <td>5875</td>\n",
              "      <td>22</td>\n",
              "      <td>N</td>\n",
              "    </tr>\n",
              "    <tr>\n",
              "      <th>55</th>\n",
              "      <td>traffic</td>\n",
              "      <td>Multivariate</td>\n",
              "      <td>Regression</td>\n",
              "      <td>traffic_volume</td>\n",
              "      <td>NaN</td>\n",
              "      <td>48204</td>\n",
              "      <td>8</td>\n",
              "      <td>N</td>\n",
              "    </tr>\n",
              "  </tbody>\n",
              "</table>\n",
              "</div>\n",
              "    <div class=\"colab-df-buttons\">\n",
              "\n",
              "  <div class=\"colab-df-container\">\n",
              "    <button class=\"colab-df-convert\" onclick=\"convertToInteractive('df-7b880dd0-bdd2-48da-9ca9-4752f4308416')\"\n",
              "            title=\"Convert this dataframe to an interactive table.\"\n",
              "            style=\"display:none;\">\n",
              "\n",
              "  <svg xmlns=\"http://www.w3.org/2000/svg\" height=\"24px\" viewBox=\"0 -960 960 960\">\n",
              "    <path d=\"M120-120v-720h720v720H120Zm60-500h600v-160H180v160Zm220 220h160v-160H400v160Zm0 220h160v-160H400v160ZM180-400h160v-160H180v160Zm440 0h160v-160H620v160ZM180-180h160v-160H180v160Zm440 0h160v-160H620v160Z\"/>\n",
              "  </svg>\n",
              "    </button>\n",
              "\n",
              "  <style>\n",
              "    .colab-df-container {\n",
              "      display:flex;\n",
              "      gap: 12px;\n",
              "    }\n",
              "\n",
              "    .colab-df-convert {\n",
              "      background-color: #E8F0FE;\n",
              "      border: none;\n",
              "      border-radius: 50%;\n",
              "      cursor: pointer;\n",
              "      display: none;\n",
              "      fill: #1967D2;\n",
              "      height: 32px;\n",
              "      padding: 0 0 0 0;\n",
              "      width: 32px;\n",
              "    }\n",
              "\n",
              "    .colab-df-convert:hover {\n",
              "      background-color: #E2EBFA;\n",
              "      box-shadow: 0px 1px 2px rgba(60, 64, 67, 0.3), 0px 1px 3px 1px rgba(60, 64, 67, 0.15);\n",
              "      fill: #174EA6;\n",
              "    }\n",
              "\n",
              "    .colab-df-buttons div {\n",
              "      margin-bottom: 4px;\n",
              "    }\n",
              "\n",
              "    [theme=dark] .colab-df-convert {\n",
              "      background-color: #3B4455;\n",
              "      fill: #D2E3FC;\n",
              "    }\n",
              "\n",
              "    [theme=dark] .colab-df-convert:hover {\n",
              "      background-color: #434B5C;\n",
              "      box-shadow: 0px 1px 3px 1px rgba(0, 0, 0, 0.15);\n",
              "      filter: drop-shadow(0px 1px 2px rgba(0, 0, 0, 0.3));\n",
              "      fill: #FFFFFF;\n",
              "    }\n",
              "  </style>\n",
              "\n",
              "    <script>\n",
              "      const buttonEl =\n",
              "        document.querySelector('#df-7b880dd0-bdd2-48da-9ca9-4752f4308416 button.colab-df-convert');\n",
              "      buttonEl.style.display =\n",
              "        google.colab.kernel.accessAllowed ? 'block' : 'none';\n",
              "\n",
              "      async function convertToInteractive(key) {\n",
              "        const element = document.querySelector('#df-7b880dd0-bdd2-48da-9ca9-4752f4308416');\n",
              "        const dataTable =\n",
              "          await google.colab.kernel.invokeFunction('convertToInteractive',\n",
              "                                                    [key], {});\n",
              "        if (!dataTable) return;\n",
              "\n",
              "        const docLinkHtml = 'Like what you see? Visit the ' +\n",
              "          '<a target=\"_blank\" href=https://colab.research.google.com/notebooks/data_table.ipynb>data table notebook</a>'\n",
              "          + ' to learn more about interactive tables.';\n",
              "        element.innerHTML = '';\n",
              "        dataTable['output_type'] = 'display_data';\n",
              "        await google.colab.output.renderOutput(dataTable, element);\n",
              "        const docLink = document.createElement('div');\n",
              "        docLink.innerHTML = docLinkHtml;\n",
              "        element.appendChild(docLink);\n",
              "      }\n",
              "    </script>\n",
              "  </div>\n",
              "\n",
              "\n",
              "<div id=\"df-8388e915-44fd-467f-8073-6e50a6850e92\">\n",
              "  <button class=\"colab-df-quickchart\" onclick=\"quickchart('df-8388e915-44fd-467f-8073-6e50a6850e92')\"\n",
              "            title=\"Suggest charts\"\n",
              "            style=\"display:none;\">\n",
              "\n",
              "<svg xmlns=\"http://www.w3.org/2000/svg\" height=\"24px\"viewBox=\"0 0 24 24\"\n",
              "     width=\"24px\">\n",
              "    <g>\n",
              "        <path d=\"M19 3H5c-1.1 0-2 .9-2 2v14c0 1.1.9 2 2 2h14c1.1 0 2-.9 2-2V5c0-1.1-.9-2-2-2zM9 17H7v-7h2v7zm4 0h-2V7h2v10zm4 0h-2v-4h2v4z\"/>\n",
              "    </g>\n",
              "</svg>\n",
              "  </button>\n",
              "\n",
              "<style>\n",
              "  .colab-df-quickchart {\n",
              "      --bg-color: #E8F0FE;\n",
              "      --fill-color: #1967D2;\n",
              "      --hover-bg-color: #E2EBFA;\n",
              "      --hover-fill-color: #174EA6;\n",
              "      --disabled-fill-color: #AAA;\n",
              "      --disabled-bg-color: #DDD;\n",
              "  }\n",
              "\n",
              "  [theme=dark] .colab-df-quickchart {\n",
              "      --bg-color: #3B4455;\n",
              "      --fill-color: #D2E3FC;\n",
              "      --hover-bg-color: #434B5C;\n",
              "      --hover-fill-color: #FFFFFF;\n",
              "      --disabled-bg-color: #3B4455;\n",
              "      --disabled-fill-color: #666;\n",
              "  }\n",
              "\n",
              "  .colab-df-quickchart {\n",
              "    background-color: var(--bg-color);\n",
              "    border: none;\n",
              "    border-radius: 50%;\n",
              "    cursor: pointer;\n",
              "    display: none;\n",
              "    fill: var(--fill-color);\n",
              "    height: 32px;\n",
              "    padding: 0;\n",
              "    width: 32px;\n",
              "  }\n",
              "\n",
              "  .colab-df-quickchart:hover {\n",
              "    background-color: var(--hover-bg-color);\n",
              "    box-shadow: 0 1px 2px rgba(60, 64, 67, 0.3), 0 1px 3px 1px rgba(60, 64, 67, 0.15);\n",
              "    fill: var(--button-hover-fill-color);\n",
              "  }\n",
              "\n",
              "  .colab-df-quickchart-complete:disabled,\n",
              "  .colab-df-quickchart-complete:disabled:hover {\n",
              "    background-color: var(--disabled-bg-color);\n",
              "    fill: var(--disabled-fill-color);\n",
              "    box-shadow: none;\n",
              "  }\n",
              "\n",
              "  .colab-df-spinner {\n",
              "    border: 2px solid var(--fill-color);\n",
              "    border-color: transparent;\n",
              "    border-bottom-color: var(--fill-color);\n",
              "    animation:\n",
              "      spin 1s steps(1) infinite;\n",
              "  }\n",
              "\n",
              "  @keyframes spin {\n",
              "    0% {\n",
              "      border-color: transparent;\n",
              "      border-bottom-color: var(--fill-color);\n",
              "      border-left-color: var(--fill-color);\n",
              "    }\n",
              "    20% {\n",
              "      border-color: transparent;\n",
              "      border-left-color: var(--fill-color);\n",
              "      border-top-color: var(--fill-color);\n",
              "    }\n",
              "    30% {\n",
              "      border-color: transparent;\n",
              "      border-left-color: var(--fill-color);\n",
              "      border-top-color: var(--fill-color);\n",
              "      border-right-color: var(--fill-color);\n",
              "    }\n",
              "    40% {\n",
              "      border-color: transparent;\n",
              "      border-right-color: var(--fill-color);\n",
              "      border-top-color: var(--fill-color);\n",
              "    }\n",
              "    60% {\n",
              "      border-color: transparent;\n",
              "      border-right-color: var(--fill-color);\n",
              "    }\n",
              "    80% {\n",
              "      border-color: transparent;\n",
              "      border-right-color: var(--fill-color);\n",
              "      border-bottom-color: var(--fill-color);\n",
              "    }\n",
              "    90% {\n",
              "      border-color: transparent;\n",
              "      border-bottom-color: var(--fill-color);\n",
              "    }\n",
              "  }\n",
              "</style>\n",
              "\n",
              "  <script>\n",
              "    async function quickchart(key) {\n",
              "      const quickchartButtonEl =\n",
              "        document.querySelector('#' + key + ' button');\n",
              "      quickchartButtonEl.disabled = true;  // To prevent multiple clicks.\n",
              "      quickchartButtonEl.classList.add('colab-df-spinner');\n",
              "      try {\n",
              "        const charts = await google.colab.kernel.invokeFunction(\n",
              "            'suggestCharts', [key], {});\n",
              "      } catch (error) {\n",
              "        console.error('Error during call to suggestCharts:', error);\n",
              "      }\n",
              "      quickchartButtonEl.classList.remove('colab-df-spinner');\n",
              "      quickchartButtonEl.classList.add('colab-df-quickchart-complete');\n",
              "    }\n",
              "    (() => {\n",
              "      let quickchartButtonEl =\n",
              "        document.querySelector('#df-8388e915-44fd-467f-8073-6e50a6850e92 button');\n",
              "      quickchartButtonEl.style.display =\n",
              "        google.colab.kernel.accessAllowed ? 'block' : 'none';\n",
              "    })();\n",
              "  </script>\n",
              "</div>\n",
              "\n",
              "    </div>\n",
              "  </div>\n"
            ],
            "application/vnd.google.colaboratory.intrinsic+json": {
              "type": "dataframe",
              "summary": "{\n  \"name\": \"get_data('index')\",\n  \"rows\": 56,\n  \"fields\": [\n    {\n      \"column\": \"Dataset\",\n      \"properties\": {\n        \"dtype\": \"string\",\n        \"num_unique_values\": 56,\n        \"samples\": [\n          \"anomaly\",\n          \"cancer\",\n          \"perfume\"\n        ],\n        \"semantic_type\": \"\",\n        \"description\": \"\"\n      }\n    },\n    {\n      \"column\": \"Data Types\",\n      \"properties\": {\n        \"dtype\": \"category\",\n        \"num_unique_values\": 2,\n        \"samples\": [\n          \"Text\",\n          \"Multivariate\"\n        ],\n        \"semantic_type\": \"\",\n        \"description\": \"\"\n      }\n    },\n    {\n      \"column\": \"Default Task\",\n      \"properties\": {\n        \"dtype\": \"category\",\n        \"num_unique_values\": 9,\n        \"samples\": [\n          \"NLP / Regression\",\n          \"Association Rule Mining\"\n        ],\n        \"semantic_type\": \"\",\n        \"description\": \"\"\n      }\n    },\n    {\n      \"column\": \"Target Variable 1\",\n      \"properties\": {\n        \"dtype\": \"string\",\n        \"num_unique_values\": 37,\n        \"samples\": [\n          \"CLASS\",\n          \"Survived\"\n        ],\n        \"semantic_type\": \"\",\n        \"description\": \"\"\n      }\n    },\n    {\n      \"column\": \"Target Variable 2\",\n      \"properties\": {\n        \"dtype\": \"category\",\n        \"num_unique_values\": 2,\n        \"samples\": [\n          \"Cooling Load\",\n          \"Description\"\n        ],\n        \"semantic_type\": \"\",\n        \"description\": \"\"\n      }\n    },\n    {\n      \"column\": \"# Instances\",\n      \"properties\": {\n        \"dtype\": \"number\",\n        \"std\": 16351,\n        \"min\": 20,\n        \"max\": 100000,\n        \"num_unique_values\": 55,\n        \"samples\": [\n          1080,\n          683\n        ],\n        \"semantic_type\": \"\",\n        \"description\": \"\"\n      }\n    },\n    {\n      \"column\": \"# Attributes\",\n      \"properties\": {\n        \"dtype\": \"number\",\n        \"std\": 21,\n        \"min\": 2,\n        \"max\": 121,\n        \"num_unique_values\": 29,\n        \"samples\": [\n          81,\n          40\n        ],\n        \"semantic_type\": \"\",\n        \"description\": \"\"\n      }\n    },\n    {\n      \"column\": \"Missing Values\",\n      \"properties\": {\n        \"dtype\": \"category\",\n        \"num_unique_values\": 2,\n        \"samples\": [\n          \"Y\",\n          \"N\"\n        ],\n        \"semantic_type\": \"\",\n        \"description\": \"\"\n      }\n    }\n  ]\n}"
            }
          },
          "metadata": {}
        },
        {
          "output_type": "execute_result",
          "data": {
            "text/plain": [
              "                             Dataset    Data Types  \\\n",
              "0                            anomaly  Multivariate   \n",
              "1                             france  Multivariate   \n",
              "2                            germany  Multivariate   \n",
              "3                               bank  Multivariate   \n",
              "4                              blood  Multivariate   \n",
              "5                             cancer  Multivariate   \n",
              "6                             credit  Multivariate   \n",
              "7                           diabetes  Multivariate   \n",
              "8                    electrical_grid  Multivariate   \n",
              "9                           employee  Multivariate   \n",
              "10                             heart  Multivariate   \n",
              "11                     heart_disease  Multivariate   \n",
              "12                         hepatitis  Multivariate   \n",
              "13                            income  Multivariate   \n",
              "14                             juice  Multivariate   \n",
              "15                               nba  Multivariate   \n",
              "16                              wine  Multivariate   \n",
              "17                         telescope  Multivariate   \n",
              "18                           titanic  Multivariate   \n",
              "19  us_presidential_election_results  Multivariate   \n",
              "20                             glass  Multivariate   \n",
              "21                              iris  Multivariate   \n",
              "22                             poker  Multivariate   \n",
              "23                         questions  Multivariate   \n",
              "24                         satellite  Multivariate   \n",
              "25                               CTG  Multivariate   \n",
              "26                          asia_gdp  Multivariate   \n",
              "27                         elections  Multivariate   \n",
              "28                          facebook  Multivariate   \n",
              "29                               ipl  Multivariate   \n",
              "30                         jewellery  Multivariate   \n",
              "31                              mice  Multivariate   \n",
              "32                         migration  Multivariate   \n",
              "33                           perfume  Multivariate   \n",
              "34                           pokemon  Multivariate   \n",
              "35                        population  Multivariate   \n",
              "36                     public_health  Multivariate   \n",
              "37                             seeds  Multivariate   \n",
              "38                         wholesale  Multivariate   \n",
              "39                            tweets          Text   \n",
              "40                            amazon          Text   \n",
              "41                              kiva          Text   \n",
              "42                               spx          Text   \n",
              "43                         wikipedia          Text   \n",
              "44                        automobile  Multivariate   \n",
              "45                              bike  Multivariate   \n",
              "46                            boston  Multivariate   \n",
              "47                          concrete  Multivariate   \n",
              "48                           diamond  Multivariate   \n",
              "49                            energy  Multivariate   \n",
              "50                            forest  Multivariate   \n",
              "51                              gold  Multivariate   \n",
              "52                             house  Multivariate   \n",
              "53                         insurance  Multivariate   \n",
              "54                        parkinsons  Multivariate   \n",
              "55                           traffic  Multivariate   \n",
              "\n",
              "                   Default Task Target Variable 1 Target Variable 2  \\\n",
              "0             Anomaly Detection               NaN               NaN   \n",
              "1       Association Rule Mining         InvoiceNo       Description   \n",
              "2       Association Rule Mining         InvoiceNo       Description   \n",
              "3       Classification (Binary)           deposit               NaN   \n",
              "4       Classification (Binary)             Class               NaN   \n",
              "5       Classification (Binary)             Class               NaN   \n",
              "6       Classification (Binary)           default               NaN   \n",
              "7       Classification (Binary)    Class variable               NaN   \n",
              "8       Classification (Binary)             stabf               NaN   \n",
              "9       Classification (Binary)              left               NaN   \n",
              "10      Classification (Binary)             DEATH               NaN   \n",
              "11      Classification (Binary)           Disease               NaN   \n",
              "12      Classification (Binary)             Class               NaN   \n",
              "13      Classification (Binary)       income >50K               NaN   \n",
              "14      Classification (Binary)          Purchase               NaN   \n",
              "15      Classification (Binary)       TARGET_5Yrs               NaN   \n",
              "16      Classification (Binary)              type               NaN   \n",
              "17      Classification (Binary)             Class               NaN   \n",
              "18      Classification (Binary)          Survived               NaN   \n",
              "19      Classification (Binary)      party_winner               NaN   \n",
              "20  Classification (Multiclass)              Type               NaN   \n",
              "21  Classification (Multiclass)           species               NaN   \n",
              "22  Classification (Multiclass)             CLASS               NaN   \n",
              "23  Classification (Multiclass)     Next_Question               NaN   \n",
              "24  Classification (Multiclass)             Class               NaN   \n",
              "25  Classification (Multiclass)               NSP               NaN   \n",
              "26                   Clustering               NaN               NaN   \n",
              "27                   Clustering               NaN               NaN   \n",
              "28                   Clustering               NaN               NaN   \n",
              "29                   Clustering               NaN               NaN   \n",
              "30                   Clustering               NaN               NaN   \n",
              "31                   Clustering               NaN               NaN   \n",
              "32                   Clustering               NaN               NaN   \n",
              "33                   Clustering               NaN               NaN   \n",
              "34                   Clustering               NaN               NaN   \n",
              "35                   Clustering               NaN               NaN   \n",
              "36                   Clustering               NaN               NaN   \n",
              "37                   Clustering               NaN               NaN   \n",
              "38                   Clustering               NaN               NaN   \n",
              "39                          NLP             tweet               NaN   \n",
              "40         NLP / Classification        reviewText               NaN   \n",
              "41         NLP / Classification                en               NaN   \n",
              "42             NLP / Regression              text               NaN   \n",
              "43         NLP / Classification              Text               NaN   \n",
              "44                   Regression             price               NaN   \n",
              "45                   Regression               cnt               NaN   \n",
              "46                   Regression              medv               NaN   \n",
              "47                   Regression          strength               NaN   \n",
              "48                   Regression             Price               NaN   \n",
              "49                   Regression      Heating Load      Cooling Load   \n",
              "50                   Regression              area               NaN   \n",
              "51                   Regression         Gold_T+22               NaN   \n",
              "52                   Regression         SalePrice               NaN   \n",
              "53                   Regression           charges               NaN   \n",
              "54                   Regression               PPE               NaN   \n",
              "55                   Regression    traffic_volume               NaN   \n",
              "\n",
              "    # Instances  # Attributes Missing Values  \n",
              "0          1000            10              N  \n",
              "1          8557             8              N  \n",
              "2          9495             8              N  \n",
              "3         45211            17              N  \n",
              "4           748             5              N  \n",
              "5           683            10              N  \n",
              "6         24000            24              N  \n",
              "7           768             9              N  \n",
              "8         10000            14              N  \n",
              "9         14999            10              N  \n",
              "10          200            16              N  \n",
              "11          270            14              N  \n",
              "12          154            32              Y  \n",
              "13        32561            14              Y  \n",
              "14         1070            15              N  \n",
              "15         1340            21              N  \n",
              "16         6498            13              N  \n",
              "17        19020            11              N  \n",
              "18          891            11              Y  \n",
              "19          497             7              N  \n",
              "20          214            10              N  \n",
              "21          150             5              N  \n",
              "22       100000            11              N  \n",
              "23          499             4              N  \n",
              "24         6435            37              N  \n",
              "25         2129            40              Y  \n",
              "26           40            11              N  \n",
              "27         3195            54              Y  \n",
              "28         7050            12              N  \n",
              "29          153            25              N  \n",
              "30          505             4              N  \n",
              "31         1080            82              Y  \n",
              "32          233            12              N  \n",
              "33           20            29              N  \n",
              "34          800            13              Y  \n",
              "35          255            56              Y  \n",
              "36          224            21              N  \n",
              "37          210             7              N  \n",
              "38          440             8              N  \n",
              "39         8594             2              N  \n",
              "40        20000             2              N  \n",
              "41         6818             7              N  \n",
              "42          874             4              N  \n",
              "43          500             3              N  \n",
              "44          202            26              Y  \n",
              "45        17379            15              N  \n",
              "46          506            14              N  \n",
              "47         1030             9              N  \n",
              "48         6000             8              N  \n",
              "49          768            10              N  \n",
              "50          517            13              N  \n",
              "51         2558           121              N  \n",
              "52         1461            81              Y  \n",
              "53         1338             7              N  \n",
              "54         5875            22              N  \n",
              "55        48204             8              N  "
            ],
            "text/html": [
              "\n",
              "  <div id=\"df-d668bcff-12b7-4f29-aad4-61a3f4ccad78\" class=\"colab-df-container\">\n",
              "    <div>\n",
              "<style scoped>\n",
              "    .dataframe tbody tr th:only-of-type {\n",
              "        vertical-align: middle;\n",
              "    }\n",
              "\n",
              "    .dataframe tbody tr th {\n",
              "        vertical-align: top;\n",
              "    }\n",
              "\n",
              "    .dataframe thead th {\n",
              "        text-align: right;\n",
              "    }\n",
              "</style>\n",
              "<table border=\"1\" class=\"dataframe\">\n",
              "  <thead>\n",
              "    <tr style=\"text-align: right;\">\n",
              "      <th></th>\n",
              "      <th>Dataset</th>\n",
              "      <th>Data Types</th>\n",
              "      <th>Default Task</th>\n",
              "      <th>Target Variable 1</th>\n",
              "      <th>Target Variable 2</th>\n",
              "      <th># Instances</th>\n",
              "      <th># Attributes</th>\n",
              "      <th>Missing Values</th>\n",
              "    </tr>\n",
              "  </thead>\n",
              "  <tbody>\n",
              "    <tr>\n",
              "      <th>0</th>\n",
              "      <td>anomaly</td>\n",
              "      <td>Multivariate</td>\n",
              "      <td>Anomaly Detection</td>\n",
              "      <td>NaN</td>\n",
              "      <td>NaN</td>\n",
              "      <td>1000</td>\n",
              "      <td>10</td>\n",
              "      <td>N</td>\n",
              "    </tr>\n",
              "    <tr>\n",
              "      <th>1</th>\n",
              "      <td>france</td>\n",
              "      <td>Multivariate</td>\n",
              "      <td>Association Rule Mining</td>\n",
              "      <td>InvoiceNo</td>\n",
              "      <td>Description</td>\n",
              "      <td>8557</td>\n",
              "      <td>8</td>\n",
              "      <td>N</td>\n",
              "    </tr>\n",
              "    <tr>\n",
              "      <th>2</th>\n",
              "      <td>germany</td>\n",
              "      <td>Multivariate</td>\n",
              "      <td>Association Rule Mining</td>\n",
              "      <td>InvoiceNo</td>\n",
              "      <td>Description</td>\n",
              "      <td>9495</td>\n",
              "      <td>8</td>\n",
              "      <td>N</td>\n",
              "    </tr>\n",
              "    <tr>\n",
              "      <th>3</th>\n",
              "      <td>bank</td>\n",
              "      <td>Multivariate</td>\n",
              "      <td>Classification (Binary)</td>\n",
              "      <td>deposit</td>\n",
              "      <td>NaN</td>\n",
              "      <td>45211</td>\n",
              "      <td>17</td>\n",
              "      <td>N</td>\n",
              "    </tr>\n",
              "    <tr>\n",
              "      <th>4</th>\n",
              "      <td>blood</td>\n",
              "      <td>Multivariate</td>\n",
              "      <td>Classification (Binary)</td>\n",
              "      <td>Class</td>\n",
              "      <td>NaN</td>\n",
              "      <td>748</td>\n",
              "      <td>5</td>\n",
              "      <td>N</td>\n",
              "    </tr>\n",
              "    <tr>\n",
              "      <th>5</th>\n",
              "      <td>cancer</td>\n",
              "      <td>Multivariate</td>\n",
              "      <td>Classification (Binary)</td>\n",
              "      <td>Class</td>\n",
              "      <td>NaN</td>\n",
              "      <td>683</td>\n",
              "      <td>10</td>\n",
              "      <td>N</td>\n",
              "    </tr>\n",
              "    <tr>\n",
              "      <th>6</th>\n",
              "      <td>credit</td>\n",
              "      <td>Multivariate</td>\n",
              "      <td>Classification (Binary)</td>\n",
              "      <td>default</td>\n",
              "      <td>NaN</td>\n",
              "      <td>24000</td>\n",
              "      <td>24</td>\n",
              "      <td>N</td>\n",
              "    </tr>\n",
              "    <tr>\n",
              "      <th>7</th>\n",
              "      <td>diabetes</td>\n",
              "      <td>Multivariate</td>\n",
              "      <td>Classification (Binary)</td>\n",
              "      <td>Class variable</td>\n",
              "      <td>NaN</td>\n",
              "      <td>768</td>\n",
              "      <td>9</td>\n",
              "      <td>N</td>\n",
              "    </tr>\n",
              "    <tr>\n",
              "      <th>8</th>\n",
              "      <td>electrical_grid</td>\n",
              "      <td>Multivariate</td>\n",
              "      <td>Classification (Binary)</td>\n",
              "      <td>stabf</td>\n",
              "      <td>NaN</td>\n",
              "      <td>10000</td>\n",
              "      <td>14</td>\n",
              "      <td>N</td>\n",
              "    </tr>\n",
              "    <tr>\n",
              "      <th>9</th>\n",
              "      <td>employee</td>\n",
              "      <td>Multivariate</td>\n",
              "      <td>Classification (Binary)</td>\n",
              "      <td>left</td>\n",
              "      <td>NaN</td>\n",
              "      <td>14999</td>\n",
              "      <td>10</td>\n",
              "      <td>N</td>\n",
              "    </tr>\n",
              "    <tr>\n",
              "      <th>10</th>\n",
              "      <td>heart</td>\n",
              "      <td>Multivariate</td>\n",
              "      <td>Classification (Binary)</td>\n",
              "      <td>DEATH</td>\n",
              "      <td>NaN</td>\n",
              "      <td>200</td>\n",
              "      <td>16</td>\n",
              "      <td>N</td>\n",
              "    </tr>\n",
              "    <tr>\n",
              "      <th>11</th>\n",
              "      <td>heart_disease</td>\n",
              "      <td>Multivariate</td>\n",
              "      <td>Classification (Binary)</td>\n",
              "      <td>Disease</td>\n",
              "      <td>NaN</td>\n",
              "      <td>270</td>\n",
              "      <td>14</td>\n",
              "      <td>N</td>\n",
              "    </tr>\n",
              "    <tr>\n",
              "      <th>12</th>\n",
              "      <td>hepatitis</td>\n",
              "      <td>Multivariate</td>\n",
              "      <td>Classification (Binary)</td>\n",
              "      <td>Class</td>\n",
              "      <td>NaN</td>\n",
              "      <td>154</td>\n",
              "      <td>32</td>\n",
              "      <td>Y</td>\n",
              "    </tr>\n",
              "    <tr>\n",
              "      <th>13</th>\n",
              "      <td>income</td>\n",
              "      <td>Multivariate</td>\n",
              "      <td>Classification (Binary)</td>\n",
              "      <td>income &gt;50K</td>\n",
              "      <td>NaN</td>\n",
              "      <td>32561</td>\n",
              "      <td>14</td>\n",
              "      <td>Y</td>\n",
              "    </tr>\n",
              "    <tr>\n",
              "      <th>14</th>\n",
              "      <td>juice</td>\n",
              "      <td>Multivariate</td>\n",
              "      <td>Classification (Binary)</td>\n",
              "      <td>Purchase</td>\n",
              "      <td>NaN</td>\n",
              "      <td>1070</td>\n",
              "      <td>15</td>\n",
              "      <td>N</td>\n",
              "    </tr>\n",
              "    <tr>\n",
              "      <th>15</th>\n",
              "      <td>nba</td>\n",
              "      <td>Multivariate</td>\n",
              "      <td>Classification (Binary)</td>\n",
              "      <td>TARGET_5Yrs</td>\n",
              "      <td>NaN</td>\n",
              "      <td>1340</td>\n",
              "      <td>21</td>\n",
              "      <td>N</td>\n",
              "    </tr>\n",
              "    <tr>\n",
              "      <th>16</th>\n",
              "      <td>wine</td>\n",
              "      <td>Multivariate</td>\n",
              "      <td>Classification (Binary)</td>\n",
              "      <td>type</td>\n",
              "      <td>NaN</td>\n",
              "      <td>6498</td>\n",
              "      <td>13</td>\n",
              "      <td>N</td>\n",
              "    </tr>\n",
              "    <tr>\n",
              "      <th>17</th>\n",
              "      <td>telescope</td>\n",
              "      <td>Multivariate</td>\n",
              "      <td>Classification (Binary)</td>\n",
              "      <td>Class</td>\n",
              "      <td>NaN</td>\n",
              "      <td>19020</td>\n",
              "      <td>11</td>\n",
              "      <td>N</td>\n",
              "    </tr>\n",
              "    <tr>\n",
              "      <th>18</th>\n",
              "      <td>titanic</td>\n",
              "      <td>Multivariate</td>\n",
              "      <td>Classification (Binary)</td>\n",
              "      <td>Survived</td>\n",
              "      <td>NaN</td>\n",
              "      <td>891</td>\n",
              "      <td>11</td>\n",
              "      <td>Y</td>\n",
              "    </tr>\n",
              "    <tr>\n",
              "      <th>19</th>\n",
              "      <td>us_presidential_election_results</td>\n",
              "      <td>Multivariate</td>\n",
              "      <td>Classification (Binary)</td>\n",
              "      <td>party_winner</td>\n",
              "      <td>NaN</td>\n",
              "      <td>497</td>\n",
              "      <td>7</td>\n",
              "      <td>N</td>\n",
              "    </tr>\n",
              "    <tr>\n",
              "      <th>20</th>\n",
              "      <td>glass</td>\n",
              "      <td>Multivariate</td>\n",
              "      <td>Classification (Multiclass)</td>\n",
              "      <td>Type</td>\n",
              "      <td>NaN</td>\n",
              "      <td>214</td>\n",
              "      <td>10</td>\n",
              "      <td>N</td>\n",
              "    </tr>\n",
              "    <tr>\n",
              "      <th>21</th>\n",
              "      <td>iris</td>\n",
              "      <td>Multivariate</td>\n",
              "      <td>Classification (Multiclass)</td>\n",
              "      <td>species</td>\n",
              "      <td>NaN</td>\n",
              "      <td>150</td>\n",
              "      <td>5</td>\n",
              "      <td>N</td>\n",
              "    </tr>\n",
              "    <tr>\n",
              "      <th>22</th>\n",
              "      <td>poker</td>\n",
              "      <td>Multivariate</td>\n",
              "      <td>Classification (Multiclass)</td>\n",
              "      <td>CLASS</td>\n",
              "      <td>NaN</td>\n",
              "      <td>100000</td>\n",
              "      <td>11</td>\n",
              "      <td>N</td>\n",
              "    </tr>\n",
              "    <tr>\n",
              "      <th>23</th>\n",
              "      <td>questions</td>\n",
              "      <td>Multivariate</td>\n",
              "      <td>Classification (Multiclass)</td>\n",
              "      <td>Next_Question</td>\n",
              "      <td>NaN</td>\n",
              "      <td>499</td>\n",
              "      <td>4</td>\n",
              "      <td>N</td>\n",
              "    </tr>\n",
              "    <tr>\n",
              "      <th>24</th>\n",
              "      <td>satellite</td>\n",
              "      <td>Multivariate</td>\n",
              "      <td>Classification (Multiclass)</td>\n",
              "      <td>Class</td>\n",
              "      <td>NaN</td>\n",
              "      <td>6435</td>\n",
              "      <td>37</td>\n",
              "      <td>N</td>\n",
              "    </tr>\n",
              "    <tr>\n",
              "      <th>25</th>\n",
              "      <td>CTG</td>\n",
              "      <td>Multivariate</td>\n",
              "      <td>Classification (Multiclass)</td>\n",
              "      <td>NSP</td>\n",
              "      <td>NaN</td>\n",
              "      <td>2129</td>\n",
              "      <td>40</td>\n",
              "      <td>Y</td>\n",
              "    </tr>\n",
              "    <tr>\n",
              "      <th>26</th>\n",
              "      <td>asia_gdp</td>\n",
              "      <td>Multivariate</td>\n",
              "      <td>Clustering</td>\n",
              "      <td>NaN</td>\n",
              "      <td>NaN</td>\n",
              "      <td>40</td>\n",
              "      <td>11</td>\n",
              "      <td>N</td>\n",
              "    </tr>\n",
              "    <tr>\n",
              "      <th>27</th>\n",
              "      <td>elections</td>\n",
              "      <td>Multivariate</td>\n",
              "      <td>Clustering</td>\n",
              "      <td>NaN</td>\n",
              "      <td>NaN</td>\n",
              "      <td>3195</td>\n",
              "      <td>54</td>\n",
              "      <td>Y</td>\n",
              "    </tr>\n",
              "    <tr>\n",
              "      <th>28</th>\n",
              "      <td>facebook</td>\n",
              "      <td>Multivariate</td>\n",
              "      <td>Clustering</td>\n",
              "      <td>NaN</td>\n",
              "      <td>NaN</td>\n",
              "      <td>7050</td>\n",
              "      <td>12</td>\n",
              "      <td>N</td>\n",
              "    </tr>\n",
              "    <tr>\n",
              "      <th>29</th>\n",
              "      <td>ipl</td>\n",
              "      <td>Multivariate</td>\n",
              "      <td>Clustering</td>\n",
              "      <td>NaN</td>\n",
              "      <td>NaN</td>\n",
              "      <td>153</td>\n",
              "      <td>25</td>\n",
              "      <td>N</td>\n",
              "    </tr>\n",
              "    <tr>\n",
              "      <th>30</th>\n",
              "      <td>jewellery</td>\n",
              "      <td>Multivariate</td>\n",
              "      <td>Clustering</td>\n",
              "      <td>NaN</td>\n",
              "      <td>NaN</td>\n",
              "      <td>505</td>\n",
              "      <td>4</td>\n",
              "      <td>N</td>\n",
              "    </tr>\n",
              "    <tr>\n",
              "      <th>31</th>\n",
              "      <td>mice</td>\n",
              "      <td>Multivariate</td>\n",
              "      <td>Clustering</td>\n",
              "      <td>NaN</td>\n",
              "      <td>NaN</td>\n",
              "      <td>1080</td>\n",
              "      <td>82</td>\n",
              "      <td>Y</td>\n",
              "    </tr>\n",
              "    <tr>\n",
              "      <th>32</th>\n",
              "      <td>migration</td>\n",
              "      <td>Multivariate</td>\n",
              "      <td>Clustering</td>\n",
              "      <td>NaN</td>\n",
              "      <td>NaN</td>\n",
              "      <td>233</td>\n",
              "      <td>12</td>\n",
              "      <td>N</td>\n",
              "    </tr>\n",
              "    <tr>\n",
              "      <th>33</th>\n",
              "      <td>perfume</td>\n",
              "      <td>Multivariate</td>\n",
              "      <td>Clustering</td>\n",
              "      <td>NaN</td>\n",
              "      <td>NaN</td>\n",
              "      <td>20</td>\n",
              "      <td>29</td>\n",
              "      <td>N</td>\n",
              "    </tr>\n",
              "    <tr>\n",
              "      <th>34</th>\n",
              "      <td>pokemon</td>\n",
              "      <td>Multivariate</td>\n",
              "      <td>Clustering</td>\n",
              "      <td>NaN</td>\n",
              "      <td>NaN</td>\n",
              "      <td>800</td>\n",
              "      <td>13</td>\n",
              "      <td>Y</td>\n",
              "    </tr>\n",
              "    <tr>\n",
              "      <th>35</th>\n",
              "      <td>population</td>\n",
              "      <td>Multivariate</td>\n",
              "      <td>Clustering</td>\n",
              "      <td>NaN</td>\n",
              "      <td>NaN</td>\n",
              "      <td>255</td>\n",
              "      <td>56</td>\n",
              "      <td>Y</td>\n",
              "    </tr>\n",
              "    <tr>\n",
              "      <th>36</th>\n",
              "      <td>public_health</td>\n",
              "      <td>Multivariate</td>\n",
              "      <td>Clustering</td>\n",
              "      <td>NaN</td>\n",
              "      <td>NaN</td>\n",
              "      <td>224</td>\n",
              "      <td>21</td>\n",
              "      <td>N</td>\n",
              "    </tr>\n",
              "    <tr>\n",
              "      <th>37</th>\n",
              "      <td>seeds</td>\n",
              "      <td>Multivariate</td>\n",
              "      <td>Clustering</td>\n",
              "      <td>NaN</td>\n",
              "      <td>NaN</td>\n",
              "      <td>210</td>\n",
              "      <td>7</td>\n",
              "      <td>N</td>\n",
              "    </tr>\n",
              "    <tr>\n",
              "      <th>38</th>\n",
              "      <td>wholesale</td>\n",
              "      <td>Multivariate</td>\n",
              "      <td>Clustering</td>\n",
              "      <td>NaN</td>\n",
              "      <td>NaN</td>\n",
              "      <td>440</td>\n",
              "      <td>8</td>\n",
              "      <td>N</td>\n",
              "    </tr>\n",
              "    <tr>\n",
              "      <th>39</th>\n",
              "      <td>tweets</td>\n",
              "      <td>Text</td>\n",
              "      <td>NLP</td>\n",
              "      <td>tweet</td>\n",
              "      <td>NaN</td>\n",
              "      <td>8594</td>\n",
              "      <td>2</td>\n",
              "      <td>N</td>\n",
              "    </tr>\n",
              "    <tr>\n",
              "      <th>40</th>\n",
              "      <td>amazon</td>\n",
              "      <td>Text</td>\n",
              "      <td>NLP / Classification</td>\n",
              "      <td>reviewText</td>\n",
              "      <td>NaN</td>\n",
              "      <td>20000</td>\n",
              "      <td>2</td>\n",
              "      <td>N</td>\n",
              "    </tr>\n",
              "    <tr>\n",
              "      <th>41</th>\n",
              "      <td>kiva</td>\n",
              "      <td>Text</td>\n",
              "      <td>NLP / Classification</td>\n",
              "      <td>en</td>\n",
              "      <td>NaN</td>\n",
              "      <td>6818</td>\n",
              "      <td>7</td>\n",
              "      <td>N</td>\n",
              "    </tr>\n",
              "    <tr>\n",
              "      <th>42</th>\n",
              "      <td>spx</td>\n",
              "      <td>Text</td>\n",
              "      <td>NLP / Regression</td>\n",
              "      <td>text</td>\n",
              "      <td>NaN</td>\n",
              "      <td>874</td>\n",
              "      <td>4</td>\n",
              "      <td>N</td>\n",
              "    </tr>\n",
              "    <tr>\n",
              "      <th>43</th>\n",
              "      <td>wikipedia</td>\n",
              "      <td>Text</td>\n",
              "      <td>NLP / Classification</td>\n",
              "      <td>Text</td>\n",
              "      <td>NaN</td>\n",
              "      <td>500</td>\n",
              "      <td>3</td>\n",
              "      <td>N</td>\n",
              "    </tr>\n",
              "    <tr>\n",
              "      <th>44</th>\n",
              "      <td>automobile</td>\n",
              "      <td>Multivariate</td>\n",
              "      <td>Regression</td>\n",
              "      <td>price</td>\n",
              "      <td>NaN</td>\n",
              "      <td>202</td>\n",
              "      <td>26</td>\n",
              "      <td>Y</td>\n",
              "    </tr>\n",
              "    <tr>\n",
              "      <th>45</th>\n",
              "      <td>bike</td>\n",
              "      <td>Multivariate</td>\n",
              "      <td>Regression</td>\n",
              "      <td>cnt</td>\n",
              "      <td>NaN</td>\n",
              "      <td>17379</td>\n",
              "      <td>15</td>\n",
              "      <td>N</td>\n",
              "    </tr>\n",
              "    <tr>\n",
              "      <th>46</th>\n",
              "      <td>boston</td>\n",
              "      <td>Multivariate</td>\n",
              "      <td>Regression</td>\n",
              "      <td>medv</td>\n",
              "      <td>NaN</td>\n",
              "      <td>506</td>\n",
              "      <td>14</td>\n",
              "      <td>N</td>\n",
              "    </tr>\n",
              "    <tr>\n",
              "      <th>47</th>\n",
              "      <td>concrete</td>\n",
              "      <td>Multivariate</td>\n",
              "      <td>Regression</td>\n",
              "      <td>strength</td>\n",
              "      <td>NaN</td>\n",
              "      <td>1030</td>\n",
              "      <td>9</td>\n",
              "      <td>N</td>\n",
              "    </tr>\n",
              "    <tr>\n",
              "      <th>48</th>\n",
              "      <td>diamond</td>\n",
              "      <td>Multivariate</td>\n",
              "      <td>Regression</td>\n",
              "      <td>Price</td>\n",
              "      <td>NaN</td>\n",
              "      <td>6000</td>\n",
              "      <td>8</td>\n",
              "      <td>N</td>\n",
              "    </tr>\n",
              "    <tr>\n",
              "      <th>49</th>\n",
              "      <td>energy</td>\n",
              "      <td>Multivariate</td>\n",
              "      <td>Regression</td>\n",
              "      <td>Heating Load</td>\n",
              "      <td>Cooling Load</td>\n",
              "      <td>768</td>\n",
              "      <td>10</td>\n",
              "      <td>N</td>\n",
              "    </tr>\n",
              "    <tr>\n",
              "      <th>50</th>\n",
              "      <td>forest</td>\n",
              "      <td>Multivariate</td>\n",
              "      <td>Regression</td>\n",
              "      <td>area</td>\n",
              "      <td>NaN</td>\n",
              "      <td>517</td>\n",
              "      <td>13</td>\n",
              "      <td>N</td>\n",
              "    </tr>\n",
              "    <tr>\n",
              "      <th>51</th>\n",
              "      <td>gold</td>\n",
              "      <td>Multivariate</td>\n",
              "      <td>Regression</td>\n",
              "      <td>Gold_T+22</td>\n",
              "      <td>NaN</td>\n",
              "      <td>2558</td>\n",
              "      <td>121</td>\n",
              "      <td>N</td>\n",
              "    </tr>\n",
              "    <tr>\n",
              "      <th>52</th>\n",
              "      <td>house</td>\n",
              "      <td>Multivariate</td>\n",
              "      <td>Regression</td>\n",
              "      <td>SalePrice</td>\n",
              "      <td>NaN</td>\n",
              "      <td>1461</td>\n",
              "      <td>81</td>\n",
              "      <td>Y</td>\n",
              "    </tr>\n",
              "    <tr>\n",
              "      <th>53</th>\n",
              "      <td>insurance</td>\n",
              "      <td>Multivariate</td>\n",
              "      <td>Regression</td>\n",
              "      <td>charges</td>\n",
              "      <td>NaN</td>\n",
              "      <td>1338</td>\n",
              "      <td>7</td>\n",
              "      <td>N</td>\n",
              "    </tr>\n",
              "    <tr>\n",
              "      <th>54</th>\n",
              "      <td>parkinsons</td>\n",
              "      <td>Multivariate</td>\n",
              "      <td>Regression</td>\n",
              "      <td>PPE</td>\n",
              "      <td>NaN</td>\n",
              "      <td>5875</td>\n",
              "      <td>22</td>\n",
              "      <td>N</td>\n",
              "    </tr>\n",
              "    <tr>\n",
              "      <th>55</th>\n",
              "      <td>traffic</td>\n",
              "      <td>Multivariate</td>\n",
              "      <td>Regression</td>\n",
              "      <td>traffic_volume</td>\n",
              "      <td>NaN</td>\n",
              "      <td>48204</td>\n",
              "      <td>8</td>\n",
              "      <td>N</td>\n",
              "    </tr>\n",
              "  </tbody>\n",
              "</table>\n",
              "</div>\n",
              "    <div class=\"colab-df-buttons\">\n",
              "\n",
              "  <div class=\"colab-df-container\">\n",
              "    <button class=\"colab-df-convert\" onclick=\"convertToInteractive('df-d668bcff-12b7-4f29-aad4-61a3f4ccad78')\"\n",
              "            title=\"Convert this dataframe to an interactive table.\"\n",
              "            style=\"display:none;\">\n",
              "\n",
              "  <svg xmlns=\"http://www.w3.org/2000/svg\" height=\"24px\" viewBox=\"0 -960 960 960\">\n",
              "    <path d=\"M120-120v-720h720v720H120Zm60-500h600v-160H180v160Zm220 220h160v-160H400v160Zm0 220h160v-160H400v160ZM180-400h160v-160H180v160Zm440 0h160v-160H620v160ZM180-180h160v-160H180v160Zm440 0h160v-160H620v160Z\"/>\n",
              "  </svg>\n",
              "    </button>\n",
              "\n",
              "  <style>\n",
              "    .colab-df-container {\n",
              "      display:flex;\n",
              "      gap: 12px;\n",
              "    }\n",
              "\n",
              "    .colab-df-convert {\n",
              "      background-color: #E8F0FE;\n",
              "      border: none;\n",
              "      border-radius: 50%;\n",
              "      cursor: pointer;\n",
              "      display: none;\n",
              "      fill: #1967D2;\n",
              "      height: 32px;\n",
              "      padding: 0 0 0 0;\n",
              "      width: 32px;\n",
              "    }\n",
              "\n",
              "    .colab-df-convert:hover {\n",
              "      background-color: #E2EBFA;\n",
              "      box-shadow: 0px 1px 2px rgba(60, 64, 67, 0.3), 0px 1px 3px 1px rgba(60, 64, 67, 0.15);\n",
              "      fill: #174EA6;\n",
              "    }\n",
              "\n",
              "    .colab-df-buttons div {\n",
              "      margin-bottom: 4px;\n",
              "    }\n",
              "\n",
              "    [theme=dark] .colab-df-convert {\n",
              "      background-color: #3B4455;\n",
              "      fill: #D2E3FC;\n",
              "    }\n",
              "\n",
              "    [theme=dark] .colab-df-convert:hover {\n",
              "      background-color: #434B5C;\n",
              "      box-shadow: 0px 1px 3px 1px rgba(0, 0, 0, 0.15);\n",
              "      filter: drop-shadow(0px 1px 2px rgba(0, 0, 0, 0.3));\n",
              "      fill: #FFFFFF;\n",
              "    }\n",
              "  </style>\n",
              "\n",
              "    <script>\n",
              "      const buttonEl =\n",
              "        document.querySelector('#df-d668bcff-12b7-4f29-aad4-61a3f4ccad78 button.colab-df-convert');\n",
              "      buttonEl.style.display =\n",
              "        google.colab.kernel.accessAllowed ? 'block' : 'none';\n",
              "\n",
              "      async function convertToInteractive(key) {\n",
              "        const element = document.querySelector('#df-d668bcff-12b7-4f29-aad4-61a3f4ccad78');\n",
              "        const dataTable =\n",
              "          await google.colab.kernel.invokeFunction('convertToInteractive',\n",
              "                                                    [key], {});\n",
              "        if (!dataTable) return;\n",
              "\n",
              "        const docLinkHtml = 'Like what you see? Visit the ' +\n",
              "          '<a target=\"_blank\" href=https://colab.research.google.com/notebooks/data_table.ipynb>data table notebook</a>'\n",
              "          + ' to learn more about interactive tables.';\n",
              "        element.innerHTML = '';\n",
              "        dataTable['output_type'] = 'display_data';\n",
              "        await google.colab.output.renderOutput(dataTable, element);\n",
              "        const docLink = document.createElement('div');\n",
              "        docLink.innerHTML = docLinkHtml;\n",
              "        element.appendChild(docLink);\n",
              "      }\n",
              "    </script>\n",
              "  </div>\n",
              "\n",
              "\n",
              "<div id=\"df-eed74cde-ee1e-480c-80a4-2b70770bff59\">\n",
              "  <button class=\"colab-df-quickchart\" onclick=\"quickchart('df-eed74cde-ee1e-480c-80a4-2b70770bff59')\"\n",
              "            title=\"Suggest charts\"\n",
              "            style=\"display:none;\">\n",
              "\n",
              "<svg xmlns=\"http://www.w3.org/2000/svg\" height=\"24px\"viewBox=\"0 0 24 24\"\n",
              "     width=\"24px\">\n",
              "    <g>\n",
              "        <path d=\"M19 3H5c-1.1 0-2 .9-2 2v14c0 1.1.9 2 2 2h14c1.1 0 2-.9 2-2V5c0-1.1-.9-2-2-2zM9 17H7v-7h2v7zm4 0h-2V7h2v10zm4 0h-2v-4h2v4z\"/>\n",
              "    </g>\n",
              "</svg>\n",
              "  </button>\n",
              "\n",
              "<style>\n",
              "  .colab-df-quickchart {\n",
              "      --bg-color: #E8F0FE;\n",
              "      --fill-color: #1967D2;\n",
              "      --hover-bg-color: #E2EBFA;\n",
              "      --hover-fill-color: #174EA6;\n",
              "      --disabled-fill-color: #AAA;\n",
              "      --disabled-bg-color: #DDD;\n",
              "  }\n",
              "\n",
              "  [theme=dark] .colab-df-quickchart {\n",
              "      --bg-color: #3B4455;\n",
              "      --fill-color: #D2E3FC;\n",
              "      --hover-bg-color: #434B5C;\n",
              "      --hover-fill-color: #FFFFFF;\n",
              "      --disabled-bg-color: #3B4455;\n",
              "      --disabled-fill-color: #666;\n",
              "  }\n",
              "\n",
              "  .colab-df-quickchart {\n",
              "    background-color: var(--bg-color);\n",
              "    border: none;\n",
              "    border-radius: 50%;\n",
              "    cursor: pointer;\n",
              "    display: none;\n",
              "    fill: var(--fill-color);\n",
              "    height: 32px;\n",
              "    padding: 0;\n",
              "    width: 32px;\n",
              "  }\n",
              "\n",
              "  .colab-df-quickchart:hover {\n",
              "    background-color: var(--hover-bg-color);\n",
              "    box-shadow: 0 1px 2px rgba(60, 64, 67, 0.3), 0 1px 3px 1px rgba(60, 64, 67, 0.15);\n",
              "    fill: var(--button-hover-fill-color);\n",
              "  }\n",
              "\n",
              "  .colab-df-quickchart-complete:disabled,\n",
              "  .colab-df-quickchart-complete:disabled:hover {\n",
              "    background-color: var(--disabled-bg-color);\n",
              "    fill: var(--disabled-fill-color);\n",
              "    box-shadow: none;\n",
              "  }\n",
              "\n",
              "  .colab-df-spinner {\n",
              "    border: 2px solid var(--fill-color);\n",
              "    border-color: transparent;\n",
              "    border-bottom-color: var(--fill-color);\n",
              "    animation:\n",
              "      spin 1s steps(1) infinite;\n",
              "  }\n",
              "\n",
              "  @keyframes spin {\n",
              "    0% {\n",
              "      border-color: transparent;\n",
              "      border-bottom-color: var(--fill-color);\n",
              "      border-left-color: var(--fill-color);\n",
              "    }\n",
              "    20% {\n",
              "      border-color: transparent;\n",
              "      border-left-color: var(--fill-color);\n",
              "      border-top-color: var(--fill-color);\n",
              "    }\n",
              "    30% {\n",
              "      border-color: transparent;\n",
              "      border-left-color: var(--fill-color);\n",
              "      border-top-color: var(--fill-color);\n",
              "      border-right-color: var(--fill-color);\n",
              "    }\n",
              "    40% {\n",
              "      border-color: transparent;\n",
              "      border-right-color: var(--fill-color);\n",
              "      border-top-color: var(--fill-color);\n",
              "    }\n",
              "    60% {\n",
              "      border-color: transparent;\n",
              "      border-right-color: var(--fill-color);\n",
              "    }\n",
              "    80% {\n",
              "      border-color: transparent;\n",
              "      border-right-color: var(--fill-color);\n",
              "      border-bottom-color: var(--fill-color);\n",
              "    }\n",
              "    90% {\n",
              "      border-color: transparent;\n",
              "      border-bottom-color: var(--fill-color);\n",
              "    }\n",
              "  }\n",
              "</style>\n",
              "\n",
              "  <script>\n",
              "    async function quickchart(key) {\n",
              "      const quickchartButtonEl =\n",
              "        document.querySelector('#' + key + ' button');\n",
              "      quickchartButtonEl.disabled = true;  // To prevent multiple clicks.\n",
              "      quickchartButtonEl.classList.add('colab-df-spinner');\n",
              "      try {\n",
              "        const charts = await google.colab.kernel.invokeFunction(\n",
              "            'suggestCharts', [key], {});\n",
              "      } catch (error) {\n",
              "        console.error('Error during call to suggestCharts:', error);\n",
              "      }\n",
              "      quickchartButtonEl.classList.remove('colab-df-spinner');\n",
              "      quickchartButtonEl.classList.add('colab-df-quickchart-complete');\n",
              "    }\n",
              "    (() => {\n",
              "      let quickchartButtonEl =\n",
              "        document.querySelector('#df-eed74cde-ee1e-480c-80a4-2b70770bff59 button');\n",
              "      quickchartButtonEl.style.display =\n",
              "        google.colab.kernel.accessAllowed ? 'block' : 'none';\n",
              "    })();\n",
              "  </script>\n",
              "</div>\n",
              "\n",
              "    </div>\n",
              "  </div>\n"
            ],
            "application/vnd.google.colaboratory.intrinsic+json": {
              "type": "dataframe",
              "summary": "{\n  \"name\": \"get_data('index')\",\n  \"rows\": 56,\n  \"fields\": [\n    {\n      \"column\": \"Dataset\",\n      \"properties\": {\n        \"dtype\": \"string\",\n        \"num_unique_values\": 56,\n        \"samples\": [\n          \"anomaly\",\n          \"cancer\",\n          \"perfume\"\n        ],\n        \"semantic_type\": \"\",\n        \"description\": \"\"\n      }\n    },\n    {\n      \"column\": \"Data Types\",\n      \"properties\": {\n        \"dtype\": \"category\",\n        \"num_unique_values\": 2,\n        \"samples\": [\n          \"Text\",\n          \"Multivariate\"\n        ],\n        \"semantic_type\": \"\",\n        \"description\": \"\"\n      }\n    },\n    {\n      \"column\": \"Default Task\",\n      \"properties\": {\n        \"dtype\": \"category\",\n        \"num_unique_values\": 9,\n        \"samples\": [\n          \"NLP / Regression\",\n          \"Association Rule Mining\"\n        ],\n        \"semantic_type\": \"\",\n        \"description\": \"\"\n      }\n    },\n    {\n      \"column\": \"Target Variable 1\",\n      \"properties\": {\n        \"dtype\": \"string\",\n        \"num_unique_values\": 37,\n        \"samples\": [\n          \"CLASS\",\n          \"Survived\"\n        ],\n        \"semantic_type\": \"\",\n        \"description\": \"\"\n      }\n    },\n    {\n      \"column\": \"Target Variable 2\",\n      \"properties\": {\n        \"dtype\": \"category\",\n        \"num_unique_values\": 2,\n        \"samples\": [\n          \"Cooling Load\",\n          \"Description\"\n        ],\n        \"semantic_type\": \"\",\n        \"description\": \"\"\n      }\n    },\n    {\n      \"column\": \"# Instances\",\n      \"properties\": {\n        \"dtype\": \"number\",\n        \"std\": 16351,\n        \"min\": 20,\n        \"max\": 100000,\n        \"num_unique_values\": 55,\n        \"samples\": [\n          1080,\n          683\n        ],\n        \"semantic_type\": \"\",\n        \"description\": \"\"\n      }\n    },\n    {\n      \"column\": \"# Attributes\",\n      \"properties\": {\n        \"dtype\": \"number\",\n        \"std\": 21,\n        \"min\": 2,\n        \"max\": 121,\n        \"num_unique_values\": 29,\n        \"samples\": [\n          81,\n          40\n        ],\n        \"semantic_type\": \"\",\n        \"description\": \"\"\n      }\n    },\n    {\n      \"column\": \"Missing Values\",\n      \"properties\": {\n        \"dtype\": \"category\",\n        \"num_unique_values\": 2,\n        \"samples\": [\n          \"Y\",\n          \"N\"\n        ],\n        \"semantic_type\": \"\",\n        \"description\": \"\"\n      }\n    }\n  ]\n}"
            }
          },
          "metadata": {},
          "execution_count": 2
        }
      ],
      "source": [
        "from pycaret.datasets import get_data\n",
        "get_data('index')"
      ]
    },
    {
      "cell_type": "markdown",
      "metadata": {
        "id": "YqoQ7k1FQ1TV"
      },
      "source": [
        "---\n",
        "### **1.2 Get the \"jewellery\" dataset**\n",
        "---"
      ]
    },
    {
      "cell_type": "code",
      "execution_count": 3,
      "metadata": {
        "id": "41abL1k-im10",
        "scrolled": true
      },
      "outputs": [],
      "source": [
        "import pandas as pd\n",
        "myDataSet = pd.read_csv(\"/content/winequality-red (1).csv\")    # SN is 30\n",
        "\n",
        "# This is unsupervised dataset.\n",
        "# No target is defined."
      ]
    },
    {
      "cell_type": "code",
      "execution_count": 4,
      "metadata": {
        "id": "tN1O3vEZi963"
      },
      "outputs": [],
      "source": [
        "myDataSet.to_csv(\"myDataSet.csv\")\n",
        "\n",
        "# Explore the \"Files\" Folder"
      ]
    },
    {
      "cell_type": "code",
      "execution_count": 5,
      "metadata": {
        "colab": {
          "base_uri": "https://localhost:8080/",
          "height": 457
        },
        "id": "c6KthRB9im14",
        "outputId": "d8ef17ac-14a8-4140-ca77-d3acfcef87f5"
      },
      "outputs": [
        {
          "output_type": "display_data",
          "data": {
            "text/plain": [
              "<pandas.io.formats.style.Styler at 0x7b0a03971890>"
            ],
            "text/html": [
              "<style type=\"text/css\">\n",
              "#T_5d864_row4_col1 {\n",
              "  background-color: lightgreen;\n",
              "}\n",
              "</style>\n",
              "<table id=\"T_5d864\" class=\"dataframe\">\n",
              "  <thead>\n",
              "    <tr>\n",
              "      <th class=\"blank level0\" >&nbsp;</th>\n",
              "      <th id=\"T_5d864_level0_col0\" class=\"col_heading level0 col0\" >Description</th>\n",
              "      <th id=\"T_5d864_level0_col1\" class=\"col_heading level0 col1\" >Value</th>\n",
              "    </tr>\n",
              "  </thead>\n",
              "  <tbody>\n",
              "    <tr>\n",
              "      <th id=\"T_5d864_level0_row0\" class=\"row_heading level0 row0\" >0</th>\n",
              "      <td id=\"T_5d864_row0_col0\" class=\"data row0 col0\" >Session id</td>\n",
              "      <td id=\"T_5d864_row0_col1\" class=\"data row0 col1\" >1633</td>\n",
              "    </tr>\n",
              "    <tr>\n",
              "      <th id=\"T_5d864_level0_row1\" class=\"row_heading level0 row1\" >1</th>\n",
              "      <td id=\"T_5d864_row1_col0\" class=\"data row1 col0\" >Original data shape</td>\n",
              "      <td id=\"T_5d864_row1_col1\" class=\"data row1 col1\" >(1599, 12)</td>\n",
              "    </tr>\n",
              "    <tr>\n",
              "      <th id=\"T_5d864_level0_row2\" class=\"row_heading level0 row2\" >2</th>\n",
              "      <td id=\"T_5d864_row2_col0\" class=\"data row2 col0\" >Transformed data shape</td>\n",
              "      <td id=\"T_5d864_row2_col1\" class=\"data row2 col1\" >(1599, 12)</td>\n",
              "    </tr>\n",
              "    <tr>\n",
              "      <th id=\"T_5d864_level0_row3\" class=\"row_heading level0 row3\" >3</th>\n",
              "      <td id=\"T_5d864_row3_col0\" class=\"data row3 col0\" >Numeric features</td>\n",
              "      <td id=\"T_5d864_row3_col1\" class=\"data row3 col1\" >12</td>\n",
              "    </tr>\n",
              "    <tr>\n",
              "      <th id=\"T_5d864_level0_row4\" class=\"row_heading level0 row4\" >4</th>\n",
              "      <td id=\"T_5d864_row4_col0\" class=\"data row4 col0\" >Preprocess</td>\n",
              "      <td id=\"T_5d864_row4_col1\" class=\"data row4 col1\" >True</td>\n",
              "    </tr>\n",
              "    <tr>\n",
              "      <th id=\"T_5d864_level0_row5\" class=\"row_heading level0 row5\" >5</th>\n",
              "      <td id=\"T_5d864_row5_col0\" class=\"data row5 col0\" >Imputation type</td>\n",
              "      <td id=\"T_5d864_row5_col1\" class=\"data row5 col1\" >simple</td>\n",
              "    </tr>\n",
              "    <tr>\n",
              "      <th id=\"T_5d864_level0_row6\" class=\"row_heading level0 row6\" >6</th>\n",
              "      <td id=\"T_5d864_row6_col0\" class=\"data row6 col0\" >Numeric imputation</td>\n",
              "      <td id=\"T_5d864_row6_col1\" class=\"data row6 col1\" >mean</td>\n",
              "    </tr>\n",
              "    <tr>\n",
              "      <th id=\"T_5d864_level0_row7\" class=\"row_heading level0 row7\" >7</th>\n",
              "      <td id=\"T_5d864_row7_col0\" class=\"data row7 col0\" >Categorical imputation</td>\n",
              "      <td id=\"T_5d864_row7_col1\" class=\"data row7 col1\" >mode</td>\n",
              "    </tr>\n",
              "    <tr>\n",
              "      <th id=\"T_5d864_level0_row8\" class=\"row_heading level0 row8\" >8</th>\n",
              "      <td id=\"T_5d864_row8_col0\" class=\"data row8 col0\" >CPU Jobs</td>\n",
              "      <td id=\"T_5d864_row8_col1\" class=\"data row8 col1\" >-1</td>\n",
              "    </tr>\n",
              "    <tr>\n",
              "      <th id=\"T_5d864_level0_row9\" class=\"row_heading level0 row9\" >9</th>\n",
              "      <td id=\"T_5d864_row9_col0\" class=\"data row9 col0\" >Use GPU</td>\n",
              "      <td id=\"T_5d864_row9_col1\" class=\"data row9 col1\" >False</td>\n",
              "    </tr>\n",
              "    <tr>\n",
              "      <th id=\"T_5d864_level0_row10\" class=\"row_heading level0 row10\" >10</th>\n",
              "      <td id=\"T_5d864_row10_col0\" class=\"data row10 col0\" >Log Experiment</td>\n",
              "      <td id=\"T_5d864_row10_col1\" class=\"data row10 col1\" >False</td>\n",
              "    </tr>\n",
              "    <tr>\n",
              "      <th id=\"T_5d864_level0_row11\" class=\"row_heading level0 row11\" >11</th>\n",
              "      <td id=\"T_5d864_row11_col0\" class=\"data row11 col0\" >Experiment Name</td>\n",
              "      <td id=\"T_5d864_row11_col1\" class=\"data row11 col1\" >cluster-default-name</td>\n",
              "    </tr>\n",
              "    <tr>\n",
              "      <th id=\"T_5d864_level0_row12\" class=\"row_heading level0 row12\" >12</th>\n",
              "      <td id=\"T_5d864_row12_col0\" class=\"data row12 col0\" >USI</td>\n",
              "      <td id=\"T_5d864_row12_col1\" class=\"data row12 col1\" >eafb</td>\n",
              "    </tr>\n",
              "  </tbody>\n",
              "</table>\n"
            ]
          },
          "metadata": {}
        }
      ],
      "source": [
        "from pycaret.clustering import *\n",
        "s = setup(myDataSet)\n",
        "\n",
        "# Re-run the code if any error occur"
      ]
    },
    {
      "cell_type": "code",
      "execution_count": null,
      "metadata": {
        "colab": {
          "base_uri": "https://localhost:8080/",
          "height": 81,
          "referenced_widgets": [
            "342789c14b2e42f898ce3e9357fe8a37",
            "6a9010ad6662432da25189412b71639f",
            "1cd3ce94cc684386bca59013c8fd4ade",
            "2bbd2886429046259f00b79ddc6b8307",
            "6d0af7f8942f48948734792ba24be507",
            "e8393488c10c4b6e8c0d6adcc43a9584",
            "0ed40b0de69c4844846a86cb9e1fa118",
            "0418ac43bee5471099a899fe7935dd99",
            "9d91f8fbfac64e1a8c7bc8cfdfff2c30",
            "076b04a7105d42ad9e23c7a2e1c59867",
            "87047bd0507645d3b9739726bceb7d9d"
          ]
        },
        "id": "XmPJbrOXim19",
        "outputId": "be9fed9d-9b6d-4432-94ad-2669cfd54e4f"
      },
      "outputs": [
        {
          "data": {
            "text/html": [],
            "text/plain": [
              "<IPython.core.display.HTML object>"
            ]
          },
          "metadata": {},
          "output_type": "display_data"
        },
        {
          "data": {
            "text/html": [
              "<style type=\"text/css\">\n",
              "</style>\n",
              "<table id=\"T_4c431\" class=\"dataframe\">\n",
              "  <thead>\n",
              "    <tr>\n",
              "      <th class=\"blank level0\" >&nbsp;</th>\n",
              "      <th id=\"T_4c431_level0_col0\" class=\"col_heading level0 col0\" >Silhouette</th>\n",
              "      <th id=\"T_4c431_level0_col1\" class=\"col_heading level0 col1\" >Calinski-Harabasz</th>\n",
              "      <th id=\"T_4c431_level0_col2\" class=\"col_heading level0 col2\" >Davies-Bouldin</th>\n",
              "      <th id=\"T_4c431_level0_col3\" class=\"col_heading level0 col3\" >Homogeneity</th>\n",
              "      <th id=\"T_4c431_level0_col4\" class=\"col_heading level0 col4\" >Rand Index</th>\n",
              "      <th id=\"T_4c431_level0_col5\" class=\"col_heading level0 col5\" >Completeness</th>\n",
              "    </tr>\n",
              "  </thead>\n",
              "  <tbody>\n",
              "    <tr>\n",
              "      <th id=\"T_4c431_level0_row0\" class=\"row_heading level0 row0\" >0</th>\n",
              "      <td id=\"T_4c431_row0_col0\" class=\"data row0 col0\" >0.4838</td>\n",
              "      <td id=\"T_4c431_row0_col1\" class=\"data row0 col1\" >3051.5684</td>\n",
              "      <td id=\"T_4c431_row0_col2\" class=\"data row0 col2\" >0.7150</td>\n",
              "      <td id=\"T_4c431_row0_col3\" class=\"data row0 col3\" >0</td>\n",
              "      <td id=\"T_4c431_row0_col4\" class=\"data row0 col4\" >0</td>\n",
              "      <td id=\"T_4c431_row0_col5\" class=\"data row0 col5\" >0</td>\n",
              "    </tr>\n",
              "  </tbody>\n",
              "</table>\n"
            ],
            "text/plain": [
              "<pandas.io.formats.style.Styler at 0x7f92a05827d0>"
            ]
          },
          "metadata": {},
          "output_type": "display_data"
        },
        {
          "data": {
            "application/vnd.jupyter.widget-view+json": {
              "model_id": "342789c14b2e42f898ce3e9357fe8a37",
              "version_major": 2,
              "version_minor": 0
            },
            "text/plain": [
              "Processing:   0%|          | 0/3 [00:00<?, ?it/s]"
            ]
          },
          "metadata": {
            "application/vnd.jupyter.widget-view+json": {
              "colab": {
                "custom_widget_manager": {
                  "url": "https://ssl.gstatic.com/colaboratory-static/widgets/colab-cdn-widget-manager/2b70e893a8ba7c0f/manager.min.js"
                }
              }
            }
          },
          "output_type": "display_data"
        },
        {
          "data": {
            "text/html": [],
            "text/plain": [
              "<IPython.core.display.HTML object>"
            ]
          },
          "metadata": {},
          "output_type": "display_data"
        }
      ],
      "source": [
        "KMeanClusteringModel = create_model('kmeans', num_clusters=4)"
      ]
    },
    {
      "cell_type": "code",
      "execution_count": null,
      "metadata": {
        "colab": {
          "base_uri": "https://localhost:8080/",
          "height": 458
        },
        "id": "QPY6bvTsim1_",
        "outputId": "153d8122-159d-49ae-bb3c-ee3d4f068536"
      },
      "outputs": [
        {
          "data": {
            "application/vnd.google.colaboratory.intrinsic+json": {
              "summary": "{\n  \"name\": \"kMeanPrediction\",\n  \"rows\": 1599,\n  \"fields\": [\n    {\n      \"column\": \"fixed acidity\",\n      \"properties\": {\n        \"dtype\": \"float32\",\n        \"num_unique_values\": 96,\n        \"samples\": [\n          5.300000190734863,\n          12.699999809265137,\n          12.600000381469727\n        ],\n        \"semantic_type\": \"\",\n        \"description\": \"\"\n      }\n    },\n    {\n      \"column\": \"volatile acidity\",\n      \"properties\": {\n        \"dtype\": \"float32\",\n        \"num_unique_values\": 143,\n        \"samples\": [\n          1.024999976158142,\n          0.4000000059604645,\n          0.8700000047683716\n        ],\n        \"semantic_type\": \"\",\n        \"description\": \"\"\n      }\n    },\n    {\n      \"column\": \"citric acid\",\n      \"properties\": {\n        \"dtype\": \"float32\",\n        \"num_unique_values\": 80,\n        \"samples\": [\n          0.3700000047683716,\n          0.0,\n          0.09000000357627869\n        ],\n        \"semantic_type\": \"\",\n        \"description\": \"\"\n      }\n    },\n    {\n      \"column\": \"residual sugar\",\n      \"properties\": {\n        \"dtype\": \"float32\",\n        \"num_unique_values\": 91,\n        \"samples\": [\n          11.0,\n          3.0,\n          15.5\n        ],\n        \"semantic_type\": \"\",\n        \"description\": \"\"\n      }\n    },\n    {\n      \"column\": \"chlorides\",\n      \"properties\": {\n        \"dtype\": \"float32\",\n        \"num_unique_values\": 153,\n        \"samples\": [\n          0.09600000083446503,\n          0.34299999475479126,\n          0.1589999943971634\n        ],\n        \"semantic_type\": \"\",\n        \"description\": \"\"\n      }\n    },\n    {\n      \"column\": \"free sulfur dioxide\",\n      \"properties\": {\n        \"dtype\": \"float32\",\n        \"num_unique_values\": 60,\n        \"samples\": [\n          11.0,\n          9.0,\n          32.0\n        ],\n        \"semantic_type\": \"\",\n        \"description\": \"\"\n      }\n    },\n    {\n      \"column\": \"total sulfur dioxide\",\n      \"properties\": {\n        \"dtype\": \"float32\",\n        \"num_unique_values\": 144,\n        \"samples\": [\n          68.0,\n          35.0,\n          101.0\n        ],\n        \"semantic_type\": \"\",\n        \"description\": \"\"\n      }\n    },\n    {\n      \"column\": \"density\",\n      \"properties\": {\n        \"dtype\": \"float32\",\n        \"num_unique_values\": 436,\n        \"samples\": [\n          0.9997400045394897,\n          1.000100016593933,\n          0.9947100281715393\n        ],\n        \"semantic_type\": \"\",\n        \"description\": \"\"\n      }\n    },\n    {\n      \"column\": \"pH\",\n      \"properties\": {\n        \"dtype\": \"float32\",\n        \"num_unique_values\": 89,\n        \"samples\": [\n          3.069999933242798,\n          3.0,\n          3.1500000953674316\n        ],\n        \"semantic_type\": \"\",\n        \"description\": \"\"\n      }\n    },\n    {\n      \"column\": \"sulphates\",\n      \"properties\": {\n        \"dtype\": \"float32\",\n        \"num_unique_values\": 96,\n        \"samples\": [\n          1.0700000524520874,\n          1.0399999618530273,\n          1.1799999475479126\n        ],\n        \"semantic_type\": \"\",\n        \"description\": \"\"\n      }\n    },\n    {\n      \"column\": \"alcohol\",\n      \"properties\": {\n        \"dtype\": \"float32\",\n        \"num_unique_values\": 65,\n        \"samples\": [\n          8.5,\n          9.949999809265137,\n          9.399999618530273\n        ],\n        \"semantic_type\": \"\",\n        \"description\": \"\"\n      }\n    },\n    {\n      \"column\": \"quality\",\n      \"properties\": {\n        \"dtype\": \"int8\",\n        \"num_unique_values\": 6,\n        \"samples\": [\n          5,\n          6,\n          3\n        ],\n        \"semantic_type\": \"\",\n        \"description\": \"\"\n      }\n    },\n    {\n      \"column\": \"Cluster\",\n      \"properties\": {\n        \"dtype\": \"category\",\n        \"num_unique_values\": 4,\n        \"samples\": [\n          \"Cluster 1\",\n          \"Cluster 2\",\n          \"Cluster 0\"\n        ],\n        \"semantic_type\": \"\",\n        \"description\": \"\"\n      }\n    }\n  ]\n}",
              "type": "dataframe",
              "variable_name": "kMeanPrediction"
            },
            "text/html": [
              "\n",
              "  <div id=\"df-867734ab-68c8-4548-adcb-8df221e5ded9\" class=\"colab-df-container\">\n",
              "    <div>\n",
              "<style scoped>\n",
              "    .dataframe tbody tr th:only-of-type {\n",
              "        vertical-align: middle;\n",
              "    }\n",
              "\n",
              "    .dataframe tbody tr th {\n",
              "        vertical-align: top;\n",
              "    }\n",
              "\n",
              "    .dataframe thead th {\n",
              "        text-align: right;\n",
              "    }\n",
              "</style>\n",
              "<table border=\"1\" class=\"dataframe\">\n",
              "  <thead>\n",
              "    <tr style=\"text-align: right;\">\n",
              "      <th></th>\n",
              "      <th>fixed acidity</th>\n",
              "      <th>volatile acidity</th>\n",
              "      <th>citric acid</th>\n",
              "      <th>residual sugar</th>\n",
              "      <th>chlorides</th>\n",
              "      <th>free sulfur dioxide</th>\n",
              "      <th>total sulfur dioxide</th>\n",
              "      <th>density</th>\n",
              "      <th>pH</th>\n",
              "      <th>sulphates</th>\n",
              "      <th>alcohol</th>\n",
              "      <th>quality</th>\n",
              "      <th>Cluster</th>\n",
              "    </tr>\n",
              "  </thead>\n",
              "  <tbody>\n",
              "    <tr>\n",
              "      <th>0</th>\n",
              "      <td>7.4</td>\n",
              "      <td>0.700</td>\n",
              "      <td>0.00</td>\n",
              "      <td>1.9</td>\n",
              "      <td>0.076</td>\n",
              "      <td>11.0</td>\n",
              "      <td>34.0</td>\n",
              "      <td>0.99780</td>\n",
              "      <td>3.51</td>\n",
              "      <td>0.56</td>\n",
              "      <td>9.4</td>\n",
              "      <td>5</td>\n",
              "      <td>Cluster 0</td>\n",
              "    </tr>\n",
              "    <tr>\n",
              "      <th>1</th>\n",
              "      <td>7.8</td>\n",
              "      <td>0.880</td>\n",
              "      <td>0.00</td>\n",
              "      <td>2.6</td>\n",
              "      <td>0.098</td>\n",
              "      <td>25.0</td>\n",
              "      <td>67.0</td>\n",
              "      <td>0.99680</td>\n",
              "      <td>3.20</td>\n",
              "      <td>0.68</td>\n",
              "      <td>9.8</td>\n",
              "      <td>5</td>\n",
              "      <td>Cluster 1</td>\n",
              "    </tr>\n",
              "    <tr>\n",
              "      <th>2</th>\n",
              "      <td>7.8</td>\n",
              "      <td>0.760</td>\n",
              "      <td>0.04</td>\n",
              "      <td>2.3</td>\n",
              "      <td>0.092</td>\n",
              "      <td>15.0</td>\n",
              "      <td>54.0</td>\n",
              "      <td>0.99700</td>\n",
              "      <td>3.26</td>\n",
              "      <td>0.65</td>\n",
              "      <td>9.8</td>\n",
              "      <td>5</td>\n",
              "      <td>Cluster 3</td>\n",
              "    </tr>\n",
              "    <tr>\n",
              "      <th>3</th>\n",
              "      <td>11.2</td>\n",
              "      <td>0.280</td>\n",
              "      <td>0.56</td>\n",
              "      <td>1.9</td>\n",
              "      <td>0.075</td>\n",
              "      <td>17.0</td>\n",
              "      <td>60.0</td>\n",
              "      <td>0.99800</td>\n",
              "      <td>3.16</td>\n",
              "      <td>0.58</td>\n",
              "      <td>9.8</td>\n",
              "      <td>6</td>\n",
              "      <td>Cluster 3</td>\n",
              "    </tr>\n",
              "    <tr>\n",
              "      <th>4</th>\n",
              "      <td>7.4</td>\n",
              "      <td>0.700</td>\n",
              "      <td>0.00</td>\n",
              "      <td>1.9</td>\n",
              "      <td>0.076</td>\n",
              "      <td>11.0</td>\n",
              "      <td>34.0</td>\n",
              "      <td>0.99780</td>\n",
              "      <td>3.51</td>\n",
              "      <td>0.56</td>\n",
              "      <td>9.4</td>\n",
              "      <td>5</td>\n",
              "      <td>Cluster 0</td>\n",
              "    </tr>\n",
              "    <tr>\n",
              "      <th>...</th>\n",
              "      <td>...</td>\n",
              "      <td>...</td>\n",
              "      <td>...</td>\n",
              "      <td>...</td>\n",
              "      <td>...</td>\n",
              "      <td>...</td>\n",
              "      <td>...</td>\n",
              "      <td>...</td>\n",
              "      <td>...</td>\n",
              "      <td>...</td>\n",
              "      <td>...</td>\n",
              "      <td>...</td>\n",
              "      <td>...</td>\n",
              "    </tr>\n",
              "    <tr>\n",
              "      <th>1594</th>\n",
              "      <td>6.2</td>\n",
              "      <td>0.600</td>\n",
              "      <td>0.08</td>\n",
              "      <td>2.0</td>\n",
              "      <td>0.090</td>\n",
              "      <td>32.0</td>\n",
              "      <td>44.0</td>\n",
              "      <td>0.99490</td>\n",
              "      <td>3.45</td>\n",
              "      <td>0.58</td>\n",
              "      <td>10.5</td>\n",
              "      <td>5</td>\n",
              "      <td>Cluster 3</td>\n",
              "    </tr>\n",
              "    <tr>\n",
              "      <th>1595</th>\n",
              "      <td>5.9</td>\n",
              "      <td>0.550</td>\n",
              "      <td>0.10</td>\n",
              "      <td>2.2</td>\n",
              "      <td>0.062</td>\n",
              "      <td>39.0</td>\n",
              "      <td>51.0</td>\n",
              "      <td>0.99512</td>\n",
              "      <td>3.52</td>\n",
              "      <td>0.76</td>\n",
              "      <td>11.2</td>\n",
              "      <td>6</td>\n",
              "      <td>Cluster 3</td>\n",
              "    </tr>\n",
              "    <tr>\n",
              "      <th>1596</th>\n",
              "      <td>6.3</td>\n",
              "      <td>0.510</td>\n",
              "      <td>0.13</td>\n",
              "      <td>2.3</td>\n",
              "      <td>0.076</td>\n",
              "      <td>29.0</td>\n",
              "      <td>40.0</td>\n",
              "      <td>0.99574</td>\n",
              "      <td>3.42</td>\n",
              "      <td>0.75</td>\n",
              "      <td>11.0</td>\n",
              "      <td>6</td>\n",
              "      <td>Cluster 3</td>\n",
              "    </tr>\n",
              "    <tr>\n",
              "      <th>1597</th>\n",
              "      <td>5.9</td>\n",
              "      <td>0.645</td>\n",
              "      <td>0.12</td>\n",
              "      <td>2.0</td>\n",
              "      <td>0.075</td>\n",
              "      <td>32.0</td>\n",
              "      <td>44.0</td>\n",
              "      <td>0.99547</td>\n",
              "      <td>3.57</td>\n",
              "      <td>0.71</td>\n",
              "      <td>10.2</td>\n",
              "      <td>5</td>\n",
              "      <td>Cluster 3</td>\n",
              "    </tr>\n",
              "    <tr>\n",
              "      <th>1598</th>\n",
              "      <td>6.0</td>\n",
              "      <td>0.310</td>\n",
              "      <td>0.47</td>\n",
              "      <td>3.6</td>\n",
              "      <td>0.067</td>\n",
              "      <td>18.0</td>\n",
              "      <td>42.0</td>\n",
              "      <td>0.99549</td>\n",
              "      <td>3.39</td>\n",
              "      <td>0.66</td>\n",
              "      <td>11.0</td>\n",
              "      <td>6</td>\n",
              "      <td>Cluster 3</td>\n",
              "    </tr>\n",
              "  </tbody>\n",
              "</table>\n",
              "<p>1599 rows × 13 columns</p>\n",
              "</div>\n",
              "    <div class=\"colab-df-buttons\">\n",
              "\n",
              "  <div class=\"colab-df-container\">\n",
              "    <button class=\"colab-df-convert\" onclick=\"convertToInteractive('df-867734ab-68c8-4548-adcb-8df221e5ded9')\"\n",
              "            title=\"Convert this dataframe to an interactive table.\"\n",
              "            style=\"display:none;\">\n",
              "\n",
              "  <svg xmlns=\"http://www.w3.org/2000/svg\" height=\"24px\" viewBox=\"0 -960 960 960\">\n",
              "    <path d=\"M120-120v-720h720v720H120Zm60-500h600v-160H180v160Zm220 220h160v-160H400v160Zm0 220h160v-160H400v160ZM180-400h160v-160H180v160Zm440 0h160v-160H620v160ZM180-180h160v-160H180v160Zm440 0h160v-160H620v160Z\"/>\n",
              "  </svg>\n",
              "    </button>\n",
              "\n",
              "  <style>\n",
              "    .colab-df-container {\n",
              "      display:flex;\n",
              "      gap: 12px;\n",
              "    }\n",
              "\n",
              "    .colab-df-convert {\n",
              "      background-color: #E8F0FE;\n",
              "      border: none;\n",
              "      border-radius: 50%;\n",
              "      cursor: pointer;\n",
              "      display: none;\n",
              "      fill: #1967D2;\n",
              "      height: 32px;\n",
              "      padding: 0 0 0 0;\n",
              "      width: 32px;\n",
              "    }\n",
              "\n",
              "    .colab-df-convert:hover {\n",
              "      background-color: #E2EBFA;\n",
              "      box-shadow: 0px 1px 2px rgba(60, 64, 67, 0.3), 0px 1px 3px 1px rgba(60, 64, 67, 0.15);\n",
              "      fill: #174EA6;\n",
              "    }\n",
              "\n",
              "    .colab-df-buttons div {\n",
              "      margin-bottom: 4px;\n",
              "    }\n",
              "\n",
              "    [theme=dark] .colab-df-convert {\n",
              "      background-color: #3B4455;\n",
              "      fill: #D2E3FC;\n",
              "    }\n",
              "\n",
              "    [theme=dark] .colab-df-convert:hover {\n",
              "      background-color: #434B5C;\n",
              "      box-shadow: 0px 1px 3px 1px rgba(0, 0, 0, 0.15);\n",
              "      filter: drop-shadow(0px 1px 2px rgba(0, 0, 0, 0.3));\n",
              "      fill: #FFFFFF;\n",
              "    }\n",
              "  </style>\n",
              "\n",
              "    <script>\n",
              "      const buttonEl =\n",
              "        document.querySelector('#df-867734ab-68c8-4548-adcb-8df221e5ded9 button.colab-df-convert');\n",
              "      buttonEl.style.display =\n",
              "        google.colab.kernel.accessAllowed ? 'block' : 'none';\n",
              "\n",
              "      async function convertToInteractive(key) {\n",
              "        const element = document.querySelector('#df-867734ab-68c8-4548-adcb-8df221e5ded9');\n",
              "        const dataTable =\n",
              "          await google.colab.kernel.invokeFunction('convertToInteractive',\n",
              "                                                    [key], {});\n",
              "        if (!dataTable) return;\n",
              "\n",
              "        const docLinkHtml = 'Like what you see? Visit the ' +\n",
              "          '<a target=\"_blank\" href=https://colab.research.google.com/notebooks/data_table.ipynb>data table notebook</a>'\n",
              "          + ' to learn more about interactive tables.';\n",
              "        element.innerHTML = '';\n",
              "        dataTable['output_type'] = 'display_data';\n",
              "        await google.colab.output.renderOutput(dataTable, element);\n",
              "        const docLink = document.createElement('div');\n",
              "        docLink.innerHTML = docLinkHtml;\n",
              "        element.appendChild(docLink);\n",
              "      }\n",
              "    </script>\n",
              "  </div>\n",
              "\n",
              "\n",
              "<div id=\"df-0d86f0ff-c10e-41db-ace5-c1423e17452b\">\n",
              "  <button class=\"colab-df-quickchart\" onclick=\"quickchart('df-0d86f0ff-c10e-41db-ace5-c1423e17452b')\"\n",
              "            title=\"Suggest charts\"\n",
              "            style=\"display:none;\">\n",
              "\n",
              "<svg xmlns=\"http://www.w3.org/2000/svg\" height=\"24px\"viewBox=\"0 0 24 24\"\n",
              "     width=\"24px\">\n",
              "    <g>\n",
              "        <path d=\"M19 3H5c-1.1 0-2 .9-2 2v14c0 1.1.9 2 2 2h14c1.1 0 2-.9 2-2V5c0-1.1-.9-2-2-2zM9 17H7v-7h2v7zm4 0h-2V7h2v10zm4 0h-2v-4h2v4z\"/>\n",
              "    </g>\n",
              "</svg>\n",
              "  </button>\n",
              "\n",
              "<style>\n",
              "  .colab-df-quickchart {\n",
              "      --bg-color: #E8F0FE;\n",
              "      --fill-color: #1967D2;\n",
              "      --hover-bg-color: #E2EBFA;\n",
              "      --hover-fill-color: #174EA6;\n",
              "      --disabled-fill-color: #AAA;\n",
              "      --disabled-bg-color: #DDD;\n",
              "  }\n",
              "\n",
              "  [theme=dark] .colab-df-quickchart {\n",
              "      --bg-color: #3B4455;\n",
              "      --fill-color: #D2E3FC;\n",
              "      --hover-bg-color: #434B5C;\n",
              "      --hover-fill-color: #FFFFFF;\n",
              "      --disabled-bg-color: #3B4455;\n",
              "      --disabled-fill-color: #666;\n",
              "  }\n",
              "\n",
              "  .colab-df-quickchart {\n",
              "    background-color: var(--bg-color);\n",
              "    border: none;\n",
              "    border-radius: 50%;\n",
              "    cursor: pointer;\n",
              "    display: none;\n",
              "    fill: var(--fill-color);\n",
              "    height: 32px;\n",
              "    padding: 0;\n",
              "    width: 32px;\n",
              "  }\n",
              "\n",
              "  .colab-df-quickchart:hover {\n",
              "    background-color: var(--hover-bg-color);\n",
              "    box-shadow: 0 1px 2px rgba(60, 64, 67, 0.3), 0 1px 3px 1px rgba(60, 64, 67, 0.15);\n",
              "    fill: var(--button-hover-fill-color);\n",
              "  }\n",
              "\n",
              "  .colab-df-quickchart-complete:disabled,\n",
              "  .colab-df-quickchart-complete:disabled:hover {\n",
              "    background-color: var(--disabled-bg-color);\n",
              "    fill: var(--disabled-fill-color);\n",
              "    box-shadow: none;\n",
              "  }\n",
              "\n",
              "  .colab-df-spinner {\n",
              "    border: 2px solid var(--fill-color);\n",
              "    border-color: transparent;\n",
              "    border-bottom-color: var(--fill-color);\n",
              "    animation:\n",
              "      spin 1s steps(1) infinite;\n",
              "  }\n",
              "\n",
              "  @keyframes spin {\n",
              "    0% {\n",
              "      border-color: transparent;\n",
              "      border-bottom-color: var(--fill-color);\n",
              "      border-left-color: var(--fill-color);\n",
              "    }\n",
              "    20% {\n",
              "      border-color: transparent;\n",
              "      border-left-color: var(--fill-color);\n",
              "      border-top-color: var(--fill-color);\n",
              "    }\n",
              "    30% {\n",
              "      border-color: transparent;\n",
              "      border-left-color: var(--fill-color);\n",
              "      border-top-color: var(--fill-color);\n",
              "      border-right-color: var(--fill-color);\n",
              "    }\n",
              "    40% {\n",
              "      border-color: transparent;\n",
              "      border-right-color: var(--fill-color);\n",
              "      border-top-color: var(--fill-color);\n",
              "    }\n",
              "    60% {\n",
              "      border-color: transparent;\n",
              "      border-right-color: var(--fill-color);\n",
              "    }\n",
              "    80% {\n",
              "      border-color: transparent;\n",
              "      border-right-color: var(--fill-color);\n",
              "      border-bottom-color: var(--fill-color);\n",
              "    }\n",
              "    90% {\n",
              "      border-color: transparent;\n",
              "      border-bottom-color: var(--fill-color);\n",
              "    }\n",
              "  }\n",
              "</style>\n",
              "\n",
              "  <script>\n",
              "    async function quickchart(key) {\n",
              "      const quickchartButtonEl =\n",
              "        document.querySelector('#' + key + ' button');\n",
              "      quickchartButtonEl.disabled = true;  // To prevent multiple clicks.\n",
              "      quickchartButtonEl.classList.add('colab-df-spinner');\n",
              "      try {\n",
              "        const charts = await google.colab.kernel.invokeFunction(\n",
              "            'suggestCharts', [key], {});\n",
              "      } catch (error) {\n",
              "        console.error('Error during call to suggestCharts:', error);\n",
              "      }\n",
              "      quickchartButtonEl.classList.remove('colab-df-spinner');\n",
              "      quickchartButtonEl.classList.add('colab-df-quickchart-complete');\n",
              "    }\n",
              "    (() => {\n",
              "      let quickchartButtonEl =\n",
              "        document.querySelector('#df-0d86f0ff-c10e-41db-ace5-c1423e17452b button');\n",
              "      quickchartButtonEl.style.display =\n",
              "        google.colab.kernel.accessAllowed ? 'block' : 'none';\n",
              "    })();\n",
              "  </script>\n",
              "</div>\n",
              "\n",
              "  <div id=\"id_4f2bfa3f-7aa3-4d09-acd2-d8a3d1750279\">\n",
              "    <style>\n",
              "      .colab-df-generate {\n",
              "        background-color: #E8F0FE;\n",
              "        border: none;\n",
              "        border-radius: 50%;\n",
              "        cursor: pointer;\n",
              "        display: none;\n",
              "        fill: #1967D2;\n",
              "        height: 32px;\n",
              "        padding: 0 0 0 0;\n",
              "        width: 32px;\n",
              "      }\n",
              "\n",
              "      .colab-df-generate:hover {\n",
              "        background-color: #E2EBFA;\n",
              "        box-shadow: 0px 1px 2px rgba(60, 64, 67, 0.3), 0px 1px 3px 1px rgba(60, 64, 67, 0.15);\n",
              "        fill: #174EA6;\n",
              "      }\n",
              "\n",
              "      [theme=dark] .colab-df-generate {\n",
              "        background-color: #3B4455;\n",
              "        fill: #D2E3FC;\n",
              "      }\n",
              "\n",
              "      [theme=dark] .colab-df-generate:hover {\n",
              "        background-color: #434B5C;\n",
              "        box-shadow: 0px 1px 3px 1px rgba(0, 0, 0, 0.15);\n",
              "        filter: drop-shadow(0px 1px 2px rgba(0, 0, 0, 0.3));\n",
              "        fill: #FFFFFF;\n",
              "      }\n",
              "    </style>\n",
              "    <button class=\"colab-df-generate\" onclick=\"generateWithVariable('kMeanPrediction')\"\n",
              "            title=\"Generate code using this dataframe.\"\n",
              "            style=\"display:none;\">\n",
              "\n",
              "  <svg xmlns=\"http://www.w3.org/2000/svg\" height=\"24px\"viewBox=\"0 0 24 24\"\n",
              "       width=\"24px\">\n",
              "    <path d=\"M7,19H8.4L18.45,9,17,7.55,7,17.6ZM5,21V16.75L18.45,3.32a2,2,0,0,1,2.83,0l1.4,1.43a1.91,1.91,0,0,1,.58,1.4,1.91,1.91,0,0,1-.58,1.4L9.25,21ZM18.45,9,17,7.55Zm-12,3A5.31,5.31,0,0,0,4.9,8.1,5.31,5.31,0,0,0,1,6.5,5.31,5.31,0,0,0,4.9,4.9,5.31,5.31,0,0,0,6.5,1,5.31,5.31,0,0,0,8.1,4.9,5.31,5.31,0,0,0,12,6.5,5.46,5.46,0,0,0,6.5,12Z\"/>\n",
              "  </svg>\n",
              "    </button>\n",
              "    <script>\n",
              "      (() => {\n",
              "      const buttonEl =\n",
              "        document.querySelector('#id_4f2bfa3f-7aa3-4d09-acd2-d8a3d1750279 button.colab-df-generate');\n",
              "      buttonEl.style.display =\n",
              "        google.colab.kernel.accessAllowed ? 'block' : 'none';\n",
              "\n",
              "      buttonEl.onclick = () => {\n",
              "        google.colab.notebook.generateWithVariable('kMeanPrediction');\n",
              "      }\n",
              "      })();\n",
              "    </script>\n",
              "  </div>\n",
              "\n",
              "    </div>\n",
              "  </div>\n"
            ],
            "text/plain": [
              "      fixed acidity  volatile acidity  citric acid  residual sugar  chlorides  \\\n",
              "0               7.4             0.700         0.00             1.9      0.076   \n",
              "1               7.8             0.880         0.00             2.6      0.098   \n",
              "2               7.8             0.760         0.04             2.3      0.092   \n",
              "3              11.2             0.280         0.56             1.9      0.075   \n",
              "4               7.4             0.700         0.00             1.9      0.076   \n",
              "...             ...               ...          ...             ...        ...   \n",
              "1594            6.2             0.600         0.08             2.0      0.090   \n",
              "1595            5.9             0.550         0.10             2.2      0.062   \n",
              "1596            6.3             0.510         0.13             2.3      0.076   \n",
              "1597            5.9             0.645         0.12             2.0      0.075   \n",
              "1598            6.0             0.310         0.47             3.6      0.067   \n",
              "\n",
              "      free sulfur dioxide  total sulfur dioxide  density    pH  sulphates  \\\n",
              "0                    11.0                  34.0  0.99780  3.51       0.56   \n",
              "1                    25.0                  67.0  0.99680  3.20       0.68   \n",
              "2                    15.0                  54.0  0.99700  3.26       0.65   \n",
              "3                    17.0                  60.0  0.99800  3.16       0.58   \n",
              "4                    11.0                  34.0  0.99780  3.51       0.56   \n",
              "...                   ...                   ...      ...   ...        ...   \n",
              "1594                 32.0                  44.0  0.99490  3.45       0.58   \n",
              "1595                 39.0                  51.0  0.99512  3.52       0.76   \n",
              "1596                 29.0                  40.0  0.99574  3.42       0.75   \n",
              "1597                 32.0                  44.0  0.99547  3.57       0.71   \n",
              "1598                 18.0                  42.0  0.99549  3.39       0.66   \n",
              "\n",
              "      alcohol  quality    Cluster  \n",
              "0         9.4        5  Cluster 0  \n",
              "1         9.8        5  Cluster 1  \n",
              "2         9.8        5  Cluster 3  \n",
              "3         9.8        6  Cluster 3  \n",
              "4         9.4        5  Cluster 0  \n",
              "...       ...      ...        ...  \n",
              "1594     10.5        5  Cluster 3  \n",
              "1595     11.2        6  Cluster 3  \n",
              "1596     11.0        6  Cluster 3  \n",
              "1597     10.2        5  Cluster 3  \n",
              "1598     11.0        6  Cluster 3  \n",
              "\n",
              "[1599 rows x 13 columns]"
            ]
          },
          "execution_count": 7,
          "metadata": {},
          "output_type": "execute_result"
        }
      ],
      "source": [
        "kMeanPrediction = assign_model(KMeanClusteringModel)\n",
        "kMeanPrediction"
      ]
    },
    {
      "cell_type": "code",
      "execution_count": null,
      "metadata": {
        "colab": {
          "base_uri": "https://localhost:8080/",
          "height": 522,
          "referenced_widgets": [
            "a2135c7fc4dd491faedfa9575ed74ad9",
            "cc63cabeb9664d3fb00d67b4a37026f2",
            "ce56e2f3306f450bbf3185ab4540cc53",
            "7ceaec853ea14800a6b43ae0170fe569",
            "de753c41020a470584ba41d58501946c",
            "107d7294295346618916a24ea1af6420",
            "15719fa578774c3c989673257ae4ed21",
            "2e101e54572543bdaf25e3e5ebeccb6c",
            "ef3ce47470114f28ae384406a61021c4",
            "728bdd889bb7482bb328b68095d5e579",
            "7439db18d2594320930b16dcdd00d89a"
          ]
        },
        "id": "egid_WXNfKd5",
        "outputId": "f9d0acfb-0742-47cc-810d-ef2128f703bd"
      },
      "outputs": [
        {
          "data": {
            "text/html": [],
            "text/plain": [
              "<IPython.core.display.HTML object>"
            ]
          },
          "metadata": {},
          "output_type": "display_data"
        },
        {
          "data": {
            "text/html": [
              "<style type=\"text/css\">\n",
              "</style>\n",
              "<table id=\"T_d92fb\" class=\"dataframe\">\n",
              "  <thead>\n",
              "    <tr>\n",
              "      <th class=\"blank level0\" >&nbsp;</th>\n",
              "      <th id=\"T_d92fb_level0_col0\" class=\"col_heading level0 col0\" >Silhouette</th>\n",
              "      <th id=\"T_d92fb_level0_col1\" class=\"col_heading level0 col1\" >Calinski-Harabasz</th>\n",
              "      <th id=\"T_d92fb_level0_col2\" class=\"col_heading level0 col2\" >Davies-Bouldin</th>\n",
              "      <th id=\"T_d92fb_level0_col3\" class=\"col_heading level0 col3\" >Homogeneity</th>\n",
              "      <th id=\"T_d92fb_level0_col4\" class=\"col_heading level0 col4\" >Rand Index</th>\n",
              "      <th id=\"T_d92fb_level0_col5\" class=\"col_heading level0 col5\" >Completeness</th>\n",
              "    </tr>\n",
              "  </thead>\n",
              "  <tbody>\n",
              "    <tr>\n",
              "      <th id=\"T_d92fb_level0_row0\" class=\"row_heading level0 row0\" >0</th>\n",
              "      <td id=\"T_d92fb_row0_col0\" class=\"data row0 col0\" >0.4838</td>\n",
              "      <td id=\"T_d92fb_row0_col1\" class=\"data row0 col1\" >3051.5684</td>\n",
              "      <td id=\"T_d92fb_row0_col2\" class=\"data row0 col2\" >0.7150</td>\n",
              "      <td id=\"T_d92fb_row0_col3\" class=\"data row0 col3\" >0</td>\n",
              "      <td id=\"T_d92fb_row0_col4\" class=\"data row0 col4\" >0</td>\n",
              "      <td id=\"T_d92fb_row0_col5\" class=\"data row0 col5\" >0</td>\n",
              "    </tr>\n",
              "  </tbody>\n",
              "</table>\n"
            ],
            "text/plain": [
              "<pandas.io.formats.style.Styler at 0x7f929f536b50>"
            ]
          },
          "metadata": {},
          "output_type": "display_data"
        },
        {
          "data": {
            "application/vnd.jupyter.widget-view+json": {
              "model_id": "a2135c7fc4dd491faedfa9575ed74ad9",
              "version_major": 2,
              "version_minor": 0
            },
            "text/plain": [
              "Processing:   0%|          | 0/3 [00:00<?, ?it/s]"
            ]
          },
          "metadata": {
            "application/vnd.jupyter.widget-view+json": {
              "colab": {
                "custom_widget_manager": {
                  "url": "https://ssl.gstatic.com/colaboratory-static/widgets/colab-cdn-widget-manager/2b70e893a8ba7c0f/manager.min.js"
                }
              }
            }
          },
          "output_type": "display_data"
        },
        {
          "data": {
            "text/html": [],
            "text/plain": [
              "<IPython.core.display.HTML object>"
            ]
          },
          "metadata": {},
          "output_type": "display_data"
        },
        {
          "data": {
            "application/vnd.google.colaboratory.intrinsic+json": {
              "summary": "{\n  \"name\": \"kMeanPrediction\",\n  \"rows\": 1599,\n  \"fields\": [\n    {\n      \"column\": \"fixed acidity\",\n      \"properties\": {\n        \"dtype\": \"float32\",\n        \"num_unique_values\": 96,\n        \"samples\": [\n          5.300000190734863,\n          12.699999809265137,\n          12.600000381469727\n        ],\n        \"semantic_type\": \"\",\n        \"description\": \"\"\n      }\n    },\n    {\n      \"column\": \"volatile acidity\",\n      \"properties\": {\n        \"dtype\": \"float32\",\n        \"num_unique_values\": 143,\n        \"samples\": [\n          1.024999976158142,\n          0.4000000059604645,\n          0.8700000047683716\n        ],\n        \"semantic_type\": \"\",\n        \"description\": \"\"\n      }\n    },\n    {\n      \"column\": \"citric acid\",\n      \"properties\": {\n        \"dtype\": \"float32\",\n        \"num_unique_values\": 80,\n        \"samples\": [\n          0.3700000047683716,\n          0.0,\n          0.09000000357627869\n        ],\n        \"semantic_type\": \"\",\n        \"description\": \"\"\n      }\n    },\n    {\n      \"column\": \"residual sugar\",\n      \"properties\": {\n        \"dtype\": \"float32\",\n        \"num_unique_values\": 91,\n        \"samples\": [\n          11.0,\n          3.0,\n          15.5\n        ],\n        \"semantic_type\": \"\",\n        \"description\": \"\"\n      }\n    },\n    {\n      \"column\": \"chlorides\",\n      \"properties\": {\n        \"dtype\": \"float32\",\n        \"num_unique_values\": 153,\n        \"samples\": [\n          0.09600000083446503,\n          0.34299999475479126,\n          0.1589999943971634\n        ],\n        \"semantic_type\": \"\",\n        \"description\": \"\"\n      }\n    },\n    {\n      \"column\": \"free sulfur dioxide\",\n      \"properties\": {\n        \"dtype\": \"float32\",\n        \"num_unique_values\": 60,\n        \"samples\": [\n          11.0,\n          9.0,\n          32.0\n        ],\n        \"semantic_type\": \"\",\n        \"description\": \"\"\n      }\n    },\n    {\n      \"column\": \"total sulfur dioxide\",\n      \"properties\": {\n        \"dtype\": \"float32\",\n        \"num_unique_values\": 144,\n        \"samples\": [\n          68.0,\n          35.0,\n          101.0\n        ],\n        \"semantic_type\": \"\",\n        \"description\": \"\"\n      }\n    },\n    {\n      \"column\": \"density\",\n      \"properties\": {\n        \"dtype\": \"float32\",\n        \"num_unique_values\": 436,\n        \"samples\": [\n          0.9997400045394897,\n          1.000100016593933,\n          0.9947100281715393\n        ],\n        \"semantic_type\": \"\",\n        \"description\": \"\"\n      }\n    },\n    {\n      \"column\": \"pH\",\n      \"properties\": {\n        \"dtype\": \"float32\",\n        \"num_unique_values\": 89,\n        \"samples\": [\n          3.069999933242798,\n          3.0,\n          3.1500000953674316\n        ],\n        \"semantic_type\": \"\",\n        \"description\": \"\"\n      }\n    },\n    {\n      \"column\": \"sulphates\",\n      \"properties\": {\n        \"dtype\": \"float32\",\n        \"num_unique_values\": 96,\n        \"samples\": [\n          1.0700000524520874,\n          1.0399999618530273,\n          1.1799999475479126\n        ],\n        \"semantic_type\": \"\",\n        \"description\": \"\"\n      }\n    },\n    {\n      \"column\": \"alcohol\",\n      \"properties\": {\n        \"dtype\": \"float32\",\n        \"num_unique_values\": 65,\n        \"samples\": [\n          8.5,\n          9.949999809265137,\n          9.399999618530273\n        ],\n        \"semantic_type\": \"\",\n        \"description\": \"\"\n      }\n    },\n    {\n      \"column\": \"quality\",\n      \"properties\": {\n        \"dtype\": \"int8\",\n        \"num_unique_values\": 6,\n        \"samples\": [\n          5,\n          6,\n          3\n        ],\n        \"semantic_type\": \"\",\n        \"description\": \"\"\n      }\n    },\n    {\n      \"column\": \"Cluster\",\n      \"properties\": {\n        \"dtype\": \"category\",\n        \"num_unique_values\": 4,\n        \"samples\": [\n          \"Cluster 1\",\n          \"Cluster 3\",\n          \"Cluster 0\"\n        ],\n        \"semantic_type\": \"\",\n        \"description\": \"\"\n      }\n    }\n  ]\n}",
              "type": "dataframe",
              "variable_name": "kMeanPrediction"
            },
            "text/html": [
              "\n",
              "  <div id=\"df-92b227f2-d96f-43e6-8c22-a0994081312d\" class=\"colab-df-container\">\n",
              "    <div>\n",
              "<style scoped>\n",
              "    .dataframe tbody tr th:only-of-type {\n",
              "        vertical-align: middle;\n",
              "    }\n",
              "\n",
              "    .dataframe tbody tr th {\n",
              "        vertical-align: top;\n",
              "    }\n",
              "\n",
              "    .dataframe thead th {\n",
              "        text-align: right;\n",
              "    }\n",
              "</style>\n",
              "<table border=\"1\" class=\"dataframe\">\n",
              "  <thead>\n",
              "    <tr style=\"text-align: right;\">\n",
              "      <th></th>\n",
              "      <th>fixed acidity</th>\n",
              "      <th>volatile acidity</th>\n",
              "      <th>citric acid</th>\n",
              "      <th>residual sugar</th>\n",
              "      <th>chlorides</th>\n",
              "      <th>free sulfur dioxide</th>\n",
              "      <th>total sulfur dioxide</th>\n",
              "      <th>density</th>\n",
              "      <th>pH</th>\n",
              "      <th>sulphates</th>\n",
              "      <th>alcohol</th>\n",
              "      <th>quality</th>\n",
              "      <th>Cluster</th>\n",
              "    </tr>\n",
              "  </thead>\n",
              "  <tbody>\n",
              "    <tr>\n",
              "      <th>0</th>\n",
              "      <td>7.4</td>\n",
              "      <td>0.700</td>\n",
              "      <td>0.00</td>\n",
              "      <td>1.9</td>\n",
              "      <td>0.076</td>\n",
              "      <td>11.0</td>\n",
              "      <td>34.0</td>\n",
              "      <td>0.99780</td>\n",
              "      <td>3.51</td>\n",
              "      <td>0.56</td>\n",
              "      <td>9.4</td>\n",
              "      <td>5</td>\n",
              "      <td>Cluster 0</td>\n",
              "    </tr>\n",
              "    <tr>\n",
              "      <th>1</th>\n",
              "      <td>7.8</td>\n",
              "      <td>0.880</td>\n",
              "      <td>0.00</td>\n",
              "      <td>2.6</td>\n",
              "      <td>0.098</td>\n",
              "      <td>25.0</td>\n",
              "      <td>67.0</td>\n",
              "      <td>0.99680</td>\n",
              "      <td>3.20</td>\n",
              "      <td>0.68</td>\n",
              "      <td>9.8</td>\n",
              "      <td>5</td>\n",
              "      <td>Cluster 1</td>\n",
              "    </tr>\n",
              "    <tr>\n",
              "      <th>2</th>\n",
              "      <td>7.8</td>\n",
              "      <td>0.760</td>\n",
              "      <td>0.04</td>\n",
              "      <td>2.3</td>\n",
              "      <td>0.092</td>\n",
              "      <td>15.0</td>\n",
              "      <td>54.0</td>\n",
              "      <td>0.99700</td>\n",
              "      <td>3.26</td>\n",
              "      <td>0.65</td>\n",
              "      <td>9.8</td>\n",
              "      <td>5</td>\n",
              "      <td>Cluster 2</td>\n",
              "    </tr>\n",
              "    <tr>\n",
              "      <th>3</th>\n",
              "      <td>11.2</td>\n",
              "      <td>0.280</td>\n",
              "      <td>0.56</td>\n",
              "      <td>1.9</td>\n",
              "      <td>0.075</td>\n",
              "      <td>17.0</td>\n",
              "      <td>60.0</td>\n",
              "      <td>0.99800</td>\n",
              "      <td>3.16</td>\n",
              "      <td>0.58</td>\n",
              "      <td>9.8</td>\n",
              "      <td>6</td>\n",
              "      <td>Cluster 2</td>\n",
              "    </tr>\n",
              "    <tr>\n",
              "      <th>4</th>\n",
              "      <td>7.4</td>\n",
              "      <td>0.700</td>\n",
              "      <td>0.00</td>\n",
              "      <td>1.9</td>\n",
              "      <td>0.076</td>\n",
              "      <td>11.0</td>\n",
              "      <td>34.0</td>\n",
              "      <td>0.99780</td>\n",
              "      <td>3.51</td>\n",
              "      <td>0.56</td>\n",
              "      <td>9.4</td>\n",
              "      <td>5</td>\n",
              "      <td>Cluster 0</td>\n",
              "    </tr>\n",
              "    <tr>\n",
              "      <th>...</th>\n",
              "      <td>...</td>\n",
              "      <td>...</td>\n",
              "      <td>...</td>\n",
              "      <td>...</td>\n",
              "      <td>...</td>\n",
              "      <td>...</td>\n",
              "      <td>...</td>\n",
              "      <td>...</td>\n",
              "      <td>...</td>\n",
              "      <td>...</td>\n",
              "      <td>...</td>\n",
              "      <td>...</td>\n",
              "      <td>...</td>\n",
              "    </tr>\n",
              "    <tr>\n",
              "      <th>1594</th>\n",
              "      <td>6.2</td>\n",
              "      <td>0.600</td>\n",
              "      <td>0.08</td>\n",
              "      <td>2.0</td>\n",
              "      <td>0.090</td>\n",
              "      <td>32.0</td>\n",
              "      <td>44.0</td>\n",
              "      <td>0.99490</td>\n",
              "      <td>3.45</td>\n",
              "      <td>0.58</td>\n",
              "      <td>10.5</td>\n",
              "      <td>5</td>\n",
              "      <td>Cluster 2</td>\n",
              "    </tr>\n",
              "    <tr>\n",
              "      <th>1595</th>\n",
              "      <td>5.9</td>\n",
              "      <td>0.550</td>\n",
              "      <td>0.10</td>\n",
              "      <td>2.2</td>\n",
              "      <td>0.062</td>\n",
              "      <td>39.0</td>\n",
              "      <td>51.0</td>\n",
              "      <td>0.99512</td>\n",
              "      <td>3.52</td>\n",
              "      <td>0.76</td>\n",
              "      <td>11.2</td>\n",
              "      <td>6</td>\n",
              "      <td>Cluster 2</td>\n",
              "    </tr>\n",
              "    <tr>\n",
              "      <th>1596</th>\n",
              "      <td>6.3</td>\n",
              "      <td>0.510</td>\n",
              "      <td>0.13</td>\n",
              "      <td>2.3</td>\n",
              "      <td>0.076</td>\n",
              "      <td>29.0</td>\n",
              "      <td>40.0</td>\n",
              "      <td>0.99574</td>\n",
              "      <td>3.42</td>\n",
              "      <td>0.75</td>\n",
              "      <td>11.0</td>\n",
              "      <td>6</td>\n",
              "      <td>Cluster 2</td>\n",
              "    </tr>\n",
              "    <tr>\n",
              "      <th>1597</th>\n",
              "      <td>5.9</td>\n",
              "      <td>0.645</td>\n",
              "      <td>0.12</td>\n",
              "      <td>2.0</td>\n",
              "      <td>0.075</td>\n",
              "      <td>32.0</td>\n",
              "      <td>44.0</td>\n",
              "      <td>0.99547</td>\n",
              "      <td>3.57</td>\n",
              "      <td>0.71</td>\n",
              "      <td>10.2</td>\n",
              "      <td>5</td>\n",
              "      <td>Cluster 2</td>\n",
              "    </tr>\n",
              "    <tr>\n",
              "      <th>1598</th>\n",
              "      <td>6.0</td>\n",
              "      <td>0.310</td>\n",
              "      <td>0.47</td>\n",
              "      <td>3.6</td>\n",
              "      <td>0.067</td>\n",
              "      <td>18.0</td>\n",
              "      <td>42.0</td>\n",
              "      <td>0.99549</td>\n",
              "      <td>3.39</td>\n",
              "      <td>0.66</td>\n",
              "      <td>11.0</td>\n",
              "      <td>6</td>\n",
              "      <td>Cluster 2</td>\n",
              "    </tr>\n",
              "  </tbody>\n",
              "</table>\n",
              "<p>1599 rows × 13 columns</p>\n",
              "</div>\n",
              "    <div class=\"colab-df-buttons\">\n",
              "\n",
              "  <div class=\"colab-df-container\">\n",
              "    <button class=\"colab-df-convert\" onclick=\"convertToInteractive('df-92b227f2-d96f-43e6-8c22-a0994081312d')\"\n",
              "            title=\"Convert this dataframe to an interactive table.\"\n",
              "            style=\"display:none;\">\n",
              "\n",
              "  <svg xmlns=\"http://www.w3.org/2000/svg\" height=\"24px\" viewBox=\"0 -960 960 960\">\n",
              "    <path d=\"M120-120v-720h720v720H120Zm60-500h600v-160H180v160Zm220 220h160v-160H400v160Zm0 220h160v-160H400v160ZM180-400h160v-160H180v160Zm440 0h160v-160H620v160ZM180-180h160v-160H180v160Zm440 0h160v-160H620v160Z\"/>\n",
              "  </svg>\n",
              "    </button>\n",
              "\n",
              "  <style>\n",
              "    .colab-df-container {\n",
              "      display:flex;\n",
              "      gap: 12px;\n",
              "    }\n",
              "\n",
              "    .colab-df-convert {\n",
              "      background-color: #E8F0FE;\n",
              "      border: none;\n",
              "      border-radius: 50%;\n",
              "      cursor: pointer;\n",
              "      display: none;\n",
              "      fill: #1967D2;\n",
              "      height: 32px;\n",
              "      padding: 0 0 0 0;\n",
              "      width: 32px;\n",
              "    }\n",
              "\n",
              "    .colab-df-convert:hover {\n",
              "      background-color: #E2EBFA;\n",
              "      box-shadow: 0px 1px 2px rgba(60, 64, 67, 0.3), 0px 1px 3px 1px rgba(60, 64, 67, 0.15);\n",
              "      fill: #174EA6;\n",
              "    }\n",
              "\n",
              "    .colab-df-buttons div {\n",
              "      margin-bottom: 4px;\n",
              "    }\n",
              "\n",
              "    [theme=dark] .colab-df-convert {\n",
              "      background-color: #3B4455;\n",
              "      fill: #D2E3FC;\n",
              "    }\n",
              "\n",
              "    [theme=dark] .colab-df-convert:hover {\n",
              "      background-color: #434B5C;\n",
              "      box-shadow: 0px 1px 3px 1px rgba(0, 0, 0, 0.15);\n",
              "      filter: drop-shadow(0px 1px 2px rgba(0, 0, 0, 0.3));\n",
              "      fill: #FFFFFF;\n",
              "    }\n",
              "  </style>\n",
              "\n",
              "    <script>\n",
              "      const buttonEl =\n",
              "        document.querySelector('#df-92b227f2-d96f-43e6-8c22-a0994081312d button.colab-df-convert');\n",
              "      buttonEl.style.display =\n",
              "        google.colab.kernel.accessAllowed ? 'block' : 'none';\n",
              "\n",
              "      async function convertToInteractive(key) {\n",
              "        const element = document.querySelector('#df-92b227f2-d96f-43e6-8c22-a0994081312d');\n",
              "        const dataTable =\n",
              "          await google.colab.kernel.invokeFunction('convertToInteractive',\n",
              "                                                    [key], {});\n",
              "        if (!dataTable) return;\n",
              "\n",
              "        const docLinkHtml = 'Like what you see? Visit the ' +\n",
              "          '<a target=\"_blank\" href=https://colab.research.google.com/notebooks/data_table.ipynb>data table notebook</a>'\n",
              "          + ' to learn more about interactive tables.';\n",
              "        element.innerHTML = '';\n",
              "        dataTable['output_type'] = 'display_data';\n",
              "        await google.colab.output.renderOutput(dataTable, element);\n",
              "        const docLink = document.createElement('div');\n",
              "        docLink.innerHTML = docLinkHtml;\n",
              "        element.appendChild(docLink);\n",
              "      }\n",
              "    </script>\n",
              "  </div>\n",
              "\n",
              "\n",
              "<div id=\"df-a4a61426-e9e1-4566-bc7c-23ed834fd7bf\">\n",
              "  <button class=\"colab-df-quickchart\" onclick=\"quickchart('df-a4a61426-e9e1-4566-bc7c-23ed834fd7bf')\"\n",
              "            title=\"Suggest charts\"\n",
              "            style=\"display:none;\">\n",
              "\n",
              "<svg xmlns=\"http://www.w3.org/2000/svg\" height=\"24px\"viewBox=\"0 0 24 24\"\n",
              "     width=\"24px\">\n",
              "    <g>\n",
              "        <path d=\"M19 3H5c-1.1 0-2 .9-2 2v14c0 1.1.9 2 2 2h14c1.1 0 2-.9 2-2V5c0-1.1-.9-2-2-2zM9 17H7v-7h2v7zm4 0h-2V7h2v10zm4 0h-2v-4h2v4z\"/>\n",
              "    </g>\n",
              "</svg>\n",
              "  </button>\n",
              "\n",
              "<style>\n",
              "  .colab-df-quickchart {\n",
              "      --bg-color: #E8F0FE;\n",
              "      --fill-color: #1967D2;\n",
              "      --hover-bg-color: #E2EBFA;\n",
              "      --hover-fill-color: #174EA6;\n",
              "      --disabled-fill-color: #AAA;\n",
              "      --disabled-bg-color: #DDD;\n",
              "  }\n",
              "\n",
              "  [theme=dark] .colab-df-quickchart {\n",
              "      --bg-color: #3B4455;\n",
              "      --fill-color: #D2E3FC;\n",
              "      --hover-bg-color: #434B5C;\n",
              "      --hover-fill-color: #FFFFFF;\n",
              "      --disabled-bg-color: #3B4455;\n",
              "      --disabled-fill-color: #666;\n",
              "  }\n",
              "\n",
              "  .colab-df-quickchart {\n",
              "    background-color: var(--bg-color);\n",
              "    border: none;\n",
              "    border-radius: 50%;\n",
              "    cursor: pointer;\n",
              "    display: none;\n",
              "    fill: var(--fill-color);\n",
              "    height: 32px;\n",
              "    padding: 0;\n",
              "    width: 32px;\n",
              "  }\n",
              "\n",
              "  .colab-df-quickchart:hover {\n",
              "    background-color: var(--hover-bg-color);\n",
              "    box-shadow: 0 1px 2px rgba(60, 64, 67, 0.3), 0 1px 3px 1px rgba(60, 64, 67, 0.15);\n",
              "    fill: var(--button-hover-fill-color);\n",
              "  }\n",
              "\n",
              "  .colab-df-quickchart-complete:disabled,\n",
              "  .colab-df-quickchart-complete:disabled:hover {\n",
              "    background-color: var(--disabled-bg-color);\n",
              "    fill: var(--disabled-fill-color);\n",
              "    box-shadow: none;\n",
              "  }\n",
              "\n",
              "  .colab-df-spinner {\n",
              "    border: 2px solid var(--fill-color);\n",
              "    border-color: transparent;\n",
              "    border-bottom-color: var(--fill-color);\n",
              "    animation:\n",
              "      spin 1s steps(1) infinite;\n",
              "  }\n",
              "\n",
              "  @keyframes spin {\n",
              "    0% {\n",
              "      border-color: transparent;\n",
              "      border-bottom-color: var(--fill-color);\n",
              "      border-left-color: var(--fill-color);\n",
              "    }\n",
              "    20% {\n",
              "      border-color: transparent;\n",
              "      border-left-color: var(--fill-color);\n",
              "      border-top-color: var(--fill-color);\n",
              "    }\n",
              "    30% {\n",
              "      border-color: transparent;\n",
              "      border-left-color: var(--fill-color);\n",
              "      border-top-color: var(--fill-color);\n",
              "      border-right-color: var(--fill-color);\n",
              "    }\n",
              "    40% {\n",
              "      border-color: transparent;\n",
              "      border-right-color: var(--fill-color);\n",
              "      border-top-color: var(--fill-color);\n",
              "    }\n",
              "    60% {\n",
              "      border-color: transparent;\n",
              "      border-right-color: var(--fill-color);\n",
              "    }\n",
              "    80% {\n",
              "      border-color: transparent;\n",
              "      border-right-color: var(--fill-color);\n",
              "      border-bottom-color: var(--fill-color);\n",
              "    }\n",
              "    90% {\n",
              "      border-color: transparent;\n",
              "      border-bottom-color: var(--fill-color);\n",
              "    }\n",
              "  }\n",
              "</style>\n",
              "\n",
              "  <script>\n",
              "    async function quickchart(key) {\n",
              "      const quickchartButtonEl =\n",
              "        document.querySelector('#' + key + ' button');\n",
              "      quickchartButtonEl.disabled = true;  // To prevent multiple clicks.\n",
              "      quickchartButtonEl.classList.add('colab-df-spinner');\n",
              "      try {\n",
              "        const charts = await google.colab.kernel.invokeFunction(\n",
              "            'suggestCharts', [key], {});\n",
              "      } catch (error) {\n",
              "        console.error('Error during call to suggestCharts:', error);\n",
              "      }\n",
              "      quickchartButtonEl.classList.remove('colab-df-spinner');\n",
              "      quickchartButtonEl.classList.add('colab-df-quickchart-complete');\n",
              "    }\n",
              "    (() => {\n",
              "      let quickchartButtonEl =\n",
              "        document.querySelector('#df-a4a61426-e9e1-4566-bc7c-23ed834fd7bf button');\n",
              "      quickchartButtonEl.style.display =\n",
              "        google.colab.kernel.accessAllowed ? 'block' : 'none';\n",
              "    })();\n",
              "  </script>\n",
              "</div>\n",
              "\n",
              "  <div id=\"id_7e32e19d-efd7-4640-80b2-555ea35f5224\">\n",
              "    <style>\n",
              "      .colab-df-generate {\n",
              "        background-color: #E8F0FE;\n",
              "        border: none;\n",
              "        border-radius: 50%;\n",
              "        cursor: pointer;\n",
              "        display: none;\n",
              "        fill: #1967D2;\n",
              "        height: 32px;\n",
              "        padding: 0 0 0 0;\n",
              "        width: 32px;\n",
              "      }\n",
              "\n",
              "      .colab-df-generate:hover {\n",
              "        background-color: #E2EBFA;\n",
              "        box-shadow: 0px 1px 2px rgba(60, 64, 67, 0.3), 0px 1px 3px 1px rgba(60, 64, 67, 0.15);\n",
              "        fill: #174EA6;\n",
              "      }\n",
              "\n",
              "      [theme=dark] .colab-df-generate {\n",
              "        background-color: #3B4455;\n",
              "        fill: #D2E3FC;\n",
              "      }\n",
              "\n",
              "      [theme=dark] .colab-df-generate:hover {\n",
              "        background-color: #434B5C;\n",
              "        box-shadow: 0px 1px 3px 1px rgba(0, 0, 0, 0.15);\n",
              "        filter: drop-shadow(0px 1px 2px rgba(0, 0, 0, 0.3));\n",
              "        fill: #FFFFFF;\n",
              "      }\n",
              "    </style>\n",
              "    <button class=\"colab-df-generate\" onclick=\"generateWithVariable('kMeanPrediction')\"\n",
              "            title=\"Generate code using this dataframe.\"\n",
              "            style=\"display:none;\">\n",
              "\n",
              "  <svg xmlns=\"http://www.w3.org/2000/svg\" height=\"24px\"viewBox=\"0 0 24 24\"\n",
              "       width=\"24px\">\n",
              "    <path d=\"M7,19H8.4L18.45,9,17,7.55,7,17.6ZM5,21V16.75L18.45,3.32a2,2,0,0,1,2.83,0l1.4,1.43a1.91,1.91,0,0,1,.58,1.4,1.91,1.91,0,0,1-.58,1.4L9.25,21ZM18.45,9,17,7.55Zm-12,3A5.31,5.31,0,0,0,4.9,8.1,5.31,5.31,0,0,0,1,6.5,5.31,5.31,0,0,0,4.9,4.9,5.31,5.31,0,0,0,6.5,1,5.31,5.31,0,0,0,8.1,4.9,5.31,5.31,0,0,0,12,6.5,5.46,5.46,0,0,0,6.5,12Z\"/>\n",
              "  </svg>\n",
              "    </button>\n",
              "    <script>\n",
              "      (() => {\n",
              "      const buttonEl =\n",
              "        document.querySelector('#id_7e32e19d-efd7-4640-80b2-555ea35f5224 button.colab-df-generate');\n",
              "      buttonEl.style.display =\n",
              "        google.colab.kernel.accessAllowed ? 'block' : 'none';\n",
              "\n",
              "      buttonEl.onclick = () => {\n",
              "        google.colab.notebook.generateWithVariable('kMeanPrediction');\n",
              "      }\n",
              "      })();\n",
              "    </script>\n",
              "  </div>\n",
              "\n",
              "    </div>\n",
              "  </div>\n"
            ],
            "text/plain": [
              "      fixed acidity  volatile acidity  citric acid  residual sugar  chlorides  \\\n",
              "0               7.4             0.700         0.00             1.9      0.076   \n",
              "1               7.8             0.880         0.00             2.6      0.098   \n",
              "2               7.8             0.760         0.04             2.3      0.092   \n",
              "3              11.2             0.280         0.56             1.9      0.075   \n",
              "4               7.4             0.700         0.00             1.9      0.076   \n",
              "...             ...               ...          ...             ...        ...   \n",
              "1594            6.2             0.600         0.08             2.0      0.090   \n",
              "1595            5.9             0.550         0.10             2.2      0.062   \n",
              "1596            6.3             0.510         0.13             2.3      0.076   \n",
              "1597            5.9             0.645         0.12             2.0      0.075   \n",
              "1598            6.0             0.310         0.47             3.6      0.067   \n",
              "\n",
              "      free sulfur dioxide  total sulfur dioxide  density    pH  sulphates  \\\n",
              "0                    11.0                  34.0  0.99780  3.51       0.56   \n",
              "1                    25.0                  67.0  0.99680  3.20       0.68   \n",
              "2                    15.0                  54.0  0.99700  3.26       0.65   \n",
              "3                    17.0                  60.0  0.99800  3.16       0.58   \n",
              "4                    11.0                  34.0  0.99780  3.51       0.56   \n",
              "...                   ...                   ...      ...   ...        ...   \n",
              "1594                 32.0                  44.0  0.99490  3.45       0.58   \n",
              "1595                 39.0                  51.0  0.99512  3.52       0.76   \n",
              "1596                 29.0                  40.0  0.99574  3.42       0.75   \n",
              "1597                 32.0                  44.0  0.99547  3.57       0.71   \n",
              "1598                 18.0                  42.0  0.99549  3.39       0.66   \n",
              "\n",
              "      alcohol  quality    Cluster  \n",
              "0         9.4        5  Cluster 0  \n",
              "1         9.8        5  Cluster 1  \n",
              "2         9.8        5  Cluster 2  \n",
              "3         9.8        6  Cluster 2  \n",
              "4         9.4        5  Cluster 0  \n",
              "...       ...      ...        ...  \n",
              "1594     10.5        5  Cluster 2  \n",
              "1595     11.2        6  Cluster 2  \n",
              "1596     11.0        6  Cluster 2  \n",
              "1597     10.2        5  Cluster 2  \n",
              "1598     11.0        6  Cluster 2  \n",
              "\n",
              "[1599 rows x 13 columns]"
            ]
          },
          "execution_count": 8,
          "metadata": {},
          "output_type": "execute_result"
        }
      ],
      "source": [
        "from pycaret.clustering import *\n",
        "\n",
        "\n",
        "s = setup(myDataSet, verbose=False)\n",
        "\n",
        "KMeanClusteringModel = create_model('kmeans', num_clusters=4)\n",
        "kMeanPrediction = assign_model(KMeanClusteringModel)\n",
        "\n",
        "kMeanPrediction"
      ]
    },
    {
      "cell_type": "code",
      "execution_count": null,
      "metadata": {
        "id": "fLFB8lIEw7tO"
      },
      "outputs": [],
      "source": [
        "kMeanPrediction.to_csv(\"kMeanPrediction.csv\")\n",
        "\n",
        "# Explore the \"Files Folder\""
      ]
    },
    {
      "cell_type": "code",
      "execution_count": null,
      "metadata": {
        "colab": {
          "base_uri": "https://localhost:8080/"
        },
        "id": "BTQqMaq_b3Iy",
        "outputId": "77fe7fea-d4b3-4cb1-9163-7da2ebdbdeda"
      },
      "outputs": [
        {
          "name": "stdout",
          "output_type": "stream",
          "text": [
            "Transformation Pipeline and Model Successfully Saved\n"
          ]
        }
      ],
      "source": [
        "s = save_model(KMeanClusteringModel, 'kMeanClusteringModelFile')\n",
        "\n",
        "# Explore the \"Files\" Folder and download it."
      ]
    },
    {
      "cell_type": "code",
      "execution_count": null,
      "metadata": {
        "colab": {
          "base_uri": "https://localhost:8080/"
        },
        "id": "z5KcVsi_b3Iz",
        "outputId": "961c2d25-fd79-488c-ead3-0c53c0d64d23"
      },
      "outputs": [
        {
          "name": "stdout",
          "output_type": "stream",
          "text": [
            "Transformation Pipeline and Model Successfully Loaded\n"
          ]
        }
      ],
      "source": [
        "kMeanClusteringModel = load_model('kMeanClusteringModelFile')"
      ]
    },
    {
      "cell_type": "code",
      "execution_count": null,
      "metadata": {
        "id": "PDSIpXdjvy-8"
      },
      "outputs": [],
      "source": [
        "# Select top 10 rows from jewellery dataset\n",
        "\n",
        "newData = myDataSet.iloc[:10]"
      ]
    },
    {
      "cell_type": "markdown",
      "metadata": {
        "id": "PSV8aKNnb3I3"
      },
      "source": [
        "---\n",
        "### **3.2 Make prediction on the new dataset (Unseen Data)**\n",
        "---"
      ]
    },
    {
      "cell_type": "code",
      "execution_count": null,
      "metadata": {
        "colab": {
          "base_uri": "https://localhost:8080/",
          "height": 398
        },
        "id": "jeWv6y4Xb3I3",
        "outputId": "fea8e5c2-ab3a-466f-9fb5-7f335977a2e3"
      },
      "outputs": [
        {
          "data": {
            "application/vnd.google.colaboratory.intrinsic+json": {
              "summary": "{\n  \"name\": \"newPredictions\",\n  \"rows\": 10,\n  \"fields\": [\n    {\n      \"column\": \"fixed acidity\",\n      \"properties\": {\n        \"dtype\": \"float32\",\n        \"num_unique_values\": 6,\n        \"samples\": [\n          7.400000095367432,\n          7.800000190734863,\n          7.5\n        ],\n        \"semantic_type\": \"\",\n        \"description\": \"\"\n      }\n    },\n    {\n      \"column\": \"volatile acidity\",\n      \"properties\": {\n        \"dtype\": \"float32\",\n        \"num_unique_values\": 9,\n        \"samples\": [\n          0.5799999833106995,\n          0.8799999952316284,\n          0.6000000238418579\n        ],\n        \"semantic_type\": \"\",\n        \"description\": \"\"\n      }\n    },\n    {\n      \"column\": \"citric acid\",\n      \"properties\": {\n        \"dtype\": \"float32\",\n        \"num_unique_values\": 6,\n        \"samples\": [\n          0.0,\n          0.03999999910593033,\n          0.36000001430511475\n        ],\n        \"semantic_type\": \"\",\n        \"description\": \"\"\n      }\n    },\n    {\n      \"column\": \"residual sugar\",\n      \"properties\": {\n        \"dtype\": \"float32\",\n        \"num_unique_values\": 8,\n        \"samples\": [\n          2.5999999046325684,\n          1.2000000476837158,\n          1.899999976158142\n        ],\n        \"semantic_type\": \"\",\n        \"description\": \"\"\n      }\n    },\n    {\n      \"column\": \"chlorides\",\n      \"properties\": {\n        \"dtype\": \"float32\",\n        \"num_unique_values\": 8,\n        \"samples\": [\n          0.09799999743700027,\n          0.06499999761581421,\n          0.07599999755620956\n        ],\n        \"semantic_type\": \"\",\n        \"description\": \"\"\n      }\n    },\n    {\n      \"column\": \"free sulfur dioxide\",\n      \"properties\": {\n        \"dtype\": \"float32\",\n        \"num_unique_values\": 6,\n        \"samples\": [\n          11.0,\n          25.0,\n          9.0\n        ],\n        \"semantic_type\": \"\",\n        \"description\": \"\"\n      }\n    },\n    {\n      \"column\": \"total sulfur dioxide\",\n      \"properties\": {\n        \"dtype\": \"float32\",\n        \"num_unique_values\": 9,\n        \"samples\": [\n          18.0,\n          67.0,\n          59.0\n        ],\n        \"semantic_type\": \"\",\n        \"description\": \"\"\n      }\n    },\n    {\n      \"column\": \"density\",\n      \"properties\": {\n        \"dtype\": \"float32\",\n        \"num_unique_values\": 6,\n        \"samples\": [\n          0.9977999925613403,\n          0.9968000054359436,\n          0.9945999979972839\n        ],\n        \"semantic_type\": \"\",\n        \"description\": \"\"\n      }\n    },\n    {\n      \"column\": \"pH\",\n      \"properties\": {\n        \"dtype\": \"float32\",\n        \"num_unique_values\": 8,\n        \"samples\": [\n          3.200000047683716,\n          3.390000104904175,\n          3.509999990463257\n        ],\n        \"semantic_type\": \"\",\n        \"description\": \"\"\n      }\n    },\n    {\n      \"column\": \"sulphates\",\n      \"properties\": {\n        \"dtype\": \"float32\",\n        \"num_unique_values\": 8,\n        \"samples\": [\n          0.6800000071525574,\n          0.4699999988079071,\n          0.5600000023841858\n        ],\n        \"semantic_type\": \"\",\n        \"description\": \"\"\n      }\n    },\n    {\n      \"column\": \"alcohol\",\n      \"properties\": {\n        \"dtype\": \"float32\",\n        \"num_unique_values\": 5,\n        \"samples\": [\n          9.800000190734863,\n          10.5,\n          10.0\n        ],\n        \"semantic_type\": \"\",\n        \"description\": \"\"\n      }\n    },\n    {\n      \"column\": \"quality\",\n      \"properties\": {\n        \"dtype\": \"int8\",\n        \"num_unique_values\": 3,\n        \"samples\": [\n          5,\n          6,\n          7\n        ],\n        \"semantic_type\": \"\",\n        \"description\": \"\"\n      }\n    },\n    {\n      \"column\": \"Cluster\",\n      \"properties\": {\n        \"dtype\": \"category\",\n        \"num_unique_values\": 3,\n        \"samples\": [\n          \"Cluster 0\",\n          \"Cluster 1\",\n          \"Cluster 2\"\n        ],\n        \"semantic_type\": \"\",\n        \"description\": \"\"\n      }\n    }\n  ]\n}",
              "type": "dataframe",
              "variable_name": "newPredictions"
            },
            "text/html": [
              "\n",
              "  <div id=\"df-b1e231e2-dedc-49c4-8310-9551c4b54fc1\" class=\"colab-df-container\">\n",
              "    <div>\n",
              "<style scoped>\n",
              "    .dataframe tbody tr th:only-of-type {\n",
              "        vertical-align: middle;\n",
              "    }\n",
              "\n",
              "    .dataframe tbody tr th {\n",
              "        vertical-align: top;\n",
              "    }\n",
              "\n",
              "    .dataframe thead th {\n",
              "        text-align: right;\n",
              "    }\n",
              "</style>\n",
              "<table border=\"1\" class=\"dataframe\">\n",
              "  <thead>\n",
              "    <tr style=\"text-align: right;\">\n",
              "      <th></th>\n",
              "      <th>fixed acidity</th>\n",
              "      <th>volatile acidity</th>\n",
              "      <th>citric acid</th>\n",
              "      <th>residual sugar</th>\n",
              "      <th>chlorides</th>\n",
              "      <th>free sulfur dioxide</th>\n",
              "      <th>total sulfur dioxide</th>\n",
              "      <th>density</th>\n",
              "      <th>pH</th>\n",
              "      <th>sulphates</th>\n",
              "      <th>alcohol</th>\n",
              "      <th>quality</th>\n",
              "      <th>Cluster</th>\n",
              "    </tr>\n",
              "  </thead>\n",
              "  <tbody>\n",
              "    <tr>\n",
              "      <th>0</th>\n",
              "      <td>7.4</td>\n",
              "      <td>0.70</td>\n",
              "      <td>0.00</td>\n",
              "      <td>1.9</td>\n",
              "      <td>0.076</td>\n",
              "      <td>11.0</td>\n",
              "      <td>34.0</td>\n",
              "      <td>0.9978</td>\n",
              "      <td>3.51</td>\n",
              "      <td>0.56</td>\n",
              "      <td>9.4</td>\n",
              "      <td>5</td>\n",
              "      <td>Cluster 0</td>\n",
              "    </tr>\n",
              "    <tr>\n",
              "      <th>1</th>\n",
              "      <td>7.8</td>\n",
              "      <td>0.88</td>\n",
              "      <td>0.00</td>\n",
              "      <td>2.6</td>\n",
              "      <td>0.098</td>\n",
              "      <td>25.0</td>\n",
              "      <td>67.0</td>\n",
              "      <td>0.9968</td>\n",
              "      <td>3.20</td>\n",
              "      <td>0.68</td>\n",
              "      <td>9.8</td>\n",
              "      <td>5</td>\n",
              "      <td>Cluster 1</td>\n",
              "    </tr>\n",
              "    <tr>\n",
              "      <th>2</th>\n",
              "      <td>7.8</td>\n",
              "      <td>0.76</td>\n",
              "      <td>0.04</td>\n",
              "      <td>2.3</td>\n",
              "      <td>0.092</td>\n",
              "      <td>15.0</td>\n",
              "      <td>54.0</td>\n",
              "      <td>0.9970</td>\n",
              "      <td>3.26</td>\n",
              "      <td>0.65</td>\n",
              "      <td>9.8</td>\n",
              "      <td>5</td>\n",
              "      <td>Cluster 2</td>\n",
              "    </tr>\n",
              "    <tr>\n",
              "      <th>3</th>\n",
              "      <td>11.2</td>\n",
              "      <td>0.28</td>\n",
              "      <td>0.56</td>\n",
              "      <td>1.9</td>\n",
              "      <td>0.075</td>\n",
              "      <td>17.0</td>\n",
              "      <td>60.0</td>\n",
              "      <td>0.9980</td>\n",
              "      <td>3.16</td>\n",
              "      <td>0.58</td>\n",
              "      <td>9.8</td>\n",
              "      <td>6</td>\n",
              "      <td>Cluster 2</td>\n",
              "    </tr>\n",
              "    <tr>\n",
              "      <th>4</th>\n",
              "      <td>7.4</td>\n",
              "      <td>0.70</td>\n",
              "      <td>0.00</td>\n",
              "      <td>1.9</td>\n",
              "      <td>0.076</td>\n",
              "      <td>11.0</td>\n",
              "      <td>34.0</td>\n",
              "      <td>0.9978</td>\n",
              "      <td>3.51</td>\n",
              "      <td>0.56</td>\n",
              "      <td>9.4</td>\n",
              "      <td>5</td>\n",
              "      <td>Cluster 0</td>\n",
              "    </tr>\n",
              "    <tr>\n",
              "      <th>5</th>\n",
              "      <td>7.4</td>\n",
              "      <td>0.66</td>\n",
              "      <td>0.00</td>\n",
              "      <td>1.8</td>\n",
              "      <td>0.075</td>\n",
              "      <td>13.0</td>\n",
              "      <td>40.0</td>\n",
              "      <td>0.9978</td>\n",
              "      <td>3.51</td>\n",
              "      <td>0.56</td>\n",
              "      <td>9.4</td>\n",
              "      <td>5</td>\n",
              "      <td>Cluster 2</td>\n",
              "    </tr>\n",
              "    <tr>\n",
              "      <th>6</th>\n",
              "      <td>7.9</td>\n",
              "      <td>0.60</td>\n",
              "      <td>0.06</td>\n",
              "      <td>1.6</td>\n",
              "      <td>0.069</td>\n",
              "      <td>15.0</td>\n",
              "      <td>59.0</td>\n",
              "      <td>0.9964</td>\n",
              "      <td>3.30</td>\n",
              "      <td>0.46</td>\n",
              "      <td>9.4</td>\n",
              "      <td>5</td>\n",
              "      <td>Cluster 2</td>\n",
              "    </tr>\n",
              "    <tr>\n",
              "      <th>7</th>\n",
              "      <td>7.3</td>\n",
              "      <td>0.65</td>\n",
              "      <td>0.00</td>\n",
              "      <td>1.2</td>\n",
              "      <td>0.065</td>\n",
              "      <td>15.0</td>\n",
              "      <td>21.0</td>\n",
              "      <td>0.9946</td>\n",
              "      <td>3.39</td>\n",
              "      <td>0.47</td>\n",
              "      <td>10.0</td>\n",
              "      <td>7</td>\n",
              "      <td>Cluster 0</td>\n",
              "    </tr>\n",
              "    <tr>\n",
              "      <th>8</th>\n",
              "      <td>7.8</td>\n",
              "      <td>0.58</td>\n",
              "      <td>0.02</td>\n",
              "      <td>2.0</td>\n",
              "      <td>0.073</td>\n",
              "      <td>9.0</td>\n",
              "      <td>18.0</td>\n",
              "      <td>0.9968</td>\n",
              "      <td>3.36</td>\n",
              "      <td>0.57</td>\n",
              "      <td>9.5</td>\n",
              "      <td>7</td>\n",
              "      <td>Cluster 0</td>\n",
              "    </tr>\n",
              "    <tr>\n",
              "      <th>9</th>\n",
              "      <td>7.5</td>\n",
              "      <td>0.50</td>\n",
              "      <td>0.36</td>\n",
              "      <td>6.1</td>\n",
              "      <td>0.071</td>\n",
              "      <td>17.0</td>\n",
              "      <td>102.0</td>\n",
              "      <td>0.9978</td>\n",
              "      <td>3.35</td>\n",
              "      <td>0.80</td>\n",
              "      <td>10.5</td>\n",
              "      <td>5</td>\n",
              "      <td>Cluster 1</td>\n",
              "    </tr>\n",
              "  </tbody>\n",
              "</table>\n",
              "</div>\n",
              "    <div class=\"colab-df-buttons\">\n",
              "\n",
              "  <div class=\"colab-df-container\">\n",
              "    <button class=\"colab-df-convert\" onclick=\"convertToInteractive('df-b1e231e2-dedc-49c4-8310-9551c4b54fc1')\"\n",
              "            title=\"Convert this dataframe to an interactive table.\"\n",
              "            style=\"display:none;\">\n",
              "\n",
              "  <svg xmlns=\"http://www.w3.org/2000/svg\" height=\"24px\" viewBox=\"0 -960 960 960\">\n",
              "    <path d=\"M120-120v-720h720v720H120Zm60-500h600v-160H180v160Zm220 220h160v-160H400v160Zm0 220h160v-160H400v160ZM180-400h160v-160H180v160Zm440 0h160v-160H620v160ZM180-180h160v-160H180v160Zm440 0h160v-160H620v160Z\"/>\n",
              "  </svg>\n",
              "    </button>\n",
              "\n",
              "  <style>\n",
              "    .colab-df-container {\n",
              "      display:flex;\n",
              "      gap: 12px;\n",
              "    }\n",
              "\n",
              "    .colab-df-convert {\n",
              "      background-color: #E8F0FE;\n",
              "      border: none;\n",
              "      border-radius: 50%;\n",
              "      cursor: pointer;\n",
              "      display: none;\n",
              "      fill: #1967D2;\n",
              "      height: 32px;\n",
              "      padding: 0 0 0 0;\n",
              "      width: 32px;\n",
              "    }\n",
              "\n",
              "    .colab-df-convert:hover {\n",
              "      background-color: #E2EBFA;\n",
              "      box-shadow: 0px 1px 2px rgba(60, 64, 67, 0.3), 0px 1px 3px 1px rgba(60, 64, 67, 0.15);\n",
              "      fill: #174EA6;\n",
              "    }\n",
              "\n",
              "    .colab-df-buttons div {\n",
              "      margin-bottom: 4px;\n",
              "    }\n",
              "\n",
              "    [theme=dark] .colab-df-convert {\n",
              "      background-color: #3B4455;\n",
              "      fill: #D2E3FC;\n",
              "    }\n",
              "\n",
              "    [theme=dark] .colab-df-convert:hover {\n",
              "      background-color: #434B5C;\n",
              "      box-shadow: 0px 1px 3px 1px rgba(0, 0, 0, 0.15);\n",
              "      filter: drop-shadow(0px 1px 2px rgba(0, 0, 0, 0.3));\n",
              "      fill: #FFFFFF;\n",
              "    }\n",
              "  </style>\n",
              "\n",
              "    <script>\n",
              "      const buttonEl =\n",
              "        document.querySelector('#df-b1e231e2-dedc-49c4-8310-9551c4b54fc1 button.colab-df-convert');\n",
              "      buttonEl.style.display =\n",
              "        google.colab.kernel.accessAllowed ? 'block' : 'none';\n",
              "\n",
              "      async function convertToInteractive(key) {\n",
              "        const element = document.querySelector('#df-b1e231e2-dedc-49c4-8310-9551c4b54fc1');\n",
              "        const dataTable =\n",
              "          await google.colab.kernel.invokeFunction('convertToInteractive',\n",
              "                                                    [key], {});\n",
              "        if (!dataTable) return;\n",
              "\n",
              "        const docLinkHtml = 'Like what you see? Visit the ' +\n",
              "          '<a target=\"_blank\" href=https://colab.research.google.com/notebooks/data_table.ipynb>data table notebook</a>'\n",
              "          + ' to learn more about interactive tables.';\n",
              "        element.innerHTML = '';\n",
              "        dataTable['output_type'] = 'display_data';\n",
              "        await google.colab.output.renderOutput(dataTable, element);\n",
              "        const docLink = document.createElement('div');\n",
              "        docLink.innerHTML = docLinkHtml;\n",
              "        element.appendChild(docLink);\n",
              "      }\n",
              "    </script>\n",
              "  </div>\n",
              "\n",
              "\n",
              "<div id=\"df-7cc9a550-63d5-4bd3-86a8-d6ca661d3be8\">\n",
              "  <button class=\"colab-df-quickchart\" onclick=\"quickchart('df-7cc9a550-63d5-4bd3-86a8-d6ca661d3be8')\"\n",
              "            title=\"Suggest charts\"\n",
              "            style=\"display:none;\">\n",
              "\n",
              "<svg xmlns=\"http://www.w3.org/2000/svg\" height=\"24px\"viewBox=\"0 0 24 24\"\n",
              "     width=\"24px\">\n",
              "    <g>\n",
              "        <path d=\"M19 3H5c-1.1 0-2 .9-2 2v14c0 1.1.9 2 2 2h14c1.1 0 2-.9 2-2V5c0-1.1-.9-2-2-2zM9 17H7v-7h2v7zm4 0h-2V7h2v10zm4 0h-2v-4h2v4z\"/>\n",
              "    </g>\n",
              "</svg>\n",
              "  </button>\n",
              "\n",
              "<style>\n",
              "  .colab-df-quickchart {\n",
              "      --bg-color: #E8F0FE;\n",
              "      --fill-color: #1967D2;\n",
              "      --hover-bg-color: #E2EBFA;\n",
              "      --hover-fill-color: #174EA6;\n",
              "      --disabled-fill-color: #AAA;\n",
              "      --disabled-bg-color: #DDD;\n",
              "  }\n",
              "\n",
              "  [theme=dark] .colab-df-quickchart {\n",
              "      --bg-color: #3B4455;\n",
              "      --fill-color: #D2E3FC;\n",
              "      --hover-bg-color: #434B5C;\n",
              "      --hover-fill-color: #FFFFFF;\n",
              "      --disabled-bg-color: #3B4455;\n",
              "      --disabled-fill-color: #666;\n",
              "  }\n",
              "\n",
              "  .colab-df-quickchart {\n",
              "    background-color: var(--bg-color);\n",
              "    border: none;\n",
              "    border-radius: 50%;\n",
              "    cursor: pointer;\n",
              "    display: none;\n",
              "    fill: var(--fill-color);\n",
              "    height: 32px;\n",
              "    padding: 0;\n",
              "    width: 32px;\n",
              "  }\n",
              "\n",
              "  .colab-df-quickchart:hover {\n",
              "    background-color: var(--hover-bg-color);\n",
              "    box-shadow: 0 1px 2px rgba(60, 64, 67, 0.3), 0 1px 3px 1px rgba(60, 64, 67, 0.15);\n",
              "    fill: var(--button-hover-fill-color);\n",
              "  }\n",
              "\n",
              "  .colab-df-quickchart-complete:disabled,\n",
              "  .colab-df-quickchart-complete:disabled:hover {\n",
              "    background-color: var(--disabled-bg-color);\n",
              "    fill: var(--disabled-fill-color);\n",
              "    box-shadow: none;\n",
              "  }\n",
              "\n",
              "  .colab-df-spinner {\n",
              "    border: 2px solid var(--fill-color);\n",
              "    border-color: transparent;\n",
              "    border-bottom-color: var(--fill-color);\n",
              "    animation:\n",
              "      spin 1s steps(1) infinite;\n",
              "  }\n",
              "\n",
              "  @keyframes spin {\n",
              "    0% {\n",
              "      border-color: transparent;\n",
              "      border-bottom-color: var(--fill-color);\n",
              "      border-left-color: var(--fill-color);\n",
              "    }\n",
              "    20% {\n",
              "      border-color: transparent;\n",
              "      border-left-color: var(--fill-color);\n",
              "      border-top-color: var(--fill-color);\n",
              "    }\n",
              "    30% {\n",
              "      border-color: transparent;\n",
              "      border-left-color: var(--fill-color);\n",
              "      border-top-color: var(--fill-color);\n",
              "      border-right-color: var(--fill-color);\n",
              "    }\n",
              "    40% {\n",
              "      border-color: transparent;\n",
              "      border-right-color: var(--fill-color);\n",
              "      border-top-color: var(--fill-color);\n",
              "    }\n",
              "    60% {\n",
              "      border-color: transparent;\n",
              "      border-right-color: var(--fill-color);\n",
              "    }\n",
              "    80% {\n",
              "      border-color: transparent;\n",
              "      border-right-color: var(--fill-color);\n",
              "      border-bottom-color: var(--fill-color);\n",
              "    }\n",
              "    90% {\n",
              "      border-color: transparent;\n",
              "      border-bottom-color: var(--fill-color);\n",
              "    }\n",
              "  }\n",
              "</style>\n",
              "\n",
              "  <script>\n",
              "    async function quickchart(key) {\n",
              "      const quickchartButtonEl =\n",
              "        document.querySelector('#' + key + ' button');\n",
              "      quickchartButtonEl.disabled = true;  // To prevent multiple clicks.\n",
              "      quickchartButtonEl.classList.add('colab-df-spinner');\n",
              "      try {\n",
              "        const charts = await google.colab.kernel.invokeFunction(\n",
              "            'suggestCharts', [key], {});\n",
              "      } catch (error) {\n",
              "        console.error('Error during call to suggestCharts:', error);\n",
              "      }\n",
              "      quickchartButtonEl.classList.remove('colab-df-spinner');\n",
              "      quickchartButtonEl.classList.add('colab-df-quickchart-complete');\n",
              "    }\n",
              "    (() => {\n",
              "      let quickchartButtonEl =\n",
              "        document.querySelector('#df-7cc9a550-63d5-4bd3-86a8-d6ca661d3be8 button');\n",
              "      quickchartButtonEl.style.display =\n",
              "        google.colab.kernel.accessAllowed ? 'block' : 'none';\n",
              "    })();\n",
              "  </script>\n",
              "</div>\n",
              "\n",
              "  <div id=\"id_2b79b193-320e-43d7-98da-9d4cf3d8599e\">\n",
              "    <style>\n",
              "      .colab-df-generate {\n",
              "        background-color: #E8F0FE;\n",
              "        border: none;\n",
              "        border-radius: 50%;\n",
              "        cursor: pointer;\n",
              "        display: none;\n",
              "        fill: #1967D2;\n",
              "        height: 32px;\n",
              "        padding: 0 0 0 0;\n",
              "        width: 32px;\n",
              "      }\n",
              "\n",
              "      .colab-df-generate:hover {\n",
              "        background-color: #E2EBFA;\n",
              "        box-shadow: 0px 1px 2px rgba(60, 64, 67, 0.3), 0px 1px 3px 1px rgba(60, 64, 67, 0.15);\n",
              "        fill: #174EA6;\n",
              "      }\n",
              "\n",
              "      [theme=dark] .colab-df-generate {\n",
              "        background-color: #3B4455;\n",
              "        fill: #D2E3FC;\n",
              "      }\n",
              "\n",
              "      [theme=dark] .colab-df-generate:hover {\n",
              "        background-color: #434B5C;\n",
              "        box-shadow: 0px 1px 3px 1px rgba(0, 0, 0, 0.15);\n",
              "        filter: drop-shadow(0px 1px 2px rgba(0, 0, 0, 0.3));\n",
              "        fill: #FFFFFF;\n",
              "      }\n",
              "    </style>\n",
              "    <button class=\"colab-df-generate\" onclick=\"generateWithVariable('newPredictions')\"\n",
              "            title=\"Generate code using this dataframe.\"\n",
              "            style=\"display:none;\">\n",
              "\n",
              "  <svg xmlns=\"http://www.w3.org/2000/svg\" height=\"24px\"viewBox=\"0 0 24 24\"\n",
              "       width=\"24px\">\n",
              "    <path d=\"M7,19H8.4L18.45,9,17,7.55,7,17.6ZM5,21V16.75L18.45,3.32a2,2,0,0,1,2.83,0l1.4,1.43a1.91,1.91,0,0,1,.58,1.4,1.91,1.91,0,0,1-.58,1.4L9.25,21ZM18.45,9,17,7.55Zm-12,3A5.31,5.31,0,0,0,4.9,8.1,5.31,5.31,0,0,0,1,6.5,5.31,5.31,0,0,0,4.9,4.9,5.31,5.31,0,0,0,6.5,1,5.31,5.31,0,0,0,8.1,4.9,5.31,5.31,0,0,0,12,6.5,5.46,5.46,0,0,0,6.5,12Z\"/>\n",
              "  </svg>\n",
              "    </button>\n",
              "    <script>\n",
              "      (() => {\n",
              "      const buttonEl =\n",
              "        document.querySelector('#id_2b79b193-320e-43d7-98da-9d4cf3d8599e button.colab-df-generate');\n",
              "      buttonEl.style.display =\n",
              "        google.colab.kernel.accessAllowed ? 'block' : 'none';\n",
              "\n",
              "      buttonEl.onclick = () => {\n",
              "        google.colab.notebook.generateWithVariable('newPredictions');\n",
              "      }\n",
              "      })();\n",
              "    </script>\n",
              "  </div>\n",
              "\n",
              "    </div>\n",
              "  </div>\n"
            ],
            "text/plain": [
              "   fixed acidity  volatile acidity  citric acid  residual sugar  chlorides  \\\n",
              "0            7.4              0.70         0.00             1.9      0.076   \n",
              "1            7.8              0.88         0.00             2.6      0.098   \n",
              "2            7.8              0.76         0.04             2.3      0.092   \n",
              "3           11.2              0.28         0.56             1.9      0.075   \n",
              "4            7.4              0.70         0.00             1.9      0.076   \n",
              "5            7.4              0.66         0.00             1.8      0.075   \n",
              "6            7.9              0.60         0.06             1.6      0.069   \n",
              "7            7.3              0.65         0.00             1.2      0.065   \n",
              "8            7.8              0.58         0.02             2.0      0.073   \n",
              "9            7.5              0.50         0.36             6.1      0.071   \n",
              "\n",
              "   free sulfur dioxide  total sulfur dioxide  density    pH  sulphates  \\\n",
              "0                 11.0                  34.0   0.9978  3.51       0.56   \n",
              "1                 25.0                  67.0   0.9968  3.20       0.68   \n",
              "2                 15.0                  54.0   0.9970  3.26       0.65   \n",
              "3                 17.0                  60.0   0.9980  3.16       0.58   \n",
              "4                 11.0                  34.0   0.9978  3.51       0.56   \n",
              "5                 13.0                  40.0   0.9978  3.51       0.56   \n",
              "6                 15.0                  59.0   0.9964  3.30       0.46   \n",
              "7                 15.0                  21.0   0.9946  3.39       0.47   \n",
              "8                  9.0                  18.0   0.9968  3.36       0.57   \n",
              "9                 17.0                 102.0   0.9978  3.35       0.80   \n",
              "\n",
              "   alcohol  quality    Cluster  \n",
              "0      9.4        5  Cluster 0  \n",
              "1      9.8        5  Cluster 1  \n",
              "2      9.8        5  Cluster 2  \n",
              "3      9.8        6  Cluster 2  \n",
              "4      9.4        5  Cluster 0  \n",
              "5      9.4        5  Cluster 2  \n",
              "6      9.4        5  Cluster 2  \n",
              "7     10.0        7  Cluster 0  \n",
              "8      9.5        7  Cluster 0  \n",
              "9     10.5        5  Cluster 1  "
            ]
          },
          "execution_count": 13,
          "metadata": {},
          "output_type": "execute_result"
        }
      ],
      "source": [
        "newPredictions = predict_model(kMeanClusteringModel, data = newData)\n",
        "newPredictions"
      ]
    },
    {
      "cell_type": "code",
      "execution_count": null,
      "metadata": {
        "id": "MmCsLouDb3I4"
      },
      "outputs": [],
      "source": [
        "newPredictions.to_csv(\"NewPredictions.csv\")\n",
        "\n",
        "\n",
        "# Explore the \"Files\" Folder and download it."
      ]
    },
    {
      "cell_type": "markdown",
      "metadata": {
        "id": "D9Y1VxIsFuqn"
      },
      "source": [
        "---\n",
        "# **4. Clustering: Ploting the Cluster**\n",
        "---\n",
        "#### Following plots can be generated for clusters\n",
        "```\n",
        "1. Cluster PCA Plot (2d)          'cluster'\n",
        "2. Cluster TSnE (3d)              'tsne'\n",
        "3. Elbow Plot                     'elbow'\n",
        "4. Silhouette Plot                'silhouette'\n",
        "5. Distance Plot                  'distance'\n",
        "6. Distribution Plot              'distribution'\n",
        "```"
      ]
    },
    {
      "cell_type": "markdown",
      "metadata": {
        "id": "yuCOkjBs0ZXw"
      },
      "source": [
        "---\n",
        "### **4.1 Evaluate Cluster Model**\n",
        "---"
      ]
    },
    {
      "cell_type": "code",
      "execution_count": null,
      "metadata": {
        "colab": {
          "base_uri": "https://localhost:8080/",
          "height": 195,
          "referenced_widgets": [
            "288e40b3ce4e4753a5539933bc58a9f2",
            "07abfad8dde64e7f9885ae5287fbd66a",
            "b74ffdf05b63485b8fc45ec0a649186e",
            "84210896c2044af2a9541f053f51a81f",
            "5866962c6a494431ad67979b6ff32f96",
            "b0d5348f53c246ca912dd61f0170fd92",
            "2c7eb5d2470240c385740ab8169f18e6"
          ]
        },
        "id": "FPiBWwaAFuqp",
        "outputId": "1ecdd932-fdb5-4877-eb07-60cae6e3eeb7"
      },
      "outputs": [
        {
          "data": {
            "application/vnd.jupyter.widget-view+json": {
              "model_id": "288e40b3ce4e4753a5539933bc58a9f2",
              "version_major": 2,
              "version_minor": 0
            },
            "text/plain": [
              "interactive(children=(ToggleButtons(description='Plot Type:', icons=('',), options=(('Pipeline Plot', 'pipelin…"
            ]
          },
          "metadata": {
            "application/vnd.jupyter.widget-view+json": {
              "colab": {
                "custom_widget_manager": {
                  "url": "https://ssl.gstatic.com/colaboratory-static/widgets/colab-cdn-widget-manager/2b70e893a8ba7c0f/manager.min.js"
                }
              }
            }
          },
          "output_type": "display_data"
        }
      ],
      "source": [
        "evaluate_model(kMeanClusteringModel)"
      ]
    },
    {
      "cell_type": "markdown",
      "metadata": {
        "id": "6A52f46Jb3I5"
      },
      "source": [
        "---\n",
        "### **4.2 2D-plot for Cluster**\n",
        "---"
      ]
    },
    {
      "cell_type": "code",
      "execution_count": null,
      "metadata": {
        "colab": {
          "base_uri": "https://localhost:8080/",
          "height": 617
        },
        "id": "YMxxIMBRb3I5",
        "outputId": "d0615833-d318-4b6b-83cc-74c2feb501ae"
      },
      "outputs": [
        {
          "data": {
            "text/html": [],
            "text/plain": [
              "<IPython.core.display.HTML object>"
            ]
          },
          "metadata": {},
          "output_type": "display_data"
        },
        {
          "data": {
            "text/html": [
              "<html>\n",
              "<head><meta charset=\"utf-8\" /></head>\n",
              "<body>\n",
              "    <div>            <script src=\"https://cdnjs.cloudflare.com/ajax/libs/mathjax/2.7.5/MathJax.js?config=TeX-AMS-MML_SVG\"></script><script type=\"text/javascript\">if (window.MathJax && window.MathJax.Hub && window.MathJax.Hub.Config) {window.MathJax.Hub.Config({SVG: {font: \"STIX-Web\"}});}</script>                <script type=\"text/javascript\">window.PlotlyConfig = {MathJaxConfig: 'local'};</script>\n",
              "        <script charset=\"utf-8\" src=\"https://cdn.plot.ly/plotly-2.35.2.min.js\"></script>                <div id=\"a1024dca-8f8e-4c65-a835-34db4c554121\" class=\"plotly-graph-div\" style=\"height:600px; width:100%;\"></div>            <script type=\"text/javascript\">                                    window.PLOTLYENV=window.PLOTLYENV || {};                                    if (document.getElementById(\"a1024dca-8f8e-4c65-a835-34db4c554121\")) {                    Plotly.newPlot(                        \"a1024dca-8f8e-4c65-a835-34db4c554121\",                        [{\"customdata\":[[7.4],[8.8],[7.1],[9.2],[8.4],[8.9],[9.0],[10.1],[8.3],[6.8],[6.8],[6.1],[7.3],[9.3],[10.4],[9.1],[9.4],[7.3],[8.6],[9.6],[8.6],[8.6],[8.7],[6.6],[6.6],[12.0],[6.2],[9.6],[9.9],[10.0],[8.3],[9.1],[6.9],[7.4],[7.6],[7.3],[12.9],[6.9],[9.8],[10.8],[7.0],[7.1],[7.5],[5.9],[7.5],[5.9],[6.8],[8.8],[6.0],[11.1],[6.4],[6.4],[6.4],[6.4],[9.3],[9.3],[7.6],[11.7],[6.8],[7.5],[6.8],[10.1],[10.2],[10.2],[8.3],[8.9],[6.4],[7.5],[9.1],[6.8],[6.8],[9.1],[9.1],[8.9],[8.9],[8.9],[7.7],[8.0],[5.6],[10.5],[7.0],[11.3],[11.3],[7.0],[8.2],[7.7],[7.7],[7.1],[7.3],[8.1],[7.5],[10.1],[7.4],[8.9],[5.6],[7.7],[9.7],[8.9],[8.9],[8.9],[8.3],[8.2],[10.2],[7.6],[8.5],[9.0],[8.0],[7.1],[6.6],[8.8],[9.0],[6.7],[10.4],[10.4],[10.1],[8.5],[8.8],[7.0],[12.2],[9.1],[9.5],[9.1],[12.2],[7.4],[9.8],[7.7],[8.2],[6.9],[8.4],[8.4],[11.7],[12.0],[10.2],[12.4],[11.9],[8.5],[12.7],[8.2],[7.7],[8.3],[9.4],[13.2],[7.5],[12.3],[8.2],[11.4],[11.3],[10.0],[8.8],[8.8],[8.7],[8.7],[10.4],[7.7],[7.8],[7.3],[8.3],[8.7],[11.5],[10.7],[12.3],[10.2],[10.9],[9.8],[9.9],[9.1],[10.3],[10.0],[9.1],[9.9],[8.1],[12.9],[11.2],[9.5],[9.3],[9.9],[14.3],[10.6],[9.0],[6.8],[15.5],[15.5],[10.9],[15.6],[10.9],[12.7],[12.7],[8.7],[8.7],[9.8],[7.5],[9.4],[8.6],[10.7],[7.5],[9.0],[6.4],[6.4],[8.9],[7.3],[7.7],[7.7],[8.3],[6.5],[7.3],[7.2],[7.3],[8.4],[7.8],[8.1],[8.1],[9.3],[8.8],[9.3],[7.9],[7.2],[6.9],[8.3],[7.7],[10.1],[9.4],[8.6],[6.3],[8.4],[7.2],[8.7],[7.2],[7.1],[7.2],[7.2],[10.1],[8.3],[11.3],[10.0],[11.3],[8.2],[8.2],[10.8],[9.3],[10.8],[8.6],[8.0],[8.1],[8.1],[7.7],[8.1],[7.4],[7.0],[7.0],[11.8],[7.0],[7.0],[9.1],[7.0],[9.7],[8.2],[10.4],[9.3],[5.6],[6.2],[10.0],[7.8],[7.8],[6.4],[8.3],[8.3],[7.6],[5.9],[6.1],[7.0],[7.2],[6.9],[10.0],[6.9],[7.2],[7.2],[7.8],[11.7],[6.5],[8.4],[7.9],[6.2],[6.8],[10.0],[6.7],[7.1],[8.2],[6.9],[5.6],[8.2],[6.6],[8.2],[6.1],[7.2],[7.2],[7.2],[6.1],[6.1],[11.6],[11.6],[7.2],[6.6],[7.5],[6.8],[6.4],[8.2],[6.8],[7.4],[7.4],[6.0],[8.0],[7.1],[8.6],[8.7],[7.0],[7.2],[7.6],[7.2],[8.2],[7.2],[8.2],[7.2],[8.1],[6.2],[6.2],[11.1],[8.4],[6.5],[7.0],[6.3],[7.4],[7.1],[7.1],[7.3],[6.6],[7.0],[5.4],[6.6],[7.2],[7.2],[7.2],[7.2],[6.4],[7.5],[8.0],[6.2],[6.8],[7.4],[6.1],[5.8],[5.4],[6.6],[6.6],[7.2],[6.1],[6.8],[7.0],[6.8],[6.0],[5.6],[6.2],[7.1],[5.6],[6.2],[6.4],[7.0],[6.9],[6.6],[6.9],[7.5],[6.2],[7.5],[6.7],[6.8],[7.5],[7.1],[7.9],[7.1],[6.4],[7.4],[6.6],[6.9],[7.1],[6.6],[11.5],[9.3],[7.5],[7.5],[9.1],[8.1],[8.3],[7.9],[8.9],[7.0],[7.0],[7.0],[7.1],[5.6],[7.9],[6.6],[10.7],[8.2],[6.5],[5.8],[9.1],[7.2],[8.5],[10.4],[10.4],[6.9],[7.0],[7.8],[10.0],[7.8],[10.0],[8.2],[8.8],[10.6],[8.0],[6.1],[8.3],[8.9],[8.9],[11.6],[9.1],[8.0],[10.2],[8.2],[7.7],[6.6],[11.1],[11.1],[9.9],[7.4],[8.6],[10.3],[8.5],[7.9],[7.9],[7.0],[9.2],[6.6],[9.4],[6.6],[8.6],[8.0],[8.6],[7.4],[8.6],[8.8],[8.5],[9.0],[6.8],[6.3],[8.2],[10.4],[8.5],[7.0],[9.8],[7.9],[7.1],[8.0],[7.6],[5.9],[7.5],[6.8],[7.2],[7.6],[5.2],[9.1],[6.8],[6.5],[9.1],[8.4],[7.2],[6.0],[6.0],[6.0],[7.5],[7.5],[5.7],[7.9],[7.1],[6.5],[9.0],[7.6],[9.2],[9.7],[7.1],[9.8],[6.6],[8.8],[9.1],[6.5],[6.4],[7.7],[7.7],[7.9],[8.6],[6.2],[6.8],[6.8],[9.6],[10.2],[8.8],[8.2],[10.5],[12.6],[9.0],[7.1],[7.8],[7.1],[8.1],[7.6],[12.5],[9.4],[10.5],[7.6],[7.8],[10.6],[9.9],[7.9],[8.0],[8.0],[7.3],[10.4],[7.3],[7.0],[12.0],[9.8],[11.9],[8.7],[7.7],[7.6],[7.6],[11.5],[6.9],[9.6],[12.8],[12.8],[11.0],[9.7],[11.6],[12.7],[9.5],[7.7],[6.8],[7.6],[10.9],[10.4],[8.4],[7.3],[8.0],[8.6],[9.3],[8.2],[8.1],[9.5],[5.3],[8.0],[6.1],[10.0],[7.1],[11.9],[6.6],[7.9],[11.1],[12.3],[12.3],[11.9],[10.5],[9.1],[6.3],[9.5],[6.9],[7.3],[10.5],[12.6],[8.6],[9.0],[12.0],[10.0],[11.1],[8.3],[12.5],[7.4],[10.3],[10.3],[10.3],[7.4],[10.3],[11.9],[10.5],[7.8],[6.9],[6.7],[10.3],[13.4],[7.7],[9.1],[10.7],[9.1],[11.9],[13.8],[8.9],[12.5],[12.2],[10.6],[10.9],[11.6],[7.2],[7.1],[10.4],[15.0],[15.0],[7.3],[7.3],[11.1],[9.4],[10.0],[8.0],[8.3],[8.3],[12.5],[8.3],[11.8],[6.9],[11.5],[11.4],[9.4],[11.5],[6.9],[11.5],[10.3],[11.4],[11.5],[7.7],[7.9],[11.0],[6.9],[10.8],[9.4],[11.3],[8.9],[11.9],[8.1],[9.9],[6.2],[6.4],[9.2],[8.9],[6.8],[8.1],[7.5],[10.7],[5.7],[7.8],[10.7],[7.8],[11.4],[8.8],[7.8],[7.7],[7.0],[7.6],[7.7],[6.3],[10.5],[10.5],[9.3],[8.8],[10.6],[9.4],[10.6],[9.4],[7.7],[7.8],[10.6],[9.6],[10.6],[6.6],[7.2],[7.2],[6.8],[10.2],[10.2],[10.2],[10.2],[10.4],[6.6],[6.6],[9.3],[9.6],[10.5],[8.0],[10.0],[10.5],[7.4],[7.3],[7.8],[10.4],[7.2],[9.2],[10.2],[11.0],[7.8],[7.6],[7.8],[7.0],[7.4],[6.8],[8.3],[10.4],[11.5],[11.2]],\"hovertemplate\":\"Cluster=Cluster 0\\u003cbr\\u003ePCA1=%{x}\\u003cbr\\u003ePCA2=%{y}\\u003cbr\\u003eFeature=%{customdata[0]}\\u003cextra\\u003e\\u003c\\u002fextra\\u003e\",\"legendgroup\":\"Cluster 0\",\"marker\":{\"color\":\"#636efa\",\"opacity\":0.5,\"symbol\":\"circle\"},\"mode\":\"markers\",\"name\":\"Cluster 0\",\"showlegend\":true,\"x\":[-13.222075,-31.684177,-33.611675,-26.141344,-20.387402,-17.57331,-19.748644,-29.071796,-36.75066,-28.811152,-28.811152,-38.715225,-36.560993,-37.436924,-37.77285,-39.327457,-38.404243,-36.560993,-42.31658,-24.190254,-18.434736,-18.434736,-28.096952,-22.66175,-22.66175,-22.156036,-36.545902,-21.603935,-30.263,-40.150787,-22.993612,-37.764885,-24.50414,-36.217373,-33.295166,-34.267754,-23.893784,-41.100742,-17.796017,-18.344542,-25.367178,-31.874428,-40.137444,-21.888657,-38.927498,-21.888657,-22.116198,-22.871243,-20.582392,-13.701655,-15.489743,-15.489743,-15.489743,-14.95351,-25.38003,-25.38003,-32.97353,-13.90458,-22.116198,-22.87853,-22.550243,-19.552954,-27.792454,-23.00189,-35.81253,-38.18581,-35.584785,-35.80104,-19.646376,-40.1489,-40.1489,-19.646376,-21.817,-22.779501,-35.600204,-27.657242,-15.177091,-41.33445,-37.429947,-19.428467,-24.178072,-40.380016,-40.380016,-39.148582,-39.388813,-28.632229,-28.632229,-33.191574,-32.21654,-34.035004,-19.400368,-31.149998,-14.081489,-18.892736,-37.429947,-18.30448,-25.280602,-26.15927,-26.15927,-26.15927,-35.81253,-37.754772,-38.968086,-36.773155,-24.405241,-37.97568,-14.96113,-29.70823,-31.872332,-18.1055,-37.76234,-25.797642,-37.76459,-37.76459,-34.840153,-35.797825,-34.586308,-18.541668,-42.331623,-30.48666,-18.654842,-30.48666,-42.331623,-36.553413,-41.356327,-18.30448,-38.20093,-20.595203,-38.20371,-30.371395,-33.095314,-26.164532,-35.050877,-24.106365,-30.181412,-18.449656,-24.962585,-24.8323,-33.824734,-24.075462,-27.11555,-32.12574,-16.572794,-34.077198,-18.330086,-31.362953,-31.898058,-15.627566,-33.07692,-33.07692,-17.03086,-17.03086,-29.182291,-24.842613,-36.955574,-27.964762,-34.05721,-19.31514,-18.44875,-15.848719,-34.077198,-19.314085,-15.205997,-13.33821,-15.302841,-21.283371,-13.364306,-14.752803,-21.283371,-15.302841,-35.039185,-13.584596,-31.128035,-31.110744,-28.20747,-33.84105,-32.894955,-27.026957,-23.111353,-22.440336,-24.213573,-24.213573,-30.044186,-24.214188,-30.044186,-29.207485,-29.207485,-33.07732,-33.07732,-28.215654,-19.299559,-17.587685,-18.979374,-15.848719,-35.99706,-35.0308,-37.189785,-37.189785,-34.27644,-28.074791,-24.930635,-24.930635,-30.56842,-29.263664,-18.859816,-15.932837,-18.859816,-25.155457,-14.523127,-16.37201,-16.37201,-13.571469,-28.532038,-13.571469,-16.05308,-31.65246,-29.929615,-14.096983,-34.591198,-21.93992,-34.05865,-30.464037,-13.330382,-25.155457,-12.779237,-13.75671,-28.203165,-35.006516,-28.203165,-20.496353,-35.05094,-31.8896,-32.88,-15.296101,-32.88,-35.03137,-35.03137,-30.70567,-15.944288,-30.70567,-15.937195,-17.016592,-33.08309,-33.08309,-39.15018,-31.126564,-34.02769,-22.660372,-22.660372,-29.208582,-22.660372,-24.39223,-34.277916,-28.076376,-13.784811,-38.20093,-32.0987,-34.513393,-20.25917,-29.484545,-33.525116,-29.615486,-29.615486,-15.474925,-24.6264,-24.6264,-25.05614,-37.42563,-22.009068,-40.345306,-18.219223,-15.592165,-33.525116,-25.59948,-17.247866,-18.219223,-30.479296,-24.86732,-30.25696,-27.552874,-32.664528,-34.795746,-15.495994,-23.657295,-31.440676,-34.447895,-25.151941,-15.592165,-34.797962,-25.577671,-32.1133,-19.30575,-35.02728,-35.562458,-35.562458,-19.9506,-16.483921,-20.605446,-20.20862,-20.20862,-16.38627,-40.121166,-34.056847,-17.00229,-28.51513,-17.037304,-23.533413,-24.613045,-24.613045,-13.334372,-15.520291,-36.005726,-36.452724,-37.20584,-18.647028,-23.208847,-24.093582,-35.479088,-25.577671,-19.300335,-25.151941,-39.362938,-35.797062,-20.155972,-15.162755,-27.231247,-27.660892,-17.985813,-19.716034,-20.8216,-21.692125,-19.709602,-18.514444,-17.540817,-23.084188,-22.118528,-14.176518,-26.658165,-26.66484,-26.66484,-26.66484,-26.66484,-21.134115,-26.68007,-17.025545,-19.599173,-26.457226,-21.481016,-19.615892,-17.548992,-19.940912,-23.084188,-17.676702,-23.403442,-18.627655,-37.194977,-22.657295,-24.392347,-30.24514,-35.02774,-37.19851,-29.511803,-35.02774,-29.938496,-18.211365,-18.210136,-31.670593,-34.59128,-31.670593,-32.421585,-33.83164,-36.014057,-35.77243,-33.83829,-36.014057,-20.69831,-27.771603,-18.29982,-29.810318,-27.76116,-19.389248,-24.382538,-22.116402,-29.279392,-27.56715,-30.92833,-15.725023,-15.725023,-23.230362,-35.235817,-33.847645,-13.3616295,-38.40567,-25.03903,-25.03903,-25.03903,-22.347773,-32.641212,-30.499224,-16.9063,-16.823189,-30.273825,-35.4629,-37.43566,-37.972267,-29.039328,-32.886402,-34.839798,-34.839798,-35.79068,-25.793797,-27.010103,-33.83232,-26.363333,-36.792618,-36.246113,-19.64506,-28.011183,-20.933216,-15.60232,-27.350788,-38.40568,-38.40568,-40.374336,-31.703384,-32.874714,-30.935062,-37.97475,-27.98253,-20.608799,-38.427074,-38.427074,-40.371685,-21.365602,-40.318832,-40.381943,-39.36977,-15.614203,-28.532892,-31.017315,-16.18263,-30.22325,-27.989693,-30.22325,-30.156614,-32.127415,-30.156614,-21.365602,-40.318832,-25.7091,-27.665352,-26.13979,-13.328077,-21.665024,-20.588896,-27.451187,-38.36982,-38.392654,-39.403027,-25.383734,-14.852382,-41.336445,-35.792374,-18.429468,-35.77918,-13.328077,-17.24349,-38.92698,-18.209103,-33.316147,-17.210455,-19.84377,-29.294443,-23.111431,-37.196053,-20.148415,-20.148415,-20.148415,-15.725023,-15.725023,-28.848797,-34.813377,-33.83123,-26.866072,-26.13979,-34.063942,-36.024796,-32.132263,-36.780117,-37.00513,-35.74288,-29.17646,-27.986734,-35.780903,-35.78029,-39.15783,-39.15783,-37.974396,-35.81681,-22.333996,-32.421543,-32.421543,-35.04893,-38.735855,-16.153976,-23.652103,-24.429306,-27.574566,-26.572416,-28.85424,-30.692305,-28.85424,-22.755903,-14.8495865,-34.07912,-34.05865,-32.89243,-27.31974,-14.8482485,-28.011532,-28.948328,-40.119053,-29.932882,-29.932882,-13.120986,-31.897491,-13.120986,-27.750404,-16.941992,-19.536434,-27.794144,-22.024113,-21.46275,-19.951963,-19.951963,-19.865765,-15.933656,-23.44855,-19.558252,-19.558252,-28.768398,-29.206676,-33.10619,-23.129341,-22.134262,-19.169237,-37.951637,-27.758265,-33.858814,-26.273811,-21.474283,-35.45485,-13.220275,-20.942976,-31.899635,-36.453545,-36.45207,-17.263117,-21.382048,-32.555,-28.94431,-27.888655,-24.70616,-20.96882,-19.719728,-17.670427,-26.051405,-29.954168,-29.954168,-22.809803,-24.109013,-17.577324,-28.627274,-16.292326,-16.908772,-36.983273,-24.109013,-19.23924,-19.747143,-24.398283,-24.113226,-26.803572,-32.670105,-18.860416,-32.889294,-27.222044,-23.113472,-33.848034,-36.01821,-17.569174,-23.113472,-24.20529,-17.914595,-29.925316,-14.85075,-13.877555,-35.032757,-27.036911,-28.510422,-21.035936,-32.6551,-19.0846,-26.821968,-32.904358,-31.911535,-17.92031,-26.152554,-30.174849,-33.858814,-33.862083,-17.459387,-18.755527,-22.988344,-23.248892,-23.248892,-25.05464,-25.05464,-27.238127,-35.032593,-13.566639,-12.474456,-20.060654,-20.060654,-21.40111,-20.060654,-37.773907,-20.918901,-25.50208,-24.089163,-29.959993,-25.50208,-20.918901,-25.50208,-35.036327,-28.964783,-32.88118,-37.95089,-22.00858,-29.955227,-32.098633,-21.38099,-29.959993,-28.984919,-26.254578,-16.301569,-16.700073,-34.069695,-33.504578,-35.995102,-21.823427,-19.651136,-36.973385,-24.399307,-33.397728,-32.134445,-28.723574,-33.521908,-32.134445,-30.122766,-27.025755,-29.744175,-31.449068,-16.589842,-23.63117,-37.197136,-16.589842,-23.951387,-23.222555,-24.110073,-21.261208,-25.495247,-29.943832,-30.934635,-24.949362,-17.25729,-19.18307,-19.957378,-29.724974,-20.405006,-24.103182,-32.85994,-37.178925,-37.178925,-16.472704,-30.923546,-30.923546,-34.074608,-38.175415,-28.00932,-33.827396,-32.41315,-31.891045,-20.405006,-26.061663,-28.528484,-21.255447,-32.89243,-13.222031,-25.04823,-29.281319,-26.273811,-12.579997,-23.32178,-21.282942,-22.253582,-25.59973,-37.949684,-18.54092,-26.676252,-19.166168,-24.605986,-28.950089,-27.036732,-33.09921,-34.82995],\"xaxis\":\"x\",\"y\":[-2.0319638,-1.959583,-1.5347179,-0.20254393,2.6826909,-3.1209838,-3.6519914,0.43902364,-1.8796822,1.5729972,1.5729972,-1.3595512,-0.86347634,-4.758798,-1.6687095,-4.2919126,-4.536306,-0.86347634,-3.6841223,-0.6331425,2.2077088,2.2077088,0.320348,-2.9518642,-2.9518642,-5.272209,-0.8443551,1.9047879,-0.22024223,-3.1680744,0.21745804,-1.6525646,2.5951405,-4.047293,-4.6717277,-4.455727,-3.834558,-2.917866,-4.0984006,7.2642784,-1.3427085,-2.9396122,-3.1201982,5.107323,-2.397821,5.107323,4.1079373,5.2133,1.7149019,-4.001304,1.5786799,1.5786799,1.5786799,-0.5928349,-1.4015666,-1.4015666,1.4284875,4.1911597,4.1079373,-3.9433072,2.1647313,-2.6885877,-2.8884273,0.17372404,-2.0469294,-3.6428533,-1.0343407,-2.0389965,1.4674834,-3.0830295,-3.0830295,1.4674834,0.9293641,1.1747316,-1.0919374,2.2162437,-1.59241,-3.901166,-4.6801424,2.3937776,-0.57663393,-4.1852336,-4.1852336,-3.3596892,-4.3243074,2.4753802,2.4753802,0.4577759,0.2233323,-3.4961991,2.4566038,-4.1823835,3.2966526,0.29262123,-4.6801424,7.291406,3.7112787,-0.13971807,-0.13971807,-0.13971807,-2.0469294,-1.6229,-2.415587,-1.818668,-1.5876142,-2.628905,-0.6238208,-2.429698,-2.9460397,8.28111,-1.63035,-3.2671251,-1.6946324,-1.6946324,-2.3174796,-2.1032522,-1.2642924,-2.8098729,-3.8134692,-1.251063,1.1883475,-1.251063,-3.8134692,-0.8586886,-3.936665,7.291406,-3.5475366,1.6958718,-3.5612535,-5.3540077,-3.829426,-0.24377254,-3.3092248,-4.8300605,-4.471503,-7.015798,0.4796067,-3.5471566,-2.5327823,-4.7253737,0.10191077,-4.0761504,5.9118414,-3.6190567,-1.9318005,-5.214974,-3.0605533,-3.6069012,-3.7607079,-3.7607079,-5.2917094,-5.2917094,-4.6632504,-3.4957314,-2.7807364,-3.8129082,-3.5133638,-1.6665871,2.1276104,-4.595045,-3.6190567,-1.7423749,-1.623884,2.0590763,-6.74517,-10.484458,2.081358,0.3223483,-10.484458,-6.74517,-3.2725556,-8.130427,-4.1936035,-4.130728,-4.8570933,-2.589841,-2.9221416,-4.1033635,-4.9668903,-1.9833786,-0.74575907,-0.74575907,0.70250124,-0.748145,0.70250124,-4.6900983,-4.6900983,-3.7450511,-3.7450511,-4.839827,-1.6827847,-3.0973754,-4.8625426,-4.595045,-3.0437045,-3.2997808,-3.8005154,-3.8005154,-4.470185,0.28234908,0.589115,0.589115,2.9279058,-0.46212146,0.2739867,-0.3786999,0.2739867,-0.40161514,1.3240302,-2.3593214,-2.3593214,-8.144982,-1.6907948,-8.144982,-5.5045476,-1.9685826,-3.364923,-5.922248,-1.3159952,-4.186925,-3.5057766,-1.2423112,2.1526656,-0.40161514,-0.06008863,0.12027679,-4.805937,-3.241095,-4.805937,-2.4348211,-3.3315716,-2.9800212,-2.8356125,2.4887786,-2.8356125,-3.3089256,-3.3089256,-2.2820117,-0.43179977,-2.2820117,-0.41796535,3.9494388,-3.707439,-3.707439,-3.398096,-4.1817603,-3.4846404,-2.9631479,-2.9631479,-4.673472,-2.9631479,-1.5516795,-4.5334377,0.29424155,0.09808469,-3.5475366,-4.0533895,-5.472004,7.839385,-1.4300717,-5.7331295,-6.558789,-6.558789,1.6084032,-2.563751,-2.563751,-4.473452,-4.7217855,0.0009004515,-4.123171,3.2376883,5.6875906,-5.7331295,-2.288253,3.030404,3.2376883,-1.1922612,-3.5934992,-0.21065047,-1.9043926,-1.729625,-2.2838829,1.5947679,-2.8347142,-0.9346128,-5.4193482,-0.37148753,5.6875906,-2.2743142,-2.2820938,-3.8784144,-1.6864867,-3.224577,-1.1136018,-1.1136018,-4.6020484,-7.4058905,-7.5057406,-5.68202,-5.68202,-2.2991989,-3.1499681,-3.4536157,3.926762,-1.6167384,-5.2944493,-6.8736463,-2.5491605,-2.5491605,2.183231,-7.65066,-3.0633373,-5.0380344,-3.8578727,1.2791812,-0.7742243,-4.6755285,-5.1926546,-2.2820938,-1.6699886,-0.37148753,-4.3556995,-2.0964744,3.6932,-1.4936506,4.116097,2.2544699,4.198092,5.5922666,0.7565284,6.0696025,5.583058,6.337949,6.11302,4.3356524,4.104266,7.4725327,2.0365326,2.0222142,2.0222142,2.0222142,2.0222142,3.9022665,2.0532076,3.9511058,1.5625564,3.0343292,-2.1785953,1.5257059,6.178269,4.684346,4.3356524,1.0937604,7.4445543,1.2844131,-3.7994778,-2.972594,-1.5462625,-0.21076955,-3.216423,-3.7620902,-1.3953551,-3.216423,-3.343645,3.2324836,3.2207918,-1.9351169,-1.281769,-1.9351169,-0.8043247,-2.4612684,-3.0271857,-2.0927076,-2.483823,-3.0271857,5.82622,-2.857847,7.3167114,1.741738,-2.850932,2.4638054,-1.5803529,4.093864,-0.41891345,-1.9625549,-3.203295,0.5978926,0.5978926,-0.80238307,-4.2631845,-2.5381625,-7.1093774,-4.6088586,4.768964,4.768964,4.768964,3.159788,-1.6736069,-1.155202,9.105432,4.870996,-0.22831018,-5.193097,-4.692916,-2.64601,0.5886324,-2.7208858,-2.3436155,-2.3436155,-2.0354087,5.9373446,-4.0567365,-2.4886973,-1.1029613,-1.8874187,-3.9807003,1.4643791,-3.8701813,4.85699,5.7366033,-0.8649017,-4.5331354,-4.5331354,-4.2278996,-1.9569709,-2.7246597,-3.2041504,-2.6031933,-3.8234742,1.7622797,-4.6233845,-4.6233845,-4.163242,2.9143188,-4.100644,-4.1736197,-4.302972,5.6916947,-1.6458528,0.98491406,-1.354558,-0.17154633,-3.8710494,-0.17154633,-4.4165115,-3.8891563,-4.4165115,2.9143188,-4.100644,1.7709477,2.2608325,-0.19525766,2.1502836,6.0496397,1.6442648,3.172818,-4.533246,-4.556221,-4.369627,-1.3341132,4.5444202,-3.8795798,-2.0751815,2.3042903,-2.103515,2.1502836,3.0206673,-2.4175172,3.2952535,-4.7015424,3.0125554,0.56964725,-0.49477533,-4.9496255,-3.8108878,3.64888,3.64888,3.64888,0.5978926,0.5978926,1.5572109,-2.328336,-2.5193083,1.1036752,-0.19525766,-3.4652858,-3.0884318,-3.94406,-1.7906905,-2.882203,-1.9677362,-4.644998,-3.7995064,-2.0471075,-2.04472,-3.3829033,-3.3829033,-2.5944562,-2.0558093,3.1607127,-0.75712496,-0.75712496,-3.3138824,-1.4794085,7.846055,-2.76018,-1.5975604,-1.9884866,-2.1478486,1.54087,-2.2130148,1.54087,1.1126194,4.494843,-3.555042,-3.5057766,-2.7629032,-0.9451659,4.484077,-3.8741534,-3.576278,-3.198363,-3.4116066,-3.4116066,-6.147288,-2.982873,-6.147288,-2.850011,-0.23767501,-2.6895235,-2.9506345,-0.07804829,-2.2272594,-4.617793,-4.617793,0.39823633,-0.36930302,-1.8171085,-2.7490668,-2.7490668,-2.6959238,-4.6007266,-3.802115,-5.0563583,-5.206735,3.3973281,-2.619663,-2.8712065,-2.5996015,-5.270999,-2.2515519,-5.231692,-2.037243,-4.4064355,-2.9867334,-5.0195246,-5.0159984,-6.2788234,-6.234295,-5.8708987,-3.5954084,1.2511437,1.5784395,-4.46883,5.6022067,1.021225,-4.3204556,-3.5198631,-3.5198631,1.0871296,-4.7461934,-3.157155,-6.7458434,-6.49294,-0.14183158,-2.821593,-4.7461934,-5.8973103,-3.653033,-1.6005358,-4.795702,-3.0879204,-1.8468885,0.25122243,-2.8616357,-5.0407495,-4.993139,-2.5833373,-3.1209433,-3.0968368,-4.993139,-0.6585455,0.029794956,-3.4135914,-4.721088,4.340662,-3.298403,-4.1844726,-1.6784629,-0.30290148,-1.8525213,-0.74053025,-3.1168764,-2.8436847,-2.9488063,-0.05237857,-0.2641204,-4.4113617,-2.5996015,-2.5609493,-7.2123075,-3.8515148,0.084277436,-0.97812265,-0.97812265,-4.4776134,-4.4776134,-5.0988417,-3.3359506,1.0965122,-3.2340233,-0.51001096,-0.51001096,-6.447829,-0.51001096,-1.7285107,-4.364077,-6.504703,-4.701276,-3.3887944,-6.504703,-4.364077,-6.504703,-3.2262924,-3.6932204,-2.7649095,-2.5915031,-0.07695836,-3.4761715,-3.9049768,-6.426669,-3.3887944,-3.5910995,-5.2765613,-6.541694,0.8058807,-3.5476823,-5.6535163,-3.051534,0.95549667,1.5027391,-2.835083,-1.5760468,-0.54850835,-3.958831,-2.620827,-5.647897,-3.958831,-4.3368053,-4.1500273,-2.3792558,-1.0095892,-3.3307276,-2.766674,-3.8301432,-3.3307276,0.39423287,-0.88480705,-4.7497435,-1.2716471,-6.491384,-3.4817438,-3.1587918,-4.4298882,-6.2697215,3.4059837,-4.6171384,-2.5065563,-6.609411,-4.7041883,-2.7154846,-3.7681062,-3.7681062,1.8194199,-3.2478464,-3.2478464,-3.5559783,-3.6558232,-3.883148,-2.498175,-0.76550156,-3.0095506,-6.609411,-4.314325,-1.661956,-1.3031077,-2.7629032,-2.0319207,4.740071,-0.46493894,-5.270999,-8.313713,3.3003936,-1.2460482,-1.0832382,-2.3158832,-2.6239934,-2.9062674,-7.2008343,-5.803737,-2.5049486,-3.6416464,-4.093097,-3.8145497,-2.3879766],\"yaxis\":\"y\",\"type\":\"scattergl\",\"textposition\":\"top center\"},{\"customdata\":[[9.3],[9.9],[7.9],[5.3],[7.7],[8.2],[8.2],[8.4],[8.2],[7.0],[8.4],[8.6],[9.4],[8.4],[5.3],[6.2],[9.9],[7.2],[10.0],[6.8],[7.8],[7.2],[7.2],[8.4],[6.6],[9.3],[9.1],[7.5],[7.2],[12.4],[7.5],[7.2],[5.6],[7.6],[7.2],[10.0],[7.1],[7.1],[10.3],[11.6],[7.3],[9.9],[7.1],[7.2],[7.3],[7.6],[10.6],[5.2],[9.6],[7.3],[9.9],[8.5],[7.2],[7.6],[7.3],[9.0],[7.5],[7.5],[7.4],[9.6],[8.8],[6.7],[7.5],[5.6],[8.5],[8.8],[8.0],[6.9],[9.6],[6.9],[10.5],[7.4],[4.7],[7.8],[7.5],[9.7],[9.7],[9.9],[7.5],[7.6],[8.0],[6.6],[6.6],[5.0],[5.8],[7.6],[8.7],[9.2],[8.0],[7.5],[8.0],[5.5],[9.8],[7.0],[6.8],[7.0],[7.5],[7.5],[9.7],[8.0],[7.4],[7.7],[7.3],[7.0],[7.3],[9.0],[7.2],[5.2],[8.0],[7.8],[7.9],[9.0],[7.1],[8.0],[8.0],[7.8],[6.4],[7.3],[5.6],[5.6],[7.8],[7.4],[7.4],[8.0],[8.9],[8.3],[9.8],[6.7],[7.6],[5.1],[8.5],[6.6],[6.1],[9.7],[5.4],[6.0],[7.3],[8.2],[7.3],[8.2],[7.5],[7.6],[7.7],[10.0],[7.8],[6.4],[7.7],[8.2],[5.0],[10.8],[7.6],[7.6],[7.4],[7.4],[10.2],[10.2],[7.8],[10.0],[7.6],[7.8],[7.6],[5.1],[6.8],[9.2],[7.3],[7.6],[8.1],[7.9],[7.4],[7.4],[7.8],[9.9],[7.3],[7.9],[7.7],[7.9],[8.9],[5.6],[8.2],[7.5],[7.6],[7.4],[10.6],[7.1],[7.1],[9.2],[11.1],[12.5],[7.0],[8.7],[10.4],[12.4],[8.2],[5.1],[10.4],[7.2],[10.6],[5.8],[7.2],[9.5],[7.2],[9.0],[9.4],[10.3],[6.7],[6.7],[8.8],[9.0],[11.6],[12.5],[7.6],[8.8],[11.8],[8.3],[7.3],[8.7],[6.5],[5.0],[10.1],[9.0],[7.5],[9.0],[15.9],[7.8],[6.9],[7.1],[8.6],[7.2],[8.4],[11.6],[7.5],[7.2],[7.0],[8.2],[7.1],[9.5],[7.2],[10.6],[7.4],[8.8],[8.8],[7.1],[10.7],[9.2],[7.2],[7.0],[7.2],[7.9],[7.6],[7.2],[9.9],[6.8],[9.0],[7.1],[13.5],[9.2],[9.6],[7.1],[9.5],[5.6],[9.6],[7.0],[9.0],[10.6],[9.1]],\"hovertemplate\":\"Cluster=Cluster 1\\u003cbr\\u003ePCA1=%{x}\\u003cbr\\u003ePCA2=%{y}\\u003cbr\\u003eFeature=%{customdata[0]}\\u003cextra\\u003e\\u003c\\u002fextra\\u003e\",\"legendgroup\":\"Cluster 1\",\"marker\":{\"color\":\"#EF553B\",\"opacity\":0.5,\"symbol\":\"circle\"},\"mode\":\"markers\",\"name\":\"Cluster 1\",\"showlegend\":true,\"x\":[41.551926,41.79924,56.919456,41.514187,36.85395,27.412338,27.412338,35.261017,24.828331,19.201729,35.261017,37.897392,33.78383,41.631367,41.5144,53.823326,41.79924,29.92345,32.545128,22.396368,22.040257,26.274515,26.274515,26.782598,34.67977,20.506395,26.392763,47.579456,31.590553,53.878403,47.579456,58.13777,46.096554,21.932537,26.513918,41.423077,24.330421,24.330421,30.066738,54.023396,38.735603,27.468826,27.153734,29.108805,30.632063,25.504267,25.168333,58.761395,29.947578,38.735603,27.468826,59.328453,29.108805,29.641075,60.32999,50.964703,54.465427,54.465427,27.13208,49.052094,25.579517,34.92745,48.863396,47.496304,18.534101,25.579517,40.15622,41.007378,29.947578,55.607365,24.729029,24.948633,58.33266,56.924603,42.306137,44.78529,44.78529,40.639946,42.306137,22.142933,23.65523,37.998795,37.998795,43.11048,47.5118,39.242237,22.22918,25.529253,33.067093,53.254528,33.067093,42.177525,23.021029,21.158394,39.044743,23.769438,43.697754,43.697754,39.670624,26.890354,58.22351,45.488777,22.467318,42.845795,40.22261,29.412306,51.60885,28.425749,59.109383,55.306324,24.871553,44.907425,37.5316,41.581463,33.186714,22.455153,28.355452,56.386333,51.501144,51.501144,23.367546,43.6992,43.6992,59.109383,36.123234,37.29215,20.732208,31.878405,40.040104,53.22709,46.873184,23.598093,22.9855,38.296173,44.754974,46.344933,27.154108,25.708694,35.491795,38.5981,49.2744,40.040104,46.84772,44.147533,47.83032,21.080563,48.58193,20.7375,35.602577,21.46884,20.298565,20.298565,50.994766,19.633776,56.021328,56.021328,47.9214,44.90438,19.75009,49.50784,19.75009,40.973877,53.680172,30.258793,47.732243,26.235483,45.247307,30.457191,27.020445,50.994976,21.38031,32.58942,47.73203,47.939915,30.467785,47.939915,39.809692,31.020685,32.78236,53.254528,45.154003,24.076267,24.957052,42.931942,48.162266,44.553944,54.320038,22.978914,21.152557,35.244022,33.66197,24.392878,33.28713,38.150856,33.66197,37.42002,42.727512,40.33276,36.879055,22.129284,37.42002,58.794662,25.382532,27.645908,56.628777,56.628777,44.276794,54.633286,24.192118,28.198402,20.84846,26.023764,41.0386,45.926247,54.656876,35.244022,46.150974,51.8643,37.501625,28.963331,49.664265,28.963331,25.246656,20.189423,20.328274,48.162266,21.043673,38.612415,46.72836,55.19009,37.977375,41.00185,41.34255,55.739548,39.802376,24.195198,41.00185,37.734024,35.14194,25.086132,25.086132,38.511246,52.844044,20.957777,38.60982,21.418434,38.60982,60.779648,37.534134,40.77419,30.9086,20.637054,50.543076,29.609785,31.323,53.862892,26.58637,45.56065,22.129284,39.6546,26.58637,24.956385,40.786026,31.660671,32.326954],\"xaxis\":\"x\",\"y\":[-0.0037069458,23.608118,-13.669906,-9.054181,-16.345787,-17.30649,-17.30649,8.612826,-10.584574,-8.280818,8.612826,29.534206,29.396587,-13.339649,-9.054669,4.476885,23.608118,-10.650921,19.450882,19.698725,4.4017806,9.609826,9.609826,-11.041279,5.7541633,6.7603445,23.898386,3.8658214,10.4661045,0.2544142,3.8658214,5.587328,-2.8203754,8.526457,19.816385,-5.13021,10.03931,10.03931,12.790105,5.3269486,-12.593708,10.312418,13.497876,13.063274,29.164324,1.5770123,4.653844,-9.873767,7.726762,-12.593708,10.312418,6.2828774,13.063274,10.914931,6.0592723,-8.252833,-11.003,-11.003,4.310657,10.603679,-2.5294564,-6.6536393,0.4941658,-14.59191,-11.227237,-2.5294564,7.4841957,15.646708,7.726762,-19.478848,2.7350636,-5.4726777,-11.805382,-13.67619,-1.1699259,-3.818646,-3.818646,-13.1436,-1.1699259,0.27387372,7.1157722,27.50292,27.50292,16.11931,-5.364918,-14.836186,-3.8407571,10.745591,-10.365913,-2.597907,-10.365913,3.0942528,13.348195,-8.640785,-6.5613384,3.022642,-8.640479,-8.640479,-12.913172,-5.906505,23.984606,8.371858,6.3950315,-3.325113,-15.051319,9.882854,-14.513756,1.026416,-3.9232926,-7.173601,17.095446,1.2766355,-4.1916766,9.233945,-5.266888,-2.8809366,5.078704,-11.490692,-10.305231,-10.305231,10.256942,-8.636803,-8.636803,-3.9232926,3.2615886,-14.402592,7.7159467,-11.096673,2.3985872,-11.687533,19.336683,29.718494,-4.9404016,3.7762804,-12.878098,12.322118,13.511491,2.5699973,9.587056,-8.541903,2.4030864,2.3985872,-8.3435,2.4642336,-8.557143,13.886984,-9.754142,7.7555294,5.6109123,6.5195274,5.817516,5.817516,-8.187324,-6.3315477,27.615068,27.615068,-12.687638,1.2356389,-1.2351564,21.813393,-1.2351564,-6.883794,-9.840913,-4.6525784,4.8201137,-8.820418,7.3858695,-12.8545265,-0.8197461,-8.187812,1.461348,10.212949,4.820601,-3.4562926,-3.6142673,-3.4562926,1.4028189,-5.7353654,20.450201,-2.597907,2.302821,-9.374433,12.920183,-16.669132,-2.457368,-13.999458,-7.0229783,4.0903845,0.52897704,-0.5912754,15.145825,5.824425,-9.411885,-10.358894,15.145825,-9.277317,0.7315516,-9.869518,-7.1073513,0.23386446,-9.277317,-0.80547684,-3.5519495,-7.165008,7.9823585,7.9823585,7.5740247,-19.327044,14.103169,9.055792,3.6441026,-9.834533,29.78758,19.520735,-10.087929,-0.5912754,2.215777,4.962864,-13.444934,-1.2801518,-14.0808525,-1.2801518,0.5351743,0.7062521,15.050356,-2.457368,-4.618809,-8.519203,-13.461446,-3.1257784,-2.251636,-7.0102897,8.317315,-14.429307,-7.7498946,14.163394,-7.0102897,-3.281831,-5.687673,8.846272,8.846272,-4.396335,-4.584799,8.70518,-8.522391,19.91991,-8.522391,17.207502,-4.20093,-7.97293,-1.7380823,11.940907,-0.9971936,-7.5372343,0.1964946,-18.126432,6.404228,-4.9520383,0.23386446,-12.751523,6.404228,-5.4526157,1.1966705,-2.9277039,0.006731556],\"yaxis\":\"y\",\"type\":\"scattergl\",\"textposition\":\"top center\"},{\"customdata\":[[9.7],[8.8],[11.9],[9.2],[6.8],[6.6],[12.0],[8.7],[10.1],[7.5],[12.1],[9.4],[15.6],[6.9],[6.2],[9.4],[8.7],[7.8],[8.7],[7.8],[7.6],[9.9],[9.9],[8.0],[9.9],[8.3],[7.2],[7.6],[8.9],[7.5],[7.0],[7.5],[7.3],[8.3],[6.9],[11.9],[7.8],[8.8],[8.3],[8.4],[5.0],[7.3],[5.9],[7.5],[7.8],[7.4],[7.8],[6.6],[7.7],[7.1],[7.1],[7.7],[7.0],[11.3],[8.4],[8.2],[6.9],[7.2],[7.4],[7.4],[7.1],[6.9],[7.1],[7.1],[7.2],[7.5],[6.8],[7.8],[6.1],[7.5],[8.6],[8.5],[8.0],[6.6],[8.2],[6.4],[9.1],[5.0],[7.2],[9.1],[6.7],[6.7],[10.8],[6.7],[6.5],[10.4],[8.0],[10.4],[8.3],[9.1],[6.7],[9.9],[5.4],[13.3],[8.2],[5.1],[5.2],[5.2],[8.3],[6.7],[8.4],[8.6],[12.8],[9.1],[7.1],[7.0],[8.0],[7.0],[8.5],[6.6],[8.1],[7.0],[7.6],[6.9],[11.2],[7.8],[7.0],[6.1],[7.1],[7.1],[7.2],[7.4],[6.7],[9.2],[6.9],[10.0],[7.9],[7.9],[7.9],[5.2],[6.8],[8.8],[9.5],[6.4],[9.4],[7.8],[6.4],[6.9],[6.9],[6.1],[6.5],[6.5],[6.1],[6.8],[6.0],[6.7],[11.2],[4.6],[11.9],[7.9],[11.2],[7.6],[6.7],[7.2],[7.5],[7.8],[6.2],[10.0],[10.7],[6.3],[6.8],[6.2],[5.9],[6.3],[6.3],[6.2],[7.4],[7.9],[6.3],[11.9],[8.1],[13.3],[12.4],[5.6],[8.2],[6.7],[6.7],[6.7],[7.0],[6.2],[6.4],[6.0],[10.4],[8.9],[7.3],[7.8],[8.7],[8.7],[7.4],[8.8],[6.9],[6.3],[6.3],[7.8],[10.1],[6.8],[7.3],[13.0],[9.6],[8.3],[13.2],[8.8],[7.7],[9.0],[7.5],[11.6],[8.1],[8.1],[6.8],[8.3],[8.1],[8.0],[7.7],[6.8],[6.0],[8.1],[6.0],[7.9],[10.3],[7.3],[13.2],[6.8],[6.9],[7.9],[10.5],[6.2],[7.5],[11.5],[6.2],[7.0],[7.5],[8.8],[7.3],[7.8],[7.7],[13.0],[7.6],[13.0],[9.3],[12.3],[8.0],[6.1],[10.6],[9.9],[8.8],[6.6],[8.8],[5.0],[8.3],[11.1],[7.6],[6.9],[6.8],[6.8],[7.3],[6.7],[7.3],[7.3],[7.6],[8.0],[7.4],[7.6],[7.9],[6.4],[8.3],[10.8],[13.7],[7.9],[7.7],[7.4],[8.9],[7.9],[7.6],[7.3],[8.7],[8.9],[7.8],[8.6],[7.7],[8.1],[12.6],[7.1],[6.7],[8.9],[6.7],[9.6],[4.9],[11.5],[7.9],[7.5],[9.1],[8.4],[10.9],[7.1],[7.9],[10.8],[7.9],[8.2],[8.9],[6.4],[10.8],[7.5],[8.0],[9.3],[13.7],[8.0],[8.9],[8.2],[8.7],[10.0],[10.0],[7.2],[7.2],[11.6],[11.6],[8.7],[9.5],[9.3],[9.6],[6.9],[7.6],[7.1],[6.6],[8.3],[7.1],[8.5],[7.1],[7.7],[7.8],[9.9],[7.1],[10.8],[5.9],[7.7],[7.1],[7.6],[8.9],[9.9],[10.2],[10.2],[7.7],[7.4],[10.7],[7.4],[7.3],[6.9],[7.7],[7.2],[7.6],[10.0],[10.0],[10.1],[9.8],[7.6],[11.5],[6.8],[9.6],[7.1],[8.3],[8.9],[7.4],[7.4],[7.2],[7.4],[10.7],[7.8],[6.6],[7.9],[5.3],[6.8],[8.4],[8.4],[8.4],[9.8],[9.8],[7.1],[13.3],[7.6],[10.4],[11.6],[8.7],[10.4],[9.1],[6.5],[7.8],[7.7],[8.7],[7.5],[12.0],[7.1],[14.0],[6.6],[9.9],[12.8],[7.5],[12.6],[8.2],[9.5],[6.4],[9.3],[8.5],[9.3],[9.9],[9.3],[8.3],[7.6],[9.0],[8.6],[11.9],[12.8],[7.4],[8.5],[7.2],[6.0],[8.2],[8.5],[6.4],[9.9],[7.2],[8.3],[10.2],[6.9],[6.7],[12.2],[7.8],[8.3],[7.7],[7.7],[6.6],[9.6],[8.3],[7.4],[7.3],[8.7],[8.2],[11.5],[11.5],[9.5],[7.2],[9.2],[6.8],[7.0],[7.2],[8.0],[7.2],[7.2],[6.8],[7.2],[7.0],[8.8],[7.0],[6.2],[6.7],[7.0],[8.8],[6.8],[10.2],[8.2],[8.2],[8.2],[6.5],[6.5],[11.4],[9.0],[8.3],[8.3],[7.5],[7.1],[8.2],[6.5],[8.2],[12.5],[7.2],[9.9],[7.0],[9.1],[7.4],[5.4],[7.8],[7.3],[7.0],[6.4],[6.3],[8.4],[8.1],[7.7],[7.5],[7.5],[6.5],[7.7],[7.7],[7.6],[6.9],[10.2],[7.1],[9.9],[8.0],[8.5],[6.9],[8.4],[8.1],[6.5],[12.0],[9.0],[6.3],[6.8],[6.3],[8.0],[7.9],[7.5],[6.9],[8.7],[7.8],[10.9],[10.9],[7.9]],\"hovertemplate\":\"Cluster=Cluster 2\\u003cbr\\u003ePCA1=%{x}\\u003cbr\\u003ePCA2=%{y}\\u003cbr\\u003eFeature=%{customdata[0]}\\u003cextra\\u003e\\u003c\\u002fextra\\u003e\",\"legendgroup\":\"Cluster 2\",\"marker\":{\"color\":\"#00cc96\",\"opacity\":0.5,\"symbol\":\"circle\"},\"mode\":\"markers\",\"name\":\"Cluster 2\",\"showlegend\":true,\"x\":[7.2800045,8.879457,-10.966152,-9.3364,-10.720589,0.5732106,-2.838388,-11.366695,0.8740697,-4.541904,7.1338634,3.4880695,-5.5897636,1.6729887,16.929834,14.513517,18.21024,-0.32327387,18.21024,-0.32327387,9.867986,-6.2855544,-6.2855544,15.071494,-6.2855544,-7.3816347,-2.1854386,9.867986,12.263247,-12.254135,1.5130287,-12.254135,-2.7120855,6.7244096,-4.2018948,-10.966152,-5.635975,8.879457,-3.1574137,16.159433,15.406599,18.872196,-0.4037321,1.5692512,-9.974017,-9.198256,-12.261917,5.0146036,13.010432,10.003028,10.003028,13.010432,-9.742386,1.3996413,6.3176894,-4.4494724,5.5518146,-10.181779,-12.35447,1.3073316,-0.94665045,-8.87276,-7.4584846,-7.4584846,-10.181779,15.64652,9.373309,-10.288603,1.7708927,19.148558,9.986322,6.6199603,0.21825671,5.0146036,15.1923895,2.1789858,17.565968,-0.43521604,-2.048614,9.425546,-11.699455,-11.699455,3.3726885,-11.699455,-8.876366,8.684253,19.993645,8.684253,4.1143074,0.64724445,-11.699455,-6.6440496,-0.43766916,-6.5261297,15.1923895,-1.9505695,18.552961,18.552961,4.1143074,11.174354,16.159433,15.187335,-11.847837,-8.883511,-6.927383,18.573505,-5.746209,18.990482,14.783707,-5.632611,17.241333,13.382101,-2.2555308,-7.8913193,6.3775387,-8.667004,-11.372116,0.35330725,-11.587947,11.11868,17.176188,3.148208,-5.3884854,1.4312476,-5.1783705,17.356884,-10.520066,-10.520066,13.349011,2.840223,-7.786697,-0.19664313,-2.8227708,3.722605,-1.845656,-8.667004,18.330833,18.136951,18.136845,12.824098,0.47040462,0.47040462,12.824098,17.058609,1.8703827,-11.6859455,4.110805,16.366709,-5.224148,9.549046,13.428373,-3.3451893,-10.390909,2.8344138,17.16571,7.1653585,-12.334771,17.356884,2.2638524,-3.4329274,-5.6000586,1.1318109,9.488273,-3.4329274,-8.975916,-12.334771,-6.931186,12.039472,10.893212,-5.224148,9.331866,-1.864391,-2.6980016,12.269183,11.864299,-2.1433594,7.175357,17.903872,-2.3515744,-12.356975,-10.510115,3.2529685,9.241382,16.070286,13.023228,18.255085,-10.087358,5.892246,0.9864061,12.280143,-5.6159754,14.648858,-7.475705,10.756104,17.02429,-7.4501977,4.4586473,0.30127716,7.3778963,15.729752,-12.062146,7.6150703,14.74737,-6.523629,13.035894,-0.76901025,17.241333,-11.814688,12.413216,2.3755486,-11.814688,-1.3053254,-11.711728,12.413216,12.635836,10.538825,12.635836,-0.31697387,5.518422,-8.126489,-12.062146,-5.9344654,12.639292,-7.347258,0.104105026,-3.6749423,-8.349046,-10.541324,-3.6749423,6.7299037,-12.03739,6.086124,-1.9511255,7.6016936,0.58825547,-1.6713969,15.206244,-1.6713969,11.072132,2.1774917,12.912652,-1.8361653,-5.859907,-4.877571,-5.8673496,10.989061,-5.8673496,4.1127944,-4.4391146,0.5240448,-9.978404,-7.69294,10.349389,10.349389,10.658364,-13.420501,10.658364,3.3919399,-0.8493409,0.21825671,-12.35447,1.6328931,-10.641933,8.0553,14.976969,-7.374166,-3.165818,4.03596,8.918807,-10.296872,1.3026359,-0.9618727,-8.987959,10.213547,-2.3524213,-6.176816,3.0590005,-3.138028,-3.1485946,16.413519,-4.6819124,-9.418291,-10.392714,-0.74998915,-10.392714,10.534692,-4.343365,1.1825595,16.625229,-13.752953,10.7316265,-9.539899,18.329203,1.6559824,16.625229,-7.374166,-9.442497,0.99877906,-6.176816,5.5306535,11.250497,17.615084,8.055832,-8.578659,-3.165818,-9.210014,12.77362,-11.173477,15.741196,11.922828,11.922828,-8.663325,-7.4700665,-4.02583,-4.02583,18.889214,-6.7821617,-3.2598536,2.4865756,-4.741773,2.3096638,6.8605723,8.469493,-4.1146026,6.8605723,-1.4048594,-12.134286,-0.85961777,7.9364476,8.464767,-12.134286,-9.232278,1.1355773,-8.791851,4.4598565,5.5447373,-0.74998915,3.8037357,-6.643667,-6.643667,-0.08359456,-8.883329,-11.929545,-8.883329,4.1597576,3.9492617,-0.08359456,-2.8122976,-0.9535564,2.8861787,2.8861787,4.7548356,-2.7302558,-8.104652,11.180708,0.84771335,-0.6522336,-0.94665045,-3.1574137,-8.580972,-13.116651,-13.116651,8.495804,18.145761,12.142216,14.133036,-11.9240675,-8.027307,13.22058,0.84771335,4.3685627,-2.385586,4.3685627,13.332902,13.332902,7.2778697,6.5990553,10.764662,1.9478785,8.808572,3.3637002,5.4546547,1.7456433,3.6218765,2.5110393,-4.6512437,3.3637002,9.253884,4.439731,-9.418291,-1.6696624,-13.95179,-2.1628299,-6.3036866,-1.5028127,-6.643782,0.5354706,3.5560942,-8.217861,13.803647,-7.8091393,13.803647,13.108554,13.803647,3.2667913,5.417377,2.3978038,4.5684867,-11.415314,-6.3036866,-8.133138,-7.8091393,-8.663325,-3.875921,-11.173477,-8.450422,3.6007302,7.164476,-0.63605696,-6.052343,-10.318414,3.1628354,8.698995,17.764324,1.8540847,-9.762427,-7.366544,-8.781723,7.7303433,-8.0330715,-9.762427,-2.58925,8.142324,-5.8587193,7.7309556,1.817311,1.817311,-10.086663,-4.315329,0.64977586,2.5068998,-7.2482867,-0.63605696,4.7703896,-0.63605696,-0.63605696,17.02718,-6.4137053,-9.454872,-5.6403394,16.920233,10.432715,13.440779,-9.454872,-5.6403394,14.217105,12.833718,-0.5533566,-0.5533566,9.435699,2.1183488,19.25769,-6.6399593,-7.573328,-6.052343,-6.052343,-9.984385,-0.19131479,11.941452,-4.1294537,4.3493176,4.6901937,-8.663325,11.250649,-9.641645,-3.472865,-7.8235593,9.879204,13.033206,-4.098703,-2.2717915,13.687793,1.8376101,8.135239,2.9334311,19.004633,2.0074174,-3.686727,-10.725514,19.004633,11.054897,1.3146317,-10.514953,-10.623808,-1.1580486,13.108554,1.6197414,11.721449,-10.514953,-8.672161,-6.392046,-10.725514,-10.234521,5.423863,7.6205745,-3.4706092,-10.71648,13.873934,-5.6626763,15.946118,-0.7688938,1.8335454,-6.616051,-2.1921587,-2.1921587,-4.4681554],\"xaxis\":\"x\",\"y\":[2.5416942,-3.918351,3.5323904,-2.9253705,4.6081243,-9.1377125,7.8404026,10.831405,6.024058,0.105562136,-2.6098979,8.513503,-9.007876,14.116226,-4.672456,-6.227785,-8.099169,-3.9120715,-8.099169,-3.9120715,-4.131943,1.47444,1.47444,-8.399313,1.47444,-3.3470683,-7.5283813,-4.131943,6.575594,-2.213579,-9.4325075,-2.213579,-5.40972,-4.464281,6.2306104,3.5323904,-4.7635913,-3.918351,1.9013228,-3.5247667,7.0403123,4.124075,9.495119,18.204926,3.411157,2.2153084,-2.2104647,15.472354,-3.8069592,10.202477,10.202477,-3.8069592,4.392421,3.8198233,-6.381409,-3.983631,4.025297,2.440088,1.8836496,-1.190044,11.643907,8.308782,10.034233,10.034233,2.440088,7.887258,16.479462,6.538085,10.029933,23.47645,0.92061454,8.894476,-6.0820584,15.472354,5.946796,2.7724895,-1.8103733,0.32590127,-2.4864523,3.1277397,4.8375287,4.8375287,3.3978963,4.8375287,-0.93854755,4.2781024,18.179369,4.2781024,-6.9688373,-4.15684,4.8375287,-4.5491424,0.3163552,0.4064424,5.946796,2.7172904,7.356499,7.356499,-6.9688373,1.7743165,-3.5247667,-3.3194358,-0.40098068,-0.9810152,-1.3935909,7.224996,-0.6386738,-0.0039114007,13.1775675,4.5395327,-7.859635,20.730846,5.785212,8.086444,-1.3650804,0.01384834,1.6783301,8.294684,0.6818658,24.292479,14.718454,2.5351915,14.693433,3.8742468,6.440489,6.431234,-3.6784842,-3.6784842,2.260888,-3.535067,3.9508805,1.1551902,-1.317078,9.575544,-1.5321441,0.01384834,-2.915357,-3.895425,-3.8951812,4.471236,13.380599,13.380599,4.471236,9.642163,5.9049335,4.8175545,2.1909938,-11.629049,-2.8947675,-1.0018448,-1.9460323,0.8654881,10.722253,5.6851387,14.751014,-2.508318,11.137894,6.431234,-1.4766974,14.274271,13.698386,16.304647,21.630735,14.274271,12.445669,11.137894,-1.395632,-3.6183333,14.156244,-2.8947675,-1.9924561,7.6196346,3.7098641,-2.5798144,13.840311,10.895423,6.7620406,-4.9035378,9.87287,1.9397113,5.6323996,-1.5368475,11.3080635,9.805511,-3.808346,1.1696062,-1.7477556,19.250193,1.9624729,6.5567245,4.4817357,-1.0652837,0.8755048,8.988999,-8.820476,0.84494144,-0.8766279,-1.0870802,7.67375,-5.4573617,-1.4073808,8.665306,4.0229006,0.56972164,5.3872128,-5.9805984,-7.859635,-0.31227344,2.535003,-5.530586,-0.31227344,-3.659867,4.838803,2.535003,21.939133,17.267866,21.939133,5.362926,3.9720132,7.134651,-1.4073808,7.6196814,21.888494,5.8659787,-2.0336444,4.0963125,-3.1303403,-3.712147,4.0963125,-4.4425955,-1.2539227,1.7966894,-6.5897036,-0.55452603,9.228635,-9.801721,5.95558,-9.801721,5.823359,11.838678,0.2958918,-1.4607843,3.4238923,-6.0017247,-5.748306,19.240694,-5.748306,2.4291399,-4.0366955,-0.041350633,-5.818108,-0.15146759,16.255938,16.255938,13.130624,6.239636,13.130624,3.4467952,7.5201764,-6.0820584,1.8836496,-4.3284745,0.5019513,10.666508,4.971807,5.814336,1.7280056,6.3726425,5.285109,-2.6671817,-1.2098675,2.3709712,12.446594,1.9273739,9.955645,6.629258,6.6062117,1.8564326,-7.376056,6.6805634,4.16119,1.2481213,1.4552076,-5.808232,1.4552076,7.9781847,1.2469691,2.8726082,7.7042537,9.366111,-9.477897,-3.9020648,-3.016782,4.8865013,7.7042537,5.814336,1.302742,11.153656,6.629258,-5.1236935,-11.6871195,16.650322,10.622061,5.109892,1.7280056,2.211267,-14.0528555,-6.599776,12.999157,0.47891948,0.47891948,0.028457835,0.7877161,7.0866256,7.0866256,4.057222,3.772061,5.962888,-0.45383453,17.619215,17.038168,9.871708,-5.853007,2.060491,9.871708,0.39957276,2.8691967,-1.7192864,5.511073,12.556674,2.8691967,2.1220493,16.307682,-5.0690045,-0.86831427,-5.2122493,-5.808232,14.602681,-4.5399623,-4.5399623,15.54402,-0.94981766,3.7672648,-0.94981766,11.483234,19.747475,15.54402,8.007967,11.631516,-3.536364,-3.536364,-4.0471506,-5.4413276,16.316448,10.862262,10.301176,-0.78117174,11.643907,1.9013228,-4.094825,3.1122603,3.1122603,12.573717,14.526314,10.697006,10.282116,3.9130208,2.9950674,-11.991731,10.301176,21.69386,0.6561861,21.69386,2.2584972,2.2584972,2.6352189,-0.4543191,8.964263,1.6913934,18.519005,3.4782486,17.241241,9.956546,13.685941,18.068361,4.253223,3.4782486,11.398188,8.251961,1.2481213,-9.860139,8.421192,10.811274,-7.7402806,4.5922155,-4.6403804,0.037199635,-4.7913632,11.2624,22.611746,3.9280171,22.611746,-7.9961724,22.611746,7.6001296,-10.312525,12.913913,4.2159367,-7.6597114,-7.7402806,-2.1336102,3.9280171,0.028457835,3.1301103,-6.599776,0.9649204,4.478842,6.651415,8.509937,2.4964485,-2.733256,2.4958532,4.373606,-0.8773501,5.870659,-4.8717847,5.891432,-5.084487,4.5565977,2.928746,-4.8717847,8.937028,-2.7080698,-5.7618523,13.765556,-3.4219294,-3.4219294,-1.7588013,1.1029574,-4.139223,-0.42756602,1.7521029,8.509937,5.224595,8.509937,8.509937,-8.8048525,-3.4854543,-7.944457,-4.785575,-4.676543,2.9459498,-11.059015,-7.944457,-4.785575,-3.0561314,22.814089,-4.8564577,-4.8564577,-6.0981574,6.902831,28.647343,-4.6004076,4.859817,2.4964485,2.4964485,-5.8038993,10.450287,0.515275,-7.066025,12.51171,9.209665,0.028457835,-11.671783,0.25087065,-4.2389207,4.0020266,5.1898055,5.3955984,2.049906,-3.4422596,8.417113,-3.2868822,-2.7481854,1.5410765,9.202856,10.962962,-5.1941867,-4.6053896,9.202856,-3.335354,-1.1826917,-3.6211243,0.3784114,1.442813,-7.9961724,-4.336061,-0.4600134,-3.6211243,9.265018,-3.5828383,-4.6053896,-6.819102,8.106638,8.736526,-4.177913,13.865206,-9.120212,-13.973343,-4.4815927,-10.418325,-3.3722825,-4.5267715,1.587039,1.587039,-13.216982],\"yaxis\":\"y\",\"type\":\"scattergl\",\"textposition\":\"top center\"},{\"customdata\":[[7.3],[9.2],[6.0],[7.1],[7.4],[5.9],[7.8],[7.0],[7.0],[7.0],[7.1],[8.5],[7.3],[9.2],[7.1],[7.1],[8.0],[9.2],[9.3],[7.3],[6.1],[8.9],[8.9],[8.9],[8.9],[8.2],[7.8],[8.6],[8.8],[8.6],[7.1],[7.8],[6.9],[8.3],[7.7],[8.0],[9.4],[6.7],[8.3],[8.9],[9.5],[8.0],[7.0],[8.5],[7.2],[7.8],[8.6],[9.3],[8.4],[7.9],[9.8],[8.6],[8.6],[8.3],[8.1],[8.8],[7.7],[7.9],[9.5],[7.9],[8.6],[9.6],[7.9],[7.9],[8.1],[6.7],[8.4],[7.8],[5.9],[6.6],[8.1],[6.7],[9.0],[9.0],[9.1],[8.4],[7.2],[6.7],[7.8],[9.8],[7.7],[7.9],[7.9],[9.0],[9.0],[7.7],[8.6],[6.6],[8.8],[8.0],[9.8],[8.8],[7.8],[8.9],[6.6],[8.0],[8.0],[7.7],[6.8],[7.5],[8.2],[8.8],[7.7]],\"hovertemplate\":\"Cluster=Cluster 3\\u003cbr\\u003ePCA1=%{x}\\u003cbr\\u003ePCA2=%{y}\\u003cbr\\u003eFeature=%{customdata[0]}\\u003cextra\\u003e\\u003c\\u002fextra\\u003e\",\"legendgroup\":\"Cluster 3\",\"marker\":{\"color\":\"#ab63fa\",\"opacity\":0.5,\"symbol\":\"circle\"},\"mode\":\"markers\",\"name\":\"Cluster 3\",\"showlegend\":true,\"x\":[63.14976,66.68056,62.856262,82.23744,77.179306,123.16096,85.79032,62.918606,62.918606,79.61731,83.43197,66.47849,76.9602,92.938255,82.99068,82.23744,67.0234,69.401855,98.05292,63.14976,121.03027,63.974224,106.768,62.27902,104.05898,91.2441,85.79032,89.48099,75.47978,88.75615,83.43197,85.79032,77.888214,64.726814,99.65122,75.91945,95.74437,100.895294,73.20902,64.15483,96.71853,71.03127,74.97159,105.99542,62.279755,96.94804,88.25156,80.5872,62.55513,96.97977,110.06568,88.25156,85.11151,63.98199,82.53162,83.50508,63.66421,230.66629,99.44515,241.39865,71.90047,101.17789,95.98499,95.98499,108.570305,67.380875,58.97156,73.965744,95.39456,101.591805,95.765594,69.706474,78.40615,74.823456,62.93288,74.08889,70.85481,69.706474,60.288452,107.14844,67.24124,93.99863,95.411125,74.939896,67.49473,99.65122,73.87029,87.11653,101.19917,88.50056,105.513115,62.239586,73.52915,63.54768,87.11653,65.3869,65.3869,64.84803,77.65341,69.49131,79.70762,63.435127,87.96283],\"xaxis\":\"x\",\"y\":[9.548119,-15.888442,-24.022837,-5.9627876,3.3674948,30.069008,-3.7588665,-9.83841,-9.83841,0.7266675,-5.2064195,-7.647326,2.3935766,-8.467651,2.0059516,-5.9627876,-9.777683,-8.312828,0.6224766,9.548119,-1.8600312,-14.249415,12.009866,5.586159,13.640477,11.399726,-3.7588665,-5.6243014,-8.63748,-4.3915195,-5.2064195,-3.7588665,33.942894,-15.432732,-15.063495,-6.6668406,-14.227733,-14.17376,-5.073916,0.11113583,-14.449915,-14.7854595,-6.378319,-5.1901317,-3.5714297,-13.431527,-15.5889845,0.43941444,-15.97364,4.9896917,-5.1333504,-15.5889845,-15.919538,-14.2321005,-9.192418,-9.409245,-1.8594912,-29.46627,-6.86782,-31.873621,-10.902809,-8.282025,-3.9981256,-3.9981256,-2.7393095,5.5203648,-18.242735,-6.2384048,20.75867,-15.440194,-4.9899635,-20.594282,-9.299911,-11.567893,8.502008,-1.1522918,11.921305,-20.594282,-12.383465,-4.5064254,-8.821885,-21.996725,-20.266212,-6.4811206,10.559302,-15.063495,-2.1230075,33.95162,0.9469486,-5.403745,-7.21597,-12.831399,-8.185361,-7.0004797,33.95162,5.9668097,5.9668097,-10.337434,-17.254078,19.401073,-12.64236,-12.080447,-3.216519],\"yaxis\":\"y\",\"type\":\"scattergl\",\"textposition\":\"top center\"}],                        {\"template\":{\"data\":{\"histogram2dcontour\":[{\"type\":\"histogram2dcontour\",\"colorbar\":{\"outlinewidth\":0,\"ticks\":\"\"},\"colorscale\":[[0.0,\"#0d0887\"],[0.1111111111111111,\"#46039f\"],[0.2222222222222222,\"#7201a8\"],[0.3333333333333333,\"#9c179e\"],[0.4444444444444444,\"#bd3786\"],[0.5555555555555556,\"#d8576b\"],[0.6666666666666666,\"#ed7953\"],[0.7777777777777778,\"#fb9f3a\"],[0.8888888888888888,\"#fdca26\"],[1.0,\"#f0f921\"]]}],\"choropleth\":[{\"type\":\"choropleth\",\"colorbar\":{\"outlinewidth\":0,\"ticks\":\"\"}}],\"histogram2d\":[{\"type\":\"histogram2d\",\"colorbar\":{\"outlinewidth\":0,\"ticks\":\"\"},\"colorscale\":[[0.0,\"#0d0887\"],[0.1111111111111111,\"#46039f\"],[0.2222222222222222,\"#7201a8\"],[0.3333333333333333,\"#9c179e\"],[0.4444444444444444,\"#bd3786\"],[0.5555555555555556,\"#d8576b\"],[0.6666666666666666,\"#ed7953\"],[0.7777777777777778,\"#fb9f3a\"],[0.8888888888888888,\"#fdca26\"],[1.0,\"#f0f921\"]]}],\"heatmap\":[{\"type\":\"heatmap\",\"colorbar\":{\"outlinewidth\":0,\"ticks\":\"\"},\"colorscale\":[[0.0,\"#0d0887\"],[0.1111111111111111,\"#46039f\"],[0.2222222222222222,\"#7201a8\"],[0.3333333333333333,\"#9c179e\"],[0.4444444444444444,\"#bd3786\"],[0.5555555555555556,\"#d8576b\"],[0.6666666666666666,\"#ed7953\"],[0.7777777777777778,\"#fb9f3a\"],[0.8888888888888888,\"#fdca26\"],[1.0,\"#f0f921\"]]}],\"heatmapgl\":[{\"type\":\"heatmapgl\",\"colorbar\":{\"outlinewidth\":0,\"ticks\":\"\"},\"colorscale\":[[0.0,\"#0d0887\"],[0.1111111111111111,\"#46039f\"],[0.2222222222222222,\"#7201a8\"],[0.3333333333333333,\"#9c179e\"],[0.4444444444444444,\"#bd3786\"],[0.5555555555555556,\"#d8576b\"],[0.6666666666666666,\"#ed7953\"],[0.7777777777777778,\"#fb9f3a\"],[0.8888888888888888,\"#fdca26\"],[1.0,\"#f0f921\"]]}],\"contourcarpet\":[{\"type\":\"contourcarpet\",\"colorbar\":{\"outlinewidth\":0,\"ticks\":\"\"}}],\"contour\":[{\"type\":\"contour\",\"colorbar\":{\"outlinewidth\":0,\"ticks\":\"\"},\"colorscale\":[[0.0,\"#0d0887\"],[0.1111111111111111,\"#46039f\"],[0.2222222222222222,\"#7201a8\"],[0.3333333333333333,\"#9c179e\"],[0.4444444444444444,\"#bd3786\"],[0.5555555555555556,\"#d8576b\"],[0.6666666666666666,\"#ed7953\"],[0.7777777777777778,\"#fb9f3a\"],[0.8888888888888888,\"#fdca26\"],[1.0,\"#f0f921\"]]}],\"surface\":[{\"type\":\"surface\",\"colorbar\":{\"outlinewidth\":0,\"ticks\":\"\"},\"colorscale\":[[0.0,\"#0d0887\"],[0.1111111111111111,\"#46039f\"],[0.2222222222222222,\"#7201a8\"],[0.3333333333333333,\"#9c179e\"],[0.4444444444444444,\"#bd3786\"],[0.5555555555555556,\"#d8576b\"],[0.6666666666666666,\"#ed7953\"],[0.7777777777777778,\"#fb9f3a\"],[0.8888888888888888,\"#fdca26\"],[1.0,\"#f0f921\"]]}],\"mesh3d\":[{\"type\":\"mesh3d\",\"colorbar\":{\"outlinewidth\":0,\"ticks\":\"\"}}],\"scatter\":[{\"fillpattern\":{\"fillmode\":\"overlay\",\"size\":10,\"solidity\":0.2},\"type\":\"scatter\"}],\"parcoords\":[{\"type\":\"parcoords\",\"line\":{\"colorbar\":{\"outlinewidth\":0,\"ticks\":\"\"}}}],\"scatterpolargl\":[{\"type\":\"scatterpolargl\",\"marker\":{\"colorbar\":{\"outlinewidth\":0,\"ticks\":\"\"}}}],\"bar\":[{\"error_x\":{\"color\":\"#2a3f5f\"},\"error_y\":{\"color\":\"#2a3f5f\"},\"marker\":{\"line\":{\"color\":\"#E5ECF6\",\"width\":0.5},\"pattern\":{\"fillmode\":\"overlay\",\"size\":10,\"solidity\":0.2}},\"type\":\"bar\"}],\"scattergeo\":[{\"type\":\"scattergeo\",\"marker\":{\"colorbar\":{\"outlinewidth\":0,\"ticks\":\"\"}}}],\"scatterpolar\":[{\"type\":\"scatterpolar\",\"marker\":{\"colorbar\":{\"outlinewidth\":0,\"ticks\":\"\"}}}],\"histogram\":[{\"marker\":{\"pattern\":{\"fillmode\":\"overlay\",\"size\":10,\"solidity\":0.2}},\"type\":\"histogram\"}],\"scattergl\":[{\"type\":\"scattergl\",\"marker\":{\"colorbar\":{\"outlinewidth\":0,\"ticks\":\"\"}}}],\"scatter3d\":[{\"type\":\"scatter3d\",\"line\":{\"colorbar\":{\"outlinewidth\":0,\"ticks\":\"\"}},\"marker\":{\"colorbar\":{\"outlinewidth\":0,\"ticks\":\"\"}}}],\"scattermapbox\":[{\"type\":\"scattermapbox\",\"marker\":{\"colorbar\":{\"outlinewidth\":0,\"ticks\":\"\"}}}],\"scatterternary\":[{\"type\":\"scatterternary\",\"marker\":{\"colorbar\":{\"outlinewidth\":0,\"ticks\":\"\"}}}],\"scattercarpet\":[{\"type\":\"scattercarpet\",\"marker\":{\"colorbar\":{\"outlinewidth\":0,\"ticks\":\"\"}}}],\"carpet\":[{\"aaxis\":{\"endlinecolor\":\"#2a3f5f\",\"gridcolor\":\"white\",\"linecolor\":\"white\",\"minorgridcolor\":\"white\",\"startlinecolor\":\"#2a3f5f\"},\"baxis\":{\"endlinecolor\":\"#2a3f5f\",\"gridcolor\":\"white\",\"linecolor\":\"white\",\"minorgridcolor\":\"white\",\"startlinecolor\":\"#2a3f5f\"},\"type\":\"carpet\"}],\"table\":[{\"cells\":{\"fill\":{\"color\":\"#EBF0F8\"},\"line\":{\"color\":\"white\"}},\"header\":{\"fill\":{\"color\":\"#C8D4E3\"},\"line\":{\"color\":\"white\"}},\"type\":\"table\"}],\"barpolar\":[{\"marker\":{\"line\":{\"color\":\"#E5ECF6\",\"width\":0.5},\"pattern\":{\"fillmode\":\"overlay\",\"size\":10,\"solidity\":0.2}},\"type\":\"barpolar\"}],\"pie\":[{\"automargin\":true,\"type\":\"pie\"}]},\"layout\":{\"autotypenumbers\":\"strict\",\"colorway\":[\"#636efa\",\"#EF553B\",\"#00cc96\",\"#ab63fa\",\"#FFA15A\",\"#19d3f3\",\"#FF6692\",\"#B6E880\",\"#FF97FF\",\"#FECB52\"],\"font\":{\"color\":\"#2a3f5f\"},\"hovermode\":\"closest\",\"hoverlabel\":{\"align\":\"left\"},\"paper_bgcolor\":\"white\",\"plot_bgcolor\":\"#E5ECF6\",\"polar\":{\"bgcolor\":\"#E5ECF6\",\"angularaxis\":{\"gridcolor\":\"white\",\"linecolor\":\"white\",\"ticks\":\"\"},\"radialaxis\":{\"gridcolor\":\"white\",\"linecolor\":\"white\",\"ticks\":\"\"}},\"ternary\":{\"bgcolor\":\"#E5ECF6\",\"aaxis\":{\"gridcolor\":\"white\",\"linecolor\":\"white\",\"ticks\":\"\"},\"baxis\":{\"gridcolor\":\"white\",\"linecolor\":\"white\",\"ticks\":\"\"},\"caxis\":{\"gridcolor\":\"white\",\"linecolor\":\"white\",\"ticks\":\"\"}},\"coloraxis\":{\"colorbar\":{\"outlinewidth\":0,\"ticks\":\"\"}},\"colorscale\":{\"sequential\":[[0.0,\"#0d0887\"],[0.1111111111111111,\"#46039f\"],[0.2222222222222222,\"#7201a8\"],[0.3333333333333333,\"#9c179e\"],[0.4444444444444444,\"#bd3786\"],[0.5555555555555556,\"#d8576b\"],[0.6666666666666666,\"#ed7953\"],[0.7777777777777778,\"#fb9f3a\"],[0.8888888888888888,\"#fdca26\"],[1.0,\"#f0f921\"]],\"sequentialminus\":[[0.0,\"#0d0887\"],[0.1111111111111111,\"#46039f\"],[0.2222222222222222,\"#7201a8\"],[0.3333333333333333,\"#9c179e\"],[0.4444444444444444,\"#bd3786\"],[0.5555555555555556,\"#d8576b\"],[0.6666666666666666,\"#ed7953\"],[0.7777777777777778,\"#fb9f3a\"],[0.8888888888888888,\"#fdca26\"],[1.0,\"#f0f921\"]],\"diverging\":[[0,\"#8e0152\"],[0.1,\"#c51b7d\"],[0.2,\"#de77ae\"],[0.3,\"#f1b6da\"],[0.4,\"#fde0ef\"],[0.5,\"#f7f7f7\"],[0.6,\"#e6f5d0\"],[0.7,\"#b8e186\"],[0.8,\"#7fbc41\"],[0.9,\"#4d9221\"],[1,\"#276419\"]]},\"xaxis\":{\"gridcolor\":\"white\",\"linecolor\":\"white\",\"ticks\":\"\",\"title\":{\"standoff\":15},\"zerolinecolor\":\"white\",\"automargin\":true,\"zerolinewidth\":2},\"yaxis\":{\"gridcolor\":\"white\",\"linecolor\":\"white\",\"ticks\":\"\",\"title\":{\"standoff\":15},\"zerolinecolor\":\"white\",\"automargin\":true,\"zerolinewidth\":2},\"scene\":{\"xaxis\":{\"backgroundcolor\":\"#E5ECF6\",\"gridcolor\":\"white\",\"linecolor\":\"white\",\"showbackground\":true,\"ticks\":\"\",\"zerolinecolor\":\"white\",\"gridwidth\":2},\"yaxis\":{\"backgroundcolor\":\"#E5ECF6\",\"gridcolor\":\"white\",\"linecolor\":\"white\",\"showbackground\":true,\"ticks\":\"\",\"zerolinecolor\":\"white\",\"gridwidth\":2},\"zaxis\":{\"backgroundcolor\":\"#E5ECF6\",\"gridcolor\":\"white\",\"linecolor\":\"white\",\"showbackground\":true,\"ticks\":\"\",\"zerolinecolor\":\"white\",\"gridwidth\":2}},\"shapedefaults\":{\"line\":{\"color\":\"#2a3f5f\"}},\"annotationdefaults\":{\"arrowcolor\":\"#2a3f5f\",\"arrowhead\":0,\"arrowwidth\":1},\"geo\":{\"bgcolor\":\"white\",\"landcolor\":\"#E5ECF6\",\"subunitcolor\":\"white\",\"showland\":true,\"showlakes\":true,\"lakecolor\":\"white\"},\"title\":{\"x\":0.05},\"mapbox\":{\"style\":\"light\"}}},\"xaxis\":{\"anchor\":\"y\",\"domain\":[0.0,1.0],\"title\":{\"text\":\"PCA1\"}},\"yaxis\":{\"anchor\":\"x\",\"domain\":[0.0,1.0],\"title\":{\"text\":\"PCA2\"}},\"legend\":{\"title\":{\"text\":\"Cluster\"},\"tracegroupgap\":0},\"margin\":{\"t\":60},\"plot_bgcolor\":\"rgb(240,240,240)\",\"title\":{\"text\":\"2D Cluster PCA Plot\"},\"height\":600},                        {\"responsive\": true}                    ).then(function(){\n",
              "                            \n",
              "var gd = document.getElementById('a1024dca-8f8e-4c65-a835-34db4c554121');\n",
              "var x = new MutationObserver(function (mutations, observer) {{\n",
              "        var display = window.getComputedStyle(gd).display;\n",
              "        if (!display || display === 'none') {{\n",
              "            console.log([gd, 'removed!']);\n",
              "            Plotly.purge(gd);\n",
              "            observer.disconnect();\n",
              "        }}\n",
              "}});\n",
              "\n",
              "// Listen for the removal of the full notebook cells\n",
              "var notebookContainer = gd.closest('#notebook-container');\n",
              "if (notebookContainer) {{\n",
              "    x.observe(notebookContainer, {childList: true});\n",
              "}}\n",
              "\n",
              "// Listen for the clearing of the current output cell\n",
              "var outputEl = gd.closest('.output');\n",
              "if (outputEl) {{\n",
              "    x.observe(outputEl, {childList: true});\n",
              "}}\n",
              "\n",
              "                        })                };                            </script>        </div>\n",
              "</body>\n",
              "</html>"
            ]
          },
          "metadata": {},
          "output_type": "display_data"
        }
      ],
      "source": [
        "plot_model(kMeanClusteringModel, plot='cluster')"
      ]
    },
    {
      "cell_type": "markdown",
      "metadata": {
        "id": "edPeXVneb3I6"
      },
      "source": [
        "---\n",
        "### **4.3 3D-plot for Cluster**\n",
        "---"
      ]
    },
    {
      "cell_type": "code",
      "execution_count": null,
      "metadata": {
        "colab": {
          "base_uri": "https://localhost:8080/",
          "height": 817
        },
        "id": "mQiKiGlPb3I6",
        "outputId": "1c8d2d05-8761-4b9a-d06f-44a0fdd93306",
        "scrolled": true
      },
      "outputs": [
        {
          "data": {
            "text/html": [],
            "text/plain": [
              "<IPython.core.display.HTML object>"
            ]
          },
          "metadata": {},
          "output_type": "display_data"
        },
        {
          "data": {
            "text/html": [
              "<html>\n",
              "<head><meta charset=\"utf-8\" /></head>\n",
              "<body>\n",
              "    <div>            <script src=\"https://cdnjs.cloudflare.com/ajax/libs/mathjax/2.7.5/MathJax.js?config=TeX-AMS-MML_SVG\"></script><script type=\"text/javascript\">if (window.MathJax && window.MathJax.Hub && window.MathJax.Hub.Config) {window.MathJax.Hub.Config({SVG: {font: \"STIX-Web\"}});}</script>                <script type=\"text/javascript\">window.PlotlyConfig = {MathJaxConfig: 'local'};</script>\n",
              "        <script charset=\"utf-8\" src=\"https://cdn.plot.ly/plotly-2.35.2.min.js\"></script>                <div id=\"908e4b1b-86a1-4549-a230-d93121270aa2\" class=\"plotly-graph-div\" style=\"height:800px; width:900px;\"></div>            <script type=\"text/javascript\">                                    window.PLOTLYENV=window.PLOTLYENV || {};                                    if (document.getElementById(\"908e4b1b-86a1-4549-a230-d93121270aa2\")) {                    Plotly.newPlot(                        \"908e4b1b-86a1-4549-a230-d93121270aa2\",                        [{\"customdata\":[[7.4],[8.8],[7.1],[9.2],[8.4],[8.9],[9.0],[10.1],[8.3],[6.8],[6.8],[6.1],[7.3],[9.3],[10.4],[9.1],[9.4],[7.3],[8.6],[9.6],[8.6],[8.6],[8.7],[6.6],[6.6],[12.0],[6.2],[9.6],[9.9],[10.0],[8.3],[9.1],[6.9],[7.4],[7.6],[7.3],[12.9],[6.9],[9.8],[10.8],[7.0],[7.1],[7.5],[5.9],[7.5],[5.9],[6.8],[8.8],[6.0],[11.1],[6.4],[6.4],[6.4],[6.4],[9.3],[9.3],[7.6],[11.7],[6.8],[7.5],[6.8],[10.1],[10.2],[10.2],[8.3],[8.9],[6.4],[7.5],[9.1],[6.8],[6.8],[9.1],[9.1],[8.9],[8.9],[8.9],[7.7],[8.0],[5.6],[10.5],[7.0],[11.3],[11.3],[7.0],[8.2],[7.7],[7.7],[7.1],[7.3],[8.1],[7.5],[10.1],[7.4],[8.9],[5.6],[7.7],[9.7],[8.9],[8.9],[8.9],[8.3],[8.2],[10.2],[7.6],[8.5],[9.0],[8.0],[7.1],[6.6],[8.8],[9.0],[6.7],[10.4],[10.4],[10.1],[8.5],[8.8],[7.0],[12.2],[9.1],[9.5],[9.1],[12.2],[7.4],[9.8],[7.7],[8.2],[6.9],[8.4],[8.4],[11.7],[12.0],[10.2],[12.4],[11.9],[8.5],[12.7],[8.2],[7.7],[8.3],[9.4],[13.2],[7.5],[12.3],[8.2],[11.4],[11.3],[10.0],[8.8],[8.8],[8.7],[8.7],[10.4],[7.7],[7.8],[7.3],[8.3],[8.7],[11.5],[10.7],[12.3],[10.2],[10.9],[9.8],[9.9],[9.1],[10.3],[10.0],[9.1],[9.9],[8.1],[12.9],[11.2],[9.5],[9.3],[9.9],[14.3],[10.6],[9.0],[6.8],[15.5],[15.5],[10.9],[15.6],[10.9],[12.7],[12.7],[8.7],[8.7],[9.8],[7.5],[9.4],[8.6],[10.7],[7.5],[9.0],[6.4],[6.4],[8.9],[7.3],[7.7],[7.7],[8.3],[6.5],[7.3],[7.2],[7.3],[8.4],[7.8],[8.1],[8.1],[9.3],[8.8],[9.3],[7.9],[7.2],[6.9],[8.3],[7.7],[10.1],[9.4],[8.6],[6.3],[8.4],[7.2],[8.7],[7.2],[7.1],[7.2],[7.2],[10.1],[8.3],[11.3],[10.0],[11.3],[8.2],[8.2],[10.8],[9.3],[10.8],[8.6],[8.0],[8.1],[8.1],[7.7],[8.1],[7.4],[7.0],[7.0],[11.8],[7.0],[7.0],[9.1],[7.0],[9.7],[8.2],[10.4],[9.3],[5.6],[6.2],[10.0],[7.8],[7.8],[6.4],[8.3],[8.3],[7.6],[5.9],[6.1],[7.0],[7.2],[6.9],[10.0],[6.9],[7.2],[7.2],[7.8],[11.7],[6.5],[8.4],[7.9],[6.2],[6.8],[10.0],[6.7],[7.1],[8.2],[6.9],[5.6],[8.2],[6.6],[8.2],[6.1],[7.2],[7.2],[7.2],[6.1],[6.1],[11.6],[11.6],[7.2],[6.6],[7.5],[6.8],[6.4],[8.2],[6.8],[7.4],[7.4],[6.0],[8.0],[7.1],[8.6],[8.7],[7.0],[7.2],[7.6],[7.2],[8.2],[7.2],[8.2],[7.2],[8.1],[6.2],[6.2],[11.1],[8.4],[6.5],[7.0],[6.3],[7.4],[7.1],[7.1],[7.3],[6.6],[7.0],[5.4],[6.6],[7.2],[7.2],[7.2],[7.2],[6.4],[7.5],[8.0],[6.2],[6.8],[7.4],[6.1],[5.8],[5.4],[6.6],[6.6],[7.2],[6.1],[6.8],[7.0],[6.8],[6.0],[5.6],[6.2],[7.1],[5.6],[6.2],[6.4],[7.0],[6.9],[6.6],[6.9],[7.5],[6.2],[7.5],[6.7],[6.8],[7.5],[7.1],[7.9],[7.1],[6.4],[7.4],[6.6],[6.9],[7.1],[6.6],[11.5],[9.3],[7.5],[7.5],[9.1],[8.1],[8.3],[7.9],[8.9],[7.0],[7.0],[7.0],[7.1],[5.6],[7.9],[6.6],[10.7],[8.2],[6.5],[5.8],[9.1],[7.2],[8.5],[10.4],[10.4],[6.9],[7.0],[7.8],[10.0],[7.8],[10.0],[8.2],[8.8],[10.6],[8.0],[6.1],[8.3],[8.9],[8.9],[11.6],[9.1],[8.0],[10.2],[8.2],[7.7],[6.6],[11.1],[11.1],[9.9],[7.4],[8.6],[10.3],[8.5],[7.9],[7.9],[7.0],[9.2],[6.6],[9.4],[6.6],[8.6],[8.0],[8.6],[7.4],[8.6],[8.8],[8.5],[9.0],[6.8],[6.3],[8.2],[10.4],[8.5],[7.0],[9.8],[7.9],[7.1],[8.0],[7.6],[5.9],[7.5],[6.8],[7.2],[7.6],[5.2],[9.1],[6.8],[6.5],[9.1],[8.4],[7.2],[6.0],[6.0],[6.0],[7.5],[7.5],[5.7],[7.9],[7.1],[6.5],[9.0],[7.6],[9.2],[9.7],[7.1],[9.8],[6.6],[8.8],[9.1],[6.5],[6.4],[7.7],[7.7],[7.9],[8.6],[6.2],[6.8],[6.8],[9.6],[10.2],[8.8],[8.2],[10.5],[12.6],[9.0],[7.1],[7.8],[7.1],[8.1],[7.6],[12.5],[9.4],[10.5],[7.6],[7.8],[10.6],[9.9],[7.9],[8.0],[8.0],[7.3],[10.4],[7.3],[7.0],[12.0],[9.8],[11.9],[8.7],[7.7],[7.6],[7.6],[11.5],[6.9],[9.6],[12.8],[12.8],[11.0],[9.7],[11.6],[12.7],[9.5],[7.7],[6.8],[7.6],[10.9],[10.4],[8.4],[7.3],[8.0],[8.6],[9.3],[8.2],[8.1],[9.5],[5.3],[8.0],[6.1],[10.0],[7.1],[11.9],[6.6],[7.9],[11.1],[12.3],[12.3],[11.9],[10.5],[9.1],[6.3],[9.5],[6.9],[7.3],[10.5],[12.6],[8.6],[9.0],[12.0],[10.0],[11.1],[8.3],[12.5],[7.4],[10.3],[10.3],[10.3],[7.4],[10.3],[11.9],[10.5],[7.8],[6.9],[6.7],[10.3],[13.4],[7.7],[9.1],[10.7],[9.1],[11.9],[13.8],[8.9],[12.5],[12.2],[10.6],[10.9],[11.6],[7.2],[7.1],[10.4],[15.0],[15.0],[7.3],[7.3],[11.1],[9.4],[10.0],[8.0],[8.3],[8.3],[12.5],[8.3],[11.8],[6.9],[11.5],[11.4],[9.4],[11.5],[6.9],[11.5],[10.3],[11.4],[11.5],[7.7],[7.9],[11.0],[6.9],[10.8],[9.4],[11.3],[8.9],[11.9],[8.1],[9.9],[6.2],[6.4],[9.2],[8.9],[6.8],[8.1],[7.5],[10.7],[5.7],[7.8],[10.7],[7.8],[11.4],[8.8],[7.8],[7.7],[7.0],[7.6],[7.7],[6.3],[10.5],[10.5],[9.3],[8.8],[10.6],[9.4],[10.6],[9.4],[7.7],[7.8],[10.6],[9.6],[10.6],[6.6],[7.2],[7.2],[6.8],[10.2],[10.2],[10.2],[10.2],[10.4],[6.6],[6.6],[9.3],[9.6],[10.5],[8.0],[10.0],[10.5],[7.4],[7.3],[7.8],[10.4],[7.2],[9.2],[10.2],[11.0],[7.8],[7.6],[7.8],[7.0],[7.4],[6.8],[8.3],[10.4],[11.5],[11.2]],\"hovertemplate\":\"Cluster=Cluster 0\\u003cbr\\u003e0=%{x}\\u003cbr\\u003e1=%{y}\\u003cbr\\u003e2=%{z}\\u003cbr\\u003eFeature=%{customdata[0]}\\u003cextra\\u003e\\u003c\\u002fextra\\u003e\",\"legendgroup\":\"Cluster 0\",\"marker\":{\"color\":\"#636efa\",\"opacity\":0.7,\"symbol\":\"circle\"},\"mode\":\"markers\",\"name\":\"Cluster 0\",\"scene\":\"scene\",\"showlegend\":true,\"x\":[-3.5391786,-13.005923,-17.661776,-11.721414,-7.4436927,-3.903822,-4.5501313,-14.245481,-19.24655,-17.045261,-17.045261,-19.388985,-18.398935,-19.526134,-16.886345,-21.30303,-19.839413,-18.398973,-19.944878,-10.413313,-5.3037195,-5.303703,-14.622506,-7.029953,-7.029953,-4.696129,-18.649096,-8.190353,-15.951839,-19.06626,-8.981168,-17.36033,-9.676277,-18.319181,-15.186273,-15.802088,-5.4674773,-20.569044,-3.3355184,-3.3384812,-9.740641,-14.938288,-19.945166,-7.7267065,-20.617014,-7.7267065,-8.058141,-8.542343,-6.179118,-1.8883816,-4.2874737,-4.2874765,-4.287463,-4.3385572,-10.883372,-10.883357,-16.44776,-0.49143025,-8.058141,-6.963357,-8.520005,-4.2476554,-8.007374,-9.099305,-17.273067,-18.282078,-18.17641,-17.568575,-6.78292,-20.244226,-20.244226,-6.782918,-8.292483,-8.86914,-16.970367,-14.611428,-3.9853892,-19.989388,-21.152058,-5.7816834,-9.803311,-18.754822,-18.754808,-20.01211,-19.584044,-14.992931,-14.992931,-16.427584,-16.202103,-16.486229,-5.6651855,-11.141365,-3.0517964,-6.7951813,-21.152058,-4.689863,-14.55276,-13.367391,-13.367388,-13.367461,-17.273067,-17.879467,-17.614304,-18.111195,-9.950064,-17.708532,-3.762651,-12.3973875,-14.981172,-3.752872,-17.483372,-9.146384,-16.707937,-16.707907,-14.003532,-17.470467,-13.714451,-4.330153,-18.68009,-14.396625,-5.3042946,-14.3966465,-18.68009,-18.367023,-19.263952,-4.689863,-19.153885,-6.069868,-19.04904,-10.930526,-11.285418,-11.436553,-14.123416,-5.449524,-9.253543,-3.6956105,-11.334561,-8.542364,-16.805174,-7.053517,-14.691677,-10.51085,-4.058667,-11.35971,-5.0702333,-9.683222,-11.148846,-2.8415565,-13.431127,-13.431123,-3.5273364,-3.527333,-9.543275,-8.358485,-21.067728,-10.942204,-15.342421,-4.714429,-5.103053,-2.61146,-11.35971,-4.784468,-2.278376,-1.584518,-2.7643847,-3.3471367,-1.3195788,-2.235719,-3.3471367,-2.7643774,-16.214767,-1.2017168,-10.394127,-10.339275,-9.431702,-13.735666,-10.444376,-7.510228,-6.2988734,-7.229261,-11.488018,-11.488018,-15.925407,-11.488469,-15.925407,-8.432286,-8.432449,-13.483794,-13.483794,-8.596157,-5.674874,-3.3562856,-4.4525084,-2.611444,-18.894487,-15.273497,-19.23837,-19.238361,-14.863678,-13.198941,-11.467731,-11.467731,-16.134304,-13.288229,-5.770421,-4.31854,-5.7704167,-11.120593,-3.6137068,-4.160542,-4.160555,-2.746279,-12.95356,-2.746279,-3.773642,-15.065538,-12.331864,-3.3114383,-17.618917,-4.449513,-14.417987,-14.47658,-2.9938684,-11.120621,-3.057518,-2.8199315,-10.195314,-18.172932,-10.195314,-6.0815697,-14.244441,-13.105716,-11.792345,-1.6798533,-11.792345,-16.682524,-16.682524,-10.5474205,-3.253105,-10.5474205,-3.5847797,-4.630921,-14.970325,-14.970329,-19.564413,-11.711421,-17.98538,-7.1567492,-7.1567955,-8.7424755,-7.1567492,-9.085055,-14.727652,-13.272962,-2.1781137,-19.153885,-11.872662,-14.705004,-6.836974,-12.972152,-14.018629,-10.089561,-10.089551,-3.9278686,-9.113187,-9.113195,-8.111907,-20.894373,-7.6793222,-20.12599,-5.5712323,-3.6674516,-14.018629,-9.857002,-5.568182,-5.5712214,-14.646838,-5.912685,-14.681105,-12.035173,-13.896547,-18.801065,-4.3542256,-9.442774,-15.209337,-17.859037,-10.892688,-3.6674583,-18.999546,-10.084642,-14.721476,-5.399241,-19.32511,-18.06078,-18.06081,-4.967872,-4.0628753,-4.6454716,-3.979128,-3.979128,-4.187798,-20.431988,-15.242421,-3.6405044,-13.166277,-3.8510468,-6.528728,-8.913252,-8.913235,-3.1996005,-3.421714,-18.565752,-17.54407,-18.15875,-5.772036,-8.610753,-7.6783323,-16.773037,-10.084619,-5.62733,-10.892702,-20.238403,-17.61333,-7.2400985,-4.85158,-14.901691,-14.795741,-5.143836,-5.760578,-7.549672,-7.399747,-5.591931,-4.99105,-4.6219773,-8.632697,-8.103534,-2.7336967,-13.370171,-13.443757,-13.443757,-13.443753,-13.443744,-7.5783067,-14.249394,-4.6861134,-7.5891356,-14.15239,-6.466614,-7.2062454,-4.630066,-7.035019,-8.632692,-5.9129634,-8.733448,-6.122386,-19.506725,-7.1483293,-9.362801,-14.43756,-19.408201,-19.955257,-14.281751,-19.408201,-13.117631,-5.414333,-5.3553333,-14.989894,-17.3784,-14.989971,-16.02187,-16.521868,-17.865097,-18.937288,-16.489143,-17.865097,-6.6986938,-11.620656,-4.751687,-15.088566,-11.484026,-5.8597846,-9.212963,-8.092019,-14.343522,-7.3939667,-11.66303,-4.261012,-4.2610035,-9.231233,-16.61634,-16.448383,-3.1881833,-18.28291,-9.723003,-9.723003,-9.723003,-8.186329,-15.363237,-12.834231,-3.6638076,-2.991893,-14.82128,-18.51906,-21.17216,-17.61866,-17.03718,-13.734878,-13.93398,-13.93416,-18.05796,-9.797908,-10.083751,-13.585444,-12.599727,-16.526337,-18.86518,-6.711225,-7.983932,-7.2942295,-3.642985,-13.628948,-19.760248,-19.760248,-18.469688,-12.907935,-14.316808,-11.532007,-18.239357,-10.691179,-7.8347154,-17.964622,-17.96459,-19.00775,-7.908668,-21.234617,-18.933807,-20.092245,-3.6082506,-13.20181,-15.415252,-2.7609344,-17.153538,-9.05019,-17.153538,-11.20644,-13.469672,-11.2064705,-7.908678,-21.23456,-13.456492,-14.813071,-11.72114,-2.9421566,-7.2732573,-5.351535,-14.89252,-21.233871,-19.167774,-18.643717,-10.322412,-3.2032218,-20.231672,-17.977507,-6.727285,-18.434145,-2.942139,-5.556305,-20.802711,-6.748282,-14.694573,-4.050283,-7.621391,-14.355614,-6.502451,-19.084099,-5.8420005,-5.842031,-5.842015,-4.260898,-4.261004,-15.085691,-17.154581,-16.858582,-13.464935,-11.72114,-15.297065,-15.384051,-12.524256,-18.05722,-16.48037,-21.294641,-10.486228,-8.705054,-18.606287,-18.639887,-19.249537,-19.249537,-18.298317,-17.010494,-8.381079,-16.017193,-16.01727,-14.534538,-16.821873,-3.4791195,-8.535753,-9.8826685,-7.3260727,-11.2148285,-15.160228,-13.1574545,-15.160228,-11.047566,-3.4535618,-12.243072,-14.417975,-12.299174,-12.255635,-3.4709518,-8.119036,-9.464161,-20.11535,-11.970813,-11.970764,-3.3165479,-11.977298,-3.3165479,-11.41868,-4.3266397,-4.4440966,-7.5185113,-7.4649234,-6.687158,-4.898732,-4.898732,-5.150341,-4.626361,-9.358639,-3.7260702,-3.726064,-8.135561,-10.0147,-11.6337185,-5.0953956,-5.627619,-5.1779113,-19.510029,-11.43581,-12.601997,-6.792961,-6.6950665,-17.159473,-3.5069578,-4.8456388,-12.2392435,-18.039757,-18.053928,-3.2060685,-4.951575,-14.954072,-11.715541,-14.769854,-11.779182,-4.1369424,-5.8128877,-5.2306743,-6.784008,-9.333103,-9.333103,-9.389655,-6.05165,-4.3164077,-9.763151,-3.003625,-4.6972175,-18.809767,-6.05165,-3.4445484,-4.705792,-10.189756,-5.612389,-7.873495,-12.030265,-5.641235,-11.14263,-9.760502,-5.8838997,-12.871567,-14.648522,-4.682146,-5.8838997,-10.967112,-4.5381675,-11.824152,-3.943462,-2.9386394,-14.264598,-6.8379455,-12.363609,-6.8575745,-11.957277,-5.7392116,-7.349645,-11.745161,-12.937811,-4.478681,-11.443499,-10.169558,-12.601997,-12.414804,-4.0066743,-4.9267597,-9.726115,-11.316734,-11.316734,-8.102193,-8.102193,-7.1922774,-15.125644,-1.7277685,-3.385931,-6.2238255,-6.2238255,-4.3721027,-6.223831,-16.41179,-5.51973,-5.6528068,-5.122814,-11.18379,-5.6528835,-5.51973,-5.6528835,-13.607829,-9.010733,-12.353661,-18.831675,-7.2852855,-9.911389,-14.774138,-4.5760684,-11.183787,-9.03981,-8.440765,-2.2453825,-4.6912885,-14.007993,-15.930862,-18.80645,-8.411737,-7.209405,-19.106226,-9.809904,-16.459583,-11.509536,-12.114747,-15.124061,-11.509536,-10.652786,-7.0403175,-11.707411,-15.318774,-4.2645454,-7.9604106,-18.754612,-4.2645597,-10.665007,-9.670356,-6.0691,-7.021902,-8.261268,-10.077827,-11.704898,-9.471415,-3.215201,-5.2672524,-4.9012775,-10.181532,-4.3435645,-5.1466684,-15.986534,-21.188618,-21.188614,-4.7208767,-10.95222,-10.952214,-13.503583,-17.402557,-8.13616,-16.73794,-16.068499,-12.174892,-4.3435645,-6.9886913,-12.960322,-7.2127943,-12.299174,-3.5391898,-9.76373,-13.834564,-6.792961,-3.0756247,-9.154132,-8.701263,-9.23123,-9.768533,-19.514086,-5.040147,-9.009786,-4.7910037,-9.120007,-11.258837,-7.5203395,-11.573321,-12.926612],\"y\":[6.177143,-7.736545,-7.4496207,1.0352075,7.6372848,3.3477623,2.1996007,-1.7769611,-7.6497526,-1.3238432,-1.3238432,-11.872035,-11.015103,-14.738952,-13.618665,-14.937984,-14.893141,-11.015102,-14.157027,2.1433616,7.169065,7.1690516,0.29943013,0.64211655,0.64211655,-2.132352,-10.452063,6.0742364,-0.19853689,-14.854344,5.2852736,-13.144379,9.711361,-9.588547,-6.71539,-7.2251663,-3.3229384,-12.541635,2.7006917,11.872684,0.2975092,-5.707623,-13.296517,10.697869,-11.315306,10.697869,10.109443,11.310651,8.548601,4.318541,8.118041,8.118043,8.1180525,6.711534,1.1413202,1.1413025,-4.5081,8.371908,10.109443,0.040845163,9.143081,3.1198158,-5.4863677,5.1615653,-12.0764265,-11.562976,-11.007017,-11.539077,6.373576,-13.453548,-13.453548,6.373587,5.783978,5.499208,-12.189343,0.42433912,5.7514205,-13.774659,-10.979342,6.1724286,0.91526335,-15.14485,-15.144892,-11.675504,-14.05636,-0.29109704,-0.29109704,-4.668204,-4.563318,-7.6526175,8.463316,-8.442865,10.298777,6.235231,-10.979342,11.915684,1.7204531,0.7641331,0.76412976,0.7639437,-12.0764265,-12.76935,-14.139977,-11.702064,1.1525435,-12.986871,6.3989573,-3.9679825,-5.652018,12.184308,-13.160818,-1.2056651,-13.446853,-13.446831,-11.100717,-9.70294,-11.318994,3.703926,-15.350229,-3.2764387,6.3507123,-3.2764306,-15.350229,-11.01043,-14.725299,11.915684,-13.816218,8.430454,-13.765953,-5.2442245,-9.864739,3.7956612,-10.61813,-3.0774584,-7.734353,1.0188271,3.9307213,-0.716141,-7.460451,-1.4521077,0.4103633,-9.836672,11.539785,-10.356475,3.6254625,-8.427347,-8.797019,3.0952575,-6.989926,-6.9899197,1.9264067,1.9263653,-6.4597774,-0.85951436,-13.418401,-3.0609121,-7.88025,3.6659286,5.7103696,2.7076497,-10.356475,3.6017962,4.936874,7.7845373,1.991495,-0.67462337,8.009566,7.072435,-0.67462337,1.9914938,-9.3082075,1.8971273,-4.702833,-4.277736,-4.9401197,-8.956287,-10.196878,-5.2578206,-1.5841247,1.3038281,4.97471,4.97471,-0.1849726,4.9765625,-0.1849726,-7.6264777,-7.626511,-6.832804,-6.832804,-5.38705,3.7479715,3.440629,1.4606091,2.7076895,-7.6257153,-9.133649,-10.001509,-10.0016365,-8.373604,-1.764071,1.0142828,1.0142828,-1.0061352,-2.8594491,5.9816637,6.653623,5.981654,1.0877445,7.8388853,4.173674,4.173678,2.0755649,-2.2714832,2.0755649,2.192674,-5.2876296,-4.501273,2.3592875,-8.254039,-2.7811286,-9.257248,-3.6035776,10.355411,1.087776,7.5494113,7.024961,-3.7540147,-6.9669185,-3.7540147,2.53412,-10.313798,-6.1236215,-9.566983,7.8754554,-9.566983,-8.814775,-8.814775,-7.608724,6.209008,-7.608724,6.267635,10.168011,-7.464748,-7.46475,-11.581783,-5.160175,-6.803978,0.87424576,0.87425846,-7.3285694,0.87424576,0.5527004,-8.226129,-1.7800436,7.1515517,-13.816218,-7.56458,-7.24681,11.9127655,-3.3701668,-7.494783,-4.9416246,-4.9416313,8.519135,0.47870982,0.47855777,-1.5496602,-10.804849,2.6559753,-12.216323,9.291682,11.516364,-7.494783,-0.74941415,9.2656765,9.291671,-3.6733792,-3.6276453,-3.1131732,-1.9119002,-7.5150275,-8.072152,7.8999143,1.7021794,-6.1686354,-6.6727386,1.4176136,11.516373,-8.057047,-0.41061425,-6.7561274,3.772925,-8.625895,-8.709349,-8.70933,1.2469653,1.3198106,0.040084314,-1.487312,-1.487312,4.8554726,-11.947693,-7.879055,10.121452,-2.8630085,2.0924854,-1.4842087,0.08938984,0.089368805,10.580238,1.6783522,-9.455459,-9.694283,-10.560002,7.3045006,1.7975229,-1.469934,-9.40834,-0.41060263,3.7173114,1.4175847,-11.7630825,-9.658636,9.724732,5.5587125,1.4904144,0.19567248,10.000856,11.247541,8.197937,10.853365,11.264087,11.652141,11.616447,10.364861,10.22867,12.433461,-0.008070355,0.089663856,0.089663856,0.0896648,0.0896524,10.003119,0.0897378,10.122283,8.027378,0.15799448,1.7232537,8.273554,11.689867,10.407298,10.364922,7.98691,11.494546,7.9077725,-9.506502,0.70387036,0.4067569,-3.1537392,-8.58051,-10.503351,-3.1722426,-8.58051,-4.9073,9.526559,9.382366,-5.947298,-8.223356,-5.9473114,-4.9146876,-7.4294777,-10.833196,-8.220175,-7.4251933,-10.833196,11.073689,-2.30236,11.892055,-2.1934135,-2.623835,8.6013365,0.3099206,10.18741,-2.8776464,-6.21073,-7.399158,7.1814723,7.181459,3.9821022,-8.1912,-8.08152,2.2988813,-11.591133,10.614992,10.614992,10.614992,8.89233,-6.4748282,-7.3919635,12.610856,11.154916,-3.0097253,-8.113353,-10.979311,-12.735667,-1.3537477,-7.723796,-10.977542,-10.977539,-10.566071,11.003303,-3.1145523,-11.238109,0.38295546,-12.996188,-13.589315,6.410683,-5.494782,9.795765,11.704187,0.44928136,-14.800864,-14.800864,-15.252175,-7.823034,-7.49822,-7.9275556,-12.930216,-3.224559,8.147934,-15.116316,-15.116314,-14.842917,8.92746,-14.927487,-14.934815,-14.889811,11.4660845,-2.3968434,-3.1369598,5.0010095,-1.579446,-5.0626745,-1.579446,-4.979719,-7.7065682,-4.979727,8.927455,-14.927519,1.0435436,0.21443889,1.002838,10.347467,11.43618,8.004159,1.2248378,-14.722578,-11.127144,-14.828616,0.19921471,11.365388,-13.949099,-9.622482,8.780941,-8.616129,10.347469,9.16486,-11.2125025,9.110825,-7.1548796,8.714631,8.015762,-2.5515375,-1.395276,-10.070832,9.864898,9.864884,9.86489,7.181519,7.1814427,-1.6845556,-8.489642,-7.424844,-0.68994915,1.002838,-7.8294334,-10.674295,-8.080645,-11.95952,-12.532785,-13.38847,-4.786018,-4.1874943,-9.282659,-9.265784,-11.820769,-11.820769,-12.774874,-12.215417,9.679915,-5.055632,-5.05571,-10.2689295,-13.579937,12.212768,0.6092455,3.7550163,-6.3228774,-0.015322989,-1.399012,-4.4293075,-1.399012,1.7597392,11.127216,-10.719202,-9.257243,-9.461331,-1.599785,11.088084,-5.507828,-3.9836001,-11.752195,-4.528665,-4.5287066,2.6730363,-8.92884,2.6730363,-2.9443362,5.0245814,3.127585,-6.221192,3.7237718,1.7997417,1.2858943,1.2858943,5.333555,6.431569,3.1188939,3.4780369,3.478035,-6.032858,-7.157962,-10.000081,-2.7056,-1.4126091,9.208601,-10.594175,-2.8329425,-9.948181,-4.6525884,2.5525322,-8.506204,6.174226,1.2298222,-7.432674,-9.161262,-9.146456,1.5608404,0.044600036,-6.3045473,-3.936068,0.48117667,0.91920066,-2.1019192,11.150126,6.775056,-4.731432,-7.5966268,-7.5966268,5.252022,-3.3820994,3.27319,-4.5317006,1.692937,6.689844,-10.816941,-3.3820994,-1.3764418,2.0462503,1.4279685,-3.3310823,-4.6148934,-9.218489,5.7900834,-10.027202,-3.531377,-2.0540268,-9.880898,-10.608404,3.3868332,-2.0540268,3.9699113,5.14729,-4.444926,2.8045156,11.351077,-9.776365,-6.4696913,-2.6816719,4.032398,-8.97085,4.5698986,-4.79243,-10.744149,-7.800572,5.0431204,3.8037214,-7.6488385,-9.948181,-10.509141,1.2095344,2.1129098,3.1607594,4.688811,4.688811,-1.4333645,-1.4333645,-5.6645722,-9.407344,7.5351696,5.628424,4.3409023,4.3409023,-1.893442,4.340919,-13.852629,1.0033442,-5.0093822,-4.395876,-7.6856375,-5.009616,1.0033442,-5.009616,-11.296883,-6.7816386,-10.436778,-12.115205,3.516555,-7.3276033,-5.9989843,-1.286752,-7.685643,-4.1129293,-3.2090173,1.8353987,6.9318457,-9.337644,-6.231361,-9.452181,5.836642,6.4461813,-10.010743,0.94200873,-5.2152824,-9.205827,-3.7661057,-6.626121,-9.205827,-4.0623226,-6.035975,-7.4000087,-4.4733834,3.565835,0.4217329,-10.205586,3.5658596,0.91404086,3.1451604,-3.3527372,3.7817817,-3.1300528,-7.174059,-8.146301,-2.9897158,1.5571012,9.283913,1.3499472,-7.208713,-0.58986413,-4.2648535,-6.6784945,-13.367707,-13.3676815,7.9562907,-7.3484807,-7.348495,-9.863749,-12.439978,-5.573203,-7.239288,-4.9790998,-6.9987373,-0.58986413,-4.5571427,-2.3819163,3.8239472,-9.461331,6.177106,10.860471,-2.3687806,-4.6525884,2.422355,9.08796,4.8360376,4.4919705,-0.08748762,-10.862983,3.0802608,-3.8101602,0.92371446,-0.58437717,-4.0969243,-5.108055,-9.85658,-10.387306],\"z\":[2.0982404,-2.4568338,-1.3706205,-4.5781684,-5.685518,-1.2281399,-2.797438,-2.1703408,1.1405879,-3.706477,-3.706477,-0.12717961,-1.46631,0.193598,1.263561,-0.30729964,0.3381492,-1.4662735,3.0499213,-4.4047976,-4.4506297,-4.450621,-3.5547314,-4.515986,-4.515986,-1.269057,-1.495047,-5.651834,-2.5293868,2.4813182,-5.7328577,0.9518086,-6.4657607,2.0794775,1.0742577,1.1107364,-1.021088,3.408562,-1.3757322,-4.3706703,-5.28829,-1.1678088,2.2697315,-5.8431706,3.2233057,-5.8431706,-6.047465,-6.7447567,-4.960175,-0.2100231,-0.81300575,-0.81301373,-0.81300867,-0.03639157,-4.1381803,-4.138175,-3.6557906,-0.026833037,-6.047465,-4.0591135,-5.9211726,-3.6777215,-0.40842772,-5.4469247,-0.8571633,3.064893,-1.8319446,-0.8115596,-5.5444894,1.8829031,1.8829031,-5.544436,-5.58334,-5.7068596,-0.907629,-5.212147,-0.012644747,2.93409,0.5477232,-5.4917154,-5.6975613,2.9039555,2.9039445,3.0536728,1.5909417,-5.1855183,-5.1855183,-3.5032995,-3.3891068,1.598357,-4.3333774,-1.4347926,-0.54402333,-5.6001635,0.5477232,-4.2286744,-5.530401,-3.4059582,-3.4059565,-3.4060092,-0.8571633,0.6338496,1.6466638,-0.72660804,-4.460718,1.333091,-0.13694412,-3.0749452,-1.0862973,-4.185109,0.7264796,-4.3868165,1.5521826,1.5521839,0.77748907,-0.09971734,-1.4391015,-2.6509435,3.766482,-2.118529,-4.4180455,-2.1185408,3.766482,-1.3176057,3.0150528,-4.2286744,0.7573696,-5.0203867,0.8434924,-2.141392,1.7591352,-3.3958828,1.3139815,-1.1189708,-0.07231924,-0.22864676,-3.2993648,-4.611115,-0.2438885,-3.0772295,-3.3212306,1.4466792,-2.992072,1.7949303,-1.8063715,0.0046330355,1.4429277,-0.1196203,1.1220739,1.122068,-0.10095538,-0.10097731,-0.46527344,-3.4764793,-0.98568213,-2.8301713,0.71795654,-3.2840693,-5.445996,0.055211816,1.7949303,-3.8557293,-0.7565424,-0.05732559,1.0804211,-2.8355684,-0.25826687,-0.13287339,-2.8355684,1.0804293,0.39929062,2.4933178,1.1391186,0.94812804,-1.769574,1.9116583,1.7303149,-0.93147457,-2.6379611,-4.464999,-2.199115,-2.199115,-2.5466044,-2.196962,-2.5466044,-0.43654665,-0.43638888,1.0259578,1.0259578,-1.3035381,-2.7958674,-1.8749199,-1.6438537,0.05523281,1.2277846,1.1322405,2.0190907,2.019102,0.66521275,-4.9834204,-5.944898,-5.944898,-4.020256,-4.5558243,-3.1417294,-0.8206003,-3.1417239,-5.0211754,-0.32450154,-0.53446674,-0.53450173,2.3227243,-2.8640165,2.3227243,0.62463814,-1.5875683,-2.6972284,1.9460214,-1.26488,-2.3203063,0.48602942,-1.8450906,0.6775702,-5.0211844,2.0911946,0.6224843,-3.2121325,1.5229124,-3.2121325,-3.2678776,1.6253966,-0.1976315,1.7628042,-0.5735717,1.7628042,0.9088504,0.9088504,0.925994,-0.5455232,0.925994,-0.51090264,-2.9265041,0.1673598,0.1673616,3.1738288,-1.5492597,1.5999252,-4.2542233,-4.2542577,-0.44985798,-4.2542233,-5.14576,2.137683,-5.0054016,0.0750215,0.7573696,1.8945317,2.1655638,-5.2806892,-4.233952,2.6327345,-3.0360007,-3.0359976,-1.7284153,-3.9218726,-3.9218187,-3.978443,0.7482244,-5.530422,3.3381183,-3.0183628,-2.526431,2.6327345,-4.610484,-2.629499,-3.0183604,-2.7995806,-1.0724953,-4.229993,-3.2415917,-2.3079808,-0.5820214,-1.0293715,-3.4938333,-3.3252833,1.8062402,-5.08501,-2.5264506,-0.7125477,-1.6365021,-1.5784214,-3.0183282,-1.3425472,-0.32750186,-0.32752502,-2.1914809,1.0619254,-3.1123214,-1.364919,-1.364919,-0.6350958,3.443523,-0.43917817,-3.2033198,-3.7324877,0.11393341,-3.6880877,-4.7249417,-4.7249165,0.6060957,1.5210115,1.1942939,3.0770018,2.7919033,-3.0599668,-5.5147257,-3.9203796,3.377513,-1.6365259,-2.769266,-5.08501,3.41036,-0.1600577,-4.9346905,-0.000491366,-5.247913,-5.009664,-3.5266607,-4.898481,-4.385553,-6.61772,-4.82699,-4.279933,-3.797911,-6.2605777,-6.234418,-2.28315,-6.234787,-6.1291275,-6.1291275,-6.129127,-6.129111,-5.6259007,-5.7087955,-2.8727217,-3.6901007,-6.101529,-4.8158307,-4.067326,-3.268628,-4.9852614,-6.26058,-2.5448215,-6.618649,-3.836443,2.3191411,-4.3583446,-5.278857,-4.4548864,-1.3852946,1.2235614,-3.542003,-1.3852946,-3.4591074,-3.377899,-3.432853,-2.6055827,-1.6256605,-2.6056051,-2.188124,-1.5736083,-0.13279356,0.01097365,-1.3679088,-0.13279356,-5.5936556,-3.109372,-4.1748285,-4.7486725,-3.2022393,-4.4983554,-5.6609807,-6.1321673,-4.055406,0.43806627,-0.88370603,-0.94436044,-0.94441205,-4.999775,1.8896774,-0.2767059,2.5697944,3.1506524,-6.6733,-6.6733,-6.6733,-6.0156617,-3.1701255,-3.305653,-3.6601582,-4.108471,-3.246864,2.7771878,0.53778607,1.7601897,-3.649213,-1.9834924,0.99795365,0.99789476,-0.79105365,-6.7998805,-3.2053967,-1.3749603,-3.4365027,1.0824488,-0.30971906,-5.4835258,-0.6302754,-6.2988544,-2.3061574,-3.2477446,0.4105346,0.4105346,3.3077323,-2.6741483,-1.5618578,-1.3325634,0.9490193,-3.0108092,-4.8207593,2.4061375,2.406205,2.772166,-5.762821,-0.21047515,2.8433847,0.3628681,-2.3842857,-3.132164,-4.1628227,-1.1030964,-3.5816975,-1.505724,-3.5816975,-1.8526372,-1.7737106,-1.8528259,-5.7628307,-0.210481,-5.566363,-4.8985496,-4.6270647,0.6032612,-5.5765014,-5.323026,-5.1226315,-0.35412878,2.8727238,2.3606043,-4.392014,-1.0261205,2.9230964,-0.44857186,-3.141434,0.16175796,0.60328853,-2.6656644,3.3565183,-3.0515182,1.6496168,-2.4480035,-4.1486764,-2.4946654,-2.8945353,2.2128468,-5.206641,-5.206658,-5.2066503,-0.9441365,-0.9443883,-5.095625,0.13728775,-0.67306155,-6.606022,-4.6270647,-0.4584834,1.451897,-1.3760647,-0.92368,1.4985957,-1.5800794,-1.9210966,0.2525171,-0.8303434,-0.85485536,2.9977188,2.9977188,0.8594435,-0.83965695,-5.965166,-2.6097267,-2.609698,1.4839227,1.7547015,-3.7226288,-3.889864,-4.654663,0.3640703,-3.748166,-5.0150537,-2.0465183,-5.0150537,-6.729058,-1.7779775,-0.42971283,0.4860335,-1.1902333,-4.5919747,-1.8198094,-0.73681897,0.84558207,3.6511974,-2.1702862,-2.1702511,2.6544135,-0.97055054,2.6544135,-3.3207636,-5.444503,-3.47966,0.04119477,-4.4572372,-4.004636,-2.1577444,-2.1577444,-5.3802705,-0.21625441,-4.3607416,-4.9577785,-4.9577537,-0.08181139,-1.9021086,1.4949777,-1.1428739,-2.267352,-4.6472564,2.2864563,-3.2784097,1.7822993,-1.3126945,-3.792503,2.3548167,2.0936368,-2.7450678,-0.6043623,3.1488118,3.1365583,0.09308786,-3.5869467,1.5878134,-3.5067675,-4.076117,-6.371127,-1.6300222,-4.9264326,-2.6405714,-0.98710895,0.39838442,0.39838442,-4.816038,-1.797437,-0.982757,-3.383988,0.5067008,-1.3258628,1.0896459,-1.797437,-1.0709937,-2.6519341,-4.2794566,-1.2689769,-0.25750417,1.7909366,-3.5470593,1.511006,-3.2595603,-2.1320698,1.7875162,1.8989902,-1.0306928,-2.1320698,-3.5205739,-5.4282336,-2.2585554,1.3495531,-0.5163871,0.011031264,-0.35924393,-3.5888684,-3.950561,1.7926716,-3.5089676,0.030635964,-0.08995806,-1.7059742,-5.4575696,-3.3651392,-1.1468818,1.7822993,-0.6031083,0.5484544,-1.6887228,-3.6861734,-2.5386345,-2.5386345,-3.5878923,-3.5878923,-1.3897978,1.7358946,-0.036154635,2.8074582,-3.5692484,-3.5692484,-1.3440703,-3.5692549,1.7551526,-2.74477,-1.5092517,-2.6189356,-2.1627786,-1.5093107,-2.74477,-1.5093107,-1.3955705,0.20742062,-0.7835499,1.073524,-4.5574613,0.077133775,-0.6362549,-1.6611853,-2.1627686,0.8485902,-3.0899365,0.41214556,-1.7678742,1.6586956,1.4614137,1.2940335,-5.605673,-5.6619544,1.7296479,-4.677823,-2.7243736,-1.6037648,-3.9992478,1.4869493,-1.6037648,0.61303514,-0.71968627,-3.1121464,-2.3356833,-0.49923342,-4.7439375,2.3522074,-0.49926633,-6.4356747,-3.8529117,-1.7969993,-3.9151094,-3.2677789,0.33974272,-2.226747,0.9115381,0.06868687,-4.3827543,-2.338077,0.616149,-1.7303324,-2.573284,-1.3518087,-0.82820046,-0.8282227,-1.5448092,0.24508926,0.24511656,1.7153113,2.9535308,-0.83289236,-0.94127643,-2.3930562,0.24402587,-1.7303324,-1.1702003,-3.0835652,-3.795553,-1.1902333,2.098217,-6.7705574,-3.0624156,-1.3126945,2.9518108,-6.7141685,-4.9925823,-4.514587,-4.1378927,2.3626823,-1.5553241,-3.4943187,-1.2964661,-4.811865,-2.3058343,-0.9188821,1.7383564,1.8604014],\"type\":\"scatter3d\"},{\"customdata\":[[9.3],[9.9],[7.9],[5.3],[7.7],[8.2],[8.2],[8.4],[8.2],[7.0],[8.4],[8.6],[9.4],[8.4],[5.3],[6.2],[9.9],[7.2],[10.0],[6.8],[7.8],[7.2],[7.2],[8.4],[6.6],[9.3],[9.1],[7.5],[7.2],[12.4],[7.5],[7.2],[5.6],[7.6],[7.2],[10.0],[7.1],[7.1],[10.3],[11.6],[7.3],[9.9],[7.1],[7.2],[7.3],[7.6],[10.6],[5.2],[9.6],[7.3],[9.9],[8.5],[7.2],[7.6],[7.3],[9.0],[7.5],[7.5],[7.4],[9.6],[8.8],[6.7],[7.5],[5.6],[8.5],[8.8],[8.0],[6.9],[9.6],[6.9],[10.5],[7.4],[4.7],[7.8],[7.5],[9.7],[9.7],[9.9],[7.5],[7.6],[8.0],[6.6],[6.6],[5.0],[5.8],[7.6],[8.7],[9.2],[8.0],[7.5],[8.0],[5.5],[9.8],[7.0],[6.8],[7.0],[7.5],[7.5],[9.7],[8.0],[7.4],[7.7],[7.3],[7.0],[7.3],[9.0],[7.2],[5.2],[8.0],[7.8],[7.9],[9.0],[7.1],[8.0],[8.0],[7.8],[6.4],[7.3],[5.6],[5.6],[7.8],[7.4],[7.4],[8.0],[8.9],[8.3],[9.8],[6.7],[7.6],[5.1],[8.5],[6.6],[6.1],[9.7],[5.4],[6.0],[7.3],[8.2],[7.3],[8.2],[7.5],[7.6],[7.7],[10.0],[7.8],[6.4],[7.7],[8.2],[5.0],[10.8],[7.6],[7.6],[7.4],[7.4],[10.2],[10.2],[7.8],[10.0],[7.6],[7.8],[7.6],[5.1],[6.8],[9.2],[7.3],[7.6],[8.1],[7.9],[7.4],[7.4],[7.8],[9.9],[7.3],[7.9],[7.7],[7.9],[8.9],[5.6],[8.2],[7.5],[7.6],[7.4],[10.6],[7.1],[7.1],[9.2],[11.1],[12.5],[7.0],[8.7],[10.4],[12.4],[8.2],[5.1],[10.4],[7.2],[10.6],[5.8],[7.2],[9.5],[7.2],[9.0],[9.4],[10.3],[6.7],[6.7],[8.8],[9.0],[11.6],[12.5],[7.6],[8.8],[11.8],[8.3],[7.3],[8.7],[6.5],[5.0],[10.1],[9.0],[7.5],[9.0],[15.9],[7.8],[6.9],[7.1],[8.6],[7.2],[8.4],[11.6],[7.5],[7.2],[7.0],[8.2],[7.1],[9.5],[7.2],[10.6],[7.4],[8.8],[8.8],[7.1],[10.7],[9.2],[7.2],[7.0],[7.2],[7.9],[7.6],[7.2],[9.9],[6.8],[9.0],[7.1],[13.5],[9.2],[9.6],[7.1],[9.5],[5.6],[9.6],[7.0],[9.0],[10.6],[9.1]],\"hovertemplate\":\"Cluster=Cluster 1\\u003cbr\\u003e0=%{x}\\u003cbr\\u003e1=%{y}\\u003cbr\\u003e2=%{z}\\u003cbr\\u003eFeature=%{customdata[0]}\\u003cextra\\u003e\\u003c\\u002fextra\\u003e\",\"legendgroup\":\"Cluster 1\",\"marker\":{\"color\":\"#EF553B\",\"opacity\":0.7,\"symbol\":\"circle\"},\"mode\":\"markers\",\"name\":\"Cluster 1\",\"scene\":\"scene\",\"showlegend\":true,\"x\":[13.098968,15.52023,17.628586,11.964558,11.624559,8.751715,8.751707,12.496075,8.460679,7.2997265,12.496075,15.125511,14.956264,12.462125,11.965541,16.98255,15.52023,9.164599,13.690408,12.741488,9.574419,10.97924,10.97924,8.647621,12.023356,9.8774,13.613554,15.16059,11.997587,16.989323,15.16059,17.971157,14.977996,10.365047,13.093477,12.524106,10.792518,10.792513,12.0310755,17.16524,11.178692,11.025595,11.860605,11.959425,14.728454,9.356727,9.454985,18.148735,11.17311,11.178692,11.025595,18.191023,11.959425,11.741148,18.363924,15.858038,16.752468,16.752459,9.946837,15.503617,8.798435,10.348852,15.271203,14.583843,6.9303756,8.798435,13.660028,14.99927,11.173112,17.423374,9.176665,8.530532,18.063555,17.620687,13.148474,13.848467,13.848468,12.184772,13.1484585,8.829097,10.143548,15.151497,15.151497,15.312045,14.686769,11.991005,8.363921,10.800891,9.673294,16.526531,9.673294,13.509276,11.473915,7.547405,11.417557,9.401785,13.155185,13.155185,11.910868,8.739257,17.286877,14.879916,10.050903,13.199184,12.206418,11.423583,15.992748,9.628661,18.189533,17.095621,12.467305,14.074182,11.116147,14.200978,9.940907,8.461911,10.285273,17.434141,16.169064,16.169062,10.655958,13.150195,13.150172,18.189516,12.166676,11.577009,9.9502945,9.4493,12.838182,16.585474,15.732448,13.741975,8.273648,12.576424,13.264007,15.233507,11.845914,9.463411,12.579587,11.282349,15.518681,12.838182,14.415061,13.989652,14.792669,11.669383,14.981688,10.166259,12.25814,9.497244,9.918128,9.918128,15.913979,7.5638957,17.055237,17.05523,14.702892,14.044649,8.512048,15.974699,8.512048,11.867048,16.704737,9.3616495,15.307074,8.59353,14.789373,9.175186,9.22969,15.913251,8.956858,12.193313,15.307227,14.9064665,9.454533,14.90649,12.73674,9.462538,13.811546,16.526531,14.452807,8.372483,11.483537,12.947162,15.0209055,13.518974,16.872198,8.9910555,8.791975,10.707127,13.354898,9.21305,9.757308,11.435856,13.354898,10.948568,13.483677,11.755038,10.830282,8.8209715,10.948568,18.101128,8.721961,8.777672,17.783787,17.783783,14.601603,17.299994,11.580164,10.673235,9.451882,8.563512,15.295288,15.676284,16.990822,10.707127,15.023395,16.564453,11.43074,9.374811,15.237611,9.374814,8.6834135,8.788051,11.8860235,15.0209055,8.165057,11.249642,14.34368,17.123848,11.38608,12.078509,14.007153,17.327343,11.652504,11.680242,12.078509,11.25539,10.426391,10.452449,10.452431,11.317407,16.572443,10.19566,11.253535,12.705092,11.253539,18.36226,11.129986,12.009417,9.57365,11.3393,15.874148,9.142422,9.281964,17.138294,10.122452,14.16718,8.8209715,11.745983,10.122605,8.516831,12.977298,9.619262,9.913181],\"y\":[-5.3263955,-0.2958274,-9.509713,-9.6168165,-9.858139,-7.411209,-7.4112144,-1.9369397,-6.0915394,-4.14159,-1.9369397,0.9494224,1.215083,-9.805017,-9.613617,-4.682853,-0.2958274,-6.932862,1.0196974,3.3279903,-0.49096394,0.36718193,0.36718193,-6.389752,-2.5221298,0.76201266,2.6895888,-4.7143264,-0.6805827,-6.285075,-4.7143264,-4.548985,-5.094686,0.92802256,2.5247574,-7.1691446,0.8304642,0.83045286,0.04660195,-4.972077,-9.548387,0.08324282,0.90819955,0.4607191,1.5970337,-2.2785063,-1.0531974,-9.085397,-0.9231885,-9.548387,0.08324282,-4.4984803,0.4607191,-0.16449483,-4.507705,-8.598044,-9.110358,-9.110356,-1.7790922,-3.1921446,-3.9597242,-7.0881963,-5.2075195,-9.93579,-4.447349,-3.9597242,-3.1545742,-0.8595663,-0.92319006,-10.154385,-1.5209438,-4.7456036,-9.307248,-9.498339,-5.848422,-6.908422,-6.908422,-9.722211,-5.848432,-1.9907932,0.16030325,0.79539233,0.79539233,-1.9026179,-7.652565,-9.891285,-3.6180472,0.79427075,-7.4521995,-6.8919015,-7.4521995,-4.40832,2.0268188,-4.6779733,-7.7609763,-1.5792783,-8.65564,-8.65564,-9.639033,-5.1496987,-1.8279684,-3.4035692,0.13276814,-6.6391344,-9.949677,-0.3490104,-9.880372,-3.1020808,-6.954872,-8.255819,2.454468,-5.236177,-6.7453165,-2.997711,-6.2128816,-3.273005,-1.6995194,-9.256613,-9.635478,-9.635477,1.0350626,-8.657813,-8.657774,-6.954875,-3.9122362,-9.699768,0.9797927,-7.3191905,-4.5846753,-9.788361,-1.6271926,3.9017613,-4.2363176,-4.0722165,-10.071329,-2.6450324,0.9257526,-1.9984014,-1.8324617,-8.237129,-5.054482,-4.5846753,-8.629738,-4.9346714,-8.713944,2.8727794,-9.028222,0.96790326,-2.6723595,0.45900565,0.42577726,0.4257755,-8.648553,-3.6996167,-1.2802244,-1.2802218,-9.691063,-5.271151,-2.0649118,-1.5311673,-2.0649118,-9.440615,-9.113389,-5.2552733,-4.331733,-5.8700175,-3.578743,-7.294205,-3.6770742,-8.64712,-1.5604025,-0.96921986,-4.3313766,-7.036445,-5.181974,-7.0364246,-4.804465,-6.0476832,1.1191307,-6.8919015,-4.919746,-5.789393,1.724977,-10.060863,-6.847611,-9.878244,-7.926444,-0.8079941,-1.7875472,-5.110414,0.012976632,-0.6971967,-7.367381,-9.668494,0.012976632,-8.288462,-5.233293,-9.268729,-7.573328,-2.0559273,-8.288462,-6.4690676,-4.2230573,-5.593735,-4.3578563,-4.357856,-3.4655528,-10.172409,2.013872,-0.49452814,-0.53686446,-6.071183,0.68436414,-1.5528544,-9.026488,-5.1104107,-4.837771,-4.5380435,-9.553719,-4.3047934,-9.827834,-4.3047943,-3.1175585,-1.6417849,3.2082534,-6.847611,-3.4896708,-8.265765,-9.791314,-6.983462,-6.1543403,-8.038653,-3.1109238,-9.650122,-8.23108,2.0361853,-8.038653,-6.1139283,-6.8221426,0.3007403,0.30071214,-6.8993945,-7.537025,1.1544312,-8.2630415,3.5089304,-8.263042,-3.0155332,-6.6990585,-8.369771,-4.6769967,2.5222232,-6.494295,-6.1716623,-4.0939355,-10.157982,-0.81262326,-7.421688,-2.0559273,-10.021303,-0.81259084,-4.7350554,-4.9585247,-4.9246917,-4.652538],\"z\":[-4.7175746,-4.7873044,-1.7238642,-3.5681336,-0.97679895,0.1462045,0.14621243,-5.0347743,0.25311157,2.9847178,-5.0347743,-4.6589823,-4.6179214,-1.6004882,-3.5662403,-4.3784976,-4.7873044,-0.7134726,-4.7962484,-3.5960553,-0.9424701,-3.6824667,-3.6824667,-0.021491561,-5.0139723,-1.1998371,-4.196325,-3.8223803,-4.8483925,-3.9688096,-3.8223803,-4.0669613,-2.967717,-1.9734942,-4.127321,-3.918141,-3.286962,-3.2869697,-4.880028,-4.2861958,-1.6451921,-4.379295,-4.502458,-4.717856,-4.537788,-1.6090478,-2.6268427,-2.4031541,-4.4302993,-1.6451921,-4.379295,-3.9583635,-4.717856,-4.6730127,-3.8524303,-3.1082785,-2.2887611,-2.2887619,-2.6362832,-4.876982,-0.77207756,-2.4410915,-3.7797303,-2.0779865,3.4830892,-0.77207756,-5.05516,-4.9555984,-4.4303,-1.0098813,-2.1447866,-0.064895205,-2.2984648,-1.7260332,-4.599784,-4.2640667,-4.264067,-1.5186291,-4.599788,-0.07417956,-2.2570693,-4.6800356,-4.6800356,-4.9588723,-3.8655007,-1.313984,0.5730804,-4.0926695,-1.2435447,-3.818856,-1.2435447,-5.6614084,-3.7779412,2.0960736,-3.2648504,-1.310575,-3.3196566,-3.3196566,-1.4991479,-0.50994027,-4.2861123,-4.9229727,-1.6242012,-4.3198605,-1.3648732,-4.577258,-1.880662,-1.9512764,-3.054447,-2.9937408,-3.9881163,-4.7922254,-3.4021628,-5.0580964,-2.277782,0.42438766,-3.0914285,-2.1668446,-2.7807238,-2.7807226,-3.1423986,-3.3210645,-3.3210638,-3.0544498,-4.707167,-1.1894456,-1.4573532,-0.983423,-4.860722,-2.5935106,-4.851145,-3.992879,0.46018973,-4.830556,-2.7746644,-4.9627194,-4.4911547,-1.9472641,-5.04585,-2.800595,-4.405014,-4.860722,-3.2657437,-4.843636,-3.1720629,-2.7157335,-2.9177253,-1.352239,-5.063271,-1.6688868,-0.7287064,-0.72870606,-3.070857,2.5166025,-4.36308,-4.3630853,-2.2885306,-4.836576,0.9513785,-4.7706733,0.9513785,-3.8222747,-2.6765344,-1.7696165,-4.7985787,-0.06154684,-4.964329,-0.5576304,-1.4974589,-3.07127,-0.11151826,-4.9823833,-4.7984896,-4.1016107,-1.9007435,-4.101604,-4.776612,-1.6789472,-4.754981,-3.818856,-4.625173,0.382109,-4.1293426,-1.5219772,-4.1478534,-1.8535806,-3.2538831,-2.3426902,0.17264871,-3.4673586,-5.045067,-2.668402,-1.4246086,-3.1474123,-5.045067,-2.4530718,-4.830428,-3.1382432,-2.775279,-0.19121048,-2.4530718,-3.308042,-0.5531687,-0.59089714,-4.1806483,-4.180651,-4.9878116,-1.0283338,-4.123311,-4.553553,-0.4509256,0.033714525,-4.6818,-4.857175,-2.5653887,-3.4673593,-3.58113,-4.541093,-1.2505493,-1.9194437,-2.081935,-1.9194458,-3.1079748,0.3944399,-2.7213092,-4.1478534,1.1847814,-2.8011928,-2.1396284,-3.6128438,-3.76141,-3.389438,-5.111147,-1.6452265,-3.166001,-4.038375,-3.389438,-3.7042313,-2.6530955,-3.4717371,-3.4717376,-3.4901218,-3.5663652,-1.6594436,-2.8140244,-3.4910777,-2.8140233,-3.856045,-3.4169755,-3.2359939,-2.3333888,-2.3573594,-4.0950117,-1.013086,-3.0469115,-1.1314259,-3.3123114,-3.9960392,-0.19121048,-2.867015,-3.3123775,-0.039335825,-4.814688,-2.421667,-2.7214568],\"type\":\"scatter3d\"},{\"customdata\":[[9.7],[8.8],[11.9],[9.2],[6.8],[6.6],[12.0],[8.7],[10.1],[7.5],[12.1],[9.4],[15.6],[6.9],[6.2],[9.4],[8.7],[7.8],[8.7],[7.8],[7.6],[9.9],[9.9],[8.0],[9.9],[8.3],[7.2],[7.6],[8.9],[7.5],[7.0],[7.5],[7.3],[8.3],[6.9],[11.9],[7.8],[8.8],[8.3],[8.4],[5.0],[7.3],[5.9],[7.5],[7.8],[7.4],[7.8],[6.6],[7.7],[7.1],[7.1],[7.7],[7.0],[11.3],[8.4],[8.2],[6.9],[7.2],[7.4],[7.4],[7.1],[6.9],[7.1],[7.1],[7.2],[7.5],[6.8],[7.8],[6.1],[7.5],[8.6],[8.5],[8.0],[6.6],[8.2],[6.4],[9.1],[5.0],[7.2],[9.1],[6.7],[6.7],[10.8],[6.7],[6.5],[10.4],[8.0],[10.4],[8.3],[9.1],[6.7],[9.9],[5.4],[13.3],[8.2],[5.1],[5.2],[5.2],[8.3],[6.7],[8.4],[8.6],[12.8],[9.1],[7.1],[7.0],[8.0],[7.0],[8.5],[6.6],[8.1],[7.0],[7.6],[6.9],[11.2],[7.8],[7.0],[6.1],[7.1],[7.1],[7.2],[7.4],[6.7],[9.2],[6.9],[10.0],[7.9],[7.9],[7.9],[5.2],[6.8],[8.8],[9.5],[6.4],[9.4],[7.8],[6.4],[6.9],[6.9],[6.1],[6.5],[6.5],[6.1],[6.8],[6.0],[6.7],[11.2],[4.6],[11.9],[7.9],[11.2],[7.6],[6.7],[7.2],[7.5],[7.8],[6.2],[10.0],[10.7],[6.3],[6.8],[6.2],[5.9],[6.3],[6.3],[6.2],[7.4],[7.9],[6.3],[11.9],[8.1],[13.3],[12.4],[5.6],[8.2],[6.7],[6.7],[6.7],[7.0],[6.2],[6.4],[6.0],[10.4],[8.9],[7.3],[7.8],[8.7],[8.7],[7.4],[8.8],[6.9],[6.3],[6.3],[7.8],[10.1],[6.8],[7.3],[13.0],[9.6],[8.3],[13.2],[8.8],[7.7],[9.0],[7.5],[11.6],[8.1],[8.1],[6.8],[8.3],[8.1],[8.0],[7.7],[6.8],[6.0],[8.1],[6.0],[7.9],[10.3],[7.3],[13.2],[6.8],[6.9],[7.9],[10.5],[6.2],[7.5],[11.5],[6.2],[7.0],[7.5],[8.8],[7.3],[7.8],[7.7],[13.0],[7.6],[13.0],[9.3],[12.3],[8.0],[6.1],[10.6],[9.9],[8.8],[6.6],[8.8],[5.0],[8.3],[11.1],[7.6],[6.9],[6.8],[6.8],[7.3],[6.7],[7.3],[7.3],[7.6],[8.0],[7.4],[7.6],[7.9],[6.4],[8.3],[10.8],[13.7],[7.9],[7.7],[7.4],[8.9],[7.9],[7.6],[7.3],[8.7],[8.9],[7.8],[8.6],[7.7],[8.1],[12.6],[7.1],[6.7],[8.9],[6.7],[9.6],[4.9],[11.5],[7.9],[7.5],[9.1],[8.4],[10.9],[7.1],[7.9],[10.8],[7.9],[8.2],[8.9],[6.4],[10.8],[7.5],[8.0],[9.3],[13.7],[8.0],[8.9],[8.2],[8.7],[10.0],[10.0],[7.2],[7.2],[11.6],[11.6],[8.7],[9.5],[9.3],[9.6],[6.9],[7.6],[7.1],[6.6],[8.3],[7.1],[8.5],[7.1],[7.7],[7.8],[9.9],[7.1],[10.8],[5.9],[7.7],[7.1],[7.6],[8.9],[9.9],[10.2],[10.2],[7.7],[7.4],[10.7],[7.4],[7.3],[6.9],[7.7],[7.2],[7.6],[10.0],[10.0],[10.1],[9.8],[7.6],[11.5],[6.8],[9.6],[7.1],[8.3],[8.9],[7.4],[7.4],[7.2],[7.4],[10.7],[7.8],[6.6],[7.9],[5.3],[6.8],[8.4],[8.4],[8.4],[9.8],[9.8],[7.1],[13.3],[7.6],[10.4],[11.6],[8.7],[10.4],[9.1],[6.5],[7.8],[7.7],[8.7],[7.5],[12.0],[7.1],[14.0],[6.6],[9.9],[12.8],[7.5],[12.6],[8.2],[9.5],[6.4],[9.3],[8.5],[9.3],[9.9],[9.3],[8.3],[7.6],[9.0],[8.6],[11.9],[12.8],[7.4],[8.5],[7.2],[6.0],[8.2],[8.5],[6.4],[9.9],[7.2],[8.3],[10.2],[6.9],[6.7],[12.2],[7.8],[8.3],[7.7],[7.7],[6.6],[9.6],[8.3],[7.4],[7.3],[8.7],[8.2],[11.5],[11.5],[9.5],[7.2],[9.2],[6.8],[7.0],[7.2],[8.0],[7.2],[7.2],[6.8],[7.2],[7.0],[8.8],[7.0],[6.2],[6.7],[7.0],[8.8],[6.8],[10.2],[8.2],[8.2],[8.2],[6.5],[6.5],[11.4],[9.0],[8.3],[8.3],[7.5],[7.1],[8.2],[6.5],[8.2],[12.5],[7.2],[9.9],[7.0],[9.1],[7.4],[5.4],[7.8],[7.3],[7.0],[6.4],[6.3],[8.4],[8.1],[7.7],[7.5],[7.5],[6.5],[7.7],[7.7],[7.6],[6.9],[10.2],[7.1],[9.9],[8.0],[8.5],[6.9],[8.4],[8.1],[6.5],[12.0],[9.0],[6.3],[6.8],[6.3],[8.0],[7.9],[7.5],[6.9],[8.7],[7.8],[10.9],[10.9],[7.9]],\"hovertemplate\":\"Cluster=Cluster 2\\u003cbr\\u003e0=%{x}\\u003cbr\\u003e1=%{y}\\u003cbr\\u003e2=%{z}\\u003cbr\\u003eFeature=%{customdata[0]}\\u003cextra\\u003e\\u003c\\u002fextra\\u003e\",\"legendgroup\":\"Cluster 2\",\"marker\":{\"color\":\"#00cc96\",\"opacity\":0.7,\"symbol\":\"circle\"},\"mode\":\"markers\",\"name\":\"Cluster 2\",\"scene\":\"scene\",\"showlegend\":true,\"x\":[8.534691,6.923263,-0.021598063,-2.6481497,-0.84704775,2.4941823,4.8135695,3.4364016,7.0108247,2.1499522,7.43418,8.928455,-0.81498784,9.106566,7.6220684,7.041941,7.1743608,3.3048718,7.1743608,3.3048718,6.9787006,1.6595193,1.6594946,6.848423,1.6596652,-1.1216073,1.5902305,6.9787006,10.509744,-3.4460778,3.065772,-3.4460773,1.5720534,6.216109,4.0658107,-0.021609532,-0.08284963,6.9232635,4.0139675,7.870196,11.80751,9.868099,7.8230023,9.624541,-0.52893096,-0.88094777,-3.4954631,10.115732,7.49047,11.314056,11.314054,7.49047,-0.33462358,6.4204745,5.5251307,0.53141147,8.825945,-1.2021056,-2.4845045,4.993371,7.8834405,3.235429,3.784907,3.7848895,-1.2021203,10.660898,11.725311,0.20748493,8.629744,12.952829,8.733043,10.292757,3.1891313,10.115732,10.44644,7.4105277,8.446486,3.875815,2.7227309,9.191522,-1.0805514,-1.0805439,6.885115,-1.0805439,-1.350314,8.953553,12.3840065,8.953559,4.652106,3.8450198,-1.0805461,-1.6403264,3.8845868,2.0705125,10.44644,4.3779683,11.8227215,11.822722,4.652106,9.462281,7.870196,7.8436017,-0.5771854,-2.2058203,-0.6139621,10.328251,0.50283873,8.594618,11.588844,3.6173525,7.133937,12.40521,5.4771075,3.28857,7.4300385,-1.1803067,-2.0805583,7.7232876,-2.4267185,12.458225,11.834845,7.5912356,6.3093348,6.821415,3.663834,10.010934,-2.645762,-2.645762,9.578392,4.8150535,1.6021228,4.687034,3.4387493,9.3039875,3.6362348,-1.1803099,7.9032774,7.83858,7.838803,10.152508,8.621265,8.621271,10.152508,10.902414,8.122815,-1.0439484,6.9784923,6.6527224,-1.5145446,7.9316945,8.839113,2.759376,3.795412,8.268837,11.798354,6.858426,3.5786612,10.010936,5.3929157,6.9072804,6.1965785,9.225366,12.163326,6.9074235,4.282114,3.5786612,-0.5913378,7.447518,11.787342,-1.5145446,7.5198307,4.856966,3.6638892,7.6192102,11.705224,7.448235,10.253145,7.6517515,7.269715,-2.8870175,-0.2886384,4.9585814,10.764516,10.883076,7.516024,8.794957,-2.5348997,10.744291,6.2159357,10.506882,3.17222,8.068723,-0.46418086,11.119205,6.3946247,-0.29226074,6.0686836,5.144766,10.032634,7.422287,-0.5777312,10.381365,10.315575,0.6031069,10.36708,3.399263,7.133937,-2.9356418,8.998703,4.311569,-2.935656,2.7661405,-1.201404,8.99871,12.415481,11.932268,12.415481,6.2404857,8.067953,2.87115,-0.5777312,3.602786,12.441732,2.6092174,4.50775,4.07681,-1.5198585,-3.2784362,4.076805,6.159708,-3.1563122,8.290728,1.8464601,7.4418373,8.486045,-0.13198899,10.432688,-0.13198204,10.3012495,8.713849,8.952585,3.065111,2.2181485,-0.19777912,-0.47319177,12.135927,-0.47319177,8.065363,0.42488638,5.2834306,-2.587293,-0.7108477,11.785969,11.785958,11.631145,-2.487512,11.631155,7.82204,6.9473343,3.1891313,-2.4844966,4.078656,-1.5523568,11.14141,10.336824,2.5331507,3.5278676,8.651183,9.832834,-2.7206597,5.0359535,4.5585127,4.3030133,9.137202,7.5424767,3.1272929,8.441117,3.4756896,1.2968605,10.333203,3.5474484,-1.1960788,-1.785461,2.4583988,-1.785427,10.701226,4.1433496,6.2137594,10.615426,-2.3790462,6.2771225,-2.4145877,8.8963995,7.8173995,10.6154375,2.5331159,-0.7522164,8.5085535,3.1272929,5.567921,6.1806498,12.061212,10.955576,1.538358,3.5278533,-0.60303175,6.2059407,-2.7883644,11.598117,9.069148,9.069148,-1.1892403,-0.48197734,4.639648,4.639648,9.6257715,0.59885365,4.861751,5.629788,6.521112,9.620965,10.792099,6.234809,2.8012195,10.792099,4.012621,-2.041298,3.5431342,9.77611,10.866983,-2.0412993,0.6414765,9.2274,-2.1692326,6.0417976,5.5903187,2.4583988,9.659088,-1.7695744,-1.7695744,8.800968,-1.4524298,-0.22149983,-1.4524298,9.681711,10.294398,8.800968,6.6072974,7.837261,4.5762224,4.5762224,5.7084813,1.2729758,5.5521164,10.733265,8.997377,4.277188,7.883446,4.0139575,-2.3490646,-2.3949249,-2.394919,11.346867,11.798246,10.821432,11.151641,-2.0008066,0.592931,6.442259,8.997377,10.47604,3.6577342,10.47604,9.739714,9.739714,9.215632,7.594127,11.212722,6.3391576,11.259204,7.7061734,10.858913,8.518854,9.583097,9.898702,3.4515266,7.706215,11.3005,8.957465,-1.1960788,-0.19292329,-2.529385,7.009829,-1.1056473,5.510149,-1.5698898,5.11319,5.0888734,4.0908904,12.607628,1.2854689,12.607655,6.605316,12.607667,8.698954,4.3012686,9.279844,8.192866,-1.8509369,-1.1056473,-1.2159696,1.2854923,-1.1892403,3.917458,-2.7883644,-0.6096678,8.26877,9.674496,7.2437615,1.8140098,-2.9847887,7.603696,9.817768,9.112429,7.9758177,-2.4910562,2.5611417,-2.1699307,9.743492,1.0175003,-2.4910343,6.878131,6.960135,-0.27727526,11.179206,5.131579,5.1315947,-2.6708736,2.4206462,3.8438551,5.6160007,0.12686758,7.243757,8.632389,7.243757,7.2437296,7.079048,-1.4328209,-2.589992,-0.21725082,7.6486087,9.563796,6.443386,-2.5899692,-0.21725082,7.722417,12.604215,2.9120085,2.9120085,6.4307075,8.510497,13.444411,-1.5504496,2.2353804,1.8140098,1.8141161,-2.6160457,7.9255595,8.952339,1.0927461,9.740013,8.842636,-1.1892462,6.203423,-1.5464658,0.93232536,0.7968035,10.345963,10.36691,2.4314165,2.2723546,11.516377,4.544006,7.043227,7.0628285,10.635433,9.03438,1.0343407,-2.958711,10.635433,7.314921,4.9575925,-3.0999923,-2.8601625,4.388295,6.605294,4.1145043,8.744396,-3.0999923,3.447398,-0.41898113,-2.9587123,-1.0934156,9.704865,10.877286,1.4439551,4.336131,6.590352,0.76751405,7.6579604,2.113497,4.5060754,-0.64524,4.0086923,4.0086913,0.82185477],\"y\":[4.560861,0.4944221,8.505686,5.693636,11.451211,1.7791106,9.087893,12.5711975,7.7576575,8.220279,2.2747488,7.9057627,2.5210063,10.0287075,-2.5468783,-2.6149566,-3.9366164,3.8737276,-3.9366164,3.8737276,0.16453654,8.689352,8.689359,-3.555412,8.689531,5.1622915,2.5824687,0.16453654,3.5101304,6.0490313,1.588666,6.0490265,3.6533241,1.0461674,10.789347,8.505673,4.300228,0.49442068,8.876682,-1.9135815,1.6519516,0.20863786,10.306259,9.8786335,10.759419,10.031396,5.9985614,9.047695,-0.93906367,5.828923,5.8289266,-0.93906367,11.280703,6.6744914,0.83909035,4.333764,5.9683223,10.262283,9.926962,4.684131,10.5064335,11.953484,12.014833,12.014843,10.262292,2.4937365,6.9979053,11.751788,9.758771,4.6157413,1.9587317,6.582985,2.9389064,9.047695,2.1884217,6.7795854,-1.770428,5.645086,4.9106665,3.7366636,11.546747,11.546743,6.238456,11.546743,7.7734613,4.3949895,3.5791955,4.3949947,1.5569268,3.6305175,11.546745,4.3340673,5.6513295,7.7485566,2.1884217,9.917625,1.2242078,1.2242111,1.5569268,2.3194828,-1.9135815,-1.6622506,6.233176,7.242358,7.4307504,1.3207093,8.099972,-1.6976701,4.0656333,10.71225,-3.7186096,6.393249,10.020256,11.805995,2.390183,8.275604,9.81018,9.895555,9.009215,6.6955066,3.718977,6.473017,11.6113,7.1378117,11.005791,1.5800195,5.0479665,5.0479665,1.6909801,3.1596982,10.807285,7.1411085,6.1763616,8.889935,5.9450583,8.275581,-2.3328598,-2.62257,-2.6223207,2.542424,10.28725,10.287242,2.542424,2.4366493,8.125261,11.612799,5.817057,-4.6554923,4.3743553,1.2744304,0.09080514,8.14585,12.335871,7.7217216,3.7099807,1.2934623,12.597048,1.5800089,4.9271965,11.323697,11.632458,10.123179,7.022777,11.32364,12.23897,12.597048,7.427902,-0.59760547,6.47305,4.3743553,1.0161072,8.907001,7.6577888,-0.50836414,6.053715,10.723816,5.7921557,-2.826584,10.796759,10.407636,11.8024,3.7751927,5.888168,2.8736112,-0.9659142,-1.2343355,6.6360745,8.712589,6.8795214,3.5060554,10.579365,-0.6743642,10.210116,5.1942444,-3.8444712,10.240314,3.960209,5.361205,6.2119384,-2.5286148,6.1398764,6.2303767,1.8852112,9.068667,2.8448548,3.9218311,-3.7186096,7.5876884,2.179814,2.6018908,7.5876813,4.1129017,11.500108,2.179835,6.5525026,6.873556,6.5525026,9.584352,5.748978,11.726912,6.1398764,11.38961,6.497015,10.968354,5.0532384,10.261112,5.6246705,5.842883,10.261118,0.9902028,7.0764637,4.7722025,3.0671847,1.7121378,9.913346,2.1925204,2.2592976,2.1925237,3.8509755,8.258411,1.1410319,5.3000984,8.962638,3.7949576,3.9663515,6.808898,3.9663515,6.29736,4.3436437,5.7823806,3.6886423,8.866162,6.845676,6.845696,6.2912292,12.184748,6.291247,7.45978,10.093446,2.9389064,9.926964,3.1951232,10.789709,6.550506,2.123556,10.101226,7.5553837,7.506737,4.690036,5.55901,5.072,7.484199,12.218375,2.4737673,11.39769,10.818658,7.7907543,8.333959,2.9943302,2.1153402,8.116105,9.861786,9.622498,2.7232385,9.62252,4.756812,10.028662,6.5090833,2.16978,12.758641,-3.1930969,4.902824,-1.9381992,7.8535957,2.1698077,10.101293,11.07092,9.755862,10.818658,1.3499405,-3.4706707,3.8188486,6.436188,10.739258,7.55539,10.244446,-3.9074316,3.097998,3.837317,1.1376883,1.1376883,8.319664,8.536875,9.160426,9.160426,0.121322654,10.77765,9.726328,5.2874,11.584513,9.737926,6.7385883,0.2891533,8.615218,6.7385883,7.11525,10.455882,5.23991,4.9730535,6.4794917,10.455884,9.054248,10.14655,4.1176014,3.9550252,1.2065395,2.7232385,9.006432,4.311375,4.3113747,10.281403,7.6434464,8.490921,7.6434464,9.027949,9.263919,10.281403,10.777589,10.462689,2.3358028,2.3358028,2.3443222,3.877726,11.927576,5.2308507,11.047701,5.896327,10.506416,8.8767,4.8985987,10.645785,10.645801,6.667337,3.528004,5.0280514,3.4712102,11.402507,10.743696,-4.2838454,11.047701,9.148802,7.701432,9.148802,1.299524,1.299524,4.561249,2.5735116,5.1725388,6.2301927,8.026743,6.45314,8.515565,9.128945,9.656482,9.537677,10.290471,6.4531016,6.2747946,7.3474865,9.861786,2.2194936,12.586698,10.279496,2.7317402,9.782769,4.0913363,5.7565775,2.5312154,12.149726,6.1761584,10.577784,6.1761127,-3.0300102,6.1762414,7.93366,1.0074171,9.158162,6.351941,2.0810437,2.7317402,6.7062345,10.577787,8.319664,10.11415,3.097998,8.567752,7.1919255,5.9528646,10.215841,9.249538,5.996368,7.009392,4.3093944,-1.6408441,7.960725,4.3720202,11.132031,4.236583,4.830404,10.038071,4.371994,10.658537,1.0030386,4.0101385,6.9602246,4.1902475,4.190212,6.6548467,8.422916,3.5690405,4.4753056,8.756301,10.215839,6.649209,10.215839,10.215845,-3.9688435,5.0950737,2.747363,4.236328,-2.505509,2.8999846,-3.9681187,2.747289,4.236328,-1.1777959,6.2852607,3.4998927,3.4998927,-0.08388696,9.219507,4.59798,4.1493835,10.523202,9.249538,9.249529,3.6397154,10.257703,1.3869416,2.7129226,8.847886,7.427737,8.319764,-3.5257506,8.513051,4.20071,11.316116,3.7866857,2.864164,8.534552,4.487947,2.6600704,3.55694,1.0666411,6.276055,1.8124754,9.764304,3.8601274,4.3387384,1.8124754,-0.16280529,4.765456,4.8839235,7.5317855,7.5019903,-3.029967,3.175175,1.1031224,4.8839235,12.034752,4.7713046,4.3387513,2.0020761,6.91229,6.340661,4.181552,12.363822,-3.5050292,1.2154398,-2.1544785,1.7258493,3.5820177,4.557005,7.675385,7.6753836,1.2497536],\"z\":[4.771623,6.1425395,0.55909795,5.3948402,1.205327,8.373739,2.4492693,-0.119949766,4.39499,6.1220837,7.2052684,3.1753962,9.320155,0.5324568,2.9875774,4.305037,3.2376275,7.742584,3.2376275,7.742584,5.811884,4.4328694,4.432858,4.2132287,4.433107,6.1760473,7.720918,5.811884,2.1263783,2.8781507,7.805458,2.8781471,7.553092,6.7162867,3.8166893,0.55909395,7.0226746,6.142537,5.7287498,3.2518973,0.8901128,0.04345044,2.5843296,-0.7593883,2.3972187,3.3852208,2.9638782,0.034134023,4.6450753,1.4389116,1.4389124,4.6450753,1.7644445,4.9067893,7.299831,7.51009,5.126907,2.7091413,1.5335224,6.8053575,1.6222652,1.3490324,1.1430244,1.143014,2.7091298,0.4323032,-0.9173659,1.0592239,2.5715604,-3.450333,4.793018,2.6500554,8.028066,0.034134023,1.3350087,6.3767295,2.2516108,5.633437,7.284877,4.229473,0.8286447,0.8286506,4.976635,0.8286506,5.1245084,3.9627414,-3.107897,3.9627256,7.5450025,8.108612,0.82864666,7.4857235,5.6519933,3.7428176,1.3350087,5.893263,0.45718297,0.45718747,7.5450025,4.1417246,3.2518973,3.5577776,1.0562632,4.9378943,5.6564417,-0.4966964,5.851354,0.89859974,-1.1640005,4.670735,3.4638274,-2.5235066,4.112847,1.6600183,7.2086945,4.6792994,2.2446427,3.1463277,2.48715,-2.8609285,-2.085085,6.125944,0.266198,5.1196656,3.393893,0.25875664,4.3874516,4.3874516,3.5637283,6.714261,3.5370252,6.7019167,7.433542,2.825789,7.4886703,4.679291,2.0881586,2.3407633,2.3404803,2.7717125,0.791534,0.7915289,2.7717125,-0.44066533,4.8975945,0.9862279,5.0460296,4.5524592,8.624452,5.3864183,4.2125926,6.207206,0.37799188,4.8536596,-2.0124655,6.305265,-0.2381796,0.2587483,7.9547043,0.38160473,0.3453909,-0.2275637,-2.3980885,0.3816195,0.3580662,-0.2381796,5.66545,4.9004607,-0.24522576,8.624452,5.6960487,2.412014,3.5885332,4.637862,-0.30368418,1.8795674,3.4989173,2.7758436,2.059938,1.0402458,0.9365869,6.1987076,0.77845174,-0.3061876,4.5607767,0.8319883,4.7366495,-1.3503283,6.4747577,2.1301358,4.1082397,3.8063533,4.9888234,1.6642264,3.515661,5.0340962,6.3831506,8.5258045,2.8808084,3.6189167,1.095185,2.492595,2.1063058,5.550889,2.287306,9.201207,3.4638274,2.4790552,3.1243808,7.8059,2.4790533,7.7768726,0.55795044,3.124374,-2.616702,-1.3903735,-2.616702,4.339347,4.7662926,1.7557852,1.095185,2.7927275,-2.6765642,2.9596937,8.267594,5.004286,5.38555,5.6762943,5.004232,6.6380897,2.5786192,5.148031,7.8239665,5.897267,2.8911607,9.555155,1.3137951,9.55515,2.5410569,1.6668236,4.175051,6.646817,3.7430816,7.8523474,7.285405,-1.9645134,7.285405,6.93094,7.2018805,7.7188244,4.431873,5.304332,-0.90224844,-0.90223753,0.10891321,-1.6637166,0.10890322,6.057922,3.409636,8.028066,1.5335224,7.6515346,3.7503943,1.7706226,1.6706727,2.4186308,3.7545862,4.3571067,3.9492621,4.1414676,7.31641,6.5323834,0.41784447,4.492917,3.4453576,2.6104553,4.3762064,5.881244,7.644132,0.5238519,3.3260272,3.6469088,2.9803662,9.109563,2.9804263,1.9001992,6.128926,5.104535,0.29825306,-2.5126693,5.4112363,4.8676615,2.2813075,5.185776,0.29825476,2.4185731,4.009558,1.8652773,2.6104553,6.909568,5.5038185,-2.4726105,1.6108891,2.4799967,3.7545807,3.233737,5.3798957,3.7117293,-1.3556663,4.2995167,4.2995167,4.749621,4.8175287,2.5228305,2.5228305,-0.09563105,5.1149945,3.2113905,7.393657,0.044064865,-0.4534103,2.1222668,6.420729,5.6845036,2.1222668,6.74878,1.3149914,7.299683,4.008261,0.5315431,1.314986,2.24601,-0.22875197,5.0479107,6.3773646,7.079297,9.109563,0.39129737,7.549637,7.549636,-0.04531771,5.0572395,0.39497846,5.0572395,1.9852865,-1.189209,-0.04531771,3.3002722,1.6076831,10.213028,10.213028,7.771118,8.3080635,0.14691357,0.57367516,3.8419628,7.4564147,1.6222702,5.7287445,6.0702877,0.40739092,0.40741202,0.78751427,-2.1995895,0.46098375,-0.016269634,0.41769925,3.2873607,4.9880767,3.8419628,-1.4339921,6.282349,-1.4339921,3.5367336,3.5367336,4.8896766,7.2839065,1.6839645,5.6034455,-1.5222739,5.5338783,-1.2764763,2.2838051,0.71642065,-0.6679387,4.3233304,5.5339246,1.0485535,2.6979504,3.6469088,9.54387,-2.3386083,1.6978693,9.099893,4.462915,8.48415,6.947521,7.849926,0.7098888,-2.9218848,2.9902418,-2.9218884,4.838968,-2.9219415,3.8530235,7.5277133,0.9098617,5.1372766,2.7841866,9.099893,5.4804544,2.9902256,4.749621,5.192802,3.7117293,4.2319984,5.4056435,3.270328,3.051946,4.7539415,5.3391767,6.169367,4.264194,2.219757,4.6988883,4.7673206,2.6734807,5.003734,4.348974,2.9808462,4.7673955,2.7219827,6.1339355,7.2210565,0.34947312,8.518661,8.518676,4.8462434,6.0001063,8.189232,6.5071287,4.584575,3.051932,4.8114038,3.051932,3.0519435,3.6613593,7.0078673,4.8511896,7.2245665,3.018175,4.1809955,4.9627523,4.8511677,7.2245665,4.039763,-2.9488475,8.009701,8.009701,6.2283864,4.5119762,-3.7312932,8.181485,3.0238469,4.7539415,4.7538595,4.5220165,2.1969118,4.3325076,7.4703517,0.8035363,2.3897083,4.7495008,5.4622507,4.304263,7.883446,3.1837645,4.051044,2.2347233,5.9965644,7.4387374,0.99353904,6.4657736,6.1966953,6.262302,-0.94344217,2.4067576,7.429212,4.0895815,-0.94344217,5.387149,6.891694,4.053105,4.3095174,6.670077,4.8390107,7.749222,4.4911966,4.053105,1.1038706,6.617082,4.089569,2.9145584,3.0710893,2.4818559,7.402658,0.011485478,4.6761484,7.662714,3.398152,7.9020305,7.695274,6.6700726,5.0795403,5.079541,7.6822762],\"type\":\"scatter3d\"},{\"customdata\":[[7.3],[9.2],[6.0],[7.1],[7.4],[5.9],[7.8],[7.0],[7.0],[7.0],[7.1],[8.5],[7.3],[9.2],[7.1],[7.1],[8.0],[9.2],[9.3],[7.3],[6.1],[8.9],[8.9],[8.9],[8.9],[8.2],[7.8],[8.6],[8.8],[8.6],[7.1],[7.8],[6.9],[8.3],[7.7],[8.0],[9.4],[6.7],[8.3],[8.9],[9.5],[8.0],[7.0],[8.5],[7.2],[7.8],[8.6],[9.3],[8.4],[7.9],[9.8],[8.6],[8.6],[8.3],[8.1],[8.8],[7.7],[7.9],[9.5],[7.9],[8.6],[9.6],[7.9],[7.9],[8.1],[6.7],[8.4],[7.8],[5.9],[6.6],[8.1],[6.7],[9.0],[9.0],[9.1],[8.4],[7.2],[6.7],[7.8],[9.8],[7.7],[7.9],[7.9],[9.0],[9.0],[7.7],[8.6],[6.6],[8.8],[8.0],[9.8],[8.8],[7.8],[8.9],[6.6],[8.0],[8.0],[7.7],[6.8],[7.5],[8.2],[8.8],[7.7]],\"hovertemplate\":\"Cluster=Cluster 3\\u003cbr\\u003e0=%{x}\\u003cbr\\u003e1=%{y}\\u003cbr\\u003e2=%{z}\\u003cbr\\u003eFeature=%{customdata[0]}\\u003cextra\\u003e\\u003c\\u002fextra\\u003e\",\"legendgroup\":\"Cluster 3\",\"marker\":{\"color\":\"#ab63fa\",\"opacity\":0.7,\"symbol\":\"circle\"},\"mode\":\"markers\",\"name\":\"Cluster 3\",\"scene\":\"scene\",\"showlegend\":true,\"x\":[18.721046,19.759989,19.017416,22.194399,21.09013,24.140005,22.592861,19.160023,19.160044,21.512907,22.29154,19.770592,21.093325,24.001455,21.862257,22.194399,19.861925,20.336138,24.062735,18.721048,25.437195,19.319986,24.012781,18.652758,23.802986,23.143847,22.592861,23.245749,21.338629,22.96653,22.29154,22.592861,22.03091,19.444187,25.24121,21.322016,24.865425,25.51591,20.896288,18.936495,24.966074,20.532677,21.189434,25.150768,18.751217,24.93997,24.127817,21.631262,19.015734,23.754345,25.325558,24.127817,23.745386,19.31663,22.551765,22.71258,18.829609,25.655685,24.66746,25.656048,20.782421,24.947584,24.055681,24.055681,25.102217,19.20174,18.075466,21.023705,23.104736,25.417906,24.095312,20.19715,21.835026,21.301886,18.716156,20.937313,19.32008,20.19715,18.540777,25.13386,19.907288,25.038319,25.094568,21.169737,19.114481,25.24121,20.935472,22.213186,24.3245,23.101099,25.204473,19.009321,21.014238,19.24855,22.213186,19.025871,19.026325,19.513077,21.86043,19.046644,22.21916,19.255316,22.865707],\"y\":[-4.0031147,-8.889518,-9.992761,-5.5832005,-4.814732,-2.3231182,-4.874472,-8.293915,-8.293901,-4.9254766,-5.3542356,-7.564205,-4.8895683,-4.6334057,-4.5815873,-5.5832005,-7.8828983,-7.3619337,-3.374921,-4.003118,-2.948985,-8.912727,-2.6604424,-4.5745587,-2.6641037,-2.94688,-4.874472,-4.713337,-6.806683,-4.677255,-5.3542356,-4.874472,-2.3819401,-9.00469,-4.772951,-6.4501944,-5.032229,-4.535476,-6.4287567,-5.9453955,-4.9626136,-8.26928,-6.406288,-3.438358,-6.777973,-4.838292,-5.9577785,-4.869529,-9.249388,-3.1291025,-3.2713923,-5.9577785,-6.2637615,-8.911032,-6.079869,-5.959738,-6.5030537,-4.433336,-3.9476292,-4.43524,-7.4835773,-3.9766965,-3.9191666,-3.9191666,-3.1823452,-4.335388,-9.823663,-6.5631833,-2.6255898,-4.660286,-4.026965,-9.077152,-6.59264,-7.288558,-4.1225777,-5.7011337,-3.5641303,-9.077152,-9.036938,-3.3398619,-7.6919975,-5.6411495,-5.4701524,-6.5166664,-3.7462347,-4.772951,-5.8607407,-2.408848,-3.2185588,-4.798657,-3.6298301,-8.872491,-6.91555,-7.5596786,-2.408848,-4.360541,-4.360556,-8.159081,-7.679384,-2.9823701,-6.849091,-8.622144,-4.6220436],\"z\":[-3.7023616,-0.6607334,-0.19525082,0.40314618,-0.78366655,-0.9051268,0.40846255,-1.7504994,-1.7504911,-0.37872675,0.45402694,-1.5071852,-0.7581555,0.8857932,-0.20674253,0.40314618,-1.2506915,-0.9918761,0.3234624,-3.7023597,-0.09136378,-1.0581397,-0.46961403,-3.6566849,-0.53137237,-0.5170354,0.40846255,0.67043006,-0.20983218,0.7234037,0.45402694,0.40846255,-1.7950603,-0.86434615,1.0925936,-0.2830865,1.1194019,1.0910999,-0.67579025,-3.0168488,1.1211641,-0.32515386,-0.30765525,0.5283467,-2.7747808,1.094198,1.055148,-0.29551235,-0.9809483,-0.010535622,0.3507522,1.055148,0.96041435,-1.0651835,0.510781,0.5878984,-2.8352325,-1.4967968,0.78968835,-1.4998816,-0.49112704,0.8115621,0.66164917,0.66164917,0.29356253,-3.311031,-0.97588927,-0.5304689,-0.89677227,1.061343,0.7226289,-0.11072359,0.12779799,-0.12051756,-3.6975348,-0.75937235,-3.2947295,-0.11072359,-1.608601,0.43507233,-1.3029491,1.2573898,1.2347205,-0.41121602,-3.4434505,1.0925936,-0.72865856,-1.6586428,0.25516298,0.62354285,0.6194586,-1.3709822,-0.4624631,-1.9994086,-1.6586428,-3.4876828,-3.4876494,-1.4422834,0.3910666,-3.4739785,0.40095976,-1.362485,0.4725164],\"type\":\"scatter3d\"}],                        {\"template\":{\"data\":{\"histogram2dcontour\":[{\"type\":\"histogram2dcontour\",\"colorbar\":{\"outlinewidth\":0,\"ticks\":\"\"},\"colorscale\":[[0.0,\"#0d0887\"],[0.1111111111111111,\"#46039f\"],[0.2222222222222222,\"#7201a8\"],[0.3333333333333333,\"#9c179e\"],[0.4444444444444444,\"#bd3786\"],[0.5555555555555556,\"#d8576b\"],[0.6666666666666666,\"#ed7953\"],[0.7777777777777778,\"#fb9f3a\"],[0.8888888888888888,\"#fdca26\"],[1.0,\"#f0f921\"]]}],\"choropleth\":[{\"type\":\"choropleth\",\"colorbar\":{\"outlinewidth\":0,\"ticks\":\"\"}}],\"histogram2d\":[{\"type\":\"histogram2d\",\"colorbar\":{\"outlinewidth\":0,\"ticks\":\"\"},\"colorscale\":[[0.0,\"#0d0887\"],[0.1111111111111111,\"#46039f\"],[0.2222222222222222,\"#7201a8\"],[0.3333333333333333,\"#9c179e\"],[0.4444444444444444,\"#bd3786\"],[0.5555555555555556,\"#d8576b\"],[0.6666666666666666,\"#ed7953\"],[0.7777777777777778,\"#fb9f3a\"],[0.8888888888888888,\"#fdca26\"],[1.0,\"#f0f921\"]]}],\"heatmap\":[{\"type\":\"heatmap\",\"colorbar\":{\"outlinewidth\":0,\"ticks\":\"\"},\"colorscale\":[[0.0,\"#0d0887\"],[0.1111111111111111,\"#46039f\"],[0.2222222222222222,\"#7201a8\"],[0.3333333333333333,\"#9c179e\"],[0.4444444444444444,\"#bd3786\"],[0.5555555555555556,\"#d8576b\"],[0.6666666666666666,\"#ed7953\"],[0.7777777777777778,\"#fb9f3a\"],[0.8888888888888888,\"#fdca26\"],[1.0,\"#f0f921\"]]}],\"heatmapgl\":[{\"type\":\"heatmapgl\",\"colorbar\":{\"outlinewidth\":0,\"ticks\":\"\"},\"colorscale\":[[0.0,\"#0d0887\"],[0.1111111111111111,\"#46039f\"],[0.2222222222222222,\"#7201a8\"],[0.3333333333333333,\"#9c179e\"],[0.4444444444444444,\"#bd3786\"],[0.5555555555555556,\"#d8576b\"],[0.6666666666666666,\"#ed7953\"],[0.7777777777777778,\"#fb9f3a\"],[0.8888888888888888,\"#fdca26\"],[1.0,\"#f0f921\"]]}],\"contourcarpet\":[{\"type\":\"contourcarpet\",\"colorbar\":{\"outlinewidth\":0,\"ticks\":\"\"}}],\"contour\":[{\"type\":\"contour\",\"colorbar\":{\"outlinewidth\":0,\"ticks\":\"\"},\"colorscale\":[[0.0,\"#0d0887\"],[0.1111111111111111,\"#46039f\"],[0.2222222222222222,\"#7201a8\"],[0.3333333333333333,\"#9c179e\"],[0.4444444444444444,\"#bd3786\"],[0.5555555555555556,\"#d8576b\"],[0.6666666666666666,\"#ed7953\"],[0.7777777777777778,\"#fb9f3a\"],[0.8888888888888888,\"#fdca26\"],[1.0,\"#f0f921\"]]}],\"surface\":[{\"type\":\"surface\",\"colorbar\":{\"outlinewidth\":0,\"ticks\":\"\"},\"colorscale\":[[0.0,\"#0d0887\"],[0.1111111111111111,\"#46039f\"],[0.2222222222222222,\"#7201a8\"],[0.3333333333333333,\"#9c179e\"],[0.4444444444444444,\"#bd3786\"],[0.5555555555555556,\"#d8576b\"],[0.6666666666666666,\"#ed7953\"],[0.7777777777777778,\"#fb9f3a\"],[0.8888888888888888,\"#fdca26\"],[1.0,\"#f0f921\"]]}],\"mesh3d\":[{\"type\":\"mesh3d\",\"colorbar\":{\"outlinewidth\":0,\"ticks\":\"\"}}],\"scatter\":[{\"fillpattern\":{\"fillmode\":\"overlay\",\"size\":10,\"solidity\":0.2},\"type\":\"scatter\"}],\"parcoords\":[{\"type\":\"parcoords\",\"line\":{\"colorbar\":{\"outlinewidth\":0,\"ticks\":\"\"}}}],\"scatterpolargl\":[{\"type\":\"scatterpolargl\",\"marker\":{\"colorbar\":{\"outlinewidth\":0,\"ticks\":\"\"}}}],\"bar\":[{\"error_x\":{\"color\":\"#2a3f5f\"},\"error_y\":{\"color\":\"#2a3f5f\"},\"marker\":{\"line\":{\"color\":\"#E5ECF6\",\"width\":0.5},\"pattern\":{\"fillmode\":\"overlay\",\"size\":10,\"solidity\":0.2}},\"type\":\"bar\"}],\"scattergeo\":[{\"type\":\"scattergeo\",\"marker\":{\"colorbar\":{\"outlinewidth\":0,\"ticks\":\"\"}}}],\"scatterpolar\":[{\"type\":\"scatterpolar\",\"marker\":{\"colorbar\":{\"outlinewidth\":0,\"ticks\":\"\"}}}],\"histogram\":[{\"marker\":{\"pattern\":{\"fillmode\":\"overlay\",\"size\":10,\"solidity\":0.2}},\"type\":\"histogram\"}],\"scattergl\":[{\"type\":\"scattergl\",\"marker\":{\"colorbar\":{\"outlinewidth\":0,\"ticks\":\"\"}}}],\"scatter3d\":[{\"type\":\"scatter3d\",\"line\":{\"colorbar\":{\"outlinewidth\":0,\"ticks\":\"\"}},\"marker\":{\"colorbar\":{\"outlinewidth\":0,\"ticks\":\"\"}}}],\"scattermapbox\":[{\"type\":\"scattermapbox\",\"marker\":{\"colorbar\":{\"outlinewidth\":0,\"ticks\":\"\"}}}],\"scatterternary\":[{\"type\":\"scatterternary\",\"marker\":{\"colorbar\":{\"outlinewidth\":0,\"ticks\":\"\"}}}],\"scattercarpet\":[{\"type\":\"scattercarpet\",\"marker\":{\"colorbar\":{\"outlinewidth\":0,\"ticks\":\"\"}}}],\"carpet\":[{\"aaxis\":{\"endlinecolor\":\"#2a3f5f\",\"gridcolor\":\"white\",\"linecolor\":\"white\",\"minorgridcolor\":\"white\",\"startlinecolor\":\"#2a3f5f\"},\"baxis\":{\"endlinecolor\":\"#2a3f5f\",\"gridcolor\":\"white\",\"linecolor\":\"white\",\"minorgridcolor\":\"white\",\"startlinecolor\":\"#2a3f5f\"},\"type\":\"carpet\"}],\"table\":[{\"cells\":{\"fill\":{\"color\":\"#EBF0F8\"},\"line\":{\"color\":\"white\"}},\"header\":{\"fill\":{\"color\":\"#C8D4E3\"},\"line\":{\"color\":\"white\"}},\"type\":\"table\"}],\"barpolar\":[{\"marker\":{\"line\":{\"color\":\"#E5ECF6\",\"width\":0.5},\"pattern\":{\"fillmode\":\"overlay\",\"size\":10,\"solidity\":0.2}},\"type\":\"barpolar\"}],\"pie\":[{\"automargin\":true,\"type\":\"pie\"}]},\"layout\":{\"autotypenumbers\":\"strict\",\"colorway\":[\"#636efa\",\"#EF553B\",\"#00cc96\",\"#ab63fa\",\"#FFA15A\",\"#19d3f3\",\"#FF6692\",\"#B6E880\",\"#FF97FF\",\"#FECB52\"],\"font\":{\"color\":\"#2a3f5f\"},\"hovermode\":\"closest\",\"hoverlabel\":{\"align\":\"left\"},\"paper_bgcolor\":\"white\",\"plot_bgcolor\":\"#E5ECF6\",\"polar\":{\"bgcolor\":\"#E5ECF6\",\"angularaxis\":{\"gridcolor\":\"white\",\"linecolor\":\"white\",\"ticks\":\"\"},\"radialaxis\":{\"gridcolor\":\"white\",\"linecolor\":\"white\",\"ticks\":\"\"}},\"ternary\":{\"bgcolor\":\"#E5ECF6\",\"aaxis\":{\"gridcolor\":\"white\",\"linecolor\":\"white\",\"ticks\":\"\"},\"baxis\":{\"gridcolor\":\"white\",\"linecolor\":\"white\",\"ticks\":\"\"},\"caxis\":{\"gridcolor\":\"white\",\"linecolor\":\"white\",\"ticks\":\"\"}},\"coloraxis\":{\"colorbar\":{\"outlinewidth\":0,\"ticks\":\"\"}},\"colorscale\":{\"sequential\":[[0.0,\"#0d0887\"],[0.1111111111111111,\"#46039f\"],[0.2222222222222222,\"#7201a8\"],[0.3333333333333333,\"#9c179e\"],[0.4444444444444444,\"#bd3786\"],[0.5555555555555556,\"#d8576b\"],[0.6666666666666666,\"#ed7953\"],[0.7777777777777778,\"#fb9f3a\"],[0.8888888888888888,\"#fdca26\"],[1.0,\"#f0f921\"]],\"sequentialminus\":[[0.0,\"#0d0887\"],[0.1111111111111111,\"#46039f\"],[0.2222222222222222,\"#7201a8\"],[0.3333333333333333,\"#9c179e\"],[0.4444444444444444,\"#bd3786\"],[0.5555555555555556,\"#d8576b\"],[0.6666666666666666,\"#ed7953\"],[0.7777777777777778,\"#fb9f3a\"],[0.8888888888888888,\"#fdca26\"],[1.0,\"#f0f921\"]],\"diverging\":[[0,\"#8e0152\"],[0.1,\"#c51b7d\"],[0.2,\"#de77ae\"],[0.3,\"#f1b6da\"],[0.4,\"#fde0ef\"],[0.5,\"#f7f7f7\"],[0.6,\"#e6f5d0\"],[0.7,\"#b8e186\"],[0.8,\"#7fbc41\"],[0.9,\"#4d9221\"],[1,\"#276419\"]]},\"xaxis\":{\"gridcolor\":\"white\",\"linecolor\":\"white\",\"ticks\":\"\",\"title\":{\"standoff\":15},\"zerolinecolor\":\"white\",\"automargin\":true,\"zerolinewidth\":2},\"yaxis\":{\"gridcolor\":\"white\",\"linecolor\":\"white\",\"ticks\":\"\",\"title\":{\"standoff\":15},\"zerolinecolor\":\"white\",\"automargin\":true,\"zerolinewidth\":2},\"scene\":{\"xaxis\":{\"backgroundcolor\":\"#E5ECF6\",\"gridcolor\":\"white\",\"linecolor\":\"white\",\"showbackground\":true,\"ticks\":\"\",\"zerolinecolor\":\"white\",\"gridwidth\":2},\"yaxis\":{\"backgroundcolor\":\"#E5ECF6\",\"gridcolor\":\"white\",\"linecolor\":\"white\",\"showbackground\":true,\"ticks\":\"\",\"zerolinecolor\":\"white\",\"gridwidth\":2},\"zaxis\":{\"backgroundcolor\":\"#E5ECF6\",\"gridcolor\":\"white\",\"linecolor\":\"white\",\"showbackground\":true,\"ticks\":\"\",\"zerolinecolor\":\"white\",\"gridwidth\":2}},\"shapedefaults\":{\"line\":{\"color\":\"#2a3f5f\"}},\"annotationdefaults\":{\"arrowcolor\":\"#2a3f5f\",\"arrowhead\":0,\"arrowwidth\":1},\"geo\":{\"bgcolor\":\"white\",\"landcolor\":\"#E5ECF6\",\"subunitcolor\":\"white\",\"showland\":true,\"showlakes\":true,\"lakecolor\":\"white\"},\"title\":{\"x\":0.05},\"mapbox\":{\"style\":\"light\"}}},\"scene\":{\"domain\":{\"x\":[0.0,1.0],\"y\":[0.0,1.0]},\"xaxis\":{\"title\":{\"text\":\"0\"}},\"yaxis\":{\"title\":{\"text\":\"1\"}},\"zaxis\":{\"title\":{\"text\":\"2\"}}},\"legend\":{\"title\":{\"text\":\"Cluster\"},\"tracegroupgap\":0},\"title\":{\"text\":\"3d TSNE Plot for Clusters\"},\"height\":800,\"width\":900},                        {\"responsive\": true}                    ).then(function(){\n",
              "                            \n",
              "var gd = document.getElementById('908e4b1b-86a1-4549-a230-d93121270aa2');\n",
              "var x = new MutationObserver(function (mutations, observer) {{\n",
              "        var display = window.getComputedStyle(gd).display;\n",
              "        if (!display || display === 'none') {{\n",
              "            console.log([gd, 'removed!']);\n",
              "            Plotly.purge(gd);\n",
              "            observer.disconnect();\n",
              "        }}\n",
              "}});\n",
              "\n",
              "// Listen for the removal of the full notebook cells\n",
              "var notebookContainer = gd.closest('#notebook-container');\n",
              "if (notebookContainer) {{\n",
              "    x.observe(notebookContainer, {childList: true});\n",
              "}}\n",
              "\n",
              "// Listen for the clearing of the current output cell\n",
              "var outputEl = gd.closest('.output');\n",
              "if (outputEl) {{\n",
              "    x.observe(outputEl, {childList: true});\n",
              "}}\n",
              "\n",
              "                        })                };                            </script>        </div>\n",
              "</body>\n",
              "</html>"
            ]
          },
          "metadata": {},
          "output_type": "display_data"
        }
      ],
      "source": [
        "plot_model(kMeanClusteringModel, plot = 'tsne')"
      ]
    },
    {
      "cell_type": "markdown",
      "metadata": {
        "id": "NWwZUES8b3I9"
      },
      "source": [
        "---\n",
        "# **5. Compelete Code for Clustering (KMean)**\n",
        "---\n",
        "### **5.1 For Cluster = 3, 4, 5, 6**"
      ]
    },
    {
      "cell_type": "code",
      "execution_count": null,
      "metadata": {
        "colab": {
          "base_uri": "https://localhost:8080/",
          "height": 343,
          "referenced_widgets": [
            "cfd9b0c8244848f0807c944c2b8bdfd7",
            "0be1a4de34574e9f9f77387c43996f8c",
            "31a7f6049139474499bf400b96e78209",
            "4cc28aea70334ea9b816f71ab580727c",
            "37d9422359e145e0ab3626a275673e96",
            "f0659aac38e344698783aa198d95de51",
            "d7c165386ea04fe08f8ae1cd5dbb920d",
            "6e604bd789234b8d969b70948337ee21",
            "8cfff1f4af8c4e00a6f7661df54e6b95",
            "e0c4811b75ec440592248d8fc4708a00",
            "ce5704c9d6bf498692dfda0b60346f9c",
            "a0af8afc3ac646a29ef2a5d5744f5a29",
            "58065ad7dab043be909bfd752f23f9b3",
            "a7ab9da5ff904324bec5cd3c24507728",
            "96d09d05eb3d4d46a4dca6c1a3043725",
            "0d024125784f43c58b2a431e70178c41",
            "756b52a72e894ff395a712f38bd76b64",
            "779f87b915594cf7835d17117adee1ab",
            "2c840d2378fa4ce2bc1b98202f36a76e",
            "ab0a667250d54f90bbf9547471f2d735",
            "110f08bba5a948b8aceb0d7988b762c6",
            "457f92bad4994cd3a8443925de47425b",
            "06293dcde0f14b5e88fb2e8d45744765",
            "d8da8ff1c5df40669f6d867d5242228b",
            "e67df91f2b364bdeae523f993e5c0ed6",
            "a59a37e2102a436eb49ff78a1b88ed8d",
            "e1ff4f545cbd4913b14a2a6adcfe5f10",
            "cd5761994f114318a6038e1f2eb4b51e",
            "5886b5a5b2aa4cccaf032f0a7380c097",
            "ba59f93be06743b18d711807f39575a0",
            "f038edcab57b44e1af3a157ee7bd92f5",
            "505f6784c87643189e254b95c1cba18c",
            "ef05ac153f2d4de1bf614fa349470aad",
            "f38f4945631f42878b075b78a592b07f",
            "f063f2c0c4ee40559519be08dae79d11",
            "7c752cb3772e426a8b04e52df4f6c5de",
            "a62626d8b54f4ffda179041a0ee82fe2",
            "1592cb43d5734165a29b48a96cabcf32",
            "7ad8ce3ca6564f8cb82304ccbb1b57e0",
            "75820e6a34e744b292edd6548ca19621",
            "a0c8da7a24f54317b9ef9c6e10cca51f",
            "fe8d39ef3d83456fab8760024a27cbad",
            "542155002ccc4f08aa8bbf7598c60725",
            "f17ccda0373d481a90fbc2cb4c8eb842"
          ]
        },
        "id": "P6_gGI4mb3I-",
        "outputId": "1a34feb9-e419-49cf-f3df-96155f2b8a7d"
      },
      "outputs": [
        {
          "name": "stdout",
          "output_type": "stream",
          "text": [
            "For Cluster = 3\n"
          ]
        },
        {
          "data": {
            "text/html": [],
            "text/plain": [
              "<IPython.core.display.HTML object>"
            ]
          },
          "metadata": {},
          "output_type": "display_data"
        },
        {
          "data": {
            "text/html": [
              "<style type=\"text/css\">\n",
              "</style>\n",
              "<table id=\"T_7e485\" class=\"dataframe\">\n",
              "  <thead>\n",
              "    <tr>\n",
              "      <th class=\"blank level0\" >&nbsp;</th>\n",
              "      <th id=\"T_7e485_level0_col0\" class=\"col_heading level0 col0\" >Silhouette</th>\n",
              "      <th id=\"T_7e485_level0_col1\" class=\"col_heading level0 col1\" >Calinski-Harabasz</th>\n",
              "      <th id=\"T_7e485_level0_col2\" class=\"col_heading level0 col2\" >Davies-Bouldin</th>\n",
              "      <th id=\"T_7e485_level0_col3\" class=\"col_heading level0 col3\" >Homogeneity</th>\n",
              "      <th id=\"T_7e485_level0_col4\" class=\"col_heading level0 col4\" >Rand Index</th>\n",
              "      <th id=\"T_7e485_level0_col5\" class=\"col_heading level0 col5\" >Completeness</th>\n",
              "    </tr>\n",
              "  </thead>\n",
              "  <tbody>\n",
              "    <tr>\n",
              "      <th id=\"T_7e485_level0_row0\" class=\"row_heading level0 row0\" >0</th>\n",
              "      <td id=\"T_7e485_row0_col0\" class=\"data row0 col0\" >0.5206</td>\n",
              "      <td id=\"T_7e485_row0_col1\" class=\"data row0 col1\" >3057.5797</td>\n",
              "      <td id=\"T_7e485_row0_col2\" class=\"data row0 col2\" >0.6698</td>\n",
              "      <td id=\"T_7e485_row0_col3\" class=\"data row0 col3\" >0</td>\n",
              "      <td id=\"T_7e485_row0_col4\" class=\"data row0 col4\" >0</td>\n",
              "      <td id=\"T_7e485_row0_col5\" class=\"data row0 col5\" >0</td>\n",
              "    </tr>\n",
              "  </tbody>\n",
              "</table>\n"
            ],
            "text/plain": [
              "<pandas.io.formats.style.Styler at 0x7f9285ae1350>"
            ]
          },
          "metadata": {},
          "output_type": "display_data"
        },
        {
          "data": {
            "application/vnd.jupyter.widget-view+json": {
              "model_id": "cfd9b0c8244848f0807c944c2b8bdfd7",
              "version_major": 2,
              "version_minor": 0
            },
            "text/plain": [
              "Processing:   0%|          | 0/3 [00:00<?, ?it/s]"
            ]
          },
          "metadata": {
            "application/vnd.jupyter.widget-view+json": {
              "colab": {
                "custom_widget_manager": {
                  "url": "https://ssl.gstatic.com/colaboratory-static/widgets/colab-cdn-widget-manager/2b70e893a8ba7c0f/manager.min.js"
                }
              }
            }
          },
          "output_type": "display_data"
        },
        {
          "data": {
            "text/html": [],
            "text/plain": [
              "<IPython.core.display.HTML object>"
            ]
          },
          "metadata": {},
          "output_type": "display_data"
        },
        {
          "name": "stdout",
          "output_type": "stream",
          "text": [
            "For Cluster = 4\n"
          ]
        },
        {
          "data": {
            "text/html": [],
            "text/plain": [
              "<IPython.core.display.HTML object>"
            ]
          },
          "metadata": {},
          "output_type": "display_data"
        },
        {
          "data": {
            "text/html": [
              "<style type=\"text/css\">\n",
              "</style>\n",
              "<table id=\"T_f2aa4\" class=\"dataframe\">\n",
              "  <thead>\n",
              "    <tr>\n",
              "      <th class=\"blank level0\" >&nbsp;</th>\n",
              "      <th id=\"T_f2aa4_level0_col0\" class=\"col_heading level0 col0\" >Silhouette</th>\n",
              "      <th id=\"T_f2aa4_level0_col1\" class=\"col_heading level0 col1\" >Calinski-Harabasz</th>\n",
              "      <th id=\"T_f2aa4_level0_col2\" class=\"col_heading level0 col2\" >Davies-Bouldin</th>\n",
              "      <th id=\"T_f2aa4_level0_col3\" class=\"col_heading level0 col3\" >Homogeneity</th>\n",
              "      <th id=\"T_f2aa4_level0_col4\" class=\"col_heading level0 col4\" >Rand Index</th>\n",
              "      <th id=\"T_f2aa4_level0_col5\" class=\"col_heading level0 col5\" >Completeness</th>\n",
              "    </tr>\n",
              "  </thead>\n",
              "  <tbody>\n",
              "    <tr>\n",
              "      <th id=\"T_f2aa4_level0_row0\" class=\"row_heading level0 row0\" >0</th>\n",
              "      <td id=\"T_f2aa4_row0_col0\" class=\"data row0 col0\" >0.4838</td>\n",
              "      <td id=\"T_f2aa4_row0_col1\" class=\"data row0 col1\" >3051.5684</td>\n",
              "      <td id=\"T_f2aa4_row0_col2\" class=\"data row0 col2\" >0.7150</td>\n",
              "      <td id=\"T_f2aa4_row0_col3\" class=\"data row0 col3\" >0</td>\n",
              "      <td id=\"T_f2aa4_row0_col4\" class=\"data row0 col4\" >0</td>\n",
              "      <td id=\"T_f2aa4_row0_col5\" class=\"data row0 col5\" >0</td>\n",
              "    </tr>\n",
              "  </tbody>\n",
              "</table>\n"
            ],
            "text/plain": [
              "<pandas.io.formats.style.Styler at 0x7f929f462310>"
            ]
          },
          "metadata": {},
          "output_type": "display_data"
        },
        {
          "data": {
            "application/vnd.jupyter.widget-view+json": {
              "model_id": "457f92bad4994cd3a8443925de47425b",
              "version_major": 2,
              "version_minor": 0
            },
            "text/plain": [
              "Processing:   0%|          | 0/3 [00:00<?, ?it/s]"
            ]
          },
          "metadata": {
            "application/vnd.jupyter.widget-view+json": {
              "colab": {
                "custom_widget_manager": {
                  "url": "https://ssl.gstatic.com/colaboratory-static/widgets/colab-cdn-widget-manager/2b70e893a8ba7c0f/manager.min.js"
                }
              }
            }
          },
          "output_type": "display_data"
        },
        {
          "data": {
            "text/html": [],
            "text/plain": [
              "<IPython.core.display.HTML object>"
            ]
          },
          "metadata": {},
          "output_type": "display_data"
        },
        {
          "name": "stdout",
          "output_type": "stream",
          "text": [
            "For Cluster = 5\n"
          ]
        },
        {
          "data": {
            "text/html": [],
            "text/plain": [
              "<IPython.core.display.HTML object>"
            ]
          },
          "metadata": {},
          "output_type": "display_data"
        },
        {
          "data": {
            "text/html": [
              "<style type=\"text/css\">\n",
              "</style>\n",
              "<table id=\"T_2828f\" class=\"dataframe\">\n",
              "  <thead>\n",
              "    <tr>\n",
              "      <th class=\"blank level0\" >&nbsp;</th>\n",
              "      <th id=\"T_2828f_level0_col0\" class=\"col_heading level0 col0\" >Silhouette</th>\n",
              "      <th id=\"T_2828f_level0_col1\" class=\"col_heading level0 col1\" >Calinski-Harabasz</th>\n",
              "      <th id=\"T_2828f_level0_col2\" class=\"col_heading level0 col2\" >Davies-Bouldin</th>\n",
              "      <th id=\"T_2828f_level0_col3\" class=\"col_heading level0 col3\" >Homogeneity</th>\n",
              "      <th id=\"T_2828f_level0_col4\" class=\"col_heading level0 col4\" >Rand Index</th>\n",
              "      <th id=\"T_2828f_level0_col5\" class=\"col_heading level0 col5\" >Completeness</th>\n",
              "    </tr>\n",
              "  </thead>\n",
              "  <tbody>\n",
              "    <tr>\n",
              "      <th id=\"T_2828f_level0_row0\" class=\"row_heading level0 row0\" >0</th>\n",
              "      <td id=\"T_2828f_row0_col0\" class=\"data row0 col0\" >0.4437</td>\n",
              "      <td id=\"T_2828f_row0_col1\" class=\"data row0 col1\" >3036.3654</td>\n",
              "      <td id=\"T_2828f_row0_col2\" class=\"data row0 col2\" >0.7570</td>\n",
              "      <td id=\"T_2828f_row0_col3\" class=\"data row0 col3\" >0</td>\n",
              "      <td id=\"T_2828f_row0_col4\" class=\"data row0 col4\" >0</td>\n",
              "      <td id=\"T_2828f_row0_col5\" class=\"data row0 col5\" >0</td>\n",
              "    </tr>\n",
              "  </tbody>\n",
              "</table>\n"
            ],
            "text/plain": [
              "<pandas.io.formats.style.Styler at 0x7f929eae9090>"
            ]
          },
          "metadata": {},
          "output_type": "display_data"
        },
        {
          "data": {
            "application/vnd.jupyter.widget-view+json": {
              "model_id": "ef05ac153f2d4de1bf614fa349470aad",
              "version_major": 2,
              "version_minor": 0
            },
            "text/plain": [
              "Processing:   0%|          | 0/3 [00:00<?, ?it/s]"
            ]
          },
          "metadata": {
            "application/vnd.jupyter.widget-view+json": {
              "colab": {
                "custom_widget_manager": {
                  "url": "https://ssl.gstatic.com/colaboratory-static/widgets/colab-cdn-widget-manager/2b70e893a8ba7c0f/manager.min.js"
                }
              }
            }
          },
          "output_type": "display_data"
        },
        {
          "data": {
            "text/html": [],
            "text/plain": [
              "<IPython.core.display.HTML object>"
            ]
          },
          "metadata": {},
          "output_type": "display_data"
        },
        {
          "name": "stdout",
          "output_type": "stream",
          "text": [
            "For Cluster = 6\n"
          ]
        },
        {
          "data": {
            "text/html": [],
            "text/plain": [
              "<IPython.core.display.HTML object>"
            ]
          },
          "metadata": {},
          "output_type": "display_data"
        },
        {
          "data": {
            "text/html": [
              "<style type=\"text/css\">\n",
              "</style>\n",
              "<table id=\"T_266ea\" class=\"dataframe\">\n",
              "  <thead>\n",
              "    <tr>\n",
              "      <th class=\"blank level0\" >&nbsp;</th>\n",
              "      <th id=\"T_266ea_level0_col0\" class=\"col_heading level0 col0\" >Silhouette</th>\n",
              "      <th id=\"T_266ea_level0_col1\" class=\"col_heading level0 col1\" >Calinski-Harabasz</th>\n",
              "      <th id=\"T_266ea_level0_col2\" class=\"col_heading level0 col2\" >Davies-Bouldin</th>\n",
              "      <th id=\"T_266ea_level0_col3\" class=\"col_heading level0 col3\" >Homogeneity</th>\n",
              "      <th id=\"T_266ea_level0_col4\" class=\"col_heading level0 col4\" >Rand Index</th>\n",
              "      <th id=\"T_266ea_level0_col5\" class=\"col_heading level0 col5\" >Completeness</th>\n",
              "    </tr>\n",
              "  </thead>\n",
              "  <tbody>\n",
              "    <tr>\n",
              "      <th id=\"T_266ea_level0_row0\" class=\"row_heading level0 row0\" >0</th>\n",
              "      <td id=\"T_266ea_row0_col0\" class=\"data row0 col0\" >0.3882</td>\n",
              "      <td id=\"T_266ea_row0_col1\" class=\"data row0 col1\" >2819.3047</td>\n",
              "      <td id=\"T_266ea_row0_col2\" class=\"data row0 col2\" >0.8295</td>\n",
              "      <td id=\"T_266ea_row0_col3\" class=\"data row0 col3\" >0</td>\n",
              "      <td id=\"T_266ea_row0_col4\" class=\"data row0 col4\" >0</td>\n",
              "      <td id=\"T_266ea_row0_col5\" class=\"data row0 col5\" >0</td>\n",
              "    </tr>\n",
              "  </tbody>\n",
              "</table>\n"
            ],
            "text/plain": [
              "<pandas.io.formats.style.Styler at 0x7f9285736d50>"
            ]
          },
          "metadata": {},
          "output_type": "display_data"
        },
        {
          "data": {
            "application/vnd.jupyter.widget-view+json": {
              "model_id": "f17ccda0373d481a90fbc2cb4c8eb842",
              "version_major": 2,
              "version_minor": 0
            },
            "text/plain": [
              "Processing:   0%|          | 0/3 [00:00<?, ?it/s]"
            ]
          },
          "metadata": {
            "application/vnd.jupyter.widget-view+json": {
              "colab": {
                "custom_widget_manager": {
                  "url": "https://ssl.gstatic.com/colaboratory-static/widgets/colab-cdn-widget-manager/2b70e893a8ba7c0f/manager.min.js"
                }
              }
            }
          },
          "output_type": "display_data"
        },
        {
          "data": {
            "text/html": [],
            "text/plain": [
              "<IPython.core.display.HTML object>"
            ]
          },
          "metadata": {},
          "output_type": "display_data"
        }
      ],
      "source": [
        "from pycaret.datasets import get_data\n",
        "from pycaret.clustering import *\n",
        "\n",
        "setup(data = myDataSet, verbose=False)\n",
        "\n",
        "print(\"For Cluster = 3\")\n",
        "x = create_model('kmeans', num_clusters = 3)\n",
        "\n",
        "print(\"For Cluster = 4\")\n",
        "x = create_model('kmeans', num_clusters = 4)\n",
        "\n",
        "print(\"For Cluster = 5\")\n",
        "x = create_model('kmeans', num_clusters = 5)\n",
        "\n",
        "print(\"For Cluster = 6\")\n",
        "x = create_model('kmeans', num_clusters = 6)"
      ]
    },
    {
      "cell_type": "markdown",
      "metadata": {
        "id": "XZyx5JF_too4"
      },
      "source": [
        "---\n",
        "### **5.2 Other Clustering Algorithms**\n",
        "---\n",
        "```\n",
        "1. K-Means clustering                 'kmeans'\n",
        "2. Affinity Propagation               'ap'\n",
        "3. Mean shift clustering              'meanshift'\n",
        "4. Spectral Clustering                'sc'\n",
        "5. Agglomerative Clustering           'hclust'\n",
        "6. Density-Based Spatial Clustering   'dbscan'\n",
        "7. OPTICS Clustering                  'optics'\n",
        "8. Birch Clustering                   'birch'\n",
        "9. K-Modes clustering                 'kmodes'\n",
        "```"
      ]
    },
    {
      "cell_type": "markdown",
      "metadata": {
        "id": "HD79yrviG7iJ"
      },
      "source": [
        "---\n",
        "### **6.1.2 Evaluation parameters for Cluster = 3, 4, 5, 6**\n",
        "---"
      ]
    },
    {
      "cell_type": "code",
      "execution_count": null,
      "metadata": {
        "colab": {
          "base_uri": "https://localhost:8080/",
          "height": 343,
          "referenced_widgets": [
            "a0e2c3f890374bddaa91a65215bbed71",
            "1a21100f1f2e4b3cbbacd37fc8f23414",
            "4f536369c033463e9b542aeeced2dfd9",
            "d2c4067b9c66498d94444616e4c3a01d",
            "bd0e4d68d354489795b431726b5fc89c",
            "9ef0f4a177a84c269788c57ba096325d",
            "c481b79b88e2458880db8012d9cb5e42",
            "96fb6744f2d34050b64b1a24fa753682",
            "15368d7ab3c64191bfced83501e111de",
            "2e58a72411134b91a6d59aabb6a2568d",
            "50e04eac18de4279a1ba9a8b47cdd4e4",
            "4c4fb572ddf34b0cb28df5a60d6a05f1",
            "570c05ca3dfb4545a8b716a3ab10d873",
            "fab3f03a534248119bef2faee23e205e",
            "7ba387d33c474e549818e86ddcc581cd",
            "1a4138b3cacf4ab28de1350a9150a96d",
            "0fa0992b26de497280730c18dbf7358a",
            "2477d6d894f248a492f7a49b6876e853",
            "c856b0f72ee9412aab7af4da9ba51804",
            "18666eb77fd24478893f7bc9b715868c",
            "160ef266da3042219b64518f5d699bf0",
            "5e2452328fa843069fa008d7fed759c9",
            "8a2c9510c6c44fd38134fbbc012a43e1",
            "28ffeac636244c0fbf059d63043a3a11",
            "23e8adc41f5b499b8c43753a6f048ec4",
            "b7c9893171474ac6a6e7da04bd618d98",
            "e69d076bac664583b1073d11e6a92cda",
            "6bac3d811b9047169495e6f645b9bc98",
            "a05fbda5f91c40228ac0290e7275b39c",
            "27e6938ee82a4290807b7663e36d12eb",
            "ace56cba75b04d68801a860607f07851",
            "74ef624a59db4661b5da5f14a5dc98b8",
            "bda4924d52ed4ceabcd1d82c00ef44cf",
            "8a0c802c1a5f4b1c84355b4d4f52e75d",
            "701495abbb1d4fb592bf2878356deae4",
            "57107459e42649699130b84dd02520d5",
            "98a70f5f777241e78aa596a24c07c698",
            "f973729cd15747f9924bc004eda833ca",
            "552f898da9964cd292434900b03757d7",
            "ab56dc7f26074311a25b1459fe270db3",
            "a73447f284c64dbeb68321935ef77020",
            "e21fce8882894c279ec9063b40c70d87",
            "73e07f8981064a0fab9aa25e79165867",
            "6fb8bcfc940945b384555435538a74c2"
          ]
        },
        "id": "eLPoqBgEb3JA",
        "outputId": "82767f15-a8ca-4f33-aabd-50bcc5129ddf"
      },
      "outputs": [
        {
          "name": "stdout",
          "output_type": "stream",
          "text": [
            "For Cluster = 3\n"
          ]
        },
        {
          "data": {
            "text/html": [],
            "text/plain": [
              "<IPython.core.display.HTML object>"
            ]
          },
          "metadata": {},
          "output_type": "display_data"
        },
        {
          "data": {
            "text/html": [
              "<style type=\"text/css\">\n",
              "</style>\n",
              "<table id=\"T_0bd35\" class=\"dataframe\">\n",
              "  <thead>\n",
              "    <tr>\n",
              "      <th class=\"blank level0\" >&nbsp;</th>\n",
              "      <th id=\"T_0bd35_level0_col0\" class=\"col_heading level0 col0\" >Silhouette</th>\n",
              "      <th id=\"T_0bd35_level0_col1\" class=\"col_heading level0 col1\" >Calinski-Harabasz</th>\n",
              "      <th id=\"T_0bd35_level0_col2\" class=\"col_heading level0 col2\" >Davies-Bouldin</th>\n",
              "      <th id=\"T_0bd35_level0_col3\" class=\"col_heading level0 col3\" >Homogeneity</th>\n",
              "      <th id=\"T_0bd35_level0_col4\" class=\"col_heading level0 col4\" >Rand Index</th>\n",
              "      <th id=\"T_0bd35_level0_col5\" class=\"col_heading level0 col5\" >Completeness</th>\n",
              "    </tr>\n",
              "  </thead>\n",
              "  <tbody>\n",
              "    <tr>\n",
              "      <th id=\"T_0bd35_level0_row0\" class=\"row_heading level0 row0\" >0</th>\n",
              "      <td id=\"T_0bd35_row0_col0\" class=\"data row0 col0\" >0.1716</td>\n",
              "      <td id=\"T_0bd35_row0_col1\" class=\"data row0 col1\" >290.1812</td>\n",
              "      <td id=\"T_0bd35_row0_col2\" class=\"data row0 col2\" >1.7992</td>\n",
              "      <td id=\"T_0bd35_row0_col3\" class=\"data row0 col3\" >0</td>\n",
              "      <td id=\"T_0bd35_row0_col4\" class=\"data row0 col4\" >0</td>\n",
              "      <td id=\"T_0bd35_row0_col5\" class=\"data row0 col5\" >0</td>\n",
              "    </tr>\n",
              "  </tbody>\n",
              "</table>\n"
            ],
            "text/plain": [
              "<pandas.io.formats.style.Styler at 0x7f9285c9bfd0>"
            ]
          },
          "metadata": {},
          "output_type": "display_data"
        },
        {
          "data": {
            "application/vnd.jupyter.widget-view+json": {
              "model_id": "a0e2c3f890374bddaa91a65215bbed71",
              "version_major": 2,
              "version_minor": 0
            },
            "text/plain": [
              "Processing:   0%|          | 0/3 [00:00<?, ?it/s]"
            ]
          },
          "metadata": {
            "application/vnd.jupyter.widget-view+json": {
              "colab": {
                "custom_widget_manager": {
                  "url": "https://ssl.gstatic.com/colaboratory-static/widgets/colab-cdn-widget-manager/2b70e893a8ba7c0f/manager.min.js"
                }
              }
            }
          },
          "output_type": "display_data"
        },
        {
          "data": {
            "text/html": [],
            "text/plain": [
              "<IPython.core.display.HTML object>"
            ]
          },
          "metadata": {},
          "output_type": "display_data"
        },
        {
          "name": "stdout",
          "output_type": "stream",
          "text": [
            "For Cluster = 4\n"
          ]
        },
        {
          "data": {
            "text/html": [],
            "text/plain": [
              "<IPython.core.display.HTML object>"
            ]
          },
          "metadata": {},
          "output_type": "display_data"
        },
        {
          "data": {
            "text/html": [
              "<style type=\"text/css\">\n",
              "</style>\n",
              "<table id=\"T_82709\" class=\"dataframe\">\n",
              "  <thead>\n",
              "    <tr>\n",
              "      <th class=\"blank level0\" >&nbsp;</th>\n",
              "      <th id=\"T_82709_level0_col0\" class=\"col_heading level0 col0\" >Silhouette</th>\n",
              "      <th id=\"T_82709_level0_col1\" class=\"col_heading level0 col1\" >Calinski-Harabasz</th>\n",
              "      <th id=\"T_82709_level0_col2\" class=\"col_heading level0 col2\" >Davies-Bouldin</th>\n",
              "      <th id=\"T_82709_level0_col3\" class=\"col_heading level0 col3\" >Homogeneity</th>\n",
              "      <th id=\"T_82709_level0_col4\" class=\"col_heading level0 col4\" >Rand Index</th>\n",
              "      <th id=\"T_82709_level0_col5\" class=\"col_heading level0 col5\" >Completeness</th>\n",
              "    </tr>\n",
              "  </thead>\n",
              "  <tbody>\n",
              "    <tr>\n",
              "      <th id=\"T_82709_level0_row0\" class=\"row_heading level0 row0\" >0</th>\n",
              "      <td id=\"T_82709_row0_col0\" class=\"data row0 col0\" >0.1795</td>\n",
              "      <td id=\"T_82709_row0_col1\" class=\"data row0 col1\" >266.7420</td>\n",
              "      <td id=\"T_82709_row0_col2\" class=\"data row0 col2\" >1.5710</td>\n",
              "      <td id=\"T_82709_row0_col3\" class=\"data row0 col3\" >0</td>\n",
              "      <td id=\"T_82709_row0_col4\" class=\"data row0 col4\" >0</td>\n",
              "      <td id=\"T_82709_row0_col5\" class=\"data row0 col5\" >0</td>\n",
              "    </tr>\n",
              "  </tbody>\n",
              "</table>\n"
            ],
            "text/plain": [
              "<pandas.io.formats.style.Styler at 0x7f929eae9d10>"
            ]
          },
          "metadata": {},
          "output_type": "display_data"
        },
        {
          "data": {
            "application/vnd.jupyter.widget-view+json": {
              "model_id": "5e2452328fa843069fa008d7fed759c9",
              "version_major": 2,
              "version_minor": 0
            },
            "text/plain": [
              "Processing:   0%|          | 0/3 [00:00<?, ?it/s]"
            ]
          },
          "metadata": {
            "application/vnd.jupyter.widget-view+json": {
              "colab": {
                "custom_widget_manager": {
                  "url": "https://ssl.gstatic.com/colaboratory-static/widgets/colab-cdn-widget-manager/2b70e893a8ba7c0f/manager.min.js"
                }
              }
            }
          },
          "output_type": "display_data"
        },
        {
          "data": {
            "text/html": [],
            "text/plain": [
              "<IPython.core.display.HTML object>"
            ]
          },
          "metadata": {},
          "output_type": "display_data"
        },
        {
          "name": "stdout",
          "output_type": "stream",
          "text": [
            "For Cluster = 5\n"
          ]
        },
        {
          "data": {
            "text/html": [],
            "text/plain": [
              "<IPython.core.display.HTML object>"
            ]
          },
          "metadata": {},
          "output_type": "display_data"
        },
        {
          "data": {
            "text/html": [
              "<style type=\"text/css\">\n",
              "</style>\n",
              "<table id=\"T_17fc7\" class=\"dataframe\">\n",
              "  <thead>\n",
              "    <tr>\n",
              "      <th class=\"blank level0\" >&nbsp;</th>\n",
              "      <th id=\"T_17fc7_level0_col0\" class=\"col_heading level0 col0\" >Silhouette</th>\n",
              "      <th id=\"T_17fc7_level0_col1\" class=\"col_heading level0 col1\" >Calinski-Harabasz</th>\n",
              "      <th id=\"T_17fc7_level0_col2\" class=\"col_heading level0 col2\" >Davies-Bouldin</th>\n",
              "      <th id=\"T_17fc7_level0_col3\" class=\"col_heading level0 col3\" >Homogeneity</th>\n",
              "      <th id=\"T_17fc7_level0_col4\" class=\"col_heading level0 col4\" >Rand Index</th>\n",
              "      <th id=\"T_17fc7_level0_col5\" class=\"col_heading level0 col5\" >Completeness</th>\n",
              "    </tr>\n",
              "  </thead>\n",
              "  <tbody>\n",
              "    <tr>\n",
              "      <th id=\"T_17fc7_level0_row0\" class=\"row_heading level0 row0\" >0</th>\n",
              "      <td id=\"T_17fc7_row0_col0\" class=\"data row0 col0\" >0.1796</td>\n",
              "      <td id=\"T_17fc7_row0_col1\" class=\"data row0 col1\" >274.7123</td>\n",
              "      <td id=\"T_17fc7_row0_col2\" class=\"data row0 col2\" >1.5028</td>\n",
              "      <td id=\"T_17fc7_row0_col3\" class=\"data row0 col3\" >0</td>\n",
              "      <td id=\"T_17fc7_row0_col4\" class=\"data row0 col4\" >0</td>\n",
              "      <td id=\"T_17fc7_row0_col5\" class=\"data row0 col5\" >0</td>\n",
              "    </tr>\n",
              "  </tbody>\n",
              "</table>\n"
            ],
            "text/plain": [
              "<pandas.io.formats.style.Styler at 0x7f929eaebf50>"
            ]
          },
          "metadata": {},
          "output_type": "display_data"
        },
        {
          "data": {
            "application/vnd.jupyter.widget-view+json": {
              "model_id": "bda4924d52ed4ceabcd1d82c00ef44cf",
              "version_major": 2,
              "version_minor": 0
            },
            "text/plain": [
              "Processing:   0%|          | 0/3 [00:00<?, ?it/s]"
            ]
          },
          "metadata": {
            "application/vnd.jupyter.widget-view+json": {
              "colab": {
                "custom_widget_manager": {
                  "url": "https://ssl.gstatic.com/colaboratory-static/widgets/colab-cdn-widget-manager/2b70e893a8ba7c0f/manager.min.js"
                }
              }
            }
          },
          "output_type": "display_data"
        },
        {
          "data": {
            "text/html": [],
            "text/plain": [
              "<IPython.core.display.HTML object>"
            ]
          },
          "metadata": {},
          "output_type": "display_data"
        },
        {
          "name": "stdout",
          "output_type": "stream",
          "text": [
            "For Cluster = 6\n"
          ]
        },
        {
          "data": {
            "text/html": [],
            "text/plain": [
              "<IPython.core.display.HTML object>"
            ]
          },
          "metadata": {},
          "output_type": "display_data"
        },
        {
          "data": {
            "text/html": [
              "<style type=\"text/css\">\n",
              "</style>\n",
              "<table id=\"T_356cb\" class=\"dataframe\">\n",
              "  <thead>\n",
              "    <tr>\n",
              "      <th class=\"blank level0\" >&nbsp;</th>\n",
              "      <th id=\"T_356cb_level0_col0\" class=\"col_heading level0 col0\" >Silhouette</th>\n",
              "      <th id=\"T_356cb_level0_col1\" class=\"col_heading level0 col1\" >Calinski-Harabasz</th>\n",
              "      <th id=\"T_356cb_level0_col2\" class=\"col_heading level0 col2\" >Davies-Bouldin</th>\n",
              "      <th id=\"T_356cb_level0_col3\" class=\"col_heading level0 col3\" >Homogeneity</th>\n",
              "      <th id=\"T_356cb_level0_col4\" class=\"col_heading level0 col4\" >Rand Index</th>\n",
              "      <th id=\"T_356cb_level0_col5\" class=\"col_heading level0 col5\" >Completeness</th>\n",
              "    </tr>\n",
              "  </thead>\n",
              "  <tbody>\n",
              "    <tr>\n",
              "      <th id=\"T_356cb_level0_row0\" class=\"row_heading level0 row0\" >0</th>\n",
              "      <td id=\"T_356cb_row0_col0\" class=\"data row0 col0\" >0.1693</td>\n",
              "      <td id=\"T_356cb_row0_col1\" class=\"data row0 col1\" >257.8417</td>\n",
              "      <td id=\"T_356cb_row0_col2\" class=\"data row0 col2\" >1.5582</td>\n",
              "      <td id=\"T_356cb_row0_col3\" class=\"data row0 col3\" >0</td>\n",
              "      <td id=\"T_356cb_row0_col4\" class=\"data row0 col4\" >0</td>\n",
              "      <td id=\"T_356cb_row0_col5\" class=\"data row0 col5\" >0</td>\n",
              "    </tr>\n",
              "  </tbody>\n",
              "</table>\n"
            ],
            "text/plain": [
              "<pandas.io.formats.style.Styler at 0x7f941081d1d0>"
            ]
          },
          "metadata": {},
          "output_type": "display_data"
        },
        {
          "data": {
            "application/vnd.jupyter.widget-view+json": {
              "model_id": "6fb8bcfc940945b384555435538a74c2",
              "version_major": 2,
              "version_minor": 0
            },
            "text/plain": [
              "Processing:   0%|          | 0/3 [00:00<?, ?it/s]"
            ]
          },
          "metadata": {
            "application/vnd.jupyter.widget-view+json": {
              "colab": {
                "custom_widget_manager": {
                  "url": "https://ssl.gstatic.com/colaboratory-static/widgets/colab-cdn-widget-manager/2b70e893a8ba7c0f/manager.min.js"
                }
              }
            }
          },
          "output_type": "display_data"
        },
        {
          "data": {
            "text/html": [],
            "text/plain": [
              "<IPython.core.display.HTML object>"
            ]
          },
          "metadata": {},
          "output_type": "display_data"
        }
      ],
      "source": [
        "setup(data = myDataSet, normalize = True, normalize_method = 'zscore', verbose=False)\n",
        "\n",
        "print(\"For Cluster = 3\")\n",
        "x = create_model('kmeans', num_clusters = 3)\n",
        "\n",
        "print(\"For Cluster = 4\")\n",
        "x = create_model('kmeans', num_clusters = 4)\n",
        "\n",
        "print(\"For Cluster = 5\")\n",
        "x = create_model('kmeans', num_clusters = 5)\n",
        "\n",
        "print(\"For Cluster = 6\")\n",
        "x = create_model('kmeans', num_clusters = 6)\n"
      ]
    },
    {
      "cell_type": "markdown",
      "metadata": {
        "id": "AtxbZfXYUDAn"
      },
      "source": [
        "---\n",
        "### **6.1.3 3D Plot for Cluster = 5 (Most important and interesting step)**\n",
        "---"
      ]
    },
    {
      "cell_type": "code",
      "execution_count": null,
      "metadata": {
        "colab": {
          "base_uri": "https://localhost:8080/",
          "height": 881,
          "referenced_widgets": [
            "6e8b939664c042008bce979b51e9f0d6",
            "2bfcdc23cdda44f085ced52d2c5d8390",
            "af8f3d0a823943e8a55811edd9a9d0b6",
            "0a953311d9d14408b23c197da0dde467",
            "434a476f867f462281a8985bdf418ab1",
            "22d64cd3a50b419f95bec9551e70a406",
            "4ea1997dc3a84337924975d34ff48399",
            "a1b1dd69fe3443d790c84afb99b64693",
            "d9cdcad2595d4f2089606771102f81cf",
            "020e1fd65a07470397b0627d450887a4",
            "2b1ca26c13264c9880c005c088316747"
          ]
        },
        "id": "3fuD_nl_UDRo",
        "outputId": "9048ba6d-03ec-4d0c-f21a-9908c3acc6a4"
      },
      "outputs": [
        {
          "data": {
            "text/html": [],
            "text/plain": [
              "<IPython.core.display.HTML object>"
            ]
          },
          "metadata": {},
          "output_type": "display_data"
        },
        {
          "data": {
            "text/html": [
              "<style type=\"text/css\">\n",
              "</style>\n",
              "<table id=\"T_dfde1\" class=\"dataframe\">\n",
              "  <thead>\n",
              "    <tr>\n",
              "      <th class=\"blank level0\" >&nbsp;</th>\n",
              "      <th id=\"T_dfde1_level0_col0\" class=\"col_heading level0 col0\" >Silhouette</th>\n",
              "      <th id=\"T_dfde1_level0_col1\" class=\"col_heading level0 col1\" >Calinski-Harabasz</th>\n",
              "      <th id=\"T_dfde1_level0_col2\" class=\"col_heading level0 col2\" >Davies-Bouldin</th>\n",
              "      <th id=\"T_dfde1_level0_col3\" class=\"col_heading level0 col3\" >Homogeneity</th>\n",
              "      <th id=\"T_dfde1_level0_col4\" class=\"col_heading level0 col4\" >Rand Index</th>\n",
              "      <th id=\"T_dfde1_level0_col5\" class=\"col_heading level0 col5\" >Completeness</th>\n",
              "    </tr>\n",
              "  </thead>\n",
              "  <tbody>\n",
              "    <tr>\n",
              "      <th id=\"T_dfde1_level0_row0\" class=\"row_heading level0 row0\" >0</th>\n",
              "      <td id=\"T_dfde1_row0_col0\" class=\"data row0 col0\" >0.1809</td>\n",
              "      <td id=\"T_dfde1_row0_col1\" class=\"data row0 col1\" >274.7702</td>\n",
              "      <td id=\"T_dfde1_row0_col2\" class=\"data row0 col2\" >1.4972</td>\n",
              "      <td id=\"T_dfde1_row0_col3\" class=\"data row0 col3\" >0</td>\n",
              "      <td id=\"T_dfde1_row0_col4\" class=\"data row0 col4\" >0</td>\n",
              "      <td id=\"T_dfde1_row0_col5\" class=\"data row0 col5\" >0</td>\n",
              "    </tr>\n",
              "  </tbody>\n",
              "</table>\n"
            ],
            "text/plain": [
              "<pandas.io.formats.style.Styler at 0x7f94109e7910>"
            ]
          },
          "metadata": {},
          "output_type": "display_data"
        },
        {
          "data": {
            "application/vnd.jupyter.widget-view+json": {
              "model_id": "6e8b939664c042008bce979b51e9f0d6",
              "version_major": 2,
              "version_minor": 0
            },
            "text/plain": [
              "Processing:   0%|          | 0/3 [00:00<?, ?it/s]"
            ]
          },
          "metadata": {
            "application/vnd.jupyter.widget-view+json": {
              "colab": {
                "custom_widget_manager": {
                  "url": "https://ssl.gstatic.com/colaboratory-static/widgets/colab-cdn-widget-manager/2b70e893a8ba7c0f/manager.min.js"
                }
              }
            }
          },
          "output_type": "display_data"
        },
        {
          "data": {
            "text/html": [],
            "text/plain": [
              "<IPython.core.display.HTML object>"
            ]
          },
          "metadata": {},
          "output_type": "display_data"
        },
        {
          "data": {
            "text/html": [],
            "text/plain": [
              "<IPython.core.display.HTML object>"
            ]
          },
          "metadata": {},
          "output_type": "display_data"
        },
        {
          "data": {
            "text/html": [
              "<html>\n",
              "<head><meta charset=\"utf-8\" /></head>\n",
              "<body>\n",
              "    <div>            <script src=\"https://cdnjs.cloudflare.com/ajax/libs/mathjax/2.7.5/MathJax.js?config=TeX-AMS-MML_SVG\"></script><script type=\"text/javascript\">if (window.MathJax && window.MathJax.Hub && window.MathJax.Hub.Config) {window.MathJax.Hub.Config({SVG: {font: \"STIX-Web\"}});}</script>                <script type=\"text/javascript\">window.PlotlyConfig = {MathJaxConfig: 'local'};</script>\n",
              "        <script charset=\"utf-8\" src=\"https://cdn.plot.ly/plotly-2.35.2.min.js\"></script>                <div id=\"dcdf5d54-4fa8-48d3-9a2a-0d12999a0202\" class=\"plotly-graph-div\" style=\"height:800px; width:900px;\"></div>            <script type=\"text/javascript\">                                    window.PLOTLYENV=window.PLOTLYENV || {};                                    if (document.getElementById(\"dcdf5d54-4fa8-48d3-9a2a-0d12999a0202\")) {                    Plotly.newPlot(                        \"dcdf5d54-4fa8-48d3-9a2a-0d12999a0202\",                        [{\"customdata\":[[6.0],[7.0],[7.2],[7.7],[7.9],[8.6],[7.2],[7.2],[7.2],[7.2],[6.2],[10.3],[8.8],[8.2],[7.0],[8.2],[9.0],[5.1],[7.7],[7.1],[7.1],[9.0],[6.5],[8.9],[9.2],[6.9],[7.1],[7.1],[7.0],[7.0],[8.5],[6.2],[6.2],[7.6],[7.4],[7.2],[8.5],[8.0],[7.9],[8.2],[6.9],[7.0],[6.3],[8.2],[7.8],[8.2],[8.2],[6.1],[8.5],[5.1],[6.7],[8.5],[6.6],[5.0],[8.2],[6.5],[7.6],[7.1],[6.5],[7.1],[8.2],[6.6],[6.3],[8.8],[5.0],[6.7],[6.7],[5.6],[6.6],[7.2],[6.7],[6.1],[7.3],[7.2],[6.6],[7.5],[8.9],[7.9],[6.7],[5.2],[6.0],[8.7],[8.7],[7.6],[7.2],[7.7],[6.0],[8.1],[6.0],[6.4],[7.3],[7.9],[7.0],[7.1],[5.5],[6.7],[9.1],[7.3],[5.9],[7.8],[7.0],[7.4],[7.1],[7.0],[7.1],[8.0],[5.3],[8.2],[5.9],[8.2],[9.1],[7.2],[5.2],[9.1],[8.0],[6.4],[6.6],[6.6],[9.5],[6.5],[7.0],[7.0],[5.4],[7.7],[5.0],[5.7],[7.7],[5.8],[6.3],[7.6],[9.3],[9.3],[8.8],[7.2],[6.2],[9.6],[8.3],[8.3],[8.9],[8.9],[8.9],[8.3],[9.3],[8.2],[6.7],[6.7],[6.4],[5.9],[8.5],[5.9],[7.8],[7.5],[8.8],[8.5],[8.3],[4.9],[9.0],[7.6],[7.0],[8.2],[6.8],[6.8],[6.8],[7.4],[7.4],[8.9],[7.3],[8.3],[7.3],[8.3],[8.6],[8.4],[6.8],[10.7],[8.8],[8.4],[7.6],[8.6],[8.6],[7.7],[8.8],[9.1],[8.6],[7.7],[8.7],[6.8],[6.9],[6.8],[5.8],[8.4],[8.8],[7.3],[8.2],[8.0],[7.8],[6.6],[9.3],[5.1],[8.7],[7.9],[10.0],[7.9],[7.0],[9.2],[8.0],[8.4],[9.1],[7.4],[7.4],[8.0],[6.3],[8.2],[9.1],[5.4],[7.9],[5.0],[7.1],[5.6],[8.7],[7.9],[6.6],[6.1],[9.8],[8.3],[6.9],[8.4],[8.2],[5.1],[9.3],[5.6],[5.6],[6.4],[7.5],[9.1],[6.8],[6.8],[9.1],[9.1],[5.6],[8.9],[8.9],[8.0],[8.0],[8.2],[7.9],[7.1],[7.3],[7.6],[8.7],[8.9],[8.9],[6.4],[6.4],[8.9],[7.9],[7.1],[6.1],[6.1],[6.0],[7.1],[7.9],[6.6],[6.0],[6.1],[4.7],[6.2],[7.4],[6.5],[6.3],[5.2],[7.2],[8.4],[6.3],[7.2],[7.4],[6.3],[7.0],[6.9],[6.7],[6.6],[6.5],[6.1],[6.4],[6.2],[7.1],[7.4],[6.4],[7.0],[8.1],[7.3],[8.2],[5.2],[6.2],[5.2],[7.5],[5.3],[7.5],[5.3],[7.9],[6.4],[5.4],[5.6],[5.6],[7.6],[6.7],[8.0],[6.7],[4.6],[6.6],[5.9],[6.0],[5.8],[6.3],[6.2],[7.4],[6.4],[6.4],[7.5],[6.7],[7.2],[7.5],[6.1],[7.2],[6.3],[6.2],[6.2],[7.2],[6.2],[5.9],[5.4],[6.3]],\"hovertemplate\":\"Cluster=Cluster 0\\u003cbr\\u003e0=%{x}\\u003cbr\\u003e1=%{y}\\u003cbr\\u003e2=%{z}\\u003cbr\\u003eFeature=%{customdata[0]}\\u003cextra\\u003e\\u003c\\u002fextra\\u003e\",\"legendgroup\":\"Cluster 0\",\"marker\":{\"color\":\"#636efa\",\"opacity\":0.7,\"symbol\":\"circle\"},\"mode\":\"markers\",\"name\":\"Cluster 0\",\"scene\":\"scene\",\"showlegend\":true,\"x\":[0.29159307,0.03326234,5.1433115,4.783737,6.4522805,9.180401,4.9509425,5.574128,4.8754816,4.8754816,5.583948,7.556742,4.0783424,1.0820017,0.03326234,6.210765,6.3466406,-5.9340124,3.1274736,-9.64071,-9.64071,0.29460028,12.364886,8.224669,8.216755,-1.4065466,-9.209739,-9.234705,15.192771,2.6772811,1.3437537,-5.925199,-5.9251947,-6.28324,6.18598,-23.004026,7.17511,1.7035135,-0.17155765,3.9056532,-4.3985076,-5.257955,-6.6724463,2.6361742,2.7208018,7.2578344,5.2086096,-4.8006406,4.312517,-4.425434,-1.3373506,8.985816,-1.5471247,-6.343287,4.7278786,-0.68669796,0.47859347,-8.60626,-8.248052,-6.538933,5.208569,-8.28793,-11.90678,7.887886,-6.770298,-3.8913338,-3.40951,-4.8862624,-4.8738375,-8.464878,-12.415328,-1.5515604,-5.5731993,-9.287845,-11.550227,9.998682,5.9897323,-10.420819,-3.4731288,-6.2940793,-7.3139806,0.109174974,0.10917371,4.172059,11.591198,6.8954463,-6.1655693,4.156486,-6.1655693,-2.9017684,6.1500487,10.973137,-6.5586934,-0.9268098,-4.849919,-3.4368727,5.104076,-3.8580117,-10.483737,-7.4936104,-0.6991946,-8.198532,-5.0205617,-12.0454855,1.7444769,-11.203153,-6.8416886,-10.496005,-7.056195,-10.49603,7.3088665,-3.4163287,-9.212989,7.2828956,-0.31552467,-10.412919,-13.673934,-13.673934,7.31987,-3.17602,-4.1546106,-4.22561,-9.49663,2.5235677,-9.488441,-8.297983,2.1031313,2.231923,-6.529578,-10.963371,2.9256177,2.9256177,2.3559005,6.4021654,-12.754381,8.572753,11.267682,6.907604,4.732683,4.9395456,4.9870105,6.907604,3.156988,7.0391545,-1.7251208,-1.7251208,-6.9542246,-7.273452,6.4008512,-7.2735023,-8.387832,6.3677435,4.821877,6.4008827,3.3040025,-6.7121253,0.53465074,1.8214538,5.3984127,5.0794864,-4.0752554,-22.822706,-22.822706,-9.329054,-9.328789,5.5495105,2.3530111,6.872563,2.353111,6.872563,4.6498847,-5.854821,-9.214117,7.9276476,2.3559268,-5.8548055,-11.030164,6.426449,3.805551,-11.808531,10.490495,7.888694,6.426449,-11.80851,8.8965225,-4.424682,-3.9929626,-4.1764226,-15.90277,11.31089,8.855785,0.50040513,6.0767603,3.5637157,-8.00309,-5.601444,7.843528,-8.518939,2.637273,2.38205,6.749393,2.892706,-8.676504,9.170278,11.133627,0.6793461,8.572803,-1.5877345,-1.5878998,-0.6474057,-3.9016683,3.2918665,8.27913,-5.9222784,2.5633361,-2.794996,-2.607209,-10.232795,8.242488,7.551684,-5.9728346,-6.4291377,8.220978,6.728947,-8.6587715,6.25347,6.0767603,-5.215053,7.555771,-8.283836,-8.283836,-8.880984,6.4208665,8.042992,3.7036066,3.7036066,7.572298,8.110132,-9.547941,11.25439,7.7802334,-0.5511188,-0.5511188,4.0733967,0.82740206,-8.034721,-7.686112,6.919555,12.944154,0.51199085,0.5119818,-13.146264,-1.8155495,6.816204,1.006992,-5.0205617,-9.709589,-2.428528,-3.9200695,-6.234003,6.5450993,-5.332412,-9.059008,-7.459529,-7.849453,-21.892637,4.8028545,-5.1554317,1.0095106,-5.1929154,8.2472315,8.908805,-10.728598,9.314749,9.325055,-10.139128,-7.559082,-10.746184,-5.9368734,-7.829231,-5.155417,-2.428528,-4.9105873,-5.715184,2.1502264,-10.335705,-6.427347,-5.353861,5.616865,2.6050916,-2.4604132,-6.1438665,-2.825854,-6.1438665,3.0274057,-4.741202,3.0274057,-5.081914,5.370077,-3.038221,-4.8708196,-8.417202,-8.417202,2.6317523,-10.980666,-12.546159,1.8753062,-9.893403,-5.3061657,-5.5486574,-5.882773,-7.593051,-4.313826,-10.34474,1.4594821,-5.6358533,11.054234,1.9087256,6.1300807,0.10467625,-0.20885096,-6.6336074,2.7034612,-6.4631495,-10.34474,-6.345986,8.247219,-21.791393,-7.157485,-9.702481,-6.4631553],\"y\":[-7.164913,-16.126787,-16.523584,-9.062892,-16.481104,-19.067698,-12.023333,-11.562267,-11.471194,-11.471194,-11.483956,-11.952718,-9.910338,-8.8098545,-16.126787,-7.6686206,-8.654029,-20.652834,-10.854779,-14.751513,-14.751513,-13.343156,19.170065,-17.763475,-17.701366,-7.5366855,-7.2458825,-6.787673,17.232332,-7.878924,-9.979668,-15.6819935,-15.682018,-3.5505202,-16.976711,-3.4529252,-15.496879,-10.432406,-8.241294,-7.9314895,-12.278407,-4.9308043,-15.460448,-4.7905974,-13.460462,-17.738115,-8.512768,-16.80509,-7.3767657,-20.083895,-5.7305646,-16.41995,-14.328385,-22.069393,-14.167996,-16.49999,-13.264409,-7.065276,-7.358519,-15.316687,-8.512701,-7.3475266,-9.738772,-19.131216,-21.131882,-6.4373016,-6.7292867,-20.512083,-15.090089,-13.040364,-10.908183,-14.404205,-3.0029662,-10.396716,-11.1504135,-11.380938,-13.403163,-9.489883,-6.713442,-17.55727,-15.856358,-7.9721823,-7.972156,-13.10086,-10.499095,-12.7496,-7.222507,-14.109497,-7.222507,-4.932731,-14.167104,-15.96841,-8.669443,-6.6459594,-22.0119,-6.1538196,-9.640097,-13.519609,-12.7411995,-6.5960493,-8.611495,-5.265462,-3.9384232,0.90640396,-15.808341,-15.007719,-17.732237,-3.410637,-16.106846,-3.4105508,-9.853791,-14.496337,-18.031353,-8.740226,-8.606454,-9.703864,-8.73119,-8.73119,-5.141885,-15.49386,-2.0899928,-1.96601,-19.856672,-9.543045,-19.853058,-15.064879,-10.760459,-18.553408,-14.663982,-10.430218,-4.934198,-4.934198,-10.325758,-15.690419,-16.0811,-16.505442,-16.890049,-18.618328,-15.285425,-14.890633,-15.078831,-18.618328,-4.9555297,-15.357532,-15.609288,-15.609288,-7.4464693,-10.972326,-9.471317,-10.972566,-10.626501,-15.122868,-9.820134,-9.471035,-7.737027,-21.450188,-12.651766,-14.434657,-16.935268,-12.76885,-9.90138,-3.182294,-3.182294,-7.098568,-7.0980225,-7.473835,-16.859058,-15.607525,-16.8588,-15.607525,-14.264023,-9.730646,-6.0468154,-5.8553343,-10.325685,-9.730642,-7.712133,-10.601057,-6.297226,-8.706326,-14.764486,-16.271591,-10.601057,-8.706357,-16.657747,-9.759157,-9.796262,-10.197452,-12.489304,-20.454924,-16.368435,-9.279168,-18.1402,-13.38474,-8.4686,-15.311006,-10.290074,-20.113604,-8.764924,-10.64901,-7.3027005,-13.36628,-10.610038,-14.742595,-20.582335,-13.250997,-19.460373,-14.231806,-14.232112,-13.881615,-16.313217,-16.004507,-14.671737,-17.724464,-11.804042,-18.542875,-15.715632,-15.076292,-13.788791,-20.211683,-14.797312,-13.177285,-17.165525,-17.228067,-8.112033,-17.452953,-18.1402,-20.211126,-9.497966,-18.123672,-18.123672,-15.066568,-14.277915,-14.087372,-18.693268,-18.693268,-14.005,-13.915598,-15.105274,-16.31007,-16.455116,-13.962237,-13.962237,-14.92938,-15.319512,-9.759753,-9.124313,-15.380158,-17.328485,-7.6598096,-7.659811,-9.943731,-16.73786,-18.148264,-6.9016685,-3.93845,-11.842982,-4.6143255,-5.943042,-7.0611925,-15.696125,-11.564307,-4.9054437,-10.449133,-19.0619,-2.7342021,-12.465116,-7.6789737,-6.137167,-19.342102,-12.758647,-12.648346,-15.168757,-12.934193,-13.0528345,-7.401306,-8.54058,-15.206787,-8.570735,-9.805373,-7.6789393,-4.6143255,-6.670758,-10.802586,-16.497686,-7.781004,-9.36887,-8.473442,-6.473514,-12.231699,-2.7640812,-21.17088,-5.127248,-21.17088,-13.701676,-20.786379,-13.701676,-20.782682,-7.811957,-4.998827,-20.315313,-18.643019,-18.643019,-6.4566536,-14.6924515,-6.2513914,-7.8727326,-18.438576,-14.954073,-11.338979,-16.75032,-11.054847,-9.607752,-12.775862,-14.372146,-11.822598,-21.346882,-7.961913,-12.987919,-9.766448,-13.51454,-9.198845,-7.9632397,-6.8321366,-12.775722,-13.301848,-12.75865,-2.493906,-7.3797936,-17.61788,-6.8321724],\"z\":[0.8869621,-1.203106,6.1787076,3.769353,0.60294473,3.4911835,7.975755,7.710327,7.585648,7.585648,9.173963,-5.064892,-1.7362589,7.075587,-1.203106,-0.7411654,4.414841,0.11329289,3.004064,2.9278514,2.9278514,1.6729287,-0.7259421,6.9553714,6.487001,0.62719864,-2.7115295,-2.428512,1.845078,7.147257,3.1705978,-3.3120673,-3.312057,-1.6513653,7.8056746,-0.47122413,3.1791291,2.0187407,-3.2484815,4.886281,2.0548434,12.473317,-2.6026576,6.3853397,-1.4206583,4.4178324,1.3436868,-0.80816865,9.088715,1.0312614,-10.456791,2.4815462,8.956048,0.82004595,8.374556,-0.20985505,-1.760212,-3.4674282,-8.242478,3.8056383,1.3438376,-8.292949,-3.4936073,6.906601,-1.129587,0.8568123,1.0040388,2.9608016,0.83799267,3.5884202,-0.61315143,8.854741,-6.916757,1.8823653,6.5188556,1.7038898,-1.4908189,6.556131,0.41990593,-2.93876,-0.28701973,-5.9908547,-5.990849,0.06125871,5.2453637,5.927235,-7.4980216,8.725777,-7.4980216,12.179019,7.4031763,6.363236,-6.872653,0.12133498,0.8826113,0.6135747,-6.583671,-1.0971776,-4.2560673,0.9857841,3.6728578,-4.942066,-4.283326,-4.6872983,1.1924355,3.2132776,2.8897085,-2.5514324,-1.0241126,-2.5513892,5.614721,0.69846535,0.44939226,-0.042257685,3.9428701,-2.0464892,-2.6804645,-2.6804645,7.7620525,1.154323,-3.0375507,-3.4119458,-0.5297969,-1.058848,-0.5380922,1.5167129,4.6820345,2.0742874,0.74442863,5.9354224,7.9139543,7.9139543,3.646524,8.262639,-1.5904545,5.955008,3.408313,2.1543899,4.2100315,4.0964527,4.45878,2.1543899,7.801118,1.8796532,7.539512,7.539512,-2.5233676,-0.7967651,2.9472115,-0.79677874,-6.664394,1.5206211,-1.9753586,2.9472852,4.0621653,0.10141513,2.7891037,-2.2201505,-0.07600006,5.8016047,-0.12589951,-1.0455439,-1.0455439,9.740809,9.740993,-9.149516,-0.81518656,6.8878818,-0.8153735,6.8878818,-1.8988409,-7.26094,-5.008582,7.6618605,3.646594,-7.260919,-3.72537,1.5876092,9.647246,-4.378076,3.8286984,0.24702676,1.5876092,-4.3780727,4.170819,-0.026673425,0.60098034,0.7391965,-2.864033,-0.0572529,1.2262936,7.739489,3.942547,-2.385433,2.9429982,3.345765,5.4920936,-0.7275842,5.9488015,0.5730618,8.681441,-2.0595117,2.4049723,4.980993,0.01923785,3.2679608,3.3257012,0.2774693,0.27759096,0.9104302,-0.9953522,-0.35567397,4.3400955,-3.2568784,-0.25712866,-0.32164606,1.7617557,0.41457185,1.7931453,4.07703,0.52231705,-0.72489595,-0.23971581,5.377909,-4.6759214,3.3282394,3.942547,1.6876707,5.8245378,2.4628098,2.4628098,2.0196323,1.6823729,5.1671257,2.4252377,2.4252377,4.8263335,4.424205,-0.41364074,3.381042,5.5181212,7.419267,7.419267,-2.009473,0.68611306,5.9554815,6.332006,9.000156,4.9743032,-3.9232998,-3.9232976,-2.1486223,-0.051635146,1.3693565,5.687854,-4.2833233,1.556872,-10.715591,-3.5913703,2.4347305,3.7549667,1.7760731,-6.240027,-3.0440392,-2.0286605,-3.1483295,5.865789,-4.9066715,1.5943573,0.34606415,6.895789,4.688625,-1.2427622,7.936891,8.076012,-5.644641,9.361461,-2.7185357,-4.514094,-6.4749546,-4.9067593,-10.715591,-0.41167855,2.5245845,0.7322302,-2.4123755,10.016833,1.914145,-7.615669,-3.98562,11.67654,-1.2965349,12.20258,-1.2965349,-3.7473898,0.590825,-3.7473898,0.9083877,-7.3213615,-3.547498,2.6687877,-3.1750908,-3.1750908,2.0973337,1.0932357,8.312387,1.6177751,-2.5481822,3.3748808,3.2725973,-1.335295,-1.9148892,-1.8640622,-3.201344,-0.82295364,0.91741943,-0.26542434,5.662305,7.8090577,8.097473,-0.22321095,9.90695,3.6898243,-4.463356,-3.2013264,-0.56793666,6.8957887,-3.3222759,-6.873655,0.43619484,-4.4633365],\"type\":\"scatter3d\"},{\"customdata\":[[8.4],[6.8],[7.5],[7.5],[8.3],[9.6],[8.2],[7.3],[9.6],[6.8],[10.7],[7.2],[8.2],[8.9],[7.1],[6.8],[6.8],[8.9],[7.0],[9.7],[9.8],[9.4],[6.7],[8.8],[7.8],[9.0],[9.5],[9.5],[8.5],[10.0],[9.5],[9.6],[7.9],[10.1],[5.9],[8.4],[8.0],[7.6],[8.9],[8.8],[7.3],[6.8],[7.8],[7.6],[9.0],[9.0],[6.7],[7.7],[7.9],[7.4],[7.9],[7.3],[6.7],[7.8],[9.9],[6.8],[9.2],[9.9],[7.7],[7.9],[8.2],[9.2],[7.3],[9.1],[10.2],[7.1],[7.1],[7.8],[8.8],[8.3],[9.4],[7.5],[8.1],[8.9],[9.0],[7.8],[9.0],[6.6],[7.3],[11.8],[7.5],[8.0],[7.6],[7.6],[8.8],[8.8],[7.1],[7.1],[8.8],[7.6],[8.0],[8.4],[8.8],[7.4],[8.6],[7.7],[7.7],[7.3],[9.7],[8.2],[8.0],[9.0],[7.1],[5.6],[9.6],[8.3],[6.9],[8.3],[9.5],[9.4],[7.1],[7.1],[7.5],[10.0],[8.7],[9.3],[7.1],[7.7],[7.3],[5.6],[11.6],[7.3],[10.4],[8.6],[7.6],[7.8],[7.8],[8.8],[7.5],[6.9],[8.5],[8.8],[7.2],[7.2],[8.4],[7.7],[7.1],[7.1],[7.2],[7.8],[7.4],[9.0],[8.8],[10.6],[7.5],[9.4],[9.1],[7.9],[9.0],[9.0],[9.2],[7.9],[7.2],[6.2],[7.2],[7.1],[9.8],[7.9],[8.5],[7.3],[8.3],[10.6],[9.8],[8.1],[6.9],[6.8],[8.4],[7.2],[7.5],[7.6],[7.2],[8.6],[8.2],[11.1],[11.6],[9.2],[7.6],[9.0],[9.3],[7.5],[7.2],[7.9],[7.1],[8.9],[7.6],[9.9],[8.9],[10.6],[10.4],[8.0],[8.0],[7.0],[9.2],[7.5],[8.2],[7.8],[6.6],[7.8],[7.4],[7.6],[6.6],[8.4],[7.7],[7.6],[9.7],[7.8],[7.8],[7.4],[9.3],[7.8],[8.3],[7.7],[7.4],[9.0],[8.6],[7.4],[7.5],[7.5],[6.4],[7.0],[7.0],[7.3],[6.6],[8.0],[6.6],[7.3],[7.8],[7.8],[7.8],[7.5],[9.7],[8.2],[9.7],[7.0],[8.6],[8.8],[7.5],[7.0],[9.1],[9.0],[8.2],[8.5],[7.4],[6.9],[10.6],[7.9],[7.9],[11.6],[7.7],[7.5],[7.4],[9.9],[9.9],[7.3],[10.0],[7.9],[7.5],[10.2],[9.9],[7.9],[10.2],[7.7],[7.5],[7.9],[7.6],[7.3],[8.8],[6.4],[6.7],[7.0],[6.9],[7.8],[7.4],[7.7],[8.0],[7.2],[7.3],[10.3],[8.0],[9.3],[8.0],[9.6],[7.1],[9.6],[9.6],[7.4],[8.6],[9.0],[7.9],[8.0],[8.4],[8.7],[7.7],[8.7],[8.1],[7.5],[8.7],[6.8],[9.8],[8.2],[8.5],[7.6],[7.2],[7.5],[9.9],[9.3],[7.9],[8.3],[5.9],[9.9],[9.8],[7.6],[10.0],[7.9],[7.8],[8.9],[10.0],[7.5],[7.4],[9.2],[7.5],[8.1],[7.3],[7.5],[7.8],[9.2],[6.0]],\"hovertemplate\":\"Cluster=Cluster 1\\u003cbr\\u003e0=%{x}\\u003cbr\\u003e1=%{y}\\u003cbr\\u003e2=%{z}\\u003cbr\\u003eFeature=%{customdata[0]}\\u003cextra\\u003e\\u003c\\u002fextra\\u003e\",\"legendgroup\":\"Cluster 1\",\"marker\":{\"color\":\"#EF553B\",\"opacity\":0.7,\"symbol\":\"circle\"},\"mode\":\"markers\",\"name\":\"Cluster 1\",\"scene\":\"scene\",\"showlegend\":true,\"x\":[3.659515,-15.735041,12.910458,7.645597,1.9611962,5.2684045,0.39149413,-1.2007408,5.0185943,-15.735041,8.504309,-4.5470057,1.7767714,7.380049,-2.5810764,11.677415,-4.9940243,0.9953858,-2.5858138,5.6341114,4.6775727,3.5078957,12.293859,5.834422,-2.1715965,7.742666,5.3263326,5.3263326,4.3661385,7.609477,3.2043,3.367396,1.0042783,3.3785298,0.4997076,3.6595204,1.0424877,-4.3213778,7.392806,5.834422,-3.865609,11.677434,-1.8218218,1.8129147,7.968396,5.50699,-6.8569245,2.205644,-0.7168102,9.547925,-0.7168102,9.639505,-6.8569245,-1.3606288,7.7045918,-4.751707,5.3573303,11.445427,2.205644,-0.30339187,0.97961503,2.6405702,5.2225323,7.882978,3.7672322,12.559451,11.799525,-1.740047,2.7211382,-2.7749991,7.0841665,12.663992,1.5477111,9.135967,4.9347787,-3.283893,4.934728,9.692118,-3.7375693,16.414593,-3.8567607,1.3754382,-1.1315333,-1.1315333,4.2498193,4.4120746,11.799525,12.559451,4.787981,0.60955167,2.5887494,-0.7911385,3.853445,2.2151477,4.5761256,-3.255328,-3.5831935,-1.0478885,6.282548,-4.6243277,12.611277,4.18295,-7.6341605,11.636438,9.419236,12.16256,9.958256,-0.49081945,3.6625571,3.5746758,-7.1916833,-7.1916833,3.323379,8.634383,8.879656,6.1052217,-2.0801625,-0.47728473,13.53531,-8.607388,12.125315,13.53531,12.242172,5.8659515,-7.0968766,0.71907645,0.71907645,-6.0678983,7.215632,6.7244377,4.717493,3.0803945,-1.7540756,-1.9453362,5.8840938,-0.522879,-1.9011825,-2.5332534,0.31278035,0.71907645,1.59717,2.222877,7.347468,1.3500476,8.909404,4.474579,3.8290346,12.217744,4.3705177,3.910285,3.5210133,12.217679,-1.6121154,-1.6399827,-2.0363634,-11.340659,3.1490824,2.0426214,-2.6264334,-4.966773,-3.5142643,10.365419,2.7854745,1.6690509,-4.750811,-2.076991,-0.64578533,-2.2402127,9.133981,-1.3320339,-3.7603297,5.427263,4.669963,9.473603,9.752028,4.4238133,-1.3049427,6.668536,12.979998,2.1631346,-3.8760283,0.99959636,14.697008,7.0119286,7.6689367,3.2787921,3.785866,1.4741433,6.6000996,-0.4902144,-3.7210684,1.0709234,5.3874083,-3.8567607,12.277551,2.2744558,7.759729,0.2468667,-4.241539,-0.04348682,7.759729,-0.68483454,-5.0454354,-0.04363743,2.9005327,-0.20069073,-0.37442747,-1.4356335,6.627189,-2.4915655,2.4138439,-5.0454545,-4.2756033,-3.1870909,0.7535597,-1.6553229,-0.85939646,-0.85939646,-6.12779,12.449418,12.449418,-1.2393857,-0.27791715,-3.3293266,-0.27791715,-1.2393857,0.14030817,1.0710903,0.8965204,-2.760103,3.3796322,-3.8862264,3.3796322,-2.3075902,10.449149,4.049238,-2.760103,12.637471,4.191457,1.571496,-5.1613507,0.65918577,6.8801208,-10.793056,2.2748988,0.90279806,0.6562405,15.375548,-1.9732405,-6.420352,4.8238344,7.10902,7.1091614,-10.450133,9.498222,-7.988281,10.437889,8.687279,12.190272,-7.988281,8.687279,-0.35996813,-3.9086244,-3.1195428,-2.018898,-2.6116922,13.073533,-0.022875356,-1.1420871,-12.325755,12.898061,-3.4144003,4.823761,-1.8906909,0.40687004,-2.5874765,-10.450744,8.202635,-1.651231,5.4315295,-1.8339912,4.2556114,-4.4948378,4.255609,6.771398,-4.4080467,4.771695,1.3609844,-1.1126276,-2.0208018,-0.7377866,0.5426196,-0.050174158,2.198865,1.259707,-4.005679,2.198865,0.81171125,8.531972,3.0346143,10.54982,0.40178764,4.842785,-2.6592517,8.718942,3.794895,2.1676784,2.5226226,9.296911,8.718942,8.442305,0.4021624,7.0502224,2.318219,-3.5306482,5.8203983,7.0502224,-3.238661,2.7115538,6.3269696,-3.0031812,-0.86761856,5.2225323,-4.6184993,0.6277008,5.666554,12.178908],\"y\":[-7.386966,10.319594,16.726152,12.1292,11.133254,7.0433292,4.725129,-1.0365875,6.914293,10.319594,15.593503,1.0725117,10.901215,16.09823,14.3910475,19.56449,2.7267919,-1.6675098,7.8884754,7.181507,15.849022,-4.9629383,19.019474,10.732091,12.749442,9.575171,5.924957,5.924957,-7.640929,6.558592,15.545196,15.514866,13.580023,13.93175,13.921085,-7.386974,16.684725,13.574682,16.075087,10.732091,0.7607278,19.564428,12.002746,-1.7504393,11.469065,9.516395,11.925371,11.676354,7.346731,17.809595,7.346731,17.774971,11.925371,15.328511,16.93875,12.604078,7.5448055,5.581993,11.676354,5.0307856,1.6380264,11.596923,2.0626075,11.294126,-4.264176,16.518421,16.185984,11.971807,-1.495266,4.454392,7.622873,16.180626,16.608286,16.924622,5.897145,17.046928,5.897217,18.29173,13.445763,-0.050337557,13.020559,11.719678,-1.5499692,-1.5499692,8.195544,8.309903,16.185984,16.518421,4.801599,4.617408,-0.28125176,11.622425,13.018964,-0.49091706,13.081945,12.3593855,12.352607,11.633738,5.074854,4.4695587,11.073379,11.90532,21.773064,21.126284,4.2776284,10.615162,19.708717,11.817714,12.580076,13.482529,22.782299,22.782299,8.853805,5.915841,5.7444873,4.550774,1.1009481,16.783417,16.382252,4.3566804,5.993281,16.382252,6.0762653,10.7141695,-1.3157322,12.822523,12.822523,9.637078,17.197,18.717875,13.328116,4.7435074,0.8676621,1.412251,12.564719,16.089472,0.32363623,0.94696474,14.086326,12.822523,3.4668698,11.2112,10.90892,10.762825,17.886497,8.570583,-5.546295,18.608482,10.357836,9.825813,13.41997,18.60824,-1.7171628,1.5916909,-1.0375268,-5.3482738,16.208708,-1.5645214,3.793985,1.3579407,10.603149,2.6109142,16.929863,16.824995,3.5360582,16.244751,11.59984,-1.1447271,17.749578,6.262551,-1.5910357,3.4083965,2.1026537,6.459443,6.487195,12.1862755,-0.73452115,11.446048,10.595706,5.6373367,-0.23828124,13.444009,10.194124,11.649656,12.143857,11.026905,8.934958,10.80059,8.4482765,1.4379572,4.683521,4.5380125,8.85567,13.020559,10.223499,11.670212,19.556211,-1.3650961,10.94746,2.3152113,19.556211,15.55233,-2.6503108,2.3153055,11.078269,1.1222283,1.1117393,6.2431254,10.813739,17.186773,-1.6644702,-2.6501133,10.9385395,8.792033,0.54982656,6.7164984,6.903716,6.903716,-4.4654403,13.149959,13.149959,-4.1237183,18.259445,8.5381975,18.259445,-4.1237183,11.607629,3.823412,10.065294,10.676964,11.002052,9.053489,11.002052,13.365814,14.30101,10.585069,10.676964,15.682418,5.9643106,3.7114005,13.664122,1.9449443,17.959581,-3.2264597,10.766548,14.112554,14.001106,2.9336393,8.162011,-3.3731773,17.272064,9.771741,9.77177,-3.5499473,8.192525,-3.0111666,17.104311,22.22496,7.022097,-3.0111666,22.22496,13.587526,4.3485794,4.3748245,4.8880115,11.129441,10.445616,14.687308,15.389447,-3.4360337,12.260596,3.828393,17.271944,17.144188,7.6588936,10.989658,-3.5501869,5.5959287,11.502862,9.308947,11.680499,8.740947,14.391349,8.740944,10.378133,2.2907584,11.326897,4.1873083,5.943997,17.130783,15.51205,5.7521095,5.6312485,6.6113625,16.258781,17.283255,6.6113625,12.915008,5.9633527,10.513767,14.148172,4.5038404,2.1596334,16.917608,21.764328,8.023567,10.117318,9.587329,20.554264,21.764328,5.853473,4.503857,4.951553,10.335166,10.606372,6.159152,4.951553,16.911428,3.3145611,8.755496,16.796156,7.2927637,2.0626075,6.8750415,11.580623,7.4056354,20.980604],\"z\":[6.3502593,9.053809,0.3158127,-1.7013679,-2.6823554,-9.421605,-0.67953295,-5.6568446,-9.608301,9.053809,2.3804703,-8.196401,-2.2120862,-3.006184,-0.4314877,1.1523155,-8.4355,-4.4203753,-0.030413244,1.5629431,-6.059292,9.784808,-1.2301041,6.5494556,-4.948306,0.45748067,-9.028282,-9.028282,8.145427,-2.1156092,-5.3203726,-5.207155,-10.440195,4.268349,-11.184099,6.3502665,-1.2974865,-1.6597995,-3.0103939,6.5494556,-8.557644,1.1523284,-3.6024601,-2.4431934,-4.9714446,-5.1841545,-7.796442,-6.9564977,-1.9369223,0.08897345,-1.9369223,0.057969775,-7.796442,-0.002199614,2.458942,-5.3997593,2.8807633,0.5097791,-6.9564977,0.17699356,-2.9825482,-1.8803462,-0.0875198,-4.9101295,8.647942,-1.4176992,-1.2061085,-4.0389934,0.044067334,4.5015674,1.5622226,0.56275195,-1.0647897,0.92964345,-6.821664,-4.0732408,-6.8215647,1.4295267,-1.9843808,4.3828893,-6.5754495,-3.0624137,-3.9137328,-3.9137328,-4.5178375,-4.8351603,-1.2061085,-1.4176992,-5.6734667,-9.255693,-2.589969,-0.54319763,-3.8962011,-2.706945,-2.508186,-3.6046698,-3.782018,-7.694157,-2.3873506,-8.243402,1.9460114,3.5490785,-2.3056698,-0.043502226,-0.89654964,2.3655314,0.7042352,-0.90985984,-5.1287246,-4.98054,-0.030707728,-0.030707728,-1.4698782,-5.595091,-0.78692544,-2.202745,-7.07825,-1.3778149,0.9485212,-10.064399,-0.47773555,0.9485212,-0.65179884,-4.9134345,-4.7725306,-7.480089,-7.480089,0.29054812,-2.2937503,-2.138502,-2.5552375,-8.182659,-8.300741,-8.106315,-3.3221586,-0.6393112,-7.704875,-7.3294115,-3.5387287,-7.480089,-6.4356346,-1.0783321,-2.661437,4.530482,1.6427578,2.2307675,9.596885,-4.428325,-3.9864795,-3.7466602,3.9071314,-4.4317327,-5.1108093,-10.235637,-4.8190174,-5.8615627,-5.193683,-2.3220544,-9.344855,-7.0969467,-12.149536,2.069349,-4.805059,-1.7841667,-8.073698,-9.385765,-0.7399021,-5.6414723,1.8403735,-8.01994,-5.9692483,-6.0440645,-5.0659122,-5.845698,-6.027344,-4.716885,-4.431665,-2.7398283,1.4027283,-6.026636,-9.515479,-9.126229,2.8125236,-3.2563658,-1.6915783,2.8937967,-2.1730108,4.334822,3.1779408,-7.974929,-10.217802,-9.645128,-4.868425,-6.5754495,-0.14519782,-5.9434185,-1.2072388,-3.5457056,-0.36856976,-7.6200385,-1.2072388,1.0059496,-4.8737473,-7.620479,0.96371365,-1.7540873,-1.7417127,-0.30589736,-5.965114,-4.461405,-0.62936246,-4.8737383,0.03100384,-7.065201,-0.58196175,-0.5728228,-0.12881461,-0.12881461,-5.252821,2.3794966,2.3794966,-6.5121174,-7.815394,-8.7771,-7.815394,-6.5121174,-6.156533,-5.6599736,-3.226852,-5.5575786,1.9550259,-6.1307244,1.9550259,-7.476008,2.0014951,-4.4707837,-5.5575786,-0.75042605,-7.440763,-1.8978117,-0.34987694,-0.7154912,-2.1640286,-9.47439,3.5948663,-7.5108156,-6.8773,1.4484878,-2.8707662,-3.754237,2.3079324,3.4007418,3.4004114,-4.5401077,-4.1254897,-3.0748773,1.446103,1.5578908,5.6253457,-3.0748773,1.5578908,-7.4287868,-6.3709307,-6.0996494,-0.8952089,-3.9519498,0.9695135,-3.7455292,-9.302221,-10.675367,3.564362,-9.682472,2.3081415,-4.730468,-1.9244647,-3.1836777,-4.539411,3.6705825,-5.7619557,2.133861,-5.905808,6.4003477,-2.8616755,6.4003453,2.575677,-10.097105,-5.4633794,-1.5302985,-1.37806,-4.90491,1.1288356,1.7370034,-8.060594,8.510515,0.14392419,-7.8796425,8.510515,-2.8944004,-2.6179173,-4.5452,1.9789578,-7.684195,0.35851187,-9.542223,2.2449234,6.7829123,-6.4416146,-1.075967,-0.46605772,2.2449234,-2.6431868,-7.684075,4.290203,-6.593383,-12.166285,-4.9690557,4.290203,-8.930879,-6.5181017,2.2028794,-9.304262,-3.3900225,-0.0875198,-6.6230836,-5.8242435,0.3736405,-0.42082015],\"type\":\"scatter3d\"},{\"customdata\":[[8.6],[8.6],[7.8],[7.5],[8.6],[7.6],[8.9],[8.9],[8.9],[8.5],[9.2],[9.5],[8.6],[8.6],[8.5],[9.1],[7.8],[11.0],[9.2],[8.7],[7.9],[7.8],[7.5],[7.7],[8.7],[8.1],[7.7],[7.8],[8.4],[7.3]],\"hovertemplate\":\"Cluster=Cluster 2\\u003cbr\\u003e0=%{x}\\u003cbr\\u003e1=%{y}\\u003cbr\\u003e2=%{z}\\u003cbr\\u003eFeature=%{customdata[0]}\\u003cextra\\u003e\\u003c\\u002fextra\\u003e\",\"legendgroup\":\"Cluster 2\",\"marker\":{\"color\":\"#00cc96\",\"opacity\":0.7,\"symbol\":\"circle\"},\"mode\":\"markers\",\"name\":\"Cluster 2\",\"scene\":\"scene\",\"showlegend\":true,\"x\":[21.258802,15.354512,21.969418,18.92814,20.679688,16.979103,17.766977,19.959566,17.579739,19.842289,22.676476,20.540552,15.354512,15.180187,20.432419,21.280848,21.16858,20.023678,13.8481245,20.91575,19.411066,21.452303,19.725624,20.189837,20.91575,19.457436,22.802454,13.214663,20.500265,19.773256],\"y\":[6.7496347,9.724859,7.8783937,5.9747586,7.69289,7.12489,7.136351,9.409776,7.6355906,6.8669586,9.468312,5.4061565,9.724859,10.235785,8.632642,8.717697,6.8514137,4.6684384,8.166088,7.451501,7.5469646,8.517739,8.568463,6.804629,7.451501,7.912755,8.046129,10.242281,7.4101944,6.837846],\"z\":[7.8222737,3.8003752,8.07581,9.741114,8.220215,7.9934506,7.9243784,7.2618313,7.8119454,8.400947,8.123177,8.907134,3.8003752,3.9290292,8.37394,7.1379833,9.093913,9.560495,4.976335,6.8857865,9.143682,8.88867,6.553654,10.442343,6.8857865,7.6098247,9.028272,7.1060452,9.534901,7.195858],\"type\":\"scatter3d\"},{\"customdata\":[[7.7],[6.8],[7.1],[7.1],[6.6],[6.6],[6.8],[6.6],[8.0],[8.9],[7.1],[7.5],[7.3],[7.8],[6.9],[7.5],[6.7],[6.9],[7.3],[6.8],[7.7],[7.7],[6.6],[6.6],[7.4],[6.8],[6.6],[9.5],[8.2],[6.6],[6.5],[7.2],[7.5],[8.5],[8.8],[6.9],[6.5],[6.1],[7.2],[6.1],[6.8],[6.0],[8.4],[8.0],[7.0],[6.8],[6.8],[6.6],[6.6],[6.8],[6.9],[6.2],[6.2],[9.0],[7.8],[5.3],[7.8],[6.4],[5.6],[6.8],[6.2],[7.6],[7.8],[5.6],[6.6],[7.4],[7.4],[6.5],[6.4],[8.0],[7.2],[7.0],[6.2],[8.1],[7.7],[7.4],[7.2],[7.4],[6.6],[7.0],[7.8],[8.0],[7.1],[8.0],[7.7],[8.6],[8.7],[7.0],[7.0],[7.2],[6.8],[6.6],[7.2],[6.8],[6.7],[8.3],[7.2],[7.2],[6.2],[6.7],[6.8],[7.8],[8.6],[7.0],[8.6],[6.6],[6.6],[6.7],[6.8],[8.2],[6.3],[8.3],[8.0],[8.3],[6.8],[8.4],[6.8],[7.3],[6.1],[9.0],[6.1],[7.8],[8.0],[7.6],[6.8],[6.9],[8.1],[7.1],[7.9],[8.0],[7.0],[10.0],[6.4],[8.0],[7.6],[9.1],[7.3],[7.5],[6.7],[6.9],[6.5],[6.5],[7.6],[6.8],[6.9],[6.7],[7.4],[7.0],[7.0],[6.8],[7.0],[6.8],[6.6],[6.9],[8.3],[6.9],[8.0],[9.0],[7.2],[7.5],[7.7],[8.2],[6.1],[6.4],[7.2],[8.6],[7.7],[7.2],[6.9],[7.0],[7.0],[5.6],[6.5],[7.6],[8.0],[7.6],[7.2],[6.1],[7.5],[7.7],[6.1],[7.2],[5.6],[6.5],[9.2],[7.0],[7.6],[7.5],[8.1],[7.5],[7.1],[6.5],[7.7],[8.2],[7.0],[7.1],[8.2],[8.2],[5.4],[8.4],[9.1],[7.1],[7.1],[7.9],[7.6],[7.2],[6.9],[7.4],[7.4],[7.4],[6.0],[7.3],[6.0],[6.0],[8.9],[7.5],[7.5],[7.4],[6.2],[7.4],[7.4],[8.3],[6.9],[7.3],[7.5],[8.2],[8.0],[8.0],[7.9],[10.0],[6.8],[7.3],[8.8],[8.8],[8.7],[8.7],[7.8],[8.7],[7.6],[7.3],[7.7],[7.5],[7.0],[6.8],[6.9],[7.6],[7.3],[7.6],[7.6],[7.9],[6.4],[7.7],[6.7],[8.5],[6.8],[8.2],[7.2],[8.8],[7.7],[8.8],[8.3],[7.6],[6.8],[7.1],[8.2],[8.2],[8.8],[7.3],[8.8],[7.8],[8.6],[8.3],[8.0],[8.1],[7.8],[8.1],[7.8],[7.1],[9.1],[7.7],[6.2],[7.3],[8.0],[8.2],[8.1],[6.9],[5.8],[7.3],[8.3],[6.3],[8.3],[8.4],[7.2],[7.0],[8.3],[7.2],[7.1],[7.2],[7.9],[7.5],[7.2],[6.6],[6.1],[8.4],[7.0],[9.9],[8.0],[8.3],[7.6],[7.4],[8.3],[8.7],[7.5],[6.9],[7.2],[7.1],[9.6],[9.6],[9.4],[6.9],[7.2],[7.6],[7.8],[6.9],[7.4],[8.9],[7.8],[6.8],[6.9],[7.4],[8.3],[8.7],[7.7],[7.7],[9.1],[7.1],[7.8],[9.1],[7.7],[7.7],[9.5],[9.1],[7.0],[8.4],[9.5],[8.6],[6.8],[7.4],[8.4],[8.1],[6.8],[7.2],[8.2],[5.0],[6.9],[8.0],[6.9],[9.0],[8.4],[8.6],[6.8],[7.5],[8.7],[8.7],[8.1],[8.7],[7.8],[7.2],[7.2],[7.2],[7.5],[8.0],[7.0],[7.9],[6.6],[7.1],[7.7],[7.6],[9.9],[6.9],[7.1],[7.7],[8.2],[7.1],[9.9],[8.1],[7.3],[9.3],[8.2],[7.3],[8.1],[7.8],[7.2],[5.7],[7.8],[7.1],[7.0],[7.0],[7.8],[6.7],[6.7],[7.1],[7.1],[7.1],[7.5],[8.8],[7.6],[5.2],[6.9],[6.7],[8.8],[8.1],[6.8],[6.4],[7.7],[7.2],[7.0],[7.5],[5.9],[8.6],[7.7],[7.3],[7.8],[8.4],[7.6],[7.3],[7.8],[7.7],[6.6],[6.6],[8.8],[6.9],[7.4],[7.1],[6.0],[6.6],[7.3],[7.1],[7.2],[9.2],[7.2],[8.9],[9.0],[7.9],[7.2],[7.4],[7.2],[7.2],[7.1],[7.1],[7.4],[7.8],[7.8],[6.9],[7.6],[7.2],[7.2],[7.9],[6.4],[6.4],[7.6],[6.3],[7.4],[6.9],[8.5],[7.1],[7.9],[6.4],[7.4],[5.6],[6.7],[7.8],[7.2],[7.5],[7.2],[6.4],[7.2],[9.1],[7.0],[8.9],[7.3],[8.1],[8.3],[7.7],[7.0],[8.4],[7.7],[7.7],[9.1],[8.2],[7.2],[9.0],[7.0],[8.3],[6.5],[7.3],[7.2],[7.3],[6.2],[8.3],[6.4],[7.4],[6.8],[7.0],[5.0],[7.7],[8.0],[7.0],[7.6],[8.4],[8.7],[7.1],[8.4],[7.6],[7.5],[7.7],[7.6],[6.9],[9.0],[8.1],[7.5],[6.4],[8.3],[8.0],[7.8],[9.1],[9.2],[7.0],[6.5],[8.1],[8.1],[9.3],[7.9],[8.3],[7.0],[8.3],[6.9],[8.3],[7.2],[6.5],[7.1],[6.9],[6.3],[6.6],[7.7],[6.8],[6.7],[9.3],[8.0],[8.1],[8.8],[7.8],[8.1]],\"hovertemplate\":\"Cluster=Cluster 3\\u003cbr\\u003e0=%{x}\\u003cbr\\u003e1=%{y}\\u003cbr\\u003e2=%{z}\\u003cbr\\u003eFeature=%{customdata[0]}\\u003cextra\\u003e\\u003c\\u002fextra\\u003e\",\"legendgroup\":\"Cluster 3\",\"marker\":{\"color\":\"#ab63fa\",\"opacity\":0.7,\"symbol\":\"circle\"},\"mode\":\"markers\",\"name\":\"Cluster 3\",\"scene\":\"scene\",\"showlegend\":true,\"x\":[-8.310833,-11.977308,-13.60003,-13.796518,-13.764897,-15.222511,-17.241152,-17.755306,-0.545483,-5.2063217,-12.30387,-15.851431,-13.996465,-7.0931983,-11.319629,-8.137927,-16.490522,-12.617507,-13.058209,-21.71414,-6.521634,-6.5216637,-13.899317,-18.818617,-9.407041,-8.057748,-13.764897,-9.005106,-14.876111,-22.94442,-4.356076,-3.8457954,-8.137956,4.8426466,-15.314734,-11.319629,-21.153088,-10.837056,-14.826511,-11.026955,-15.131232,-19.006327,-10.583131,-2.5060558,-17.48872,-21.278368,-9.784577,-13.533322,-4.7902136,-9.784577,-12.618089,-11.458066,-17.792341,-8.47115,-16.309418,-16.522549,-16.309498,-18.634117,-12.409137,-3.9695587,-11.04696,6.2422795,-12.252459,-12.409137,-17.415998,-14.437696,-14.437962,-20.653553,-21.161295,-13.04624,-14.76159,-2.654429,-2.1868384,-15.635526,0.78425866,-14.211503,-15.161713,-14.211502,14.419174,-5.458387,-6.7953362,-19.776197,-16.269386,-5.1072025,0.78425866,-4.956344,-9.508242,-14.613582,-8.45301,-10.887048,-10.148505,-17.415977,-14.35573,-22.11408,-12.446201,-13.416382,-7.994193,-7.8173876,-21.700615,-11.873204,-20.574968,14.133345,9.113685,-5.3182683,9.113669,-22.888056,-22.888056,-21.952389,-4.7632804,-15.616881,-22.657026,-6.027587,-18.284998,-6.0275164,-10.830144,5.4994664,-10.830643,-6.8826437,-17.820807,-9.337382,-11.498902,-12.555612,-1.9677023,-4.471699,-8.980582,-13.620867,-16.690046,-12.787431,-11.549051,-1.2014885,-7.627058,-3.7397556,-13.572164,-1.2017443,-19.512407,-5.222179,-12.738412,-16.210634,-22.237541,-14.320137,-13.256408,-21.522972,-23.647524,-12.974107,-1.9761691,-13.2172575,6.6049414,-10.5651455,-10.5651455,-10.476395,-10.160353,-10.476372,-18.524118,-8.920524,-6.640259,-14.320099,-12.705136,-9.33758,-4.3253064,-7.0831103,-7.2661424,-2.2896342,-12.424918,-12.094855,-17.544666,-0.9480505,-7.2661424,-17.544666,-13.208146,-16.696175,-15.613204,-21.436878,-21.223724,-10.747586,-0.41669253,-10.747636,-15.094131,-10.806787,-9.563509,-16.712051,-10.839563,6.9273224,-14.254498,-3.3916054,7.977183,-12.72581,-7.6954074,-7.0360208,-17.151814,-7.1071143,-16.238308,-13.309621,-3.321618,-10.101544,-5.321052,-22.912374,-2.346326,-2.3462791,-7.571983,0.1454083,-6.0398645,-5.7143655,-5.7143655,-16.072622,-11.978458,-20.257448,-4.437156,-14.747234,-19.69515,-13.745776,-14.561921,-11.571607,-14.616768,-14.616768,-1.1209015,-7.7707634,-7.154814,-14.747224,-11.586049,-11.389797,-15.566966,-23.157522,-10.804592,-11.029808,-8.46381,7.030288,-2.608099,-2.608099,-16.165174,-5.3872094,-9.781574,-14.340859,-8.588119,-8.588119,-2.2511094,-2.2511094,-7.156106,-10.875886,11.969267,-11.029886,-13.238151,-2.6277227,-17.81783,-10.779039,-22.95813,-5.518626,-8.258774,-11.064926,-11.064924,-12.69371,-1.7532061,-15.056901,-9.406995,-1.1897267,-15.695166,-14.155944,-14.259595,-6.554328,-16.648642,-6.5543303,-3.465175,-16.00264,-6.657407,-15.840257,-6.66674,-6.6667075,-6.519512,-13.427143,-6.519512,-5.3494816,-14.25319,-3.393499,-1.9803648,-21.201172,12.3293705,-21.201172,12.3293705,-15.791787,4.180344,-17.963589,-17.111929,-17.19573,-15.03769,-24.855143,-24.847015,-5.868229,-14.843779,-17.696741,-20.720282,-11.908979,-7.1860075,-6.9592,2.0218856,-1.4033074,-7.1861453,-8.420209,-22.19863,-8.420209,-16.521166,-0.90513045,-8.460581,-6.3215957,-11.248449,-6.961577,-2.3517497,7.2903957,-0.21369094,-8.916861,-8.553874,-20.13613,-12.975748,-10.728298,-7.360862,-16.181253,-16.088053,-16.1407,-4.376821,-4.377012,-3.6225488,-2.8974676,-7.782953,-6.8479514,-5.480199,-15.367762,-1.6892403,6.592612,-9.835264,-8.717015,-12.554588,-8.292313,-6.179325,-5.4796762,-10.730983,-9.981773,-2.7195492,-5.2133107,-5.480199,-2.6947236,-19.51966,-19.51966,-2.345308,9.689468,-4.3938165,-6.7095885,-2.828137,-1.5735171,-12.745254,-23.310255,-9.352592,-14.693789,-7.034933,-9.334434,-16.445667,-15.176088,-15.659265,-5.5649567,-15.659265,-11.708882,-11.922866,-2.517206,-17.279446,-12.301826,17.519863,17.519873,-9.477279,-6.679694,-3.953197,-8.8827505,-8.799329,-8.72884,-6.805903,-14.0460825,-12.477605,-2.7440484,-14.005762,-8.999766,-2.3725946,2.6596155,-5.140471,-15.367762,-9.000534,-5.61301,-6.4869943,-10.613059,-5.140471,-13.24991,-14.488819,-5.7643824,-16.445667,-14.488819,-7.000223,-23.30655,-11.319661,-22.177153,-4.2239747,-10.197254,-10.127857,-14.8976555,-23.377924,-15.4088,-15.4088,-9.089498,-13.72121,-13.721162,-20.132149,-9.321709,-6.269572,-9.495818,-11.011865,-5.6172657,-11.382849,12.685212,-17.901037,-11.285547,-17.576664,-22.610237,-11.041827,-6.8663774,-11.416832,-9.455523,-3.83812,-2.1550722,-6.9482946,-2.3809254,-2.0131173,-16.328005,-8.249997,-12.924691,-7.8051033,-7.771692,-7.2940607,-18.101639,13.749975,-8.185673,-15.163694,-18.498177,-6.0860944,-18.37927,-7.410084,-5.579958,-7.410084,-11.119862,-2.0838692,-8.765,-8.669337,-14.916168,-8.924789,-7.7156997,-9.476474,-9.401638,-15.477938,-8.906274,-8.720576,-10.90574,-10.296452,-8.365084,-8.059803,12.415841,-16.512897,-16.512897,-10.835769,-11.893307,-8.667034,-3.2085264,-6.471987,-14.735692,12.415841,-16.007206,-15.762041,-14.982518,-7.6622944,-6.8081346,-7.3596373,-8.929174,-7.7034264,-16.512897,-22.610237,3.622427,-10.107614,-22.782171,-16.91219,-4.5170336,-2.9660873,-16.615948,-16.865238,-18.04599,-15.879681,-15.879681,-16.003117,-6.1447086,-4.109762,-12.713081,-9.593289,-21.034073,-16.718058,-7.002697,-6.7653804,-7.002697,-11.118994,-11.931316,-17.114283,-13.988129,-18.952328,-11.332984,-15.299024,-10.955968,4.414478,-16.74855,-7.2498174,-8.644824,-13.924724,-14.016834,-8.644824,-7.265026,-23.037943,-10.956079,-17.548729,-12.842488,-10.158624,0.4625447,-12.737723,-17.114283,-11.941761,4.414478,-15.211383,-1.3432226,-1.281052,-10.027434,-15.895449,-7.0005555,-4.5170336,-6.8937607,-15.393104,-11.92832,-10.466504,6.56116,-11.44451,-11.499002,-18.545399,-15.895449,-8.419322,-11.4854145,-14.502228,-18.722746,-6.7538753,-13.314937,-6.1947384,-6.8937693,-12.659416,-15.794142,-6.091631,-2.5759964,-15.794142],\"y\":[-3.4741197,4.5908055,7.9947195,8.227774,-9.667924,6.4273233,10.497682,7.470247,7.4305234,13.588795,7.647869,10.25621,11.118953,7.5111275,-10.469307,-7.131468,3.1340296,4.4110084,7.5341372,11.182973,4.779214,4.7791295,-10.206653,9.068423,-10.418224,11.712239,-9.667924,12.324593,12.996532,-0.3511217,-0.67487526,-2.0554903,-7.1316476,-5.701878,15.466379,-10.469307,10.903247,-14.587484,9.46514,-14.377631,7.8248234,3.1662521,15.954853,-1.9592724,6.3654623,-0.49452773,-6.9376836,-12.352042,4.6524377,-6.9376836,4.4104595,-15.376555,4.4535837,10.027104,9.9484415,-10.490083,9.948441,1.1776671,-16.792128,-7.7698064,-5.7705708,-6.110557,-1.8046662,-16.792128,0.4313466,5.5040474,5.5039983,1.8707697,10.901974,6.0052104,9.2634535,7.8815355,-3.1420844,13.935878,-1.8103963,7.998525,9.03411,7.998483,17.034771,5.9632463,1.7571611,5.542075,10.024508,9.012075,-1.8103963,2.1247234,9.272293,7.551168,-7.3485303,-8.924574,-8.762125,0.43128166,9.184734,6.2053394,-6.1243434,12.003572,-5.088179,-5.121105,5.585901,2.675752,1.8253062,6.162584,-1.3391578,6.7890553,-1.3391519,-0.9060575,-0.9060575,5.627715,-5.0422306,14.063631,8.116546,7.5136776,14.867183,7.513663,-7.5537705,-5.8950586,-7.5534563,9.513115,1.9283105,11.903543,-12.050178,-1.2444715,-0.32869923,15.239767,-5.823181,6.5455914,11.475137,5.569044,-7.7351213,6.6688337,1.6276647,10.432954,-9.282543,6.669015,5.355772,3.3448036,14.941528,14.645203,7.8186307,6.400993,-10.928964,3.5031064,8.155944,-9.873285,-2.334922,-9.924612,-5.1216288,-8.150017,-8.150017,-3.9407563,-8.270808,-3.9407372,2.4134998,-6.197985,2.0672758,6.4010897,15.997471,11.903369,-5.6719017,-4.222948,-8.257239,-1.2728251,-15.140603,-11.258791,8.823735,5.552717,-8.257239,8.823735,0.14951743,5.3935814,2.1784568,4.4504957,0.35695112,9.720625,-12.591463,9.720618,6.020432,3.349085,-3.1841576,14.360523,3.3628993,-4.469619,-12.189937,-5.5709276,-0.01080847,2.6077094,-3.7098339,-4.7338886,11.496451,-5.126509,8.429809,4.8284535,0.6579899,-12.189864,-4.1092076,4.1558676,4.6964307,4.6962943,-10.904228,-0.34436798,11.752853,0.4420545,0.4420545,7.9054627,-5.6892133,11.06642,-4.525281,1.6064315,8.84093,11.794454,3.8449755,13.221617,3.9394276,3.9394276,6.302813,-4.5948057,-6.1302366,1.6063336,-13.417909,1.2045714,7.239161,5.313176,2.9553266,4.762412,-3.5857043,-4.43316,-1.3059845,-1.3059845,15.259753,9.446053,-4.9782724,6.419915,8.500708,8.500708,0.7495752,0.7495752,-3.281498,13.959194,9.680816,4.76235,-5.908375,-3.2213404,9.204154,2.9181736,8.046034,-2.0089073,9.558315,6.704877,6.704668,10.566843,-3.5028982,10.505721,-2.0537179,0.46651813,4.226525,15.894182,8.883993,10.086168,11.951972,10.08617,1.3169265,13.336947,22.02026,8.169766,12.669775,12.669658,2.5460923,15.34988,2.5460923,-1.0120533,11.374012,-0.9171575,-2.0290914,5.435854,8.188472,5.435854,8.188472,5.3621445,7.2462893,7.5961866,3.6694603,8.405555,9.495476,8.714543,8.709019,-4.409644,-11.442141,3.4173656,4.761514,5.789337,13.374098,14.087017,3.788163,4.0958366,13.373042,0.980405,3.4243753,0.980405,15.111829,4.5367413,0.027596744,-4.7417197,5.4513755,14.109993,-1.3852504,0.80785596,6.472025,9.671448,8.1686735,11.1693735,9.105362,14.079966,-4.218099,0.73318577,0.16367304,0.415219,9.450295,9.4506445,4.23518,-2.4652736,10.671082,8.198262,-0.678508,-0.27644533,-2.034923,0.13128795,9.056004,-3.459421,-3.692395,-1.7567328,-1.3946062,11.555394,10.591436,8.98147,5.237215,13.44845,-0.678508,5.242852,15.370633,15.370633,3.8434112,-2.340443,11.118916,4.92751,3.9893641,-0.03092719,-3.9343176,6.2054954,11.766918,9.064819,-1.1861126,-0.6543546,16.105503,-12.279617,1.0514617,-2.4152052,1.0514617,9.985565,16.851906,2.2013438,6.6520605,4.8896294,3.3655007,3.3652477,12.421648,5.0093527,4.369876,-0.51616514,-1.2043583,-0.56255144,-1.4465346,5.4291706,14.524483,4.409557,5.736248,-2.962093,14.6805,3.9538252,10.154912,-0.27644533,-2.9628289,-1.8977553,9.675034,11.290913,10.154912,-6.3287,-1.126817,11.299212,16.105503,-1.126817,9.296959,-2.3571334,5.4962583,10.481072,1.2508101,11.741299,-1.7273759,8.058266,-1.4867231,1.3309749,1.3309749,5.547507,1.1028861,1.1029406,4.5052357,13.457316,6.868427,4.3989825,-6.2753954,12.681259,16.152708,9.880551,7.201957,6.1797833,5.043397,1.2598407,11.416611,-6.3914776,-5.214222,7.301379,4.232847,-1.8030531,1.2318138,0.41603482,0.23767366,5.333076,9.358508,10.183376,-0.6162324,-0.68334484,10.70164,3.210641,6.818735,22.253141,2.8304107,1.7014937,-8.025438,3.9690895,20.97166,8.423906,20.97166,9.796318,4.790528,10.415716,20.669878,6.84959,20.65802,21.995193,-6.5258756,-6.1576166,7.670966,13.273268,14.059174,-5.958495,-6.78118,19.755836,20.271711,7.3517675,2.2065728,2.2065728,6.9133034,5.0850043,-2.524903,-3.4195325,8.964213,7.657375,7.3517675,2.5837655,12.587391,-11.345996,11.35477,-6.5486226,19.848804,5.1900434,20.13071,2.2065728,1.2598407,7.3824887,-1.2454695,5.5938725,10.750367,-0.842306,-0.7694488,6.339367,10.17193,11.574217,14.26305,14.26305,15.377239,1.1914042,-2.0983653,12.127163,-1.3041155,-2.388706,5.8109717,-2.4447048,-2.7678552,-2.4447048,6.314207,11.352936,5.3847847,1.5671009,3.391888,7.4226255,-12.22756,5.167503,2.1487005,7.045566,6.9728794,6.7611675,11.871776,9.494129,6.7611675,6.840409,6.909247,5.1674094,11.201533,2.0623016,8.64576,6.1577106,5.184773,5.3847847,11.188392,2.1487005,-10.934955,4.4090075,4.4585137,-1.1225537,-0.37122133,9.297039,-0.842306,9.132546,9.500105,11.368149,1.9134699,-0.26612586,3.00203,16.040323,11.481578,-0.37122133,21.69043,3.0435214,-11.239599,5.3395433,-1.499397,-8.327435,12.795124,9.132542,-6.2601724,12.81224,1.8190986,-0.9378518,12.81224],\"z\":[6.0331235,1.6320438,2.4853723,1.8499603,2.064198,-0.9598318,-2.57114,-6.0210814,1.8076413,6.287991,-4.8203616,-4.572164,-3.6624658,0.91747123,3.6796517,3.2030709,-1.3734802,1.3222976,1.9182582,-3.821364,-2.0670865,-2.0670283,3.2336426,0.6749001,3.149449,-2.930644,2.064198,6.8931346,-3.897626,-3.1511004,-3.759562,3.9729476,3.2057676,-7.9696665,1.0048697,3.6796517,-1.712583,-3.575186,-3.8561516,-0.71404827,-4.880278,1.9016331,1.8824519,11.218182,-3.7723331,-4.358984,4.647924,2.6428473,-5.9841924,4.647924,1.3242952,-0.8392308,1.5195047,5.003312,-7.4401226,-7.5944943,-7.4401803,-2.7031157,-0.9272612,-5.274096,-8.630061,-9.68847,-1.4186616,-0.9272612,4.7242994,1.9210762,1.920952,-3.9238775,-1.7101737,-1.1401466,-4.6591144,1.2938988,-2.727011,3.0497487,5.0103717,-2.475462,-4.138859,-2.4754565,1.7320472,-6.2106605,8.154169,-7.173263,-6.5543113,-4.9539886,5.0103717,6.845492,3.9302738,-4.0581694,9.45462,4.1721454,1.1685455,4.724265,-4.21174,-0.041127287,-4.05544,0.52265435,3.7675579,3.8677697,0.7106673,-2.2162473,-3.904346,10.440635,-10.217736,-6.2795134,-10.217733,-1.2012532,-1.2012532,1.2303215,4.7479014,2.899306,-0.2669624,2.8106654,-1.8671718,2.8106475,0.8234709,-7.8068333,0.8238298,-3.4216406,2.31401,6.366325,-4.2735643,-1.0080559,10.306916,-3.2739587,3.5168893,-7.4808316,2.3894885,1.6609486,4.471429,1.6574908,5.6249747,4.4889264,3.2496147,1.657517,-2.5023363,8.191026,-0.11743456,2.3915923,-0.45323104,10.791567,3.2253127,1.2945943,-2.7123556,3.6583755,-2.7122915,-0.0001337264,-10.13983,2.4042382,2.4042382,-9.002917,2.3645253,-9.002914,-1.2240982,2.390592,8.248518,10.791557,1.4692751,6.3664374,4.8976545,2.0573971,6.705121,3.970882,-0.78311163,-4.060043,-4.059362,8.219526,6.705121,-4.059362,-2.9285626,-4.650847,-0.19016187,1.3302481,-4.438028,-1.6054963,-2.5551302,-1.6054927,-3.7376668,-7.8531938,5.151812,-2.0358803,-7.842251,-10.701063,-3.4402587,2.2645593,-5.0672884,-2.1826973,2.942726,2.584526,2.7829976,2.112734,-1.1721561,-6.236649,4.476389,4.1094813,4.1374807,-2.7782607,2.3740454,2.3740458,-2.507628,4.161976,3.8471186,-8.730626,-8.730626,-1.5463992,-4.271978,-2.871698,3.0886827,0.30112112,1.041542,-4.0253634,-7.808777,-1.1940894,-8.0229,-8.0229,4.534966,2.1242404,3.7624152,0.30111158,-0.9783293,-4.6377773,2.3738706,-2.510283,-0.35949802,-6.2399354,4.9307017,-5.736419,6.9597254,6.9597254,1.220306,5.205011,2.7966096,-7.6404867,8.922475,8.922475,7.0102844,7.0102844,4.259824,-4.2195826,8.762827,-6.239946,4.4937263,11.811154,0.7343136,-0.4308023,-0.617036,10.839326,-6.1384487,-4.498762,-4.498539,2.01815,-2.914613,1.4216355,12.363228,5.1050515,4.774292,1.0218378,2.6298275,3.0738988,0.37124762,3.0738997,7.1237874,-2.3993514,1.0611818,1.5257102,5.8773685,5.8773146,1.4860449,-2.3520901,1.4860449,5.0673823,1.195977,10.25401,4.317076,-6.7985873,8.300388,-6.7985873,8.300388,4.256474,2.9139097,-2.851186,5.2389145,2.3577461,1.7629963,-1.6639853,-1.6646117,3.2573729,-7.500483,-1.5838085,-4.3660774,-8.759743,1.3152744,0.46141088,-8.682922,-5.2328334,1.3142378,9.61643,-2.9088004,9.61643,-3.3934438,-6.091916,8.902848,5.0271688,-8.506427,0.4771639,0.07294045,-10.273361,2.802474,5.068072,-2.769045,-3.6361618,6.9600253,-4.391303,-0.8942996,5.493251,6.2449126,5.493501,7.0345216,7.03445,7.879916,1.9910142,-7.351666,-3.1328306,11.004242,8.183198,0.6757551,-8.664219,3.0424855,7.146978,-10.688851,9.632191,6.6787214,4.288977,2.5290563,2.5660334,11.358719,-1.5533322,11.004242,11.392769,-1.6397432,-1.6397432,8.557574,-9.407899,1.4865708,2.0202506,8.093134,5.09769,-10.7159195,-2.119497,3.8915749,7.579124,3.488143,5.9927793,-4.24558,-3.7582948,-4.5952396,2.6521895,-4.5952396,6.5500665,2.8837993,7.7078705,-1.8589718,-4.5097303,12.136282,12.136454,3.670061,2.085392,6.1102366,5.639795,5.9048595,6.2334113,10.712205,-3.4857323,-0.8021598,-5.852516,3.6208463,8.244508,-0.13050304,-8.587508,5.540506,8.183198,8.2440605,3.9918854,-1.0546554,-1.4351039,5.540506,6.1333942,7.9511886,5.781138,-4.24558,7.9511886,-2.119868,0.23191445,-5.4981194,-2.6060548,4.134159,-2.5534809,9.193275,-1.8543346,0.43349496,2.8508573,2.8508573,-5.0113416,-4.5086284,-4.5086403,-4.541019,4.3128223,-6.481499,-9.308549,-0.73680794,-5.040319,2.852197,7.797968,-1.9826144,-7.6145463,-4.129081,-2.0717309,-1.0348449,8.425673,-9.486139,5.8666196,5.156384,0.5579686,6.1032076,4.94133,3.64949,-4.9693913,-5.7170477,4.08313,2.9500556,3.0231407,5.291712,-6.115319,10.350893,0.5075975,-2.4801118,-1.1543803,6.457038,-5.4354033,-1.3654885,4.2481494,-1.3654885,6.5377827,8.3414545,-2.1952567,-0.712903,2.8441393,-1.6159345,0.56996506,-3.6139162,-3.2148428,2.8638237,0.07931963,-0.65407455,-8.625536,-3.2158577,-1.3456714,-2.27135,8.741521,2.8978527,2.8978527,-6.4104676,-7.800716,10.31461,-2.199193,0.069781534,1.862385,8.741521,3.439598,4.6695967,-7.517249,-2.9759793,7.969579,-1.7016569,-5.1612177,-0.64716697,2.8978527,-2.0717309,2.827282,8.571967,-6.615697,-0.9810851,6.947343,10.28372,4.750921,-1.9655331,3.652944,-1.7795007,-1.7795007,2.978304,12.654446,5.3661003,3.9597116,8.95911,-4.3530965,1.1189215,11.201991,10.760533,11.201991,-8.332712,3.0592895,0.46548006,-4.5951605,-1.6089684,-5.767614,-4.419042,-3.3488188,-6.6650124,2.996342,-0.16217668,5.1852636,3.355527,4.0180387,5.1852636,-0.20731094,-1.2204314,-3.349052,-0.1268191,-2.7467043,6.3392124,8.481677,-2.7463121,0.46548006,3.2196233,-6.6650124,1.2220906,6.350194,6.2632346,9.373306,3.0283756,-2.1198978,6.947343,7.435272,0.1752667,3.0474873,6.059152,-7.2831836,6.9192142,2.5490673,-0.8735708,3.0283756,-1.5367048,6.9542794,1.8711041,-2.627717,5.93816,1.626755,-4.7616568,7.4352546,7.7216244,-1.1759237,6.4188795,3.3998756,-1.1759237],\"type\":\"scatter3d\"},{\"customdata\":[[10.7],[11.6],[10.3],[10.2],[11.2],[11.5],[9.1],[9.4],[7.9],[11.9],[13.4],[10.3],[10.2],[10.9],[10.4],[10.5],[11.5],[11.9],[13.5],[12.6],[11.6],[10.7],[10.1],[11.9],[11.6],[12.4],[9.4],[9.6],[13.8],[11.9],[12.8],[10.0],[12.8],[10.9],[10.6],[12.2],[12.5],[12.5],[11.5],[12.0],[10.0],[10.0],[9.4],[11.1],[11.1],[10.8],[15.0],[15.0],[12.0],[8.1],[8.7],[8.8],[8.0],[7.8],[11.7],[10.2],[11.2],[8.2],[11.6],[9.7],[11.0],[8.2],[12.8],[12.8],[9.6],[8.8],[8.3],[8.3],[12.5],[9.8],[9.8],[10.3],[10.3],[10.3],[10.3],[11.1],[10.8],[13.3],[7.1],[10.4],[8.9],[11.4],[8.2],[8.9],[10.3],[11.5],[8.2],[10.9],[10.0],[11.5],[10.0],[11.5],[14.0],[11.8],[10.0],[11.5],[9.4],[9.4],[10.7],[15.9],[9.4],[8.6],[10.7],[12.0],[8.9],[10.8],[10.1],[12.1],[8.3],[11.3],[10.0],[10.7],[11.3],[9.3],[10.8],[9.4],[10.8],[13.3],[11.6],[11.6],[8.5],[8.1],[10.3],[8.6],[8.6],[9.9],[10.8],[9.9],[9.9],[9.9],[9.2],[11.7],[12.0],[9.9],[11.1],[10.2],[9.9],[8.8],[10.6],[10.2],[12.4],[11.9],[12.7],[9.6],[13.2],[13.2],[10.0],[10.0],[9.4],[10.1],[13.2],[11.5],[11.4],[11.3],[10.4],[10.4],[10.4],[10.5],[8.9],[11.8],[11.1],[11.1],[9.7],[8.8],[10.8],[10.1],[10.4],[10.4],[9.0],[9.5],[9.0],[8.5],[10.1],[10.2],[11.1],[9.9],[10.2],[10.2],[9.8],[10.1],[9.9],[9.3],[12.0],[9.3],[11.7],[10.4],[9.6],[10.1],[9.4],[10.0],[9.1],[9.3],[9.8],[12.3],[10.8],[12.2],[10.2],[11.6],[8.9],[9.9],[8.9],[9.3],[9.3],[9.5],[10.1],[11.3],[11.3],[10.5],[7.9],[7.9],[8.9],[9.9],[9.9],[9.9],[10.0],[10.0],[10.1],[10.8],[9.4],[9.7],[12.2],[9.1],[12.9],[10.8],[9.1],[12.6],[11.5],[9.7],[10.6],[11.9],[15.6],[10.0],[12.5],[9.3],[11.3],[11.9],[11.9],[10.4],[9.8],[11.3],[8.5],[10.4],[12.6],[11.6],[11.0],[11.5],[10.0],[10.3],[10.4],[11.4],[13.0],[9.6],[12.5],[9.9],[10.5],[9.3],[10.4],[9.2],[10.4],[11.1],[12.3],[11.4],[8.3],[13.7],[8.3],[8.3],[9.6],[13.7],[9.5],[12.7],[12.0],[11.5],[11.5],[12.2],[11.4],[9.9],[8.7],[9.8],[12.0],[10.4],[12.5],[9.9],[10.6],[11.9],[10.5],[12.8],[10.5],[11.9],[12.3],[10.4],[10.6],[10.6],[10.6],[10.6],[10.0],[9.1],[12.9],[11.2],[9.5],[11.2],[14.3],[10.6],[12.4],[9.0],[9.4],[9.5],[15.5],[15.5],[10.9],[15.6],[9.1],[10.9],[13.0],[12.7],[13.0],[12.7],[9.8],[9.8],[11.5],[10.2],[10.5],[10.6],[12.3],[9.6],[12.3],[10.2],[11.9],[10.2],[10.2],[10.2],[11.6],[9.3],[10.7],[10.7],[10.4],[10.4],[10.5],[10.5],[10.2],[10.4],[11.2],[10.2],[13.3],[12.4],[10.7],[10.5],[10.5],[12.5],[10.4],[10.9],[12.6],[10.5],[9.8],[10.9],[10.9],[9.1],[11.9],[9.4]],\"hovertemplate\":\"Cluster=Cluster 4\\u003cbr\\u003e0=%{x}\\u003cbr\\u003e1=%{y}\\u003cbr\\u003e2=%{z}\\u003cbr\\u003eFeature=%{customdata[0]}\\u003cextra\\u003e\\u003c\\u002fextra\\u003e\",\"legendgroup\":\"Cluster 4\",\"marker\":{\"color\":\"#FFA15A\",\"opacity\":0.7,\"symbol\":\"circle\"},\"mode\":\"markers\",\"name\":\"Cluster 4\",\"scene\":\"scene\",\"showlegend\":true,\"x\":[11.222527,17.148046,10.277837,12.601805,10.698836,12.428935,4.995291,13.838822,6.14261,17.94248,19.857239,9.732301,12.601793,13.490158,14.8039875,15.059171,15.119544,19.130672,21.459602,19.65749,15.483746,-1.5198961,10.346692,16.686344,15.483693,16.517862,8.191479,8.7040205,19.846523,18.425356,22.294508,10.33334,22.294508,13.490174,10.496642,14.606366,14.863831,19.605349,13.597898,16.752542,11.012307,15.836684,10.210685,10.208294,11.936465,11.066701,22.518408,22.518408,17.399439,6.73253,8.013392,4.015914,3.3488555,10.728088,17.196814,12.142231,10.793473,4.962751,16.146744,7.462029,13.991456,4.9625635,18.844357,18.844385,13.286497,4.015914,6.9222636,6.923056,19.792198,3.9606655,3.9606655,15.85479,18.440298,18.44269,15.854719,14.015877,15.274247,20.933191,3.0740502,5.887213,15.889852,14.029799,15.554755,15.889852,16.002876,12.806694,15.554755,13.636711,11.891424,12.635399,11.891442,12.806694,21.090836,14.714153,11.012307,17.61919,14.291532,13.838863,13.664232,21.074587,10.84727,10.434465,13.664232,17.465736,6.6789675,10.32076,12.865043,16.004976,17.46918,16.651903,-6.4000235,7.5488815,16.617273,8.639241,15.359361,10.307749,10.278413,18.962671,16.776651,16.776651,14.143058,13.312837,8.393826,19.149544,19.149544,9.579273,15.359361,6.3052545,6.5917315,6.321474,7.1597157,16.792881,16.254496,12.403781,14.808817,14.573208,14.29195,6.2657003,13.94604,9.425293,17.837622,16.363335,18.155682,7.502588,18.900238,18.900238,8.284027,14.84867,14.167475,3.691925,18.398174,13.711426,15.272882,13.556581,9.882891,9.882764,11.202988,11.271772,2.968439,17.051739,13.393191,13.393191,10.237164,14.338129,8.179342,13.210473,11.674006,11.674006,12.421847,8.517273,4.211306,5.7117505,12.997665,8.705681,14.454007,6.4453053,14.391487,12.889372,5.862274,6.200118,13.223026,9.031099,15.275425,9.0311775,15.076855,13.314452,8.958835,-0.8270414,13.708405,7.3982573,18.350145,13.418476,3.8370655,17.398115,9.891879,14.175567,9.5905905,14.434063,13.10726,8.041959,13.10726,8.496494,8.440823,17.003136,12.581858,12.06219,12.06219,10.093937,14.092957,14.097791,5.359915,7.8300533,7.205604,7.830025,6.1395507,6.1396775,9.0176935,13.487997,3.1202204,5.4869084,14.175567,8.830496,18.684252,9.891852,8.830496,17.100224,14.256311,7.947242,10.596292,17.851662,22.437296,13.075595,16.033287,8.067063,10.720005,18.255306,18.255266,17.351099,8.483478,17.31321,19.987053,17.35106,17.444548,8.726625,10.147524,17.020529,10.571107,8.403226,10.131791,18.913235,16.68045,8.268402,16.323828,9.979418,12.385295,9.881532,12.77078,9.338636,14.051506,17.188837,17.660887,19.605602,7.3277087,20.785025,7.378307,7.3277087,6.5950217,20.785025,10.25042,16.88507,19.844341,17.004824,17.004824,17.433453,17.169699,8.76476,6.3563623,9.835817,18.40553,13.68641,12.468522,16.4513,12.154137,14.985356,14.226362,16.768692,14.226575,11.640542,17.660887,14.051498,10.759406,13.299251,13.299318,12.905709,4.7642555,8.946544,20.774963,19.60672,17.4799,7.174962,21.159204,12.2260275,16.171307,17.070486,7.7287393,7.9235854,23.167229,23.167229,20.171871,23.323565,13.908944,20.171871,20.986942,17.564522,20.986965,17.564522,18.87572,5.1077394,13.679977,10.711629,7.800035,12.564223,15.854388,7.629988,17.398115,5.754242,15.782125,-5.179191,-5.179191,-4.326709,16.26225,9.664701,15.410356,15.410356,18.060524,18.060524,14.117227,13.554315,15.114076,13.343032,16.507107,9.537653,18.970194,12.436973,13.6685,15.370261,15.369982,20.55169,9.311268,9.865226,18.363985,8.813624,10.664097,10.73029,10.730285,8.946635,15.78199,3.120283],\"y\":[-2.1665132,-13.705659,-9.6373205,-14.5170765,-0.42283118,0.48532155,-6.62118,-9.804956,-2.6809962,-13.252464,-1.0798701,7.6833534,-14.517084,-4.5891967,0.29972836,-13.234344,1.4827332,-5.9349394,-10.6969185,-1.1227583,-5.8894405,5.4413505,-2.6169505,-0.27011463,-5.8894095,1.3865432,-0.11601114,1.7759445,-5.9583297,-3.2743232,-4.623722,-10.156715,-4.623722,-4.589236,-9.371984,-4.4525948,-4.8457265,-4.984651,-4.2166467,-0.19984695,20.697205,-6.9302645,-2.2717755,-6.266693,0.22706805,-3.5766833,-0.5935456,-0.5935456,-4.6415305,-1.8275355,-2.5305169,-2.097102,-6.314964,-14.166802,-4.4113626,-0.61899495,1.7428534,-3.116506,-5.3102717,-12.498496,-7.7938323,-3.1166425,-5.413111,-5.4134846,-9.643001,-2.097102,-4.116609,-4.1168585,-4.6870155,5.855323,5.855323,-1.7616553,2.8752177,2.8329144,-1.7616202,-6.854792,-0.44983965,-1.0915954,-5.309834,3.7086642,-16.091965,-4.2698283,-13.313971,-16.091965,-15.863918,-4.0729194,-13.313971,1.1574652,-3.0275714,-4.0321603,-3.0274558,-4.0729194,-3.0814888,-8.978432,20.697205,-13.667604,-10.93111,-9.804845,1.0541538,-11.760749,-14.861834,0.11916986,1.0541538,-9.358345,-5.089414,3.1661947,-7.5088644,1.631881,3.160426,-3.726839,12.016193,-10.02493,-4.0720615,-0.9035462,-3.82095,0.063650675,3.1165645,0.18635796,-9.395563,-9.395563,-16.096258,5.0186853,-15.863918,-14.558779,-14.558779,-13.802536,-3.82095,4.488014,4.8094735,4.7005258,-7.009329,2.1550446,-8.982921,7.100455,-6.806586,-9.656861,1.4412943,-6.818385,-12.261814,0.36963925,-2.638215,-4.7111607,-2.399214,-9.662732,-1.30605,-1.30605,-14.957466,-17.448103,-15.229807,5.689837,0.43853492,-3.756486,0.57769376,-2.9046304,-8.776891,-8.777008,-2.0053236,1.4342958,-5.186741,-5.35957,-10.172825,-10.172825,-3.61748,-16.842007,-11.541962,-13.629019,-7.0820518,-7.0820518,-14.716761,-9.041175,-13.437729,-4.7439475,-10.477844,-18.159426,-13.313523,-7.776975,-13.766411,-11.434852,-0.00253877,-0.18300523,-17.81476,-1.5721673,-1.6639396,-1.572242,-9.406212,-13.772257,-0.29041713,0.22897638,-16.468584,-13.3888035,-16.20865,-17.524883,2.2931478,2.0717273,3.0112514,-2.990296,-14.300116,-6.547769,-16.357166,-5.2372403,-16.357166,-7.5817547,-7.9136205,-16.956463,-12.229587,-14.246977,-14.246977,-11.097873,5.169509,5.157719,-8.16895,3.2349393,-8.37345,3.2348578,4.164382,4.164199,-15.281761,7.7075944,1.6899186,-8.4264555,-2.990296,-6.3703275,-3.903021,3.0111864,-6.3703275,-1.8387417,-1.8180404,-12.607739,-0.44009912,-5.44556,-3.9787998,-13.689052,1.4200869,-0.19445157,1.7293742,-2.7571862,-2.7572691,-7.058211,-17.194569,-14.706017,-14.574135,-7.05819,-9.196116,3.8538053,-14.179078,-4.110315,-3.8743737,-3.4140425,-11.052415,-0.38484573,1.6565552,-3.6948445,0.18792087,-4.065842,-4.1952896,-2.6443756,-7.199385,-8.021795,-0.12489725,-5.4389224,1.2940127,-12.984125,-3.2078419,-1.9145994,-2.9725823,-3.2078419,-0.4464701,-1.9145994,-0.6788153,-0.2522289,-8.615773,-2.2533305,-2.2533305,-0.80631036,-2.367991,-11.183581,-4.837914,-6.931531,-4.865828,-14.029222,3.896441,-15.724409,-13.250166,-4.370022,-8.930902,-1.2364147,-8.9302435,-16.5824,1.2940127,-0.12475437,21.820566,-1.5267472,-1.5250618,-16.187801,3.215981,-4.8587737,-8.800301,-13.121503,-15.05227,3.7434356,-1.9283093,-6.2283416,0.13818628,2.760731,1.1816689,1.2177558,-4.4954853,-4.4954853,-11.554446,-4.2962017,-17.508608,-11.554446,-9.835021,-1.3620062,-9.834968,-1.3620044,3.9177887,-9.800796,-2.6506953,0.0054845987,4.212188,0.8019564,-0.31546003,-7.168575,2.0717273,-7.628021,1.4763625,11.291554,11.291554,11.251408,-0.077923134,-5.2047844,-11.437677,-11.437677,-2.1887188,-2.1887188,-8.174704,-8.276519,-14.082602,-8.414349,-2.1315656,2.7072368,-3.5259538,3.8292043,-2.4395015,-13.980009,-13.979467,-10.660321,3.1759593,-12.526363,-4.5378222,-12.135144,-4.5492506,-10.913898,-10.913894,-4.858758,1.4762887,1.6898468],\"z\":[-8.092693,-0.5954989,1.9739251,-3.3178165,-1.5958936,-6.0487194,4.0499096,4.728616,-0.5867624,0.36918265,-4.0316133,-4.6169143,-3.3177962,-2.2456636,-7.053668,0.5343311,1.3546582,0.3848988,-0.8149031,-3.4014316,-6.2285695,12.199925,-0.6217745,-8.177628,-6.2285786,2.5064538,5.3302717,4.9637203,-2.6971748,-3.076776,0.0647216,1.3898162,0.0647216,-2.2456186,0.071411096,2.2612164,2.6990602,-4.9385557,0.6649378,0.41580072,3.2534077,1.0893188,-7.394732,-2.8565874,-6.1581817,-0.7386482,-4.4592614,-4.4592614,-2.6914449,1.9919769,-7.907525,-9.128703,1.4505472,3.6793616,-1.943001,-7.952155,-3.524496,-8.109404,-3.4687772,-1.1674325,1.1562319,-8.109478,1.1965727,1.1964942,1.2195466,-9.128703,-1.3115678,-1.3114763,-4.511398,8.911276,8.911276,-5.8261137,10.399239,10.395768,-5.8260384,-3.5049474,-6.5898232,-1.8706434,1.3791625,5.029436,6.7062626,-4.992125,7.1267347,6.7062626,3.4917476,4.355955,7.1267347,0.9285345,-5.4958663,4.1857934,-5.495805,4.355955,-1.9782063,-2.4392767,3.2534077,-0.56719756,3.744181,4.728667,-10.201814,-1.2051697,-3.524673,-8.638962,-10.201814,-5.3104157,-2.6677394,1.9484929,-2.0595484,-3.2353365,10.69427,-7.13892,8.697592,-2.871148,-7.2216697,-6.622776,-6.3486953,-6.963829,-5.0056906,-6.4588814,-4.9966288,-4.9966288,4.174904,8.796873,-2.9616852,5.2695336,5.2695336,-2.3845224,-6.3486953,-9.436312,-9.436691,-9.793998,-1.6309576,-7.094953,-3.2137055,5.623187,3.314907,-0.8281256,-7.3862195,-0.5016977,-0.45992792,-4.630436,-6.5463786,-4.5907907,-5.379424,-3.0510273,-6.0514517,-6.0514517,-3.3013015,3.2241967,3.7883563,4.46988,-7.357473,0.48030543,-5.1588573,-6.2024326,-1.0599116,-1.0597912,-5.9967675,1.8574181,-1.5607743,-2.9494374,-1.216848,-1.216848,-0.9878065,3.7492697,-4.57676,0.005630984,1.1472061,1.1472061,-0.0927096,-3.8547049,-3.2096443,-7.668147,1.7121114,0.7714946,1.3222021,4.777249,3.4689813,0.31158328,3.5571098,3.411666,2.924675,-8.404622,-9.821891,-8.404615,-3.2262795,-0.59596896,-6.360579,7.6169405,2.6540449,-2.7565258,5.06583,0.14212419,5.835091,-7.3371425,-1.433932,-9.493532,-3.2968729,-3.545254,1.7145027,7.453423,1.7145027,-0.41439167,-0.3606158,5.395791,-0.51550055,-5.317487,-5.317487,-1.4025767,9.784036,9.782647,-2.7440655,-6.0047,6.244214,-6.0048714,4.2809544,4.280744,-3.507298,5.2159767,6.4096684,-3.3882136,-9.493532,-0.14529857,-2.6275303,-1.4341018,-0.14529857,0.70222026,3.141181,-2.4291356,-1.7233946,-2.267201,-1.3706095,0.66161466,0.33165276,-4.1765666,-3.5069008,-0.18477549,-0.18480273,0.9840021,-0.07498698,1.6656773,6.065267,0.9839938,-2.708121,-10.703605,-5.007415,-6.591149,2.5327408,6.4022593,-1.2882068,-4.21426,-2.9667838,6.5424895,1.2932813,-5.102911,-0.24589777,-6.5148373,2.925094,-3.4972773,1.7351846,-1.2922091,-6.358903,-0.45386156,-0.39104167,-2.0913744,-0.92199814,-0.39104167,3.2063615,-2.0913744,-7.916597,-8.165919,1.0527194,-1.6336474,-1.6336474,-0.5938147,-2.4894307,-2.9549325,-0.19419524,-2.5164564,0.40277866,-4.6697097,-4.741178,4.475045,-4.3494296,-2.0910354,2.1028123,-3.0112312,2.102368,-3.7276828,-6.358903,1.7351527,2.9078162,-2.4950256,-2.4886086,-2.8747532,5.195289,2.754582,1.1758444,4.157843,5.0450845,5.938236,-5.6183653,0.95753586,0.9146161,10.298506,4.684209,4.7908363,-3.1268656,-3.1268656,2.7912562,-3.0762815,1.1297002,2.7912562,0.55854124,-10.0614,0.5584978,-10.061419,10.316005,-6.509265,3.3982065,-5.730351,-10.246087,1.4258996,1.7900392,-1.6946324,-7.3371425,-3.8399537,-4.3199043,8.417919,8.417919,9.098666,3.6017,-0.12136499,-1.2448674,-1.2448674,5.7645183,5.7645183,3.1919417,3.4815137,0.95560306,2.8921793,-4.5803304,-6.5392623,1.3791422,-4.7550597,0.07574318,-0.81847507,-0.818815,1.1593221,-11.168687,-4.0280123,-3.7644181,-2.9996443,1.4387916,-5.2690663,-5.269047,2.7545757,-4.319932,6.4096575],\"type\":\"scatter3d\"}],                        {\"template\":{\"data\":{\"histogram2dcontour\":[{\"type\":\"histogram2dcontour\",\"colorbar\":{\"outlinewidth\":0,\"ticks\":\"\"},\"colorscale\":[[0.0,\"#0d0887\"],[0.1111111111111111,\"#46039f\"],[0.2222222222222222,\"#7201a8\"],[0.3333333333333333,\"#9c179e\"],[0.4444444444444444,\"#bd3786\"],[0.5555555555555556,\"#d8576b\"],[0.6666666666666666,\"#ed7953\"],[0.7777777777777778,\"#fb9f3a\"],[0.8888888888888888,\"#fdca26\"],[1.0,\"#f0f921\"]]}],\"choropleth\":[{\"type\":\"choropleth\",\"colorbar\":{\"outlinewidth\":0,\"ticks\":\"\"}}],\"histogram2d\":[{\"type\":\"histogram2d\",\"colorbar\":{\"outlinewidth\":0,\"ticks\":\"\"},\"colorscale\":[[0.0,\"#0d0887\"],[0.1111111111111111,\"#46039f\"],[0.2222222222222222,\"#7201a8\"],[0.3333333333333333,\"#9c179e\"],[0.4444444444444444,\"#bd3786\"],[0.5555555555555556,\"#d8576b\"],[0.6666666666666666,\"#ed7953\"],[0.7777777777777778,\"#fb9f3a\"],[0.8888888888888888,\"#fdca26\"],[1.0,\"#f0f921\"]]}],\"heatmap\":[{\"type\":\"heatmap\",\"colorbar\":{\"outlinewidth\":0,\"ticks\":\"\"},\"colorscale\":[[0.0,\"#0d0887\"],[0.1111111111111111,\"#46039f\"],[0.2222222222222222,\"#7201a8\"],[0.3333333333333333,\"#9c179e\"],[0.4444444444444444,\"#bd3786\"],[0.5555555555555556,\"#d8576b\"],[0.6666666666666666,\"#ed7953\"],[0.7777777777777778,\"#fb9f3a\"],[0.8888888888888888,\"#fdca26\"],[1.0,\"#f0f921\"]]}],\"heatmapgl\":[{\"type\":\"heatmapgl\",\"colorbar\":{\"outlinewidth\":0,\"ticks\":\"\"},\"colorscale\":[[0.0,\"#0d0887\"],[0.1111111111111111,\"#46039f\"],[0.2222222222222222,\"#7201a8\"],[0.3333333333333333,\"#9c179e\"],[0.4444444444444444,\"#bd3786\"],[0.5555555555555556,\"#d8576b\"],[0.6666666666666666,\"#ed7953\"],[0.7777777777777778,\"#fb9f3a\"],[0.8888888888888888,\"#fdca26\"],[1.0,\"#f0f921\"]]}],\"contourcarpet\":[{\"type\":\"contourcarpet\",\"colorbar\":{\"outlinewidth\":0,\"ticks\":\"\"}}],\"contour\":[{\"type\":\"contour\",\"colorbar\":{\"outlinewidth\":0,\"ticks\":\"\"},\"colorscale\":[[0.0,\"#0d0887\"],[0.1111111111111111,\"#46039f\"],[0.2222222222222222,\"#7201a8\"],[0.3333333333333333,\"#9c179e\"],[0.4444444444444444,\"#bd3786\"],[0.5555555555555556,\"#d8576b\"],[0.6666666666666666,\"#ed7953\"],[0.7777777777777778,\"#fb9f3a\"],[0.8888888888888888,\"#fdca26\"],[1.0,\"#f0f921\"]]}],\"surface\":[{\"type\":\"surface\",\"colorbar\":{\"outlinewidth\":0,\"ticks\":\"\"},\"colorscale\":[[0.0,\"#0d0887\"],[0.1111111111111111,\"#46039f\"],[0.2222222222222222,\"#7201a8\"],[0.3333333333333333,\"#9c179e\"],[0.4444444444444444,\"#bd3786\"],[0.5555555555555556,\"#d8576b\"],[0.6666666666666666,\"#ed7953\"],[0.7777777777777778,\"#fb9f3a\"],[0.8888888888888888,\"#fdca26\"],[1.0,\"#f0f921\"]]}],\"mesh3d\":[{\"type\":\"mesh3d\",\"colorbar\":{\"outlinewidth\":0,\"ticks\":\"\"}}],\"scatter\":[{\"fillpattern\":{\"fillmode\":\"overlay\",\"size\":10,\"solidity\":0.2},\"type\":\"scatter\"}],\"parcoords\":[{\"type\":\"parcoords\",\"line\":{\"colorbar\":{\"outlinewidth\":0,\"ticks\":\"\"}}}],\"scatterpolargl\":[{\"type\":\"scatterpolargl\",\"marker\":{\"colorbar\":{\"outlinewidth\":0,\"ticks\":\"\"}}}],\"bar\":[{\"error_x\":{\"color\":\"#2a3f5f\"},\"error_y\":{\"color\":\"#2a3f5f\"},\"marker\":{\"line\":{\"color\":\"#E5ECF6\",\"width\":0.5},\"pattern\":{\"fillmode\":\"overlay\",\"size\":10,\"solidity\":0.2}},\"type\":\"bar\"}],\"scattergeo\":[{\"type\":\"scattergeo\",\"marker\":{\"colorbar\":{\"outlinewidth\":0,\"ticks\":\"\"}}}],\"scatterpolar\":[{\"type\":\"scatterpolar\",\"marker\":{\"colorbar\":{\"outlinewidth\":0,\"ticks\":\"\"}}}],\"histogram\":[{\"marker\":{\"pattern\":{\"fillmode\":\"overlay\",\"size\":10,\"solidity\":0.2}},\"type\":\"histogram\"}],\"scattergl\":[{\"type\":\"scattergl\",\"marker\":{\"colorbar\":{\"outlinewidth\":0,\"ticks\":\"\"}}}],\"scatter3d\":[{\"type\":\"scatter3d\",\"line\":{\"colorbar\":{\"outlinewidth\":0,\"ticks\":\"\"}},\"marker\":{\"colorbar\":{\"outlinewidth\":0,\"ticks\":\"\"}}}],\"scattermapbox\":[{\"type\":\"scattermapbox\",\"marker\":{\"colorbar\":{\"outlinewidth\":0,\"ticks\":\"\"}}}],\"scatterternary\":[{\"type\":\"scatterternary\",\"marker\":{\"colorbar\":{\"outlinewidth\":0,\"ticks\":\"\"}}}],\"scattercarpet\":[{\"type\":\"scattercarpet\",\"marker\":{\"colorbar\":{\"outlinewidth\":0,\"ticks\":\"\"}}}],\"carpet\":[{\"aaxis\":{\"endlinecolor\":\"#2a3f5f\",\"gridcolor\":\"white\",\"linecolor\":\"white\",\"minorgridcolor\":\"white\",\"startlinecolor\":\"#2a3f5f\"},\"baxis\":{\"endlinecolor\":\"#2a3f5f\",\"gridcolor\":\"white\",\"linecolor\":\"white\",\"minorgridcolor\":\"white\",\"startlinecolor\":\"#2a3f5f\"},\"type\":\"carpet\"}],\"table\":[{\"cells\":{\"fill\":{\"color\":\"#EBF0F8\"},\"line\":{\"color\":\"white\"}},\"header\":{\"fill\":{\"color\":\"#C8D4E3\"},\"line\":{\"color\":\"white\"}},\"type\":\"table\"}],\"barpolar\":[{\"marker\":{\"line\":{\"color\":\"#E5ECF6\",\"width\":0.5},\"pattern\":{\"fillmode\":\"overlay\",\"size\":10,\"solidity\":0.2}},\"type\":\"barpolar\"}],\"pie\":[{\"automargin\":true,\"type\":\"pie\"}]},\"layout\":{\"autotypenumbers\":\"strict\",\"colorway\":[\"#636efa\",\"#EF553B\",\"#00cc96\",\"#ab63fa\",\"#FFA15A\",\"#19d3f3\",\"#FF6692\",\"#B6E880\",\"#FF97FF\",\"#FECB52\"],\"font\":{\"color\":\"#2a3f5f\"},\"hovermode\":\"closest\",\"hoverlabel\":{\"align\":\"left\"},\"paper_bgcolor\":\"white\",\"plot_bgcolor\":\"#E5ECF6\",\"polar\":{\"bgcolor\":\"#E5ECF6\",\"angularaxis\":{\"gridcolor\":\"white\",\"linecolor\":\"white\",\"ticks\":\"\"},\"radialaxis\":{\"gridcolor\":\"white\",\"linecolor\":\"white\",\"ticks\":\"\"}},\"ternary\":{\"bgcolor\":\"#E5ECF6\",\"aaxis\":{\"gridcolor\":\"white\",\"linecolor\":\"white\",\"ticks\":\"\"},\"baxis\":{\"gridcolor\":\"white\",\"linecolor\":\"white\",\"ticks\":\"\"},\"caxis\":{\"gridcolor\":\"white\",\"linecolor\":\"white\",\"ticks\":\"\"}},\"coloraxis\":{\"colorbar\":{\"outlinewidth\":0,\"ticks\":\"\"}},\"colorscale\":{\"sequential\":[[0.0,\"#0d0887\"],[0.1111111111111111,\"#46039f\"],[0.2222222222222222,\"#7201a8\"],[0.3333333333333333,\"#9c179e\"],[0.4444444444444444,\"#bd3786\"],[0.5555555555555556,\"#d8576b\"],[0.6666666666666666,\"#ed7953\"],[0.7777777777777778,\"#fb9f3a\"],[0.8888888888888888,\"#fdca26\"],[1.0,\"#f0f921\"]],\"sequentialminus\":[[0.0,\"#0d0887\"],[0.1111111111111111,\"#46039f\"],[0.2222222222222222,\"#7201a8\"],[0.3333333333333333,\"#9c179e\"],[0.4444444444444444,\"#bd3786\"],[0.5555555555555556,\"#d8576b\"],[0.6666666666666666,\"#ed7953\"],[0.7777777777777778,\"#fb9f3a\"],[0.8888888888888888,\"#fdca26\"],[1.0,\"#f0f921\"]],\"diverging\":[[0,\"#8e0152\"],[0.1,\"#c51b7d\"],[0.2,\"#de77ae\"],[0.3,\"#f1b6da\"],[0.4,\"#fde0ef\"],[0.5,\"#f7f7f7\"],[0.6,\"#e6f5d0\"],[0.7,\"#b8e186\"],[0.8,\"#7fbc41\"],[0.9,\"#4d9221\"],[1,\"#276419\"]]},\"xaxis\":{\"gridcolor\":\"white\",\"linecolor\":\"white\",\"ticks\":\"\",\"title\":{\"standoff\":15},\"zerolinecolor\":\"white\",\"automargin\":true,\"zerolinewidth\":2},\"yaxis\":{\"gridcolor\":\"white\",\"linecolor\":\"white\",\"ticks\":\"\",\"title\":{\"standoff\":15},\"zerolinecolor\":\"white\",\"automargin\":true,\"zerolinewidth\":2},\"scene\":{\"xaxis\":{\"backgroundcolor\":\"#E5ECF6\",\"gridcolor\":\"white\",\"linecolor\":\"white\",\"showbackground\":true,\"ticks\":\"\",\"zerolinecolor\":\"white\",\"gridwidth\":2},\"yaxis\":{\"backgroundcolor\":\"#E5ECF6\",\"gridcolor\":\"white\",\"linecolor\":\"white\",\"showbackground\":true,\"ticks\":\"\",\"zerolinecolor\":\"white\",\"gridwidth\":2},\"zaxis\":{\"backgroundcolor\":\"#E5ECF6\",\"gridcolor\":\"white\",\"linecolor\":\"white\",\"showbackground\":true,\"ticks\":\"\",\"zerolinecolor\":\"white\",\"gridwidth\":2}},\"shapedefaults\":{\"line\":{\"color\":\"#2a3f5f\"}},\"annotationdefaults\":{\"arrowcolor\":\"#2a3f5f\",\"arrowhead\":0,\"arrowwidth\":1},\"geo\":{\"bgcolor\":\"white\",\"landcolor\":\"#E5ECF6\",\"subunitcolor\":\"white\",\"showland\":true,\"showlakes\":true,\"lakecolor\":\"white\"},\"title\":{\"x\":0.05},\"mapbox\":{\"style\":\"light\"}}},\"scene\":{\"domain\":{\"x\":[0.0,1.0],\"y\":[0.0,1.0]},\"xaxis\":{\"title\":{\"text\":\"0\"}},\"yaxis\":{\"title\":{\"text\":\"1\"}},\"zaxis\":{\"title\":{\"text\":\"2\"}}},\"legend\":{\"title\":{\"text\":\"Cluster\"},\"tracegroupgap\":0},\"title\":{\"text\":\"3d TSNE Plot for Clusters\"},\"height\":800,\"width\":900},                        {\"responsive\": true}                    ).then(function(){\n",
              "                            \n",
              "var gd = document.getElementById('dcdf5d54-4fa8-48d3-9a2a-0d12999a0202');\n",
              "var x = new MutationObserver(function (mutations, observer) {{\n",
              "        var display = window.getComputedStyle(gd).display;\n",
              "        if (!display || display === 'none') {{\n",
              "            console.log([gd, 'removed!']);\n",
              "            Plotly.purge(gd);\n",
              "            observer.disconnect();\n",
              "        }}\n",
              "}});\n",
              "\n",
              "// Listen for the removal of the full notebook cells\n",
              "var notebookContainer = gd.closest('#notebook-container');\n",
              "if (notebookContainer) {{\n",
              "    x.observe(notebookContainer, {childList: true});\n",
              "}}\n",
              "\n",
              "// Listen for the clearing of the current output cell\n",
              "var outputEl = gd.closest('.output');\n",
              "if (outputEl) {{\n",
              "    x.observe(outputEl, {childList: true});\n",
              "}}\n",
              "\n",
              "                        })                };                            </script>        </div>\n",
              "</body>\n",
              "</html>"
            ]
          },
          "metadata": {},
          "output_type": "display_data"
        }
      ],
      "source": [
        "setup(data = myDataSet, normalize = True, normalize_method = 'zscore', verbose=False)\n",
        "x = create_model('kmeans', num_clusters = 5)\n",
        "plot_model(x, plot = 'tsne')"
      ]
    },
    {
      "cell_type": "code",
      "execution_count": null,
      "metadata": {
        "colab": {
          "base_uri": "https://localhost:8080/",
          "height": 343,
          "referenced_widgets": [
            "85f876ff5cbf48fe84f624ff43263300",
            "0100ff615da847718cd37586b6c78986",
            "abfe703133954c54812dfb53c3dfe1a4",
            "357862d2bc5548e4920c171a12506578",
            "8b40d9cd1c4f47ed9547bfdb4e5f4794",
            "4616c811602648c98c53fabefac8e1bb",
            "da4c7ef28fac4abbb696285a1df81eaf",
            "957acba331cc4f459cd77c0f9168d51c",
            "6f45b6fa028f4c988e50f9a2d818b5f8",
            "282d2a25f757470d99c62b0acb8f79be",
            "2618859d18a4424e8a243dfdb5f40397",
            "99ece192bb664d8b9c3d13eff7757215",
            "48ac2397a33c4f51a5570d33350e0522",
            "47408a87bc8b46ca947f809da6efa3d3",
            "18f960889059479a872e1c3554ce7457",
            "731a431be2d14f689ed3322400b6c6d4",
            "238cd2b7456144f39303788f6b851653",
            "84b4d706386b4d5e9a7b7b296200d494",
            "999593f1e3ed4ac7af30557149848da0",
            "e1203c01ce114ac896eb9ff93603f713",
            "da01ff90c587466089ef548075774fcd",
            "67c659b73d854c3496ad4824170ed111",
            "d58647959704459394454dcb5ee38e8b",
            "bd9483ac5c0a47a283c8d302bd990d33",
            "aeb1c1137e314beb95ea9f63c887a574",
            "aeb4a459f42149bdb0bdeb1b5983596f",
            "89be46f5ea0c429ca819be465a32d87d",
            "0a9315f7e06a425d9b45b49948ff52b1",
            "76f8fb1575c34511ad2ce168d88a3d03",
            "f119f46fa43a4073a4ae0d295e5ec38a",
            "a77aa66f17084f20b5216289f53138e1",
            "5d8aad7565374784b2d3b09b3a8e864e",
            "953de6ca1e10480b871686f3110d52a5",
            "e3f4f21aa97649ed9251572e2cba6bec",
            "bd58ad8e145540c6959fdc5767a3377a",
            "88119a02b8e4409191146639c3eb13e5",
            "afa7e947d14942b9b6b1a13bad893aae",
            "de05132f8f1f4340bb7592c75bf2f0b1",
            "65760b21347942b2be2a43d19db13867",
            "e19eb01ea0c945dfbfe68e23d7ec4010",
            "c64e2ee6ac744a28bacb0ffdba997a78",
            "b8b5f28d242e4831b58a5ae74d15c3e7",
            "da2a33e8fa7447b48eff577edbbfb88f",
            "adfb40046af44f038f80d2fcf1cec6fa"
          ]
        },
        "id": "YAjWTeL60DYi",
        "outputId": "7db42b13-f690-4a9d-c72c-81793e64f974"
      },
      "outputs": [
        {
          "name": "stdout",
          "output_type": "stream",
          "text": [
            "For Cluster = 3\n"
          ]
        },
        {
          "data": {
            "text/html": [],
            "text/plain": [
              "<IPython.core.display.HTML object>"
            ]
          },
          "metadata": {},
          "output_type": "display_data"
        },
        {
          "data": {
            "text/html": [
              "<style type=\"text/css\">\n",
              "</style>\n",
              "<table id=\"T_a29af\" class=\"dataframe\">\n",
              "  <thead>\n",
              "    <tr>\n",
              "      <th class=\"blank level0\" >&nbsp;</th>\n",
              "      <th id=\"T_a29af_level0_col0\" class=\"col_heading level0 col0\" >Silhouette</th>\n",
              "      <th id=\"T_a29af_level0_col1\" class=\"col_heading level0 col1\" >Calinski-Harabasz</th>\n",
              "      <th id=\"T_a29af_level0_col2\" class=\"col_heading level0 col2\" >Davies-Bouldin</th>\n",
              "      <th id=\"T_a29af_level0_col3\" class=\"col_heading level0 col3\" >Homogeneity</th>\n",
              "      <th id=\"T_a29af_level0_col4\" class=\"col_heading level0 col4\" >Rand Index</th>\n",
              "      <th id=\"T_a29af_level0_col5\" class=\"col_heading level0 col5\" >Completeness</th>\n",
              "    </tr>\n",
              "  </thead>\n",
              "  <tbody>\n",
              "    <tr>\n",
              "      <th id=\"T_a29af_level0_row0\" class=\"row_heading level0 row0\" >0</th>\n",
              "      <td id=\"T_a29af_row0_col0\" class=\"data row0 col0\" >0.3414</td>\n",
              "      <td id=\"T_a29af_row0_col1\" class=\"data row0 col1\" >1710.1139</td>\n",
              "      <td id=\"T_a29af_row0_col2\" class=\"data row0 col2\" >1.0032</td>\n",
              "      <td id=\"T_a29af_row0_col3\" class=\"data row0 col3\" >0</td>\n",
              "      <td id=\"T_a29af_row0_col4\" class=\"data row0 col4\" >0</td>\n",
              "      <td id=\"T_a29af_row0_col5\" class=\"data row0 col5\" >0</td>\n",
              "    </tr>\n",
              "  </tbody>\n",
              "</table>\n"
            ],
            "text/plain": [
              "<pandas.io.formats.style.Styler at 0x7f929f4a69d0>"
            ]
          },
          "metadata": {},
          "output_type": "display_data"
        },
        {
          "data": {
            "application/vnd.jupyter.widget-view+json": {
              "model_id": "85f876ff5cbf48fe84f624ff43263300",
              "version_major": 2,
              "version_minor": 0
            },
            "text/plain": [
              "Processing:   0%|          | 0/3 [00:00<?, ?it/s]"
            ]
          },
          "metadata": {
            "application/vnd.jupyter.widget-view+json": {
              "colab": {
                "custom_widget_manager": {
                  "url": "https://ssl.gstatic.com/colaboratory-static/widgets/colab-cdn-widget-manager/2b70e893a8ba7c0f/manager.min.js"
                }
              }
            }
          },
          "output_type": "display_data"
        },
        {
          "data": {
            "text/html": [],
            "text/plain": [
              "<IPython.core.display.HTML object>"
            ]
          },
          "metadata": {},
          "output_type": "display_data"
        },
        {
          "name": "stdout",
          "output_type": "stream",
          "text": [
            "For Cluster = 4\n"
          ]
        },
        {
          "data": {
            "text/html": [],
            "text/plain": [
              "<IPython.core.display.HTML object>"
            ]
          },
          "metadata": {},
          "output_type": "display_data"
        },
        {
          "data": {
            "text/html": [
              "<style type=\"text/css\">\n",
              "</style>\n",
              "<table id=\"T_f21b1\" class=\"dataframe\">\n",
              "  <thead>\n",
              "    <tr>\n",
              "      <th class=\"blank level0\" >&nbsp;</th>\n",
              "      <th id=\"T_f21b1_level0_col0\" class=\"col_heading level0 col0\" >Silhouette</th>\n",
              "      <th id=\"T_f21b1_level0_col1\" class=\"col_heading level0 col1\" >Calinski-Harabasz</th>\n",
              "      <th id=\"T_f21b1_level0_col2\" class=\"col_heading level0 col2\" >Davies-Bouldin</th>\n",
              "      <th id=\"T_f21b1_level0_col3\" class=\"col_heading level0 col3\" >Homogeneity</th>\n",
              "      <th id=\"T_f21b1_level0_col4\" class=\"col_heading level0 col4\" >Rand Index</th>\n",
              "      <th id=\"T_f21b1_level0_col5\" class=\"col_heading level0 col5\" >Completeness</th>\n",
              "    </tr>\n",
              "  </thead>\n",
              "  <tbody>\n",
              "    <tr>\n",
              "      <th id=\"T_f21b1_level0_row0\" class=\"row_heading level0 row0\" >0</th>\n",
              "      <td id=\"T_f21b1_row0_col0\" class=\"data row0 col0\" >0.2601</td>\n",
              "      <td id=\"T_f21b1_row0_col1\" class=\"data row0 col1\" >1400.4865</td>\n",
              "      <td id=\"T_f21b1_row0_col2\" class=\"data row0 col2\" >1.2290</td>\n",
              "      <td id=\"T_f21b1_row0_col3\" class=\"data row0 col3\" >0</td>\n",
              "      <td id=\"T_f21b1_row0_col4\" class=\"data row0 col4\" >0</td>\n",
              "      <td id=\"T_f21b1_row0_col5\" class=\"data row0 col5\" >0</td>\n",
              "    </tr>\n",
              "  </tbody>\n",
              "</table>\n"
            ],
            "text/plain": [
              "<pandas.io.formats.style.Styler at 0x7f9285684e90>"
            ]
          },
          "metadata": {},
          "output_type": "display_data"
        },
        {
          "data": {
            "application/vnd.jupyter.widget-view+json": {
              "model_id": "67c659b73d854c3496ad4824170ed111",
              "version_major": 2,
              "version_minor": 0
            },
            "text/plain": [
              "Processing:   0%|          | 0/3 [00:00<?, ?it/s]"
            ]
          },
          "metadata": {
            "application/vnd.jupyter.widget-view+json": {
              "colab": {
                "custom_widget_manager": {
                  "url": "https://ssl.gstatic.com/colaboratory-static/widgets/colab-cdn-widget-manager/2b70e893a8ba7c0f/manager.min.js"
                }
              }
            }
          },
          "output_type": "display_data"
        },
        {
          "data": {
            "text/html": [],
            "text/plain": [
              "<IPython.core.display.HTML object>"
            ]
          },
          "metadata": {},
          "output_type": "display_data"
        },
        {
          "name": "stdout",
          "output_type": "stream",
          "text": [
            "For Cluster = 5\n"
          ]
        },
        {
          "data": {
            "text/html": [],
            "text/plain": [
              "<IPython.core.display.HTML object>"
            ]
          },
          "metadata": {},
          "output_type": "display_data"
        },
        {
          "data": {
            "text/html": [
              "<style type=\"text/css\">\n",
              "</style>\n",
              "<table id=\"T_63cf2\" class=\"dataframe\">\n",
              "  <thead>\n",
              "    <tr>\n",
              "      <th class=\"blank level0\" >&nbsp;</th>\n",
              "      <th id=\"T_63cf2_level0_col0\" class=\"col_heading level0 col0\" >Silhouette</th>\n",
              "      <th id=\"T_63cf2_level0_col1\" class=\"col_heading level0 col1\" >Calinski-Harabasz</th>\n",
              "      <th id=\"T_63cf2_level0_col2\" class=\"col_heading level0 col2\" >Davies-Bouldin</th>\n",
              "      <th id=\"T_63cf2_level0_col3\" class=\"col_heading level0 col3\" >Homogeneity</th>\n",
              "      <th id=\"T_63cf2_level0_col4\" class=\"col_heading level0 col4\" >Rand Index</th>\n",
              "      <th id=\"T_63cf2_level0_col5\" class=\"col_heading level0 col5\" >Completeness</th>\n",
              "    </tr>\n",
              "  </thead>\n",
              "  <tbody>\n",
              "    <tr>\n",
              "      <th id=\"T_63cf2_level0_row0\" class=\"row_heading level0 row0\" >0</th>\n",
              "      <td id=\"T_63cf2_row0_col0\" class=\"data row0 col0\" >0.2492</td>\n",
              "      <td id=\"T_63cf2_row0_col1\" class=\"data row0 col1\" >1228.3557</td>\n",
              "      <td id=\"T_63cf2_row0_col2\" class=\"data row0 col2\" >1.3144</td>\n",
              "      <td id=\"T_63cf2_row0_col3\" class=\"data row0 col3\" >0</td>\n",
              "      <td id=\"T_63cf2_row0_col4\" class=\"data row0 col4\" >0</td>\n",
              "      <td id=\"T_63cf2_row0_col5\" class=\"data row0 col5\" >0</td>\n",
              "    </tr>\n",
              "  </tbody>\n",
              "</table>\n"
            ],
            "text/plain": [
              "<pandas.io.formats.style.Styler at 0x7f9285a25a10>"
            ]
          },
          "metadata": {},
          "output_type": "display_data"
        },
        {
          "data": {
            "application/vnd.jupyter.widget-view+json": {
              "model_id": "953de6ca1e10480b871686f3110d52a5",
              "version_major": 2,
              "version_minor": 0
            },
            "text/plain": [
              "Processing:   0%|          | 0/3 [00:00<?, ?it/s]"
            ]
          },
          "metadata": {
            "application/vnd.jupyter.widget-view+json": {
              "colab": {
                "custom_widget_manager": {
                  "url": "https://ssl.gstatic.com/colaboratory-static/widgets/colab-cdn-widget-manager/2b70e893a8ba7c0f/manager.min.js"
                }
              }
            }
          },
          "output_type": "display_data"
        },
        {
          "data": {
            "text/html": [],
            "text/plain": [
              "<IPython.core.display.HTML object>"
            ]
          },
          "metadata": {},
          "output_type": "display_data"
        },
        {
          "name": "stdout",
          "output_type": "stream",
          "text": [
            "For Cluster = 6\n"
          ]
        },
        {
          "data": {
            "text/html": [],
            "text/plain": [
              "<IPython.core.display.HTML object>"
            ]
          },
          "metadata": {},
          "output_type": "display_data"
        },
        {
          "data": {
            "text/html": [
              "<style type=\"text/css\">\n",
              "</style>\n",
              "<table id=\"T_bb6f9\" class=\"dataframe\">\n",
              "  <thead>\n",
              "    <tr>\n",
              "      <th class=\"blank level0\" >&nbsp;</th>\n",
              "      <th id=\"T_bb6f9_level0_col0\" class=\"col_heading level0 col0\" >Silhouette</th>\n",
              "      <th id=\"T_bb6f9_level0_col1\" class=\"col_heading level0 col1\" >Calinski-Harabasz</th>\n",
              "      <th id=\"T_bb6f9_level0_col2\" class=\"col_heading level0 col2\" >Davies-Bouldin</th>\n",
              "      <th id=\"T_bb6f9_level0_col3\" class=\"col_heading level0 col3\" >Homogeneity</th>\n",
              "      <th id=\"T_bb6f9_level0_col4\" class=\"col_heading level0 col4\" >Rand Index</th>\n",
              "      <th id=\"T_bb6f9_level0_col5\" class=\"col_heading level0 col5\" >Completeness</th>\n",
              "    </tr>\n",
              "  </thead>\n",
              "  <tbody>\n",
              "    <tr>\n",
              "      <th id=\"T_bb6f9_level0_row0\" class=\"row_heading level0 row0\" >0</th>\n",
              "      <td id=\"T_bb6f9_row0_col0\" class=\"data row0 col0\" >0.2514</td>\n",
              "      <td id=\"T_bb6f9_row0_col1\" class=\"data row0 col1\" >1164.2622</td>\n",
              "      <td id=\"T_bb6f9_row0_col2\" class=\"data row0 col2\" >1.2074</td>\n",
              "      <td id=\"T_bb6f9_row0_col3\" class=\"data row0 col3\" >0</td>\n",
              "      <td id=\"T_bb6f9_row0_col4\" class=\"data row0 col4\" >0</td>\n",
              "      <td id=\"T_bb6f9_row0_col5\" class=\"data row0 col5\" >0</td>\n",
              "    </tr>\n",
              "  </tbody>\n",
              "</table>\n"
            ],
            "text/plain": [
              "<pandas.io.formats.style.Styler at 0x7f929eae31d0>"
            ]
          },
          "metadata": {},
          "output_type": "display_data"
        },
        {
          "data": {
            "application/vnd.jupyter.widget-view+json": {
              "model_id": "adfb40046af44f038f80d2fcf1cec6fa",
              "version_major": 2,
              "version_minor": 0
            },
            "text/plain": [
              "Processing:   0%|          | 0/3 [00:00<?, ?it/s]"
            ]
          },
          "metadata": {
            "application/vnd.jupyter.widget-view+json": {
              "colab": {
                "custom_widget_manager": {
                  "url": "https://ssl.gstatic.com/colaboratory-static/widgets/colab-cdn-widget-manager/2b70e893a8ba7c0f/manager.min.js"
                }
              }
            }
          },
          "output_type": "display_data"
        },
        {
          "data": {
            "text/html": [],
            "text/plain": [
              "<IPython.core.display.HTML object>"
            ]
          },
          "metadata": {},
          "output_type": "display_data"
        }
      ],
      "source": [
        "setup(data = myDataSet, transformation = True, transformation_method = 'yeo-johnson', verbose=False)\n",
        "\n",
        "print(\"For Cluster = 3\")\n",
        "x = create_model('kmeans', num_clusters = 3)\n",
        "\n",
        "print(\"For Cluster = 4\")\n",
        "x = create_model('kmeans', num_clusters = 4)\n",
        "\n",
        "print(\"For Cluster = 5\")\n",
        "x = create_model('kmeans', num_clusters = 5)\n",
        "\n",
        "print(\"For Cluster = 6\")\n",
        "x = create_model('kmeans', num_clusters = 6)"
      ]
    },
    {
      "cell_type": "markdown",
      "metadata": {
        "id": "mtB9y3liC8_p"
      },
      "source": [
        "---\n",
        "### **6.3.2 Evaluation parameters for Cluster = 3, 4, 5, 6**\n",
        "---"
      ]
    },
    {
      "cell_type": "code",
      "execution_count": null,
      "metadata": {
        "colab": {
          "base_uri": "https://localhost:8080/",
          "height": 343,
          "referenced_widgets": [
            "289bab6827b249339d31bb3ed15cd020",
            "0563904d138c47f1a1915f32fe39796b",
            "6afef2a60b2b4bbd9035037c4475dbff",
            "23a4434754d64adbb64d7f05c4bf4d58",
            "b5b03387eede4d74a8614927b06ba64d",
            "c28270d272904ba9bc72bd7dd9c18d60",
            "d7205dacc0584fe7b0230fd3cb5052b2",
            "6b4a7ad9c0b0496586b32c4b62ab0f1d",
            "aae1895dcdcc4054867bd39ed8cf5736",
            "5fab0640726942b493cfd8da55284097",
            "80dbda66b3524be5ac19a9adadac8090",
            "e60586d9d6ca47e2b435abae6156742d",
            "3d769d25b48d4e86b1628d5d60563e3e",
            "db5cebd9c9dc41af82dd5d3cebb5c66e",
            "a22be6ee3ebb45b386513c0943b7637c",
            "1dc917479d774651a8389675b6695969",
            "4035cb7c538f454987f2464074250707",
            "fea6d0c755a347b1b8d7ab8b1613a5a1",
            "3186284712b74edcbe309ceb63008fea",
            "01992f94f05e43158b043a0af5571b3b",
            "d0e0d6ac994245ceacfae8604d71f322",
            "e958e5ddea42453d8d59fe4c63ee1e17",
            "546cbe7cf0b24da48b8fb0cac921bd42",
            "5a5ed000a98045839540c4e2bf5f6d01",
            "75565a0fc80046f8a4c05f44fcb516ac",
            "484c802cda024438919bf697ba3e2ff3",
            "539a4c0614b146c5976891552ab495a0",
            "5cad74b518464b5eb3feb56d21659d99",
            "16756973da2840d9900eaa3c0b5b08ba",
            "f6e1b33c44944449a53a3d20735c0f13",
            "61a28860ae9b49afb49a143b3e1b2095",
            "a71437edcb0341f5b7c6a8a6882ed7f3",
            "bc8d5ceca17349b9953d0af77f1f3c32",
            "4c9cd2b00a934c349044ae5468e3eb27",
            "0d94815510ef4e78bdb66984097cb8d5",
            "dc1f68e6d95e4a92b98552a8dc32ea7f",
            "897515195da54166bb163ad680a2af0a",
            "c71cd36581284a6a9656c659597ce326",
            "9344e2846b634d41973c2489bf5c5995",
            "02c7823deadc4b7eb6955f7dcde473bb",
            "5a28daf370e04f5489ecb7f10c97f716",
            "50522da616ce48a98f233b7cbe447040",
            "f33de7a5bdd84aa8b25f72a424a207ea",
            "951636529eac438a9a83decdf6a71e6f"
          ]
        },
        "id": "cxX_g5pRC8_p",
        "outputId": "ec447851-2fe9-4e81-ed9e-756bec3ced64"
      },
      "outputs": [
        {
          "name": "stdout",
          "output_type": "stream",
          "text": [
            "For Cluster = 3\n"
          ]
        },
        {
          "data": {
            "text/html": [],
            "text/plain": [
              "<IPython.core.display.HTML object>"
            ]
          },
          "metadata": {},
          "output_type": "display_data"
        },
        {
          "data": {
            "text/html": [
              "<style type=\"text/css\">\n",
              "</style>\n",
              "<table id=\"T_5a75c\" class=\"dataframe\">\n",
              "  <thead>\n",
              "    <tr>\n",
              "      <th class=\"blank level0\" >&nbsp;</th>\n",
              "      <th id=\"T_5a75c_level0_col0\" class=\"col_heading level0 col0\" >Silhouette</th>\n",
              "      <th id=\"T_5a75c_level0_col1\" class=\"col_heading level0 col1\" >Calinski-Harabasz</th>\n",
              "      <th id=\"T_5a75c_level0_col2\" class=\"col_heading level0 col2\" >Davies-Bouldin</th>\n",
              "      <th id=\"T_5a75c_level0_col3\" class=\"col_heading level0 col3\" >Homogeneity</th>\n",
              "      <th id=\"T_5a75c_level0_col4\" class=\"col_heading level0 col4\" >Rand Index</th>\n",
              "      <th id=\"T_5a75c_level0_col5\" class=\"col_heading level0 col5\" >Completeness</th>\n",
              "    </tr>\n",
              "  </thead>\n",
              "  <tbody>\n",
              "    <tr>\n",
              "      <th id=\"T_5a75c_level0_row0\" class=\"row_heading level0 row0\" >0</th>\n",
              "      <td id=\"T_5a75c_row0_col0\" class=\"data row0 col0\" >0.5184</td>\n",
              "      <td id=\"T_5a75c_row0_col1\" class=\"data row0 col1\" >3058.1746</td>\n",
              "      <td id=\"T_5a75c_row0_col2\" class=\"data row0 col2\" >0.6640</td>\n",
              "      <td id=\"T_5a75c_row0_col3\" class=\"data row0 col3\" >0</td>\n",
              "      <td id=\"T_5a75c_row0_col4\" class=\"data row0 col4\" >0</td>\n",
              "      <td id=\"T_5a75c_row0_col5\" class=\"data row0 col5\" >0</td>\n",
              "    </tr>\n",
              "  </tbody>\n",
              "</table>\n"
            ],
            "text/plain": [
              "<pandas.io.formats.style.Styler at 0x7f92a0308410>"
            ]
          },
          "metadata": {},
          "output_type": "display_data"
        },
        {
          "data": {
            "application/vnd.jupyter.widget-view+json": {
              "model_id": "289bab6827b249339d31bb3ed15cd020",
              "version_major": 2,
              "version_minor": 0
            },
            "text/plain": [
              "Processing:   0%|          | 0/3 [00:00<?, ?it/s]"
            ]
          },
          "metadata": {
            "application/vnd.jupyter.widget-view+json": {
              "colab": {
                "custom_widget_manager": {
                  "url": "https://ssl.gstatic.com/colaboratory-static/widgets/colab-cdn-widget-manager/2b70e893a8ba7c0f/manager.min.js"
                }
              }
            }
          },
          "output_type": "display_data"
        },
        {
          "data": {
            "text/html": [],
            "text/plain": [
              "<IPython.core.display.HTML object>"
            ]
          },
          "metadata": {},
          "output_type": "display_data"
        },
        {
          "name": "stdout",
          "output_type": "stream",
          "text": [
            "For Cluster = 4\n"
          ]
        },
        {
          "data": {
            "text/html": [],
            "text/plain": [
              "<IPython.core.display.HTML object>"
            ]
          },
          "metadata": {},
          "output_type": "display_data"
        },
        {
          "data": {
            "text/html": [
              "<style type=\"text/css\">\n",
              "</style>\n",
              "<table id=\"T_1f6d8\" class=\"dataframe\">\n",
              "  <thead>\n",
              "    <tr>\n",
              "      <th class=\"blank level0\" >&nbsp;</th>\n",
              "      <th id=\"T_1f6d8_level0_col0\" class=\"col_heading level0 col0\" >Silhouette</th>\n",
              "      <th id=\"T_1f6d8_level0_col1\" class=\"col_heading level0 col1\" >Calinski-Harabasz</th>\n",
              "      <th id=\"T_1f6d8_level0_col2\" class=\"col_heading level0 col2\" >Davies-Bouldin</th>\n",
              "      <th id=\"T_1f6d8_level0_col3\" class=\"col_heading level0 col3\" >Homogeneity</th>\n",
              "      <th id=\"T_1f6d8_level0_col4\" class=\"col_heading level0 col4\" >Rand Index</th>\n",
              "      <th id=\"T_1f6d8_level0_col5\" class=\"col_heading level0 col5\" >Completeness</th>\n",
              "    </tr>\n",
              "  </thead>\n",
              "  <tbody>\n",
              "    <tr>\n",
              "      <th id=\"T_1f6d8_level0_row0\" class=\"row_heading level0 row0\" >0</th>\n",
              "      <td id=\"T_1f6d8_row0_col0\" class=\"data row0 col0\" >0.4838</td>\n",
              "      <td id=\"T_1f6d8_row0_col1\" class=\"data row0 col1\" >3051.5665</td>\n",
              "      <td id=\"T_1f6d8_row0_col2\" class=\"data row0 col2\" >0.7150</td>\n",
              "      <td id=\"T_1f6d8_row0_col3\" class=\"data row0 col3\" >0</td>\n",
              "      <td id=\"T_1f6d8_row0_col4\" class=\"data row0 col4\" >0</td>\n",
              "      <td id=\"T_1f6d8_row0_col5\" class=\"data row0 col5\" >0</td>\n",
              "    </tr>\n",
              "  </tbody>\n",
              "</table>\n"
            ],
            "text/plain": [
              "<pandas.io.formats.style.Styler at 0x7f92a03080d0>"
            ]
          },
          "metadata": {},
          "output_type": "display_data"
        },
        {
          "data": {
            "application/vnd.jupyter.widget-view+json": {
              "model_id": "e958e5ddea42453d8d59fe4c63ee1e17",
              "version_major": 2,
              "version_minor": 0
            },
            "text/plain": [
              "Processing:   0%|          | 0/3 [00:00<?, ?it/s]"
            ]
          },
          "metadata": {
            "application/vnd.jupyter.widget-view+json": {
              "colab": {
                "custom_widget_manager": {
                  "url": "https://ssl.gstatic.com/colaboratory-static/widgets/colab-cdn-widget-manager/2b70e893a8ba7c0f/manager.min.js"
                }
              }
            }
          },
          "output_type": "display_data"
        },
        {
          "data": {
            "text/html": [],
            "text/plain": [
              "<IPython.core.display.HTML object>"
            ]
          },
          "metadata": {},
          "output_type": "display_data"
        },
        {
          "name": "stdout",
          "output_type": "stream",
          "text": [
            "For Cluster = 5\n"
          ]
        },
        {
          "data": {
            "text/html": [],
            "text/plain": [
              "<IPython.core.display.HTML object>"
            ]
          },
          "metadata": {},
          "output_type": "display_data"
        },
        {
          "data": {
            "text/html": [
              "<style type=\"text/css\">\n",
              "</style>\n",
              "<table id=\"T_911dc\" class=\"dataframe\">\n",
              "  <thead>\n",
              "    <tr>\n",
              "      <th class=\"blank level0\" >&nbsp;</th>\n",
              "      <th id=\"T_911dc_level0_col0\" class=\"col_heading level0 col0\" >Silhouette</th>\n",
              "      <th id=\"T_911dc_level0_col1\" class=\"col_heading level0 col1\" >Calinski-Harabasz</th>\n",
              "      <th id=\"T_911dc_level0_col2\" class=\"col_heading level0 col2\" >Davies-Bouldin</th>\n",
              "      <th id=\"T_911dc_level0_col3\" class=\"col_heading level0 col3\" >Homogeneity</th>\n",
              "      <th id=\"T_911dc_level0_col4\" class=\"col_heading level0 col4\" >Rand Index</th>\n",
              "      <th id=\"T_911dc_level0_col5\" class=\"col_heading level0 col5\" >Completeness</th>\n",
              "    </tr>\n",
              "  </thead>\n",
              "  <tbody>\n",
              "    <tr>\n",
              "      <th id=\"T_911dc_level0_row0\" class=\"row_heading level0 row0\" >0</th>\n",
              "      <td id=\"T_911dc_row0_col0\" class=\"data row0 col0\" >0.4469</td>\n",
              "      <td id=\"T_911dc_row0_col1\" class=\"data row0 col1\" >3035.7784</td>\n",
              "      <td id=\"T_911dc_row0_col2\" class=\"data row0 col2\" >0.7596</td>\n",
              "      <td id=\"T_911dc_row0_col3\" class=\"data row0 col3\" >0</td>\n",
              "      <td id=\"T_911dc_row0_col4\" class=\"data row0 col4\" >0</td>\n",
              "      <td id=\"T_911dc_row0_col5\" class=\"data row0 col5\" >0</td>\n",
              "    </tr>\n",
              "  </tbody>\n",
              "</table>\n"
            ],
            "text/plain": [
              "<pandas.io.formats.style.Styler at 0x7f929f457310>"
            ]
          },
          "metadata": {},
          "output_type": "display_data"
        },
        {
          "data": {
            "application/vnd.jupyter.widget-view+json": {
              "model_id": "bc8d5ceca17349b9953d0af77f1f3c32",
              "version_major": 2,
              "version_minor": 0
            },
            "text/plain": [
              "Processing:   0%|          | 0/3 [00:00<?, ?it/s]"
            ]
          },
          "metadata": {
            "application/vnd.jupyter.widget-view+json": {
              "colab": {
                "custom_widget_manager": {
                  "url": "https://ssl.gstatic.com/colaboratory-static/widgets/colab-cdn-widget-manager/2b70e893a8ba7c0f/manager.min.js"
                }
              }
            }
          },
          "output_type": "display_data"
        },
        {
          "data": {
            "text/html": [],
            "text/plain": [
              "<IPython.core.display.HTML object>"
            ]
          },
          "metadata": {},
          "output_type": "display_data"
        },
        {
          "name": "stdout",
          "output_type": "stream",
          "text": [
            "For Cluster = 6\n"
          ]
        },
        {
          "data": {
            "text/html": [],
            "text/plain": [
              "<IPython.core.display.HTML object>"
            ]
          },
          "metadata": {},
          "output_type": "display_data"
        },
        {
          "data": {
            "text/html": [
              "<style type=\"text/css\">\n",
              "</style>\n",
              "<table id=\"T_588a8\" class=\"dataframe\">\n",
              "  <thead>\n",
              "    <tr>\n",
              "      <th class=\"blank level0\" >&nbsp;</th>\n",
              "      <th id=\"T_588a8_level0_col0\" class=\"col_heading level0 col0\" >Silhouette</th>\n",
              "      <th id=\"T_588a8_level0_col1\" class=\"col_heading level0 col1\" >Calinski-Harabasz</th>\n",
              "      <th id=\"T_588a8_level0_col2\" class=\"col_heading level0 col2\" >Davies-Bouldin</th>\n",
              "      <th id=\"T_588a8_level0_col3\" class=\"col_heading level0 col3\" >Homogeneity</th>\n",
              "      <th id=\"T_588a8_level0_col4\" class=\"col_heading level0 col4\" >Rand Index</th>\n",
              "      <th id=\"T_588a8_level0_col5\" class=\"col_heading level0 col5\" >Completeness</th>\n",
              "    </tr>\n",
              "  </thead>\n",
              "  <tbody>\n",
              "    <tr>\n",
              "      <th id=\"T_588a8_level0_row0\" class=\"row_heading level0 row0\" >0</th>\n",
              "      <td id=\"T_588a8_row0_col0\" class=\"data row0 col0\" >0.4293</td>\n",
              "      <td id=\"T_588a8_row0_col1\" class=\"data row0 col1\" >2659.9596</td>\n",
              "      <td id=\"T_588a8_row0_col2\" class=\"data row0 col2\" >0.8939</td>\n",
              "      <td id=\"T_588a8_row0_col3\" class=\"data row0 col3\" >0</td>\n",
              "      <td id=\"T_588a8_row0_col4\" class=\"data row0 col4\" >0</td>\n",
              "      <td id=\"T_588a8_row0_col5\" class=\"data row0 col5\" >0</td>\n",
              "    </tr>\n",
              "  </tbody>\n",
              "</table>\n"
            ],
            "text/plain": [
              "<pandas.io.formats.style.Styler at 0x7f9410949a50>"
            ]
          },
          "metadata": {},
          "output_type": "display_data"
        },
        {
          "data": {
            "application/vnd.jupyter.widget-view+json": {
              "model_id": "951636529eac438a9a83decdf6a71e6f",
              "version_major": 2,
              "version_minor": 0
            },
            "text/plain": [
              "Processing:   0%|          | 0/3 [00:00<?, ?it/s]"
            ]
          },
          "metadata": {
            "application/vnd.jupyter.widget-view+json": {
              "colab": {
                "custom_widget_manager": {
                  "url": "https://ssl.gstatic.com/colaboratory-static/widgets/colab-cdn-widget-manager/2b70e893a8ba7c0f/manager.min.js"
                }
              }
            }
          },
          "output_type": "display_data"
        },
        {
          "data": {
            "text/html": [],
            "text/plain": [
              "<IPython.core.display.HTML object>"
            ]
          },
          "metadata": {},
          "output_type": "display_data"
        }
      ],
      "source": [
        "setup(data = myDataSet, pca = True, pca_method = 'linear', verbose=False)\n",
        "\n",
        "print(\"For Cluster = 3\")\n",
        "x = create_model('kmeans', num_clusters = 3)\n",
        "\n",
        "print(\"For Cluster = 4\")\n",
        "x = create_model('kmeans', num_clusters = 4)\n",
        "\n",
        "print(\"For Cluster = 5\")\n",
        "x = create_model('kmeans', num_clusters = 5)\n",
        "\n",
        "print(\"For Cluster = 6\")\n",
        "x = create_model('kmeans', num_clusters = 6)"
      ]
    },
    {
      "cell_type": "markdown",
      "metadata": {
        "id": "fDoyKJGzqC3s"
      },
      "source": [
        "---\n",
        "### **6.4.2 Evaluation parameters for Cluster = 3, 4, 5, 6**\n",
        "---"
      ]
    },
    {
      "cell_type": "code",
      "execution_count": null,
      "metadata": {
        "colab": {
          "base_uri": "https://localhost:8080/",
          "height": 343,
          "referenced_widgets": [
            "749cc3b879bb4eb2afbcbea7486013b0",
            "38411b282dc4466d8d19ad71d054455f",
            "b8419f10bc204150b7155232a5a81332",
            "3991463c223f4a9aa3c64238b1e5d743",
            "b163bb31130b474892cbb04421fb0946",
            "b1b9c5e754f24ff88848248ee064b3e8",
            "c6163e935f24452ca19f2885326644d4",
            "1c3e5993a9244f03bcfa38d09aa7417b",
            "66b52a5eeb004a8fbf3a4a547e269b5c",
            "ab28278ad5fc42fbbde8cb95471cc71a",
            "efdf1d101813494598cf6960c5de7988",
            "22eef275bea44f2a801e33b64dd471ec",
            "4a67019c8309447394cf9a952a3bcc06",
            "1aa62d0462ef4904b27cf4287159b48d",
            "061a958ef6e94418a2b6013b607c9007",
            "953201f9a92940f8816531d3d553920c",
            "81931663e2e0416f9444c752c9d89e31",
            "9d52d2538ca14ced9372885ffbd6c227",
            "7dba585de9be455eb2ef8c6679d9455b",
            "d196f79db2c441aaaa0d03109ddaacf7",
            "96313804aab04345a6a2d3154f313950",
            "910f079ff3c846ed80febe047d5a8418",
            "7979c6f2c9104f15bd24c8cfc5f9ddf0",
            "6bb51f8fefd4475dbd9386208b22d102",
            "a5d40352ca7a4939aa6dd75d9bbcc6b5",
            "793a0acf9441439da96efa9133f51a15",
            "eb7b5ed348884bdea73cd81777886a0a",
            "f3fab2f70f7d4db4941c354b0db7eb08",
            "c540a05c7d3e4b6ca9f24103d1173445",
            "d02ca35b9859446ab483c03b3983e726",
            "693c82c60cb54be88e6c962d968210b4",
            "aea6a801758e458a8813a332d098d379",
            "5841acfecd2648c69cb04820cc384565",
            "0c43f8ec6fde47069083d6ac26a0b68c",
            "215d0e86ba714461b3f4b08ffe11613d",
            "d1893c12fc8c42e5a282f6f407a2f149",
            "d8aa6641eeae4ccca9b625bd6ad4bbcf",
            "1981b3d3e9d340b8b9d5b3fd883518aa",
            "9991b1e9c73140c8967ba0edb4b38238",
            "8097eea008314411b79890bb354d9ac5",
            "eade299229494cdf9a6834200448bdcb",
            "95a4f17f3c054500a041782e06fab866",
            "e8dd03a4b7c54b69a4a1218905ce8b7d",
            "559e4db8a9d84422bfcb411ca345b346"
          ]
        },
        "id": "f8inz47RqC3u",
        "outputId": "22b182c5-55c0-433c-a0c3-78b1cbb5752a"
      },
      "outputs": [
        {
          "name": "stdout",
          "output_type": "stream",
          "text": [
            "For Cluster = 3\n"
          ]
        },
        {
          "data": {
            "text/html": [],
            "text/plain": [
              "<IPython.core.display.HTML object>"
            ]
          },
          "metadata": {},
          "output_type": "display_data"
        },
        {
          "data": {
            "text/html": [
              "<style type=\"text/css\">\n",
              "</style>\n",
              "<table id=\"T_44bd4\" class=\"dataframe\">\n",
              "  <thead>\n",
              "    <tr>\n",
              "      <th class=\"blank level0\" >&nbsp;</th>\n",
              "      <th id=\"T_44bd4_level0_col0\" class=\"col_heading level0 col0\" >Silhouette</th>\n",
              "      <th id=\"T_44bd4_level0_col1\" class=\"col_heading level0 col1\" >Calinski-Harabasz</th>\n",
              "      <th id=\"T_44bd4_level0_col2\" class=\"col_heading level0 col2\" >Davies-Bouldin</th>\n",
              "      <th id=\"T_44bd4_level0_col3\" class=\"col_heading level0 col3\" >Homogeneity</th>\n",
              "      <th id=\"T_44bd4_level0_col4\" class=\"col_heading level0 col4\" >Rand Index</th>\n",
              "      <th id=\"T_44bd4_level0_col5\" class=\"col_heading level0 col5\" >Completeness</th>\n",
              "    </tr>\n",
              "  </thead>\n",
              "  <tbody>\n",
              "    <tr>\n",
              "      <th id=\"T_44bd4_level0_row0\" class=\"row_heading level0 row0\" >0</th>\n",
              "      <td id=\"T_44bd4_row0_col0\" class=\"data row0 col0\" >0.1602</td>\n",
              "      <td id=\"T_44bd4_row0_col1\" class=\"data row0 col1\" >300.3326</td>\n",
              "      <td id=\"T_44bd4_row0_col2\" class=\"data row0 col2\" >1.8810</td>\n",
              "      <td id=\"T_44bd4_row0_col3\" class=\"data row0 col3\" >0</td>\n",
              "      <td id=\"T_44bd4_row0_col4\" class=\"data row0 col4\" >0</td>\n",
              "      <td id=\"T_44bd4_row0_col5\" class=\"data row0 col5\" >0</td>\n",
              "    </tr>\n",
              "  </tbody>\n",
              "</table>\n"
            ],
            "text/plain": [
              "<pandas.io.formats.style.Styler at 0x7f9410949a50>"
            ]
          },
          "metadata": {},
          "output_type": "display_data"
        },
        {
          "data": {
            "application/vnd.jupyter.widget-view+json": {
              "model_id": "749cc3b879bb4eb2afbcbea7486013b0",
              "version_major": 2,
              "version_minor": 0
            },
            "text/plain": [
              "Processing:   0%|          | 0/3 [00:00<?, ?it/s]"
            ]
          },
          "metadata": {
            "application/vnd.jupyter.widget-view+json": {
              "colab": {
                "custom_widget_manager": {
                  "url": "https://ssl.gstatic.com/colaboratory-static/widgets/colab-cdn-widget-manager/2b70e893a8ba7c0f/manager.min.js"
                }
              }
            }
          },
          "output_type": "display_data"
        },
        {
          "data": {
            "text/html": [],
            "text/plain": [
              "<IPython.core.display.HTML object>"
            ]
          },
          "metadata": {},
          "output_type": "display_data"
        },
        {
          "name": "stdout",
          "output_type": "stream",
          "text": [
            "For Cluster = 4\n"
          ]
        },
        {
          "data": {
            "text/html": [],
            "text/plain": [
              "<IPython.core.display.HTML object>"
            ]
          },
          "metadata": {},
          "output_type": "display_data"
        },
        {
          "data": {
            "text/html": [
              "<style type=\"text/css\">\n",
              "</style>\n",
              "<table id=\"T_62b1d\" class=\"dataframe\">\n",
              "  <thead>\n",
              "    <tr>\n",
              "      <th class=\"blank level0\" >&nbsp;</th>\n",
              "      <th id=\"T_62b1d_level0_col0\" class=\"col_heading level0 col0\" >Silhouette</th>\n",
              "      <th id=\"T_62b1d_level0_col1\" class=\"col_heading level0 col1\" >Calinski-Harabasz</th>\n",
              "      <th id=\"T_62b1d_level0_col2\" class=\"col_heading level0 col2\" >Davies-Bouldin</th>\n",
              "      <th id=\"T_62b1d_level0_col3\" class=\"col_heading level0 col3\" >Homogeneity</th>\n",
              "      <th id=\"T_62b1d_level0_col4\" class=\"col_heading level0 col4\" >Rand Index</th>\n",
              "      <th id=\"T_62b1d_level0_col5\" class=\"col_heading level0 col5\" >Completeness</th>\n",
              "    </tr>\n",
              "  </thead>\n",
              "  <tbody>\n",
              "    <tr>\n",
              "      <th id=\"T_62b1d_level0_row0\" class=\"row_heading level0 row0\" >0</th>\n",
              "      <td id=\"T_62b1d_row0_col0\" class=\"data row0 col0\" >0.1480</td>\n",
              "      <td id=\"T_62b1d_row0_col1\" class=\"data row0 col1\" >278.6020</td>\n",
              "      <td id=\"T_62b1d_row0_col2\" class=\"data row0 col2\" >1.8023</td>\n",
              "      <td id=\"T_62b1d_row0_col3\" class=\"data row0 col3\" >0</td>\n",
              "      <td id=\"T_62b1d_row0_col4\" class=\"data row0 col4\" >0</td>\n",
              "      <td id=\"T_62b1d_row0_col5\" class=\"data row0 col5\" >0</td>\n",
              "    </tr>\n",
              "  </tbody>\n",
              "</table>\n"
            ],
            "text/plain": [
              "<pandas.io.formats.style.Styler at 0x7f9410949a50>"
            ]
          },
          "metadata": {},
          "output_type": "display_data"
        },
        {
          "data": {
            "application/vnd.jupyter.widget-view+json": {
              "model_id": "910f079ff3c846ed80febe047d5a8418",
              "version_major": 2,
              "version_minor": 0
            },
            "text/plain": [
              "Processing:   0%|          | 0/3 [00:00<?, ?it/s]"
            ]
          },
          "metadata": {
            "application/vnd.jupyter.widget-view+json": {
              "colab": {
                "custom_widget_manager": {
                  "url": "https://ssl.gstatic.com/colaboratory-static/widgets/colab-cdn-widget-manager/2b70e893a8ba7c0f/manager.min.js"
                }
              }
            }
          },
          "output_type": "display_data"
        },
        {
          "data": {
            "text/html": [],
            "text/plain": [
              "<IPython.core.display.HTML object>"
            ]
          },
          "metadata": {},
          "output_type": "display_data"
        },
        {
          "name": "stdout",
          "output_type": "stream",
          "text": [
            "For Cluster = 5\n"
          ]
        },
        {
          "data": {
            "text/html": [],
            "text/plain": [
              "<IPython.core.display.HTML object>"
            ]
          },
          "metadata": {},
          "output_type": "display_data"
        },
        {
          "data": {
            "text/html": [
              "<style type=\"text/css\">\n",
              "</style>\n",
              "<table id=\"T_86b25\" class=\"dataframe\">\n",
              "  <thead>\n",
              "    <tr>\n",
              "      <th class=\"blank level0\" >&nbsp;</th>\n",
              "      <th id=\"T_86b25_level0_col0\" class=\"col_heading level0 col0\" >Silhouette</th>\n",
              "      <th id=\"T_86b25_level0_col1\" class=\"col_heading level0 col1\" >Calinski-Harabasz</th>\n",
              "      <th id=\"T_86b25_level0_col2\" class=\"col_heading level0 col2\" >Davies-Bouldin</th>\n",
              "      <th id=\"T_86b25_level0_col3\" class=\"col_heading level0 col3\" >Homogeneity</th>\n",
              "      <th id=\"T_86b25_level0_col4\" class=\"col_heading level0 col4\" >Rand Index</th>\n",
              "      <th id=\"T_86b25_level0_col5\" class=\"col_heading level0 col5\" >Completeness</th>\n",
              "    </tr>\n",
              "  </thead>\n",
              "  <tbody>\n",
              "    <tr>\n",
              "      <th id=\"T_86b25_level0_row0\" class=\"row_heading level0 row0\" >0</th>\n",
              "      <td id=\"T_86b25_row0_col0\" class=\"data row0 col0\" >0.1443</td>\n",
              "      <td id=\"T_86b25_row0_col1\" class=\"data row0 col1\" >253.9327</td>\n",
              "      <td id=\"T_86b25_row0_col2\" class=\"data row0 col2\" >1.8660</td>\n",
              "      <td id=\"T_86b25_row0_col3\" class=\"data row0 col3\" >0</td>\n",
              "      <td id=\"T_86b25_row0_col4\" class=\"data row0 col4\" >0</td>\n",
              "      <td id=\"T_86b25_row0_col5\" class=\"data row0 col5\" >0</td>\n",
              "    </tr>\n",
              "  </tbody>\n",
              "</table>\n"
            ],
            "text/plain": [
              "<pandas.io.formats.style.Styler at 0x7f94109f5890>"
            ]
          },
          "metadata": {},
          "output_type": "display_data"
        },
        {
          "data": {
            "application/vnd.jupyter.widget-view+json": {
              "model_id": "5841acfecd2648c69cb04820cc384565",
              "version_major": 2,
              "version_minor": 0
            },
            "text/plain": [
              "Processing:   0%|          | 0/3 [00:00<?, ?it/s]"
            ]
          },
          "metadata": {
            "application/vnd.jupyter.widget-view+json": {
              "colab": {
                "custom_widget_manager": {
                  "url": "https://ssl.gstatic.com/colaboratory-static/widgets/colab-cdn-widget-manager/2b70e893a8ba7c0f/manager.min.js"
                }
              }
            }
          },
          "output_type": "display_data"
        },
        {
          "data": {
            "text/html": [],
            "text/plain": [
              "<IPython.core.display.HTML object>"
            ]
          },
          "metadata": {},
          "output_type": "display_data"
        },
        {
          "name": "stdout",
          "output_type": "stream",
          "text": [
            "For Cluster = 6\n"
          ]
        },
        {
          "data": {
            "text/html": [],
            "text/plain": [
              "<IPython.core.display.HTML object>"
            ]
          },
          "metadata": {},
          "output_type": "display_data"
        },
        {
          "data": {
            "text/html": [
              "<style type=\"text/css\">\n",
              "</style>\n",
              "<table id=\"T_2f5d5\" class=\"dataframe\">\n",
              "  <thead>\n",
              "    <tr>\n",
              "      <th class=\"blank level0\" >&nbsp;</th>\n",
              "      <th id=\"T_2f5d5_level0_col0\" class=\"col_heading level0 col0\" >Silhouette</th>\n",
              "      <th id=\"T_2f5d5_level0_col1\" class=\"col_heading level0 col1\" >Calinski-Harabasz</th>\n",
              "      <th id=\"T_2f5d5_level0_col2\" class=\"col_heading level0 col2\" >Davies-Bouldin</th>\n",
              "      <th id=\"T_2f5d5_level0_col3\" class=\"col_heading level0 col3\" >Homogeneity</th>\n",
              "      <th id=\"T_2f5d5_level0_col4\" class=\"col_heading level0 col4\" >Rand Index</th>\n",
              "      <th id=\"T_2f5d5_level0_col5\" class=\"col_heading level0 col5\" >Completeness</th>\n",
              "    </tr>\n",
              "  </thead>\n",
              "  <tbody>\n",
              "    <tr>\n",
              "      <th id=\"T_2f5d5_level0_row0\" class=\"row_heading level0 row0\" >0</th>\n",
              "      <td id=\"T_2f5d5_row0_col0\" class=\"data row0 col0\" >0.1225</td>\n",
              "      <td id=\"T_2f5d5_row0_col1\" class=\"data row0 col1\" >224.3348</td>\n",
              "      <td id=\"T_2f5d5_row0_col2\" class=\"data row0 col2\" >1.9165</td>\n",
              "      <td id=\"T_2f5d5_row0_col3\" class=\"data row0 col3\" >0</td>\n",
              "      <td id=\"T_2f5d5_row0_col4\" class=\"data row0 col4\" >0</td>\n",
              "      <td id=\"T_2f5d5_row0_col5\" class=\"data row0 col5\" >0</td>\n",
              "    </tr>\n",
              "  </tbody>\n",
              "</table>\n"
            ],
            "text/plain": [
              "<pandas.io.formats.style.Styler at 0x7f92856cf650>"
            ]
          },
          "metadata": {},
          "output_type": "display_data"
        },
        {
          "data": {
            "application/vnd.jupyter.widget-view+json": {
              "model_id": "559e4db8a9d84422bfcb411ca345b346",
              "version_major": 2,
              "version_minor": 0
            },
            "text/plain": [
              "Processing:   0%|          | 0/3 [00:00<?, ?it/s]"
            ]
          },
          "metadata": {
            "application/vnd.jupyter.widget-view+json": {
              "colab": {
                "custom_widget_manager": {
                  "url": "https://ssl.gstatic.com/colaboratory-static/widgets/colab-cdn-widget-manager/2b70e893a8ba7c0f/manager.min.js"
                }
              }
            }
          },
          "output_type": "display_data"
        },
        {
          "data": {
            "text/html": [],
            "text/plain": [
              "<IPython.core.display.HTML object>"
            ]
          },
          "metadata": {},
          "output_type": "display_data"
        }
      ],
      "source": [
        "setup(data = myDataSet, transformation = True, normalize = True,\n",
        "      normalize_method = 'zscore', transformation_method = 'yeo-johnson', verbose=False)\n",
        "\n",
        "print(\"For Cluster = 3\")\n",
        "x = create_model('kmeans', num_clusters = 3)\n",
        "\n",
        "print(\"For Cluster = 4\")\n",
        "x = create_model('kmeans', num_clusters = 4)\n",
        "\n",
        "print(\"For Cluster = 5\")\n",
        "x = create_model('kmeans', num_clusters = 5)\n",
        "\n",
        "print(\"For Cluster = 6\")\n",
        "x = create_model('kmeans', num_clusters = 6)"
      ]
    },
    {
      "cell_type": "markdown",
      "metadata": {
        "id": "bI2xYlBIEVXQ"
      },
      "source": [
        "---\n",
        "### **6.5.2 Evaluation parameters for Cluster = 3, 4, 5, 6**\n",
        "---"
      ]
    },
    {
      "cell_type": "code",
      "execution_count": null,
      "metadata": {
        "colab": {
          "base_uri": "https://localhost:8080/",
          "height": 343,
          "referenced_widgets": [
            "045a2383e7714ca8a08211c94bc395c3",
            "4219ea8b49ec46b289145c230c976985",
            "7259c3e54c784cf888a85684ed7ed9c1",
            "8f867c3b5089449fa3f406ca2e4334bb",
            "8db687b7317e42949247c9aa7fee54a6",
            "edee83f7f1a7418ab0b06f3fb5fa08c2",
            "f5e09c0d2b6e4657ba2e16bbbd10149b",
            "6dce77df39334bd9b4660bffd09bdc00",
            "e5cd4a472b35457390484718a1034a8b",
            "8a9a404ba2344887960b2deb892c0d89",
            "db2cb56d6fd84e738d05966c8c63bd46",
            "8f634b2552464f89b4fb4fae673824bc",
            "2feddbd5a0574445b8f1ea08a68287f2",
            "aace3fca671448a7b6d880b68a28eea8",
            "fd60b94b0721483fbec62de626d590fc",
            "3d38737c17334d05abb87d1ef2d11e08",
            "110bc055030d4ae2bb2208583970de4b",
            "095c42f93dab4896a4bc8b3663b3d7be",
            "581d077ea72b49ad9442dd68fcc98920",
            "7b738fad97c1422db594a726425d699f",
            "0930866e08aa440c86cfcbe75f201bbe",
            "099de448c4404e0a81742660d9520ff1",
            "74fc89220d264a89b8a82b7c7c417b0b",
            "ce5200d2a3054dc78874dac25f329606",
            "211dbb92197c45059e2a9c9d5175dff1",
            "50120bf3c12042cf863fe1b9946d049e",
            "4f50a7546799452e95a14030a5e531ec",
            "0da4d76b16394f43be92907fd150fac0",
            "1e7bfa91a86d4a7c8f8fe6cad139fb65",
            "4e4afc5ed1594ca294a48375c420f875",
            "6c2c65ed85b54f92b963f5f6c97c24ae",
            "8b92421996d0402ebc08a29bc0023558",
            "96fcb2d629d7483f8c4bcb1e94141a57",
            "35b781519fdc4d7e94bca197b06a87f8",
            "253786dfc82e4ae7ba36df43292bb193",
            "e75f3d29fb474e26a426f9cdb5f90ca0",
            "806f478cceaf4fc89d28cda659be4fa4",
            "61c675c15e81452180d44db10279cbce",
            "3426727d34bd4000a2ff74337a678587",
            "2c439fc7087a4c96b36256cea8b79ec5",
            "0e1890c7268c451ebd9ac6fa42500615",
            "39dfccb89e7e4d1483a16096388933b8",
            "66ebe94faad34865afc794bbce3f21ec",
            "11df2f1c6f0d4f48ad9244bacbb4ca92"
          ]
        },
        "id": "gVLZcptOEVXS",
        "outputId": "4033a769-017b-4bec-c286-405c08aae578"
      },
      "outputs": [
        {
          "name": "stdout",
          "output_type": "stream",
          "text": [
            "For Cluster = 3\n"
          ]
        },
        {
          "data": {
            "text/html": [],
            "text/plain": [
              "<IPython.core.display.HTML object>"
            ]
          },
          "metadata": {},
          "output_type": "display_data"
        },
        {
          "data": {
            "text/html": [
              "<style type=\"text/css\">\n",
              "</style>\n",
              "<table id=\"T_24158\" class=\"dataframe\">\n",
              "  <thead>\n",
              "    <tr>\n",
              "      <th class=\"blank level0\" >&nbsp;</th>\n",
              "      <th id=\"T_24158_level0_col0\" class=\"col_heading level0 col0\" >Silhouette</th>\n",
              "      <th id=\"T_24158_level0_col1\" class=\"col_heading level0 col1\" >Calinski-Harabasz</th>\n",
              "      <th id=\"T_24158_level0_col2\" class=\"col_heading level0 col2\" >Davies-Bouldin</th>\n",
              "      <th id=\"T_24158_level0_col3\" class=\"col_heading level0 col3\" >Homogeneity</th>\n",
              "      <th id=\"T_24158_level0_col4\" class=\"col_heading level0 col4\" >Rand Index</th>\n",
              "      <th id=\"T_24158_level0_col5\" class=\"col_heading level0 col5\" >Completeness</th>\n",
              "    </tr>\n",
              "  </thead>\n",
              "  <tbody>\n",
              "    <tr>\n",
              "      <th id=\"T_24158_level0_row0\" class=\"row_heading level0 row0\" >0</th>\n",
              "      <td id=\"T_24158_row0_col0\" class=\"data row0 col0\" >0.1499</td>\n",
              "      <td id=\"T_24158_row0_col1\" class=\"data row0 col1\" >307.9369</td>\n",
              "      <td id=\"T_24158_row0_col2\" class=\"data row0 col2\" >1.9013</td>\n",
              "      <td id=\"T_24158_row0_col3\" class=\"data row0 col3\" >0</td>\n",
              "      <td id=\"T_24158_row0_col4\" class=\"data row0 col4\" >0</td>\n",
              "      <td id=\"T_24158_row0_col5\" class=\"data row0 col5\" >0</td>\n",
              "    </tr>\n",
              "  </tbody>\n",
              "</table>\n"
            ],
            "text/plain": [
              "<pandas.io.formats.style.Styler at 0x7f92856b9a50>"
            ]
          },
          "metadata": {},
          "output_type": "display_data"
        },
        {
          "data": {
            "application/vnd.jupyter.widget-view+json": {
              "model_id": "045a2383e7714ca8a08211c94bc395c3",
              "version_major": 2,
              "version_minor": 0
            },
            "text/plain": [
              "Processing:   0%|          | 0/3 [00:00<?, ?it/s]"
            ]
          },
          "metadata": {
            "application/vnd.jupyter.widget-view+json": {
              "colab": {
                "custom_widget_manager": {
                  "url": "https://ssl.gstatic.com/colaboratory-static/widgets/colab-cdn-widget-manager/2b70e893a8ba7c0f/manager.min.js"
                }
              }
            }
          },
          "output_type": "display_data"
        },
        {
          "data": {
            "text/html": [],
            "text/plain": [
              "<IPython.core.display.HTML object>"
            ]
          },
          "metadata": {},
          "output_type": "display_data"
        },
        {
          "name": "stdout",
          "output_type": "stream",
          "text": [
            "For Cluster = 4\n"
          ]
        },
        {
          "data": {
            "text/html": [],
            "text/plain": [
              "<IPython.core.display.HTML object>"
            ]
          },
          "metadata": {},
          "output_type": "display_data"
        },
        {
          "data": {
            "text/html": [
              "<style type=\"text/css\">\n",
              "</style>\n",
              "<table id=\"T_d1eb9\" class=\"dataframe\">\n",
              "  <thead>\n",
              "    <tr>\n",
              "      <th class=\"blank level0\" >&nbsp;</th>\n",
              "      <th id=\"T_d1eb9_level0_col0\" class=\"col_heading level0 col0\" >Silhouette</th>\n",
              "      <th id=\"T_d1eb9_level0_col1\" class=\"col_heading level0 col1\" >Calinski-Harabasz</th>\n",
              "      <th id=\"T_d1eb9_level0_col2\" class=\"col_heading level0 col2\" >Davies-Bouldin</th>\n",
              "      <th id=\"T_d1eb9_level0_col3\" class=\"col_heading level0 col3\" >Homogeneity</th>\n",
              "      <th id=\"T_d1eb9_level0_col4\" class=\"col_heading level0 col4\" >Rand Index</th>\n",
              "      <th id=\"T_d1eb9_level0_col5\" class=\"col_heading level0 col5\" >Completeness</th>\n",
              "    </tr>\n",
              "  </thead>\n",
              "  <tbody>\n",
              "    <tr>\n",
              "      <th id=\"T_d1eb9_level0_row0\" class=\"row_heading level0 row0\" >0</th>\n",
              "      <td id=\"T_d1eb9_row0_col0\" class=\"data row0 col0\" >0.1483</td>\n",
              "      <td id=\"T_d1eb9_row0_col1\" class=\"data row0 col1\" >278.9945</td>\n",
              "      <td id=\"T_d1eb9_row0_col2\" class=\"data row0 col2\" >1.7957</td>\n",
              "      <td id=\"T_d1eb9_row0_col3\" class=\"data row0 col3\" >0</td>\n",
              "      <td id=\"T_d1eb9_row0_col4\" class=\"data row0 col4\" >0</td>\n",
              "      <td id=\"T_d1eb9_row0_col5\" class=\"data row0 col5\" >0</td>\n",
              "    </tr>\n",
              "  </tbody>\n",
              "</table>\n"
            ],
            "text/plain": [
              "<pandas.io.formats.style.Styler at 0x7f94109e66d0>"
            ]
          },
          "metadata": {},
          "output_type": "display_data"
        },
        {
          "data": {
            "application/vnd.jupyter.widget-view+json": {
              "model_id": "099de448c4404e0a81742660d9520ff1",
              "version_major": 2,
              "version_minor": 0
            },
            "text/plain": [
              "Processing:   0%|          | 0/3 [00:00<?, ?it/s]"
            ]
          },
          "metadata": {
            "application/vnd.jupyter.widget-view+json": {
              "colab": {
                "custom_widget_manager": {
                  "url": "https://ssl.gstatic.com/colaboratory-static/widgets/colab-cdn-widget-manager/2b70e893a8ba7c0f/manager.min.js"
                }
              }
            }
          },
          "output_type": "display_data"
        },
        {
          "data": {
            "text/html": [],
            "text/plain": [
              "<IPython.core.display.HTML object>"
            ]
          },
          "metadata": {},
          "output_type": "display_data"
        },
        {
          "name": "stdout",
          "output_type": "stream",
          "text": [
            "For Cluster = 5\n"
          ]
        },
        {
          "data": {
            "text/html": [],
            "text/plain": [
              "<IPython.core.display.HTML object>"
            ]
          },
          "metadata": {},
          "output_type": "display_data"
        },
        {
          "data": {
            "text/html": [
              "<style type=\"text/css\">\n",
              "</style>\n",
              "<table id=\"T_3f127\" class=\"dataframe\">\n",
              "  <thead>\n",
              "    <tr>\n",
              "      <th class=\"blank level0\" >&nbsp;</th>\n",
              "      <th id=\"T_3f127_level0_col0\" class=\"col_heading level0 col0\" >Silhouette</th>\n",
              "      <th id=\"T_3f127_level0_col1\" class=\"col_heading level0 col1\" >Calinski-Harabasz</th>\n",
              "      <th id=\"T_3f127_level0_col2\" class=\"col_heading level0 col2\" >Davies-Bouldin</th>\n",
              "      <th id=\"T_3f127_level0_col3\" class=\"col_heading level0 col3\" >Homogeneity</th>\n",
              "      <th id=\"T_3f127_level0_col4\" class=\"col_heading level0 col4\" >Rand Index</th>\n",
              "      <th id=\"T_3f127_level0_col5\" class=\"col_heading level0 col5\" >Completeness</th>\n",
              "    </tr>\n",
              "  </thead>\n",
              "  <tbody>\n",
              "    <tr>\n",
              "      <th id=\"T_3f127_level0_row0\" class=\"row_heading level0 row0\" >0</th>\n",
              "      <td id=\"T_3f127_row0_col0\" class=\"data row0 col0\" >0.1458</td>\n",
              "      <td id=\"T_3f127_row0_col1\" class=\"data row0 col1\" >237.6599</td>\n",
              "      <td id=\"T_3f127_row0_col2\" class=\"data row0 col2\" >1.7934</td>\n",
              "      <td id=\"T_3f127_row0_col3\" class=\"data row0 col3\" >0</td>\n",
              "      <td id=\"T_3f127_row0_col4\" class=\"data row0 col4\" >0</td>\n",
              "      <td id=\"T_3f127_row0_col5\" class=\"data row0 col5\" >0</td>\n",
              "    </tr>\n",
              "  </tbody>\n",
              "</table>\n"
            ],
            "text/plain": [
              "<pandas.io.formats.style.Styler at 0x7f92856cb190>"
            ]
          },
          "metadata": {},
          "output_type": "display_data"
        },
        {
          "data": {
            "application/vnd.jupyter.widget-view+json": {
              "model_id": "96fcb2d629d7483f8c4bcb1e94141a57",
              "version_major": 2,
              "version_minor": 0
            },
            "text/plain": [
              "Processing:   0%|          | 0/3 [00:00<?, ?it/s]"
            ]
          },
          "metadata": {
            "application/vnd.jupyter.widget-view+json": {
              "colab": {
                "custom_widget_manager": {
                  "url": "https://ssl.gstatic.com/colaboratory-static/widgets/colab-cdn-widget-manager/2b70e893a8ba7c0f/manager.min.js"
                }
              }
            }
          },
          "output_type": "display_data"
        },
        {
          "data": {
            "text/html": [],
            "text/plain": [
              "<IPython.core.display.HTML object>"
            ]
          },
          "metadata": {},
          "output_type": "display_data"
        },
        {
          "name": "stdout",
          "output_type": "stream",
          "text": [
            "For Cluster = 6\n"
          ]
        },
        {
          "data": {
            "text/html": [],
            "text/plain": [
              "<IPython.core.display.HTML object>"
            ]
          },
          "metadata": {},
          "output_type": "display_data"
        },
        {
          "data": {
            "text/html": [
              "<style type=\"text/css\">\n",
              "</style>\n",
              "<table id=\"T_3a539\" class=\"dataframe\">\n",
              "  <thead>\n",
              "    <tr>\n",
              "      <th class=\"blank level0\" >&nbsp;</th>\n",
              "      <th id=\"T_3a539_level0_col0\" class=\"col_heading level0 col0\" >Silhouette</th>\n",
              "      <th id=\"T_3a539_level0_col1\" class=\"col_heading level0 col1\" >Calinski-Harabasz</th>\n",
              "      <th id=\"T_3a539_level0_col2\" class=\"col_heading level0 col2\" >Davies-Bouldin</th>\n",
              "      <th id=\"T_3a539_level0_col3\" class=\"col_heading level0 col3\" >Homogeneity</th>\n",
              "      <th id=\"T_3a539_level0_col4\" class=\"col_heading level0 col4\" >Rand Index</th>\n",
              "      <th id=\"T_3a539_level0_col5\" class=\"col_heading level0 col5\" >Completeness</th>\n",
              "    </tr>\n",
              "  </thead>\n",
              "  <tbody>\n",
              "    <tr>\n",
              "      <th id=\"T_3a539_level0_row0\" class=\"row_heading level0 row0\" >0</th>\n",
              "      <td id=\"T_3a539_row0_col0\" class=\"data row0 col0\" >0.1483</td>\n",
              "      <td id=\"T_3a539_row0_col1\" class=\"data row0 col1\" >227.2473</td>\n",
              "      <td id=\"T_3a539_row0_col2\" class=\"data row0 col2\" >1.8142</td>\n",
              "      <td id=\"T_3a539_row0_col3\" class=\"data row0 col3\" >0</td>\n",
              "      <td id=\"T_3a539_row0_col4\" class=\"data row0 col4\" >0</td>\n",
              "      <td id=\"T_3a539_row0_col5\" class=\"data row0 col5\" >0</td>\n",
              "    </tr>\n",
              "  </tbody>\n",
              "</table>\n"
            ],
            "text/plain": [
              "<pandas.io.formats.style.Styler at 0x7f9283d0f190>"
            ]
          },
          "metadata": {},
          "output_type": "display_data"
        },
        {
          "data": {
            "application/vnd.jupyter.widget-view+json": {
              "model_id": "11df2f1c6f0d4f48ad9244bacbb4ca92",
              "version_major": 2,
              "version_minor": 0
            },
            "text/plain": [
              "Processing:   0%|          | 0/3 [00:00<?, ?it/s]"
            ]
          },
          "metadata": {
            "application/vnd.jupyter.widget-view+json": {
              "colab": {
                "custom_widget_manager": {
                  "url": "https://ssl.gstatic.com/colaboratory-static/widgets/colab-cdn-widget-manager/2b70e893a8ba7c0f/manager.min.js"
                }
              }
            }
          },
          "output_type": "display_data"
        },
        {
          "data": {
            "text/html": [],
            "text/plain": [
              "<IPython.core.display.HTML object>"
            ]
          },
          "metadata": {},
          "output_type": "display_data"
        }
      ],
      "source": [
        "setup(data = myDataSet, transformation = True, normalize = True, pca = True,\n",
        "      normalize_method = 'zscore',\n",
        "      transformation_method = 'yeo-johnson',\n",
        "      pca_method = 'linear', verbose=False)\n",
        "\n",
        "print(\"For Cluster = 3\")\n",
        "x = create_model('kmeans', num_clusters = 3)\n",
        "\n",
        "print(\"For Cluster = 4\")\n",
        "x = create_model('kmeans', num_clusters = 4)\n",
        "\n",
        "print(\"For Cluster = 5\")\n",
        "x = create_model('kmeans', num_clusters = 5)\n",
        "\n",
        "print(\"For Cluster = 6\")\n",
        "x = create_model('kmeans', num_clusters = 6)"
      ]
    },
    {
      "cell_type": "markdown",
      "metadata": {
        "id": "NPZElw5tb3JD"
      },
      "source": [
        "---\n",
        "# **7. Other Clustering Techniques**\n",
        "---\n",
        "```\n",
        "1. K-Means clustering                 'kmeans'\n",
        "2. Affinity Propagation               'ap'\n",
        "3. Mean shift clustering              'meanshift'\n",
        "4. Spectral Clustering                'sc'\n",
        "5. Agglomerative Clustering           'hclust'\n",
        "6. Density-Based Spatial Clustering   'dbscan'\n",
        "7. OPTICS Clustering                  'optics'\n",
        "8. Birch Clustering                   'birch'\n",
        "9. K-Modes clustering                 'kmodes'\n",
        "```"
      ]
    },
    {
      "cell_type": "markdown",
      "metadata": {
        "id": "PnyhyJ3WXIQH"
      },
      "source": [
        "---\n",
        "### **7.1.1 Assign Model - \"Assign the labels\" to the dataset**\n",
        "---\n",
        "\n"
      ]
    },
    {
      "cell_type": "code",
      "execution_count": null,
      "metadata": {
        "colab": {
          "base_uri": "https://localhost:8080/",
          "height": 522,
          "referenced_widgets": [
            "bb0c5482a3284b37a2c45d7751bed859",
            "9624a25f282a40818c8893309fa29e78",
            "68b340732dd248dd840a39cbbb6b7579",
            "977ad99fe3d34943a4df630c0b0c09d1",
            "6bf17b1b7a7649f79da3dc4a0937560d",
            "a0078812eb17410c83b1393c416c48cb",
            "0f339f8b33d1422abf72abbc27060282",
            "dadb6059e9a84779989872174698fc54",
            "e79fbeea4dd24753925994fb6c5251fc",
            "81913e3f06874ef8ae840773c08520fb",
            "0dbc4a6ec5ab47b8873f2079415907c5"
          ]
        },
        "id": "k1jLCA6bXRRi",
        "outputId": "6d4bfaba-8375-4e75-c963-8266e997f3ab"
      },
      "outputs": [
        {
          "data": {
            "text/html": [],
            "text/plain": [
              "<IPython.core.display.HTML object>"
            ]
          },
          "metadata": {},
          "output_type": "display_data"
        },
        {
          "data": {
            "text/html": [
              "<style type=\"text/css\">\n",
              "</style>\n",
              "<table id=\"T_e321f\" class=\"dataframe\">\n",
              "  <thead>\n",
              "    <tr>\n",
              "      <th class=\"blank level0\" >&nbsp;</th>\n",
              "      <th id=\"T_e321f_level0_col0\" class=\"col_heading level0 col0\" >Silhouette</th>\n",
              "      <th id=\"T_e321f_level0_col1\" class=\"col_heading level0 col1\" >Calinski-Harabasz</th>\n",
              "      <th id=\"T_e321f_level0_col2\" class=\"col_heading level0 col2\" >Davies-Bouldin</th>\n",
              "      <th id=\"T_e321f_level0_col3\" class=\"col_heading level0 col3\" >Homogeneity</th>\n",
              "      <th id=\"T_e321f_level0_col4\" class=\"col_heading level0 col4\" >Rand Index</th>\n",
              "      <th id=\"T_e321f_level0_col5\" class=\"col_heading level0 col5\" >Completeness</th>\n",
              "    </tr>\n",
              "  </thead>\n",
              "  <tbody>\n",
              "    <tr>\n",
              "      <th id=\"T_e321f_level0_row0\" class=\"row_heading level0 row0\" >0</th>\n",
              "      <td id=\"T_e321f_row0_col0\" class=\"data row0 col0\" >0.1247</td>\n",
              "      <td id=\"T_e321f_row0_col1\" class=\"data row0 col1\" >250.2404</td>\n",
              "      <td id=\"T_e321f_row0_col2\" class=\"data row0 col2\" >1.9943</td>\n",
              "      <td id=\"T_e321f_row0_col3\" class=\"data row0 col3\" >0</td>\n",
              "      <td id=\"T_e321f_row0_col4\" class=\"data row0 col4\" >0</td>\n",
              "      <td id=\"T_e321f_row0_col5\" class=\"data row0 col5\" >0</td>\n",
              "    </tr>\n",
              "  </tbody>\n",
              "</table>\n"
            ],
            "text/plain": [
              "<pandas.io.formats.style.Styler at 0x7f92856c9910>"
            ]
          },
          "metadata": {},
          "output_type": "display_data"
        },
        {
          "data": {
            "application/vnd.jupyter.widget-view+json": {
              "model_id": "bb0c5482a3284b37a2c45d7751bed859",
              "version_major": 2,
              "version_minor": 0
            },
            "text/plain": [
              "Processing:   0%|          | 0/3 [00:00<?, ?it/s]"
            ]
          },
          "metadata": {
            "application/vnd.jupyter.widget-view+json": {
              "colab": {
                "custom_widget_manager": {
                  "url": "https://ssl.gstatic.com/colaboratory-static/widgets/colab-cdn-widget-manager/2b70e893a8ba7c0f/manager.min.js"
                }
              }
            }
          },
          "output_type": "display_data"
        },
        {
          "data": {
            "text/html": [],
            "text/plain": [
              "<IPython.core.display.HTML object>"
            ]
          },
          "metadata": {},
          "output_type": "display_data"
        },
        {
          "data": {
            "application/vnd.google.colaboratory.intrinsic+json": {
              "summary": "{\n  \"name\": \"hierarchicalModelPrediction\",\n  \"rows\": 1599,\n  \"fields\": [\n    {\n      \"column\": \"fixed acidity\",\n      \"properties\": {\n        \"dtype\": \"float32\",\n        \"num_unique_values\": 96,\n        \"samples\": [\n          5.300000190734863,\n          12.699999809265137,\n          12.600000381469727\n        ],\n        \"semantic_type\": \"\",\n        \"description\": \"\"\n      }\n    },\n    {\n      \"column\": \"volatile acidity\",\n      \"properties\": {\n        \"dtype\": \"float32\",\n        \"num_unique_values\": 143,\n        \"samples\": [\n          1.024999976158142,\n          0.4000000059604645,\n          0.8700000047683716\n        ],\n        \"semantic_type\": \"\",\n        \"description\": \"\"\n      }\n    },\n    {\n      \"column\": \"citric acid\",\n      \"properties\": {\n        \"dtype\": \"float32\",\n        \"num_unique_values\": 80,\n        \"samples\": [\n          0.3700000047683716,\n          0.0,\n          0.09000000357627869\n        ],\n        \"semantic_type\": \"\",\n        \"description\": \"\"\n      }\n    },\n    {\n      \"column\": \"residual sugar\",\n      \"properties\": {\n        \"dtype\": \"float32\",\n        \"num_unique_values\": 91,\n        \"samples\": [\n          11.0,\n          3.0,\n          15.5\n        ],\n        \"semantic_type\": \"\",\n        \"description\": \"\"\n      }\n    },\n    {\n      \"column\": \"chlorides\",\n      \"properties\": {\n        \"dtype\": \"float32\",\n        \"num_unique_values\": 153,\n        \"samples\": [\n          0.09600000083446503,\n          0.34299999475479126,\n          0.1589999943971634\n        ],\n        \"semantic_type\": \"\",\n        \"description\": \"\"\n      }\n    },\n    {\n      \"column\": \"free sulfur dioxide\",\n      \"properties\": {\n        \"dtype\": \"float32\",\n        \"num_unique_values\": 60,\n        \"samples\": [\n          11.0,\n          9.0,\n          32.0\n        ],\n        \"semantic_type\": \"\",\n        \"description\": \"\"\n      }\n    },\n    {\n      \"column\": \"total sulfur dioxide\",\n      \"properties\": {\n        \"dtype\": \"float32\",\n        \"num_unique_values\": 144,\n        \"samples\": [\n          68.0,\n          35.0,\n          101.0\n        ],\n        \"semantic_type\": \"\",\n        \"description\": \"\"\n      }\n    },\n    {\n      \"column\": \"density\",\n      \"properties\": {\n        \"dtype\": \"float32\",\n        \"num_unique_values\": 436,\n        \"samples\": [\n          0.9997400045394897,\n          1.000100016593933,\n          0.9947100281715393\n        ],\n        \"semantic_type\": \"\",\n        \"description\": \"\"\n      }\n    },\n    {\n      \"column\": \"pH\",\n      \"properties\": {\n        \"dtype\": \"float32\",\n        \"num_unique_values\": 89,\n        \"samples\": [\n          3.069999933242798,\n          3.0,\n          3.1500000953674316\n        ],\n        \"semantic_type\": \"\",\n        \"description\": \"\"\n      }\n    },\n    {\n      \"column\": \"sulphates\",\n      \"properties\": {\n        \"dtype\": \"float32\",\n        \"num_unique_values\": 96,\n        \"samples\": [\n          1.0700000524520874,\n          1.0399999618530273,\n          1.1799999475479126\n        ],\n        \"semantic_type\": \"\",\n        \"description\": \"\"\n      }\n    },\n    {\n      \"column\": \"alcohol\",\n      \"properties\": {\n        \"dtype\": \"float32\",\n        \"num_unique_values\": 65,\n        \"samples\": [\n          8.5,\n          9.949999809265137,\n          9.399999618530273\n        ],\n        \"semantic_type\": \"\",\n        \"description\": \"\"\n      }\n    },\n    {\n      \"column\": \"quality\",\n      \"properties\": {\n        \"dtype\": \"int8\",\n        \"num_unique_values\": 6,\n        \"samples\": [\n          5,\n          6,\n          3\n        ],\n        \"semantic_type\": \"\",\n        \"description\": \"\"\n      }\n    },\n    {\n      \"column\": \"Cluster\",\n      \"properties\": {\n        \"dtype\": \"category\",\n        \"num_unique_values\": 3,\n        \"samples\": [\n          \"Cluster 0\",\n          \"Cluster 2\",\n          \"Cluster 1\"\n        ],\n        \"semantic_type\": \"\",\n        \"description\": \"\"\n      }\n    }\n  ]\n}",
              "type": "dataframe",
              "variable_name": "hierarchicalModelPrediction"
            },
            "text/html": [
              "\n",
              "  <div id=\"df-010736b8-65be-4ec7-971c-5509e1ef45ef\" class=\"colab-df-container\">\n",
              "    <div>\n",
              "<style scoped>\n",
              "    .dataframe tbody tr th:only-of-type {\n",
              "        vertical-align: middle;\n",
              "    }\n",
              "\n",
              "    .dataframe tbody tr th {\n",
              "        vertical-align: top;\n",
              "    }\n",
              "\n",
              "    .dataframe thead th {\n",
              "        text-align: right;\n",
              "    }\n",
              "</style>\n",
              "<table border=\"1\" class=\"dataframe\">\n",
              "  <thead>\n",
              "    <tr style=\"text-align: right;\">\n",
              "      <th></th>\n",
              "      <th>fixed acidity</th>\n",
              "      <th>volatile acidity</th>\n",
              "      <th>citric acid</th>\n",
              "      <th>residual sugar</th>\n",
              "      <th>chlorides</th>\n",
              "      <th>free sulfur dioxide</th>\n",
              "      <th>total sulfur dioxide</th>\n",
              "      <th>density</th>\n",
              "      <th>pH</th>\n",
              "      <th>sulphates</th>\n",
              "      <th>alcohol</th>\n",
              "      <th>quality</th>\n",
              "      <th>Cluster</th>\n",
              "    </tr>\n",
              "  </thead>\n",
              "  <tbody>\n",
              "    <tr>\n",
              "      <th>0</th>\n",
              "      <td>7.4</td>\n",
              "      <td>0.700</td>\n",
              "      <td>0.00</td>\n",
              "      <td>1.9</td>\n",
              "      <td>0.076</td>\n",
              "      <td>11.0</td>\n",
              "      <td>34.0</td>\n",
              "      <td>0.99780</td>\n",
              "      <td>3.51</td>\n",
              "      <td>0.56</td>\n",
              "      <td>9.4</td>\n",
              "      <td>5</td>\n",
              "      <td>Cluster 0</td>\n",
              "    </tr>\n",
              "    <tr>\n",
              "      <th>1</th>\n",
              "      <td>7.8</td>\n",
              "      <td>0.880</td>\n",
              "      <td>0.00</td>\n",
              "      <td>2.6</td>\n",
              "      <td>0.098</td>\n",
              "      <td>25.0</td>\n",
              "      <td>67.0</td>\n",
              "      <td>0.99680</td>\n",
              "      <td>3.20</td>\n",
              "      <td>0.68</td>\n",
              "      <td>9.8</td>\n",
              "      <td>5</td>\n",
              "      <td>Cluster 0</td>\n",
              "    </tr>\n",
              "    <tr>\n",
              "      <th>2</th>\n",
              "      <td>7.8</td>\n",
              "      <td>0.760</td>\n",
              "      <td>0.04</td>\n",
              "      <td>2.3</td>\n",
              "      <td>0.092</td>\n",
              "      <td>15.0</td>\n",
              "      <td>54.0</td>\n",
              "      <td>0.99700</td>\n",
              "      <td>3.26</td>\n",
              "      <td>0.65</td>\n",
              "      <td>9.8</td>\n",
              "      <td>5</td>\n",
              "      <td>Cluster 0</td>\n",
              "    </tr>\n",
              "    <tr>\n",
              "      <th>3</th>\n",
              "      <td>11.2</td>\n",
              "      <td>0.280</td>\n",
              "      <td>0.56</td>\n",
              "      <td>1.9</td>\n",
              "      <td>0.075</td>\n",
              "      <td>17.0</td>\n",
              "      <td>60.0</td>\n",
              "      <td>0.99800</td>\n",
              "      <td>3.16</td>\n",
              "      <td>0.58</td>\n",
              "      <td>9.8</td>\n",
              "      <td>6</td>\n",
              "      <td>Cluster 2</td>\n",
              "    </tr>\n",
              "    <tr>\n",
              "      <th>4</th>\n",
              "      <td>7.4</td>\n",
              "      <td>0.700</td>\n",
              "      <td>0.00</td>\n",
              "      <td>1.9</td>\n",
              "      <td>0.076</td>\n",
              "      <td>11.0</td>\n",
              "      <td>34.0</td>\n",
              "      <td>0.99780</td>\n",
              "      <td>3.51</td>\n",
              "      <td>0.56</td>\n",
              "      <td>9.4</td>\n",
              "      <td>5</td>\n",
              "      <td>Cluster 0</td>\n",
              "    </tr>\n",
              "    <tr>\n",
              "      <th>...</th>\n",
              "      <td>...</td>\n",
              "      <td>...</td>\n",
              "      <td>...</td>\n",
              "      <td>...</td>\n",
              "      <td>...</td>\n",
              "      <td>...</td>\n",
              "      <td>...</td>\n",
              "      <td>...</td>\n",
              "      <td>...</td>\n",
              "      <td>...</td>\n",
              "      <td>...</td>\n",
              "      <td>...</td>\n",
              "      <td>...</td>\n",
              "    </tr>\n",
              "    <tr>\n",
              "      <th>1594</th>\n",
              "      <td>6.2</td>\n",
              "      <td>0.600</td>\n",
              "      <td>0.08</td>\n",
              "      <td>2.0</td>\n",
              "      <td>0.090</td>\n",
              "      <td>32.0</td>\n",
              "      <td>44.0</td>\n",
              "      <td>0.99490</td>\n",
              "      <td>3.45</td>\n",
              "      <td>0.58</td>\n",
              "      <td>10.5</td>\n",
              "      <td>5</td>\n",
              "      <td>Cluster 0</td>\n",
              "    </tr>\n",
              "    <tr>\n",
              "      <th>1595</th>\n",
              "      <td>5.9</td>\n",
              "      <td>0.550</td>\n",
              "      <td>0.10</td>\n",
              "      <td>2.2</td>\n",
              "      <td>0.062</td>\n",
              "      <td>39.0</td>\n",
              "      <td>51.0</td>\n",
              "      <td>0.99512</td>\n",
              "      <td>3.52</td>\n",
              "      <td>0.76</td>\n",
              "      <td>11.2</td>\n",
              "      <td>6</td>\n",
              "      <td>Cluster 0</td>\n",
              "    </tr>\n",
              "    <tr>\n",
              "      <th>1596</th>\n",
              "      <td>6.3</td>\n",
              "      <td>0.510</td>\n",
              "      <td>0.13</td>\n",
              "      <td>2.3</td>\n",
              "      <td>0.076</td>\n",
              "      <td>29.0</td>\n",
              "      <td>40.0</td>\n",
              "      <td>0.99574</td>\n",
              "      <td>3.42</td>\n",
              "      <td>0.75</td>\n",
              "      <td>11.0</td>\n",
              "      <td>6</td>\n",
              "      <td>Cluster 0</td>\n",
              "    </tr>\n",
              "    <tr>\n",
              "      <th>1597</th>\n",
              "      <td>5.9</td>\n",
              "      <td>0.645</td>\n",
              "      <td>0.12</td>\n",
              "      <td>2.0</td>\n",
              "      <td>0.075</td>\n",
              "      <td>32.0</td>\n",
              "      <td>44.0</td>\n",
              "      <td>0.99547</td>\n",
              "      <td>3.57</td>\n",
              "      <td>0.71</td>\n",
              "      <td>10.2</td>\n",
              "      <td>5</td>\n",
              "      <td>Cluster 0</td>\n",
              "    </tr>\n",
              "    <tr>\n",
              "      <th>1598</th>\n",
              "      <td>6.0</td>\n",
              "      <td>0.310</td>\n",
              "      <td>0.47</td>\n",
              "      <td>3.6</td>\n",
              "      <td>0.067</td>\n",
              "      <td>18.0</td>\n",
              "      <td>42.0</td>\n",
              "      <td>0.99549</td>\n",
              "      <td>3.39</td>\n",
              "      <td>0.66</td>\n",
              "      <td>11.0</td>\n",
              "      <td>6</td>\n",
              "      <td>Cluster 1</td>\n",
              "    </tr>\n",
              "  </tbody>\n",
              "</table>\n",
              "<p>1599 rows × 13 columns</p>\n",
              "</div>\n",
              "    <div class=\"colab-df-buttons\">\n",
              "\n",
              "  <div class=\"colab-df-container\">\n",
              "    <button class=\"colab-df-convert\" onclick=\"convertToInteractive('df-010736b8-65be-4ec7-971c-5509e1ef45ef')\"\n",
              "            title=\"Convert this dataframe to an interactive table.\"\n",
              "            style=\"display:none;\">\n",
              "\n",
              "  <svg xmlns=\"http://www.w3.org/2000/svg\" height=\"24px\" viewBox=\"0 -960 960 960\">\n",
              "    <path d=\"M120-120v-720h720v720H120Zm60-500h600v-160H180v160Zm220 220h160v-160H400v160Zm0 220h160v-160H400v160ZM180-400h160v-160H180v160Zm440 0h160v-160H620v160ZM180-180h160v-160H180v160Zm440 0h160v-160H620v160Z\"/>\n",
              "  </svg>\n",
              "    </button>\n",
              "\n",
              "  <style>\n",
              "    .colab-df-container {\n",
              "      display:flex;\n",
              "      gap: 12px;\n",
              "    }\n",
              "\n",
              "    .colab-df-convert {\n",
              "      background-color: #E8F0FE;\n",
              "      border: none;\n",
              "      border-radius: 50%;\n",
              "      cursor: pointer;\n",
              "      display: none;\n",
              "      fill: #1967D2;\n",
              "      height: 32px;\n",
              "      padding: 0 0 0 0;\n",
              "      width: 32px;\n",
              "    }\n",
              "\n",
              "    .colab-df-convert:hover {\n",
              "      background-color: #E2EBFA;\n",
              "      box-shadow: 0px 1px 2px rgba(60, 64, 67, 0.3), 0px 1px 3px 1px rgba(60, 64, 67, 0.15);\n",
              "      fill: #174EA6;\n",
              "    }\n",
              "\n",
              "    .colab-df-buttons div {\n",
              "      margin-bottom: 4px;\n",
              "    }\n",
              "\n",
              "    [theme=dark] .colab-df-convert {\n",
              "      background-color: #3B4455;\n",
              "      fill: #D2E3FC;\n",
              "    }\n",
              "\n",
              "    [theme=dark] .colab-df-convert:hover {\n",
              "      background-color: #434B5C;\n",
              "      box-shadow: 0px 1px 3px 1px rgba(0, 0, 0, 0.15);\n",
              "      filter: drop-shadow(0px 1px 2px rgba(0, 0, 0, 0.3));\n",
              "      fill: #FFFFFF;\n",
              "    }\n",
              "  </style>\n",
              "\n",
              "    <script>\n",
              "      const buttonEl =\n",
              "        document.querySelector('#df-010736b8-65be-4ec7-971c-5509e1ef45ef button.colab-df-convert');\n",
              "      buttonEl.style.display =\n",
              "        google.colab.kernel.accessAllowed ? 'block' : 'none';\n",
              "\n",
              "      async function convertToInteractive(key) {\n",
              "        const element = document.querySelector('#df-010736b8-65be-4ec7-971c-5509e1ef45ef');\n",
              "        const dataTable =\n",
              "          await google.colab.kernel.invokeFunction('convertToInteractive',\n",
              "                                                    [key], {});\n",
              "        if (!dataTable) return;\n",
              "\n",
              "        const docLinkHtml = 'Like what you see? Visit the ' +\n",
              "          '<a target=\"_blank\" href=https://colab.research.google.com/notebooks/data_table.ipynb>data table notebook</a>'\n",
              "          + ' to learn more about interactive tables.';\n",
              "        element.innerHTML = '';\n",
              "        dataTable['output_type'] = 'display_data';\n",
              "        await google.colab.output.renderOutput(dataTable, element);\n",
              "        const docLink = document.createElement('div');\n",
              "        docLink.innerHTML = docLinkHtml;\n",
              "        element.appendChild(docLink);\n",
              "      }\n",
              "    </script>\n",
              "  </div>\n",
              "\n",
              "\n",
              "<div id=\"df-b77c32e9-ed3c-4fe6-8b72-1f89104048d8\">\n",
              "  <button class=\"colab-df-quickchart\" onclick=\"quickchart('df-b77c32e9-ed3c-4fe6-8b72-1f89104048d8')\"\n",
              "            title=\"Suggest charts\"\n",
              "            style=\"display:none;\">\n",
              "\n",
              "<svg xmlns=\"http://www.w3.org/2000/svg\" height=\"24px\"viewBox=\"0 0 24 24\"\n",
              "     width=\"24px\">\n",
              "    <g>\n",
              "        <path d=\"M19 3H5c-1.1 0-2 .9-2 2v14c0 1.1.9 2 2 2h14c1.1 0 2-.9 2-2V5c0-1.1-.9-2-2-2zM9 17H7v-7h2v7zm4 0h-2V7h2v10zm4 0h-2v-4h2v4z\"/>\n",
              "    </g>\n",
              "</svg>\n",
              "  </button>\n",
              "\n",
              "<style>\n",
              "  .colab-df-quickchart {\n",
              "      --bg-color: #E8F0FE;\n",
              "      --fill-color: #1967D2;\n",
              "      --hover-bg-color: #E2EBFA;\n",
              "      --hover-fill-color: #174EA6;\n",
              "      --disabled-fill-color: #AAA;\n",
              "      --disabled-bg-color: #DDD;\n",
              "  }\n",
              "\n",
              "  [theme=dark] .colab-df-quickchart {\n",
              "      --bg-color: #3B4455;\n",
              "      --fill-color: #D2E3FC;\n",
              "      --hover-bg-color: #434B5C;\n",
              "      --hover-fill-color: #FFFFFF;\n",
              "      --disabled-bg-color: #3B4455;\n",
              "      --disabled-fill-color: #666;\n",
              "  }\n",
              "\n",
              "  .colab-df-quickchart {\n",
              "    background-color: var(--bg-color);\n",
              "    border: none;\n",
              "    border-radius: 50%;\n",
              "    cursor: pointer;\n",
              "    display: none;\n",
              "    fill: var(--fill-color);\n",
              "    height: 32px;\n",
              "    padding: 0;\n",
              "    width: 32px;\n",
              "  }\n",
              "\n",
              "  .colab-df-quickchart:hover {\n",
              "    background-color: var(--hover-bg-color);\n",
              "    box-shadow: 0 1px 2px rgba(60, 64, 67, 0.3), 0 1px 3px 1px rgba(60, 64, 67, 0.15);\n",
              "    fill: var(--button-hover-fill-color);\n",
              "  }\n",
              "\n",
              "  .colab-df-quickchart-complete:disabled,\n",
              "  .colab-df-quickchart-complete:disabled:hover {\n",
              "    background-color: var(--disabled-bg-color);\n",
              "    fill: var(--disabled-fill-color);\n",
              "    box-shadow: none;\n",
              "  }\n",
              "\n",
              "  .colab-df-spinner {\n",
              "    border: 2px solid var(--fill-color);\n",
              "    border-color: transparent;\n",
              "    border-bottom-color: var(--fill-color);\n",
              "    animation:\n",
              "      spin 1s steps(1) infinite;\n",
              "  }\n",
              "\n",
              "  @keyframes spin {\n",
              "    0% {\n",
              "      border-color: transparent;\n",
              "      border-bottom-color: var(--fill-color);\n",
              "      border-left-color: var(--fill-color);\n",
              "    }\n",
              "    20% {\n",
              "      border-color: transparent;\n",
              "      border-left-color: var(--fill-color);\n",
              "      border-top-color: var(--fill-color);\n",
              "    }\n",
              "    30% {\n",
              "      border-color: transparent;\n",
              "      border-left-color: var(--fill-color);\n",
              "      border-top-color: var(--fill-color);\n",
              "      border-right-color: var(--fill-color);\n",
              "    }\n",
              "    40% {\n",
              "      border-color: transparent;\n",
              "      border-right-color: var(--fill-color);\n",
              "      border-top-color: var(--fill-color);\n",
              "    }\n",
              "    60% {\n",
              "      border-color: transparent;\n",
              "      border-right-color: var(--fill-color);\n",
              "    }\n",
              "    80% {\n",
              "      border-color: transparent;\n",
              "      border-right-color: var(--fill-color);\n",
              "      border-bottom-color: var(--fill-color);\n",
              "    }\n",
              "    90% {\n",
              "      border-color: transparent;\n",
              "      border-bottom-color: var(--fill-color);\n",
              "    }\n",
              "  }\n",
              "</style>\n",
              "\n",
              "  <script>\n",
              "    async function quickchart(key) {\n",
              "      const quickchartButtonEl =\n",
              "        document.querySelector('#' + key + ' button');\n",
              "      quickchartButtonEl.disabled = true;  // To prevent multiple clicks.\n",
              "      quickchartButtonEl.classList.add('colab-df-spinner');\n",
              "      try {\n",
              "        const charts = await google.colab.kernel.invokeFunction(\n",
              "            'suggestCharts', [key], {});\n",
              "      } catch (error) {\n",
              "        console.error('Error during call to suggestCharts:', error);\n",
              "      }\n",
              "      quickchartButtonEl.classList.remove('colab-df-spinner');\n",
              "      quickchartButtonEl.classList.add('colab-df-quickchart-complete');\n",
              "    }\n",
              "    (() => {\n",
              "      let quickchartButtonEl =\n",
              "        document.querySelector('#df-b77c32e9-ed3c-4fe6-8b72-1f89104048d8 button');\n",
              "      quickchartButtonEl.style.display =\n",
              "        google.colab.kernel.accessAllowed ? 'block' : 'none';\n",
              "    })();\n",
              "  </script>\n",
              "</div>\n",
              "\n",
              "  <div id=\"id_27e292e8-dc97-4f89-af4a-87443305538f\">\n",
              "    <style>\n",
              "      .colab-df-generate {\n",
              "        background-color: #E8F0FE;\n",
              "        border: none;\n",
              "        border-radius: 50%;\n",
              "        cursor: pointer;\n",
              "        display: none;\n",
              "        fill: #1967D2;\n",
              "        height: 32px;\n",
              "        padding: 0 0 0 0;\n",
              "        width: 32px;\n",
              "      }\n",
              "\n",
              "      .colab-df-generate:hover {\n",
              "        background-color: #E2EBFA;\n",
              "        box-shadow: 0px 1px 2px rgba(60, 64, 67, 0.3), 0px 1px 3px 1px rgba(60, 64, 67, 0.15);\n",
              "        fill: #174EA6;\n",
              "      }\n",
              "\n",
              "      [theme=dark] .colab-df-generate {\n",
              "        background-color: #3B4455;\n",
              "        fill: #D2E3FC;\n",
              "      }\n",
              "\n",
              "      [theme=dark] .colab-df-generate:hover {\n",
              "        background-color: #434B5C;\n",
              "        box-shadow: 0px 1px 3px 1px rgba(0, 0, 0, 0.15);\n",
              "        filter: drop-shadow(0px 1px 2px rgba(0, 0, 0, 0.3));\n",
              "        fill: #FFFFFF;\n",
              "      }\n",
              "    </style>\n",
              "    <button class=\"colab-df-generate\" onclick=\"generateWithVariable('hierarchicalModelPrediction')\"\n",
              "            title=\"Generate code using this dataframe.\"\n",
              "            style=\"display:none;\">\n",
              "\n",
              "  <svg xmlns=\"http://www.w3.org/2000/svg\" height=\"24px\"viewBox=\"0 0 24 24\"\n",
              "       width=\"24px\">\n",
              "    <path d=\"M7,19H8.4L18.45,9,17,7.55,7,17.6ZM5,21V16.75L18.45,3.32a2,2,0,0,1,2.83,0l1.4,1.43a1.91,1.91,0,0,1,.58,1.4,1.91,1.91,0,0,1-.58,1.4L9.25,21ZM18.45,9,17,7.55Zm-12,3A5.31,5.31,0,0,0,4.9,8.1,5.31,5.31,0,0,0,1,6.5,5.31,5.31,0,0,0,4.9,4.9,5.31,5.31,0,0,0,6.5,1,5.31,5.31,0,0,0,8.1,4.9,5.31,5.31,0,0,0,12,6.5,5.46,5.46,0,0,0,6.5,12Z\"/>\n",
              "  </svg>\n",
              "    </button>\n",
              "    <script>\n",
              "      (() => {\n",
              "      const buttonEl =\n",
              "        document.querySelector('#id_27e292e8-dc97-4f89-af4a-87443305538f button.colab-df-generate');\n",
              "      buttonEl.style.display =\n",
              "        google.colab.kernel.accessAllowed ? 'block' : 'none';\n",
              "\n",
              "      buttonEl.onclick = () => {\n",
              "        google.colab.notebook.generateWithVariable('hierarchicalModelPrediction');\n",
              "      }\n",
              "      })();\n",
              "    </script>\n",
              "  </div>\n",
              "\n",
              "    </div>\n",
              "  </div>\n"
            ],
            "text/plain": [
              "      fixed acidity  volatile acidity  citric acid  residual sugar  chlorides  \\\n",
              "0               7.4             0.700         0.00             1.9      0.076   \n",
              "1               7.8             0.880         0.00             2.6      0.098   \n",
              "2               7.8             0.760         0.04             2.3      0.092   \n",
              "3              11.2             0.280         0.56             1.9      0.075   \n",
              "4               7.4             0.700         0.00             1.9      0.076   \n",
              "...             ...               ...          ...             ...        ...   \n",
              "1594            6.2             0.600         0.08             2.0      0.090   \n",
              "1595            5.9             0.550         0.10             2.2      0.062   \n",
              "1596            6.3             0.510         0.13             2.3      0.076   \n",
              "1597            5.9             0.645         0.12             2.0      0.075   \n",
              "1598            6.0             0.310         0.47             3.6      0.067   \n",
              "\n",
              "      free sulfur dioxide  total sulfur dioxide  density    pH  sulphates  \\\n",
              "0                    11.0                  34.0  0.99780  3.51       0.56   \n",
              "1                    25.0                  67.0  0.99680  3.20       0.68   \n",
              "2                    15.0                  54.0  0.99700  3.26       0.65   \n",
              "3                    17.0                  60.0  0.99800  3.16       0.58   \n",
              "4                    11.0                  34.0  0.99780  3.51       0.56   \n",
              "...                   ...                   ...      ...   ...        ...   \n",
              "1594                 32.0                  44.0  0.99490  3.45       0.58   \n",
              "1595                 39.0                  51.0  0.99512  3.52       0.76   \n",
              "1596                 29.0                  40.0  0.99574  3.42       0.75   \n",
              "1597                 32.0                  44.0  0.99547  3.57       0.71   \n",
              "1598                 18.0                  42.0  0.99549  3.39       0.66   \n",
              "\n",
              "      alcohol  quality    Cluster  \n",
              "0         9.4        5  Cluster 0  \n",
              "1         9.8        5  Cluster 0  \n",
              "2         9.8        5  Cluster 0  \n",
              "3         9.8        6  Cluster 2  \n",
              "4         9.4        5  Cluster 0  \n",
              "...       ...      ...        ...  \n",
              "1594     10.5        5  Cluster 0  \n",
              "1595     11.2        6  Cluster 0  \n",
              "1596     11.0        6  Cluster 0  \n",
              "1597     10.2        5  Cluster 0  \n",
              "1598     11.0        6  Cluster 1  \n",
              "\n",
              "[1599 rows x 13 columns]"
            ]
          },
          "execution_count": 25,
          "metadata": {},
          "output_type": "execute_result"
        }
      ],
      "source": [
        "hierarchicalModel = create_model('hclust', num_clusters=3)\n",
        "hierarchicalModelPrediction = assign_model(hierarchicalModel)\n",
        "hierarchicalModelPrediction"
      ]
    },
    {
      "cell_type": "markdown",
      "metadata": {
        "id": "qBufXyJ6b3JF"
      },
      "source": [
        "---\n",
        "### **7.1.2 Evaluate Agglomerative (Hierarchical) Clustering**\n",
        "---"
      ]
    },
    {
      "cell_type": "code",
      "execution_count": null,
      "metadata": {
        "colab": {
          "base_uri": "https://localhost:8080/",
          "height": 129,
          "referenced_widgets": [
            "fa8b72acf46a421a830ee5d85c7323af",
            "ace384d83b3c41f6bf1a53682a23ab9c",
            "815d2254040d4e1393a3272ef8b153cd",
            "03cede8d51ae4541b0974aff7d360b60",
            "5dc8d7746eb0471a92f15293aaaf34c4",
            "41958e80e5494797b923a61c2befc351",
            "d940c69b58b74a8996ae1d601d9f1a68"
          ]
        },
        "id": "yxxm2PyKb3JG",
        "outputId": "bf9b051d-1bb8-4aea-db9a-24f162b209ff",
        "scrolled": true
      },
      "outputs": [
        {
          "data": {
            "application/vnd.jupyter.widget-view+json": {
              "model_id": "fa8b72acf46a421a830ee5d85c7323af",
              "version_major": 2,
              "version_minor": 0
            },
            "text/plain": [
              "interactive(children=(ToggleButtons(description='Plot Type:', icons=('',), options=(('Pipeline Plot', 'pipelin…"
            ]
          },
          "metadata": {
            "application/vnd.jupyter.widget-view+json": {
              "colab": {
                "custom_widget_manager": {
                  "url": "https://ssl.gstatic.com/colaboratory-static/widgets/colab-cdn-widget-manager/2b70e893a8ba7c0f/manager.min.js"
                }
              }
            }
          },
          "output_type": "display_data"
        }
      ],
      "source": [
        "evaluate_model(hierarchicalModel)"
      ]
    }
  ],
  "metadata": {
    "accelerator": "GPU",
    "colab": {
      "gpuType": "T4",
      "provenance": []
    },
    "kernelspec": {
      "display_name": "Python 3 (ipykernel)",
      "language": "python",
      "name": "python3"
    },
    "language_info": {
      "codemirror_mode": {
        "name": "ipython",
        "version": 3
      },
      "file_extension": ".py",
      "mimetype": "text/x-python",
      "name": "python",
      "nbconvert_exporter": "python",
      "pygments_lexer": "ipython3",
      "version": "3.12.4"
    }
  },
  "nbformat": 4,
  "nbformat_minor": 0
}